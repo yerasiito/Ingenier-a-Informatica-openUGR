{
  "nbformat": 4,
  "nbformat_minor": 0,
  "metadata": {
    "colab": {
      "provenance": [],
      "toc_visible": true
    },
    "kernelspec": {
      "name": "python3",
      "display_name": "Python 3"
    },
    "language_info": {
      "name": "python"
    }
  },
  "cells": [
    {
      "cell_type": "markdown",
      "source": [
        "# Aprendizaje Automático - Práctica 3 - Ajuste de Modelos Lineales\n",
        "\n",
        "# Problema de Clasificación\n",
        "\n",
        "#### Valoración máxima: 6 puntos \n",
        "\n",
        "#### Fecha límite de entrega: 4 de Junio de 2023 a las 23:59\n",
        "\n",
        "#### Entrega a través de https://pradogrado2223.ugr.es/\n",
        "\n",
        "### Nombre completo: <mark>POR FAVOR, ESCRIBA AQUÍ SU NOMBRE</mark>\n",
        "\n",
        "\n",
        "\n",
        "---"
      ],
      "metadata": {
        "id": "VvcaSf5uskbO"
      }
    },
    {
      "cell_type": "markdown",
      "source": [
        "**Normas de desarrollo y entrega de trabajos**\n",
        "\n",
        "- Única y exclusivamente se debe entregar este Notebook de Colab (fichero .ipynb). No es necesario entregar ninguna memoria externa, pero el código debe estar bien comentado, y todas las decisiones tomadas y el trabajo desarrollado deben documentarse suficientemente en celdas de texto. \n",
        "\n",
        "- La entrega en PRADO está configurada para permitir sucesivas entregas de la práctica. Desde este punto de vista, se recomienda subir versiones de la práctica a medida que se van realizando los distintos ejercicios propuestos, y no dejarlo todo para el final, dado que es altamente improbable que se extienda la fecha de entrega.  \n",
        "\n",
        "- Reiterar que es obligatorio documentar las valoraciones y decisiones adoptadas en el desarrollo de cada uno de los apartados. Debe incluirse también una valoración razonada sobre la calidad de los\n",
        "resultados obtenidos. Sin esta documentación, se considera que el trabajo NO ha sido presentado. \n",
        "\n",
        "- Se debe respetar la estructura y secciones del Notebook. Esto servirá para agilizar las correcciones, así como para identificar con facilidad qué ejercicio/apartado se está respondiendo. \n",
        "\n",
        "- El codigo NO puede escribir nada a disco.\n",
        "\n",
        "- Se espera que el código siempre lea de un directorio llamado 'drive/MyDrive/Colab Notebooks/datos/', situado dentro del directorio donde se desarrolla y ejecuta la práctica. No se admiten excepciones a esta ruta de acceso a los datos. \n",
        "\n",
        "- Una entrega es apta para ser corregida si se puede ejecutar de principio a fin sin errores.\n",
        "\n",
        "- No es válido usar opciones en las entradas (es decir, utilizar el comando `input`, por ejemplo, para que el usuario escoja el valor de las variables para ejecutar el programa). Para ello, se deben fijar al comienzo los valores\n",
        "por defecto que se consideren óptimos o que se soliciten en el enunciado.\n",
        "\n",
        "- El código debe estar obligatoriamente comentado explicando lo que realizan los distintos apartados y/o bloques.\n",
        "\n",
        "- Se entrega solamente este Notebook, y no los datos empleados.\n",
        "\n",
        "\n",
        "---"
      ],
      "metadata": {
        "id": "rqJiCKQ2s84e"
      }
    },
    {
      "cell_type": "markdown",
      "source": [
        "<font color='blue'>Este trabajo  se centra en el ajuste y selección del mejor predictor lineal para un conjunto de datos dado. Para ello, se recomienda el uso de la librería Scikit-Learn (https://scikit-learn.org/). Esta librería contiene funciones de alto nivel que pueden ser muy útiles para el desarrollo de la práctica. En cualquier caso, para cada función de Scikit-Learn que se use, debe explicar por qué es necesario su uso, así como explicar su funcionamiento y el significado de todos sus parámetros. En relación con este punto, los valores por defecto en la librería no se consideran elecciones justificadas $\\textit{a priori}$ y, al igual que en el resto de la práctica, decisiones sin justificación y resultados sin interpretación no serán considerados válidos. \n",
        "\n"
      ],
      "metadata": {
        "id": "oVNyPZGSwKCF"
      }
    },
    {
      "cell_type": "markdown",
      "source": [
        "#### <font color='blue'>1)  Analizar y describir adecuadamente el problema a resolver. Identificar los elementos $X$, $Y$ and $f$ del problema, y describirlos en detalle. 0.5 puntos. "
      ],
      "metadata": {
        "id": "Y2HSMffMUP10"
      }
    },
    {
      "cell_type": "code",
      "source": [],
      "metadata": {
        "id": "XlFg2waKWdHo"
      },
      "execution_count": null,
      "outputs": []
    },
    {
      "cell_type": "markdown",
      "source": [
        "#### <font color='blue'>2)  Identificar qué conjuntos de hipótesis se emplearán y justificar dicha elección. 0.25 puntos. "
      ],
      "metadata": {
        "id": "9Ozk6Bf-fid4"
      }
    },
    {
      "cell_type": "code",
      "source": [],
      "metadata": {
        "id": "G1QUxH5Ifwja"
      },
      "execution_count": null,
      "outputs": []
    },
    {
      "cell_type": "markdown",
      "source": [
        "#### <font color='blue'>3)  Si la base de datos define conjuntos de training y test, únalos en un solo conjunto y genere sus propios conjuntos. Describa y justifique el mecanismo de partición. 0.75 puntos. "
      ],
      "metadata": {
        "id": "4LiijYn4fw_y"
      }
    },
    {
      "cell_type": "code",
      "source": [],
      "metadata": {
        "id": "Lm9cT0xof1-D"
      },
      "execution_count": null,
      "outputs": []
    },
    {
      "cell_type": "markdown",
      "source": [
        "#### <font color='blue'>4)  Justifique todos los detalles del preprocesado de los datos (codificación, transformación, normalización, etc). Es decir, todas las manipulaciones sobre los datos iniciales que nos permitan fijar el conjunto de vectores de características que se usarán en el entrenamiento. 1 punto.  \n",
        "\n",
        "<font color='blue'>Nota: Las transformaciones no-lineales de las variables pueden definirse a partir de las potencias y\n",
        "productos de potencias de las variables originales, conjuntos de polinomios ortogonales, etc. Si se\n",
        "usan transformaciones no polinómicas de las variable como $log$, $\\sqrt{()}$, $sin$, etc, debe justificar el\n",
        "interés de las mismas. "
      ],
      "metadata": {
        "id": "qJykJiQxf30a"
      }
    },
    {
      "cell_type": "code",
      "source": [],
      "metadata": {
        "id": "XUXvx9_5gMlM"
      },
      "execution_count": null,
      "outputs": []
    },
    {
      "cell_type": "markdown",
      "source": [
        "#### <font color='blue'>5)  Justifique las métricas de error y la función de pérdida a usar. Discutir su idoneidad para el problema. 0.5 puntos. "
      ],
      "metadata": {
        "id": "3QXdZX5DgM0c"
      }
    },
    {
      "cell_type": "code",
      "source": [],
      "metadata": {
        "id": "lJOzrzg9g56_"
      },
      "execution_count": null,
      "outputs": []
    },
    {
      "cell_type": "markdown",
      "source": [
        "#### <font color='blue'>6)  Discuta todos los parámetros y el tipo de regularización usada en el ajuste de los modelos seleccionados. Justificar la idoneidad de la regularización elegida. 1 punto. "
      ],
      "metadata": {
        "id": "S4Lo3fC0g6Cv"
      }
    },
    {
      "cell_type": "code",
      "source": [],
      "metadata": {
        "id": "TWz5jPyHg77H"
      },
      "execution_count": null,
      "outputs": []
    },
    {
      "cell_type": "markdown",
      "source": [
        "#### <font color='blue'>7)  Selección de la mejor hipótesis para el problema. Discuta el enfoque seguido y el criterio de selección usado. ¿Cúal es su error $E_{out}$? 1 punto."
      ],
      "metadata": {
        "id": "wUknqHBtg8DP"
      }
    },
    {
      "cell_type": "code",
      "source": [],
      "metadata": {
        "id": "qN7qVN3Eg9R_"
      },
      "execution_count": null,
      "outputs": []
    },
    {
      "cell_type": "markdown",
      "source": [
        "#### <font color='blue'>8)  Construya las curvas de aprendizaje del modelo, y discuta la calidad del ajuste obtenido a la vista de la conducta de dichas curvas. 0.5 puntos. "
      ],
      "metadata": {
        "id": "3R044TTvg9Zf"
      }
    },
    {
      "cell_type": "code",
      "source": [],
      "metadata": {
        "id": "tch9k4mFg_KH"
      },
      "execution_count": null,
      "outputs": []
    },
    {
      "cell_type": "markdown",
      "source": [
        "#### <font color='blue'>9)  Suponga ahora que Ud. debe realizar este ajuste para una empresa que le ha proporcionado los datos, sin distinción entre training y test. ¿Cúal sería el mejor modelo que les propondría, y qué error  $E_{out}$ les diría que tiene? Justifique todas las decisiones. 0.5 puntos. "
      ],
      "metadata": {
        "id": "E_x9IPmEg_RX"
      }
    },
    {
      "cell_type": "code",
      "source": [],
      "metadata": {
        "id": "LeG_u0vmhA5P"
      },
      "execution_count": null,
      "outputs": []
    }
  ]
}