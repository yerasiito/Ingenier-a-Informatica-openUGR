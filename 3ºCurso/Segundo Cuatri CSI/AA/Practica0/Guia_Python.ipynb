{
  "nbformat": 4,
  "nbformat_minor": 0,
  "metadata": {
    "colab": {
      "provenance": [],
      "toc_visible": true
    },
    "kernelspec": {
      "name": "python3",
      "display_name": "Python 3"
    },
    "language_info": {
      "name": "python"
    }
  },
  "cells": [
    {
      "cell_type": "markdown",
      "source": [
        "# **Introducción a Python, NumPy y Matplotlib**"
      ],
      "metadata": {
        "id": "AXll0UXUCmGV"
      }
    },
    {
      "cell_type": "markdown",
      "source": [
        "En este Notebook se realiza un repaso de los principios fundamentales de Python, NumPy y Matplotlib, y pretende servir como referencia, guía y apoyo a los materiales vistos en clase de prácticas. \n",
        "\n",
        "\n",
        "---\n",
        "\n"
      ],
      "metadata": {
        "id": "U4luSdNXCOxm"
      }
    },
    {
      "cell_type": "markdown",
      "source": [
        "#Primeros pasos"
      ],
      "metadata": {
        "id": "NpV-xFEiPsYl"
      }
    },
    {
      "cell_type": "markdown",
      "source": [
        "## Operaciones aritméticas y carga de librerías"
      ],
      "metadata": {
        "id": "2CIPPndsP4Zl"
      }
    },
    {
      "cell_type": "markdown",
      "source": [
        "Comenzamos con la ejecución de operaciones matemáticas sencillas. "
      ],
      "metadata": {
        "id": "Ip_4wVnXK1H9"
      }
    },
    {
      "cell_type": "code",
      "execution_count": null,
      "metadata": {
        "colab": {
          "base_uri": "https://localhost:8080/"
        },
        "id": "C_BIK7evCL3F",
        "outputId": "96084f0e-4f5e-4875-ebee-b50174dc0c36"
      },
      "outputs": [
        {
          "output_type": "execute_result",
          "data": {
            "text/plain": [
              "110"
            ]
          },
          "metadata": {},
          "execution_count": 16
        }
      ],
      "source": [
        "2*5 + 10**2"
      ]
    },
    {
      "cell_type": "markdown",
      "source": [
        "Python es como una calculadora potente. Como véis en la celda de arriba, se puede realizar una operación matemática, y Python directamente devolverá el resultado. "
      ],
      "metadata": {
        "id": "eo76CuMAJUpX"
      }
    },
    {
      "cell_type": "markdown",
      "source": [
        "En caso de que necesitemos realizar cálculos más complejos, haciendo uso de funciones y operadores más sofisticados que los meramente aritméticos, resulta beneficioso cargar librerías (`import`). En concreto, NumPy (https://numpy.org/doc/) es la biblioteca que da soporte para vectores y matrices, e incluye numerosas funciones para operar sobre dichos arrays. "
      ],
      "metadata": {
        "id": "-gky9akOJgIl"
      }
    },
    {
      "cell_type": "code",
      "source": [
        "import numpy as np\n",
        "\n",
        "z = np.zeros((5,2), np.float32)\n",
        "\n",
        "z.shape"
      ],
      "metadata": {
        "colab": {
          "base_uri": "https://localhost:8080/"
        },
        "id": "2AcoTluSKSt-",
        "outputId": "f508386e-15c7-43fc-eee3-61d272bc9d74"
      },
      "execution_count": null,
      "outputs": [
        {
          "output_type": "execute_result",
          "data": {
            "text/plain": [
              "(5, 2)"
            ]
          },
          "metadata": {},
          "execution_count": 1
        }
      ]
    },
    {
      "cell_type": "markdown",
      "source": [
        "Para conocer la forma/dimensión de dicho array usamos la función `shape`. En concreto, la variable `z` tiene 5 filas y 2 columnas. \n",
        "\n",
        "También podemos realizar operaciones sencillas sobre dicho NumPy array, como por ejemplo, calcular la suma de sus elementos. "
      ],
      "metadata": {
        "id": "tpSKV7hMKdCF"
      }
    },
    {
      "cell_type": "code",
      "source": [
        "z.sum()"
      ],
      "metadata": {
        "colab": {
          "base_uri": "https://localhost:8080/"
        },
        "id": "-Hi5WQOaLDkC",
        "outputId": "52484f16-d371-4b06-dd8f-9c14a4682717"
      },
      "execution_count": null,
      "outputs": [
        {
          "output_type": "execute_result",
          "data": {
            "text/plain": [
              "0.0"
            ]
          },
          "metadata": {},
          "execution_count": 18
        }
      ]
    },
    {
      "cell_type": "markdown",
      "source": [
        "También podemos visualizar el array simplemente escribiendo el nombre de la variable. "
      ],
      "metadata": {
        "id": "kPyj8Ab8LGdN"
      }
    },
    {
      "cell_type": "code",
      "source": [
        "z"
      ],
      "metadata": {
        "colab": {
          "base_uri": "https://localhost:8080/"
        },
        "id": "iXoL12c2LLk9",
        "outputId": "3bcdb2af-830a-4233-9396-950dc8acb79a"
      },
      "execution_count": null,
      "outputs": [
        {
          "output_type": "execute_result",
          "data": {
            "text/plain": [
              "array([[0., 0.],\n",
              "       [0., 0.],\n",
              "       [0., 0.],\n",
              "       [0., 0.],\n",
              "       [0., 0.]], dtype=float32)"
            ]
          },
          "metadata": {},
          "execution_count": 19
        }
      ]
    },
    {
      "cell_type": "markdown",
      "source": [
        "En una misma celda de Colab se pueden ejecutar múltiples instrucciones secuencialmente. Pero, si queremos imprimir resultados, tendremos que emplear la función `print`. De lo contrario, no veremos ningún resultado. "
      ],
      "metadata": {
        "id": "qfkrMSYELOJe"
      }
    },
    {
      "cell_type": "code",
      "source": [
        "#Variables\n",
        "entero1 = 5 #Int\n",
        "entero2 = 505 #Int\n",
        "flotante = 50.5 #Float\n",
        "boolean_t = True #Boolean\n",
        "boolean_f = False #Boolean\n",
        "string1 = 'String1' #String\n",
        "string2 = 'String2' #String\n",
        "\n",
        "\n",
        "#Operaciones aritméticas\n",
        "suma = entero1 + flotante\n",
        "resta = entero1 - flotante\n",
        "producto = entero1 * flotante\n",
        "print(producto)\n",
        "division = entero1 / flotante\n",
        "print(division)\n",
        "division_entera = entero2 // entero1\n",
        "print(division_entera)\n",
        "resto = entero2 % entero1\n",
        "print(resto)"
      ],
      "metadata": {
        "colab": {
          "base_uri": "https://localhost:8080/"
        },
        "id": "NnQJ8hrRLuyZ",
        "outputId": "a6239f0f-4dab-46c2-e644-ded2925d87c5"
      },
      "execution_count": null,
      "outputs": [
        {
          "output_type": "stream",
          "name": "stdout",
          "text": [
            "252.5\n",
            "0.09900990099009901\n",
            "101\n",
            "0\n"
          ]
        }
      ]
    },
    {
      "cell_type": "markdown",
      "source": [
        "Si eliminamos los `print`, como decíamos, no se vería ningún resultado. "
      ],
      "metadata": {
        "id": "I0KcaqWFLxmD"
      }
    },
    {
      "cell_type": "code",
      "source": [
        "#Variables\n",
        "entero1 = 5 #Int\n",
        "entero2 = 505 #Int\n",
        "flotante = 50.5 #Float\n",
        "boolean_t = True #Boolean\n",
        "boolean_f = False #Boolean\n",
        "string1 = 'String1' #String\n",
        "string2 = 'String2' #String\n",
        "\n",
        "\n",
        "#Operaciones aritméticas\n",
        "suma = entero1 + flotante\n",
        "resta = entero1 - flotante\n",
        "producto = entero1 * flotante\n",
        "\n",
        "division = entero1 / flotante\n",
        "\n",
        "division_entera = entero2 // entero1\n",
        "\n",
        "resto = entero2 % entero1\n"
      ],
      "metadata": {
        "id": "pitkhPFlL2K9"
      },
      "execution_count": null,
      "outputs": []
    },
    {
      "cell_type": "markdown",
      "source": [
        "O, en su defecto, si escribimos el nombre de las variables, solo se vería el último resultado. "
      ],
      "metadata": {
        "id": "Pkhx8HksWidb"
      }
    },
    {
      "cell_type": "code",
      "source": [
        "#Variables\n",
        "entero1 = 5 #Int\n",
        "entero2 = 505 #Int\n",
        "flotante = 50.5 #Float\n",
        "boolean_t = True #Boolean\n",
        "boolean_f = False #Boolean\n",
        "string1 = 'String1' #String\n",
        "string2 = 'String2' #String\n",
        "\n",
        "\n",
        "#Operaciones aritméticas\n",
        "suma = entero1 + flotante\n",
        "resta = entero1 - flotante\n",
        "producto = entero1 * flotante\n",
        "producto\n",
        "division = entero1 / flotante\n",
        "division\n",
        "division_entera = entero2 // entero1\n",
        "division_entera\n",
        "resto = entero2 % entero1\n",
        "resto"
      ],
      "metadata": {
        "colab": {
          "base_uri": "https://localhost:8080/"
        },
        "id": "Sejqo9KlWnoN",
        "outputId": "596ca9fa-fe65-4216-9ee1-646c6f898b60"
      },
      "execution_count": null,
      "outputs": [
        {
          "output_type": "execute_result",
          "data": {
            "text/plain": [
              "0"
            ]
          },
          "metadata": {},
          "execution_count": 22
        }
      ]
    },
    {
      "cell_type": "markdown",
      "source": [
        "## Operaciones lógicas e impresión de resultados "
      ],
      "metadata": {
        "id": "g8HT35JFP-FN"
      }
    },
    {
      "cell_type": "markdown",
      "source": [
        "Python también incorpora operaciones lógicas, cambio de tipos, y manejo de cadenas de texto."
      ],
      "metadata": {
        "id": "7bcJ16wZMOg-"
      }
    },
    {
      "cell_type": "code",
      "source": [
        "#Operaciones lógicas\n",
        "igual = entero2==(500 + 5)\n",
        "no_igual = entero1 != suma\n",
        "mayor = entero2 > entero1 #>=\n",
        "menor = entero1 < entero2 # <=\n",
        "and_logico = igual and mayor\n",
        "or_logico = igual or no_igual\n",
        "\n",
        "#Cambiar tipos\n",
        "entero2flotante = float(entero1)\n",
        "flotante2entero = int(flotante)\n",
        "astring = str(entero2)\n",
        "abool = bool(entero1)\n",
        "\n",
        "#Strings\n",
        "formatear = 'String con entero %d, flotante %f y string %s' % (entero1, \n",
        "                                                               flotante, \n",
        "                                                               string1)\n",
        "concatenar = string1 + str(entero1)\n",
        "\n",
        "#Mostrar por pantalla\n",
        "print('Dos de los strings:', string1, string2)\n",
        "print('String y entero:', concatenar, entero1)"
      ],
      "metadata": {
        "colab": {
          "base_uri": "https://localhost:8080/"
        },
        "id": "u5dMvpx-MalI",
        "outputId": "b17d6100-c3f5-45d7-81bf-f6625478a17f"
      },
      "execution_count": null,
      "outputs": [
        {
          "output_type": "stream",
          "name": "stdout",
          "text": [
            "Dos de los strings: String1 String2\n",
            "String y entero: String15 5\n"
          ]
        }
      ]
    },
    {
      "cell_type": "markdown",
      "source": [
        "## Consulta de la documentación"
      ],
      "metadata": {
        "id": "66-ozSDpQHLF"
      }
    },
    {
      "cell_type": "markdown",
      "source": [
        "Si no se recuerda el funcionamiento de un comando concreto, se puede consultar la ayuda de varias formas. A continuación, se ven cuatro de ellas: `help(\"nombre_función\")`, `print(nombre_función.__doc__)`, `??\"nombre_función\"` y `doc(\"nombre_función\")`."
      ],
      "metadata": {
        "id": "5kUhSMyrMvHH"
      }
    },
    {
      "cell_type": "code",
      "source": [
        "help(\"!=\")"
      ],
      "metadata": {
        "colab": {
          "base_uri": "https://localhost:8080/"
        },
        "id": "3KSg7U7HM4LZ",
        "outputId": "0c89759f-a54b-4e45-e101-577ea193a4c8"
      },
      "execution_count": null,
      "outputs": [
        {
          "output_type": "stream",
          "name": "stdout",
          "text": [
            "Operator precedence\n",
            "*******************\n",
            "\n",
            "The following table summarizes the operator precedence in Python, from\n",
            "lowest precedence (least binding) to highest precedence (most\n",
            "binding).  Operators in the same box have the same precedence.  Unless\n",
            "the syntax is explicitly given, operators are binary.  Operators in\n",
            "the same box group left to right (except for exponentiation, which\n",
            "groups from right to left).\n",
            "\n",
            "Note that comparisons, membership tests, and identity tests, all have\n",
            "the same precedence and have a left-to-right chaining feature as\n",
            "described in the Comparisons section.\n",
            "\n",
            "+-------------------------------------------------+---------------------------------------+\n",
            "| Operator                                        | Description                           |\n",
            "|=================================================|=======================================|\n",
            "| \":=\"                                            | Assignment expression                 |\n",
            "+-------------------------------------------------+---------------------------------------+\n",
            "| \"lambda\"                                        | Lambda expression                     |\n",
            "+-------------------------------------------------+---------------------------------------+\n",
            "| \"if\" – \"else\"                                   | Conditional expression                |\n",
            "+-------------------------------------------------+---------------------------------------+\n",
            "| \"or\"                                            | Boolean OR                            |\n",
            "+-------------------------------------------------+---------------------------------------+\n",
            "| \"and\"                                           | Boolean AND                           |\n",
            "+-------------------------------------------------+---------------------------------------+\n",
            "| \"not\" \"x\"                                       | Boolean NOT                           |\n",
            "+-------------------------------------------------+---------------------------------------+\n",
            "| \"in\", \"not in\", \"is\", \"is not\", \"<\", \"<=\", \">\", | Comparisons, including membership     |\n",
            "| \">=\", \"!=\", \"==\"                                | tests and identity tests              |\n",
            "+-------------------------------------------------+---------------------------------------+\n",
            "| \"|\"                                             | Bitwise OR                            |\n",
            "+-------------------------------------------------+---------------------------------------+\n",
            "| \"^\"                                             | Bitwise XOR                           |\n",
            "+-------------------------------------------------+---------------------------------------+\n",
            "| \"&\"                                             | Bitwise AND                           |\n",
            "+-------------------------------------------------+---------------------------------------+\n",
            "| \"<<\", \">>\"                                      | Shifts                                |\n",
            "+-------------------------------------------------+---------------------------------------+\n",
            "| \"+\", \"-\"                                        | Addition and subtraction              |\n",
            "+-------------------------------------------------+---------------------------------------+\n",
            "| \"*\", \"@\", \"/\", \"//\", \"%\"                        | Multiplication, matrix                |\n",
            "|                                                 | multiplication, division, floor       |\n",
            "|                                                 | division, remainder [5]               |\n",
            "+-------------------------------------------------+---------------------------------------+\n",
            "| \"+x\", \"-x\", \"~x\"                                | Positive, negative, bitwise NOT       |\n",
            "+-------------------------------------------------+---------------------------------------+\n",
            "| \"**\"                                            | Exponentiation [6]                    |\n",
            "+-------------------------------------------------+---------------------------------------+\n",
            "| \"await\" \"x\"                                     | Await expression                      |\n",
            "+-------------------------------------------------+---------------------------------------+\n",
            "| \"x[index]\", \"x[index:index]\",                   | Subscription, slicing, call,          |\n",
            "| \"x(arguments...)\", \"x.attribute\"                | attribute reference                   |\n",
            "+-------------------------------------------------+---------------------------------------+\n",
            "| \"(expressions...)\",  \"[expressions...]\", \"{key: | Binding or parenthesized expression,  |\n",
            "| value...}\", \"{expressions...}\"                  | list display, dictionary display, set |\n",
            "|                                                 | display                               |\n",
            "+-------------------------------------------------+---------------------------------------+\n",
            "\n",
            "-[ Footnotes ]-\n",
            "\n",
            "[1] While \"abs(x%y) < abs(y)\" is true mathematically, for floats it\n",
            "    may not be true numerically due to roundoff.  For example, and\n",
            "    assuming a platform on which a Python float is an IEEE 754 double-\n",
            "    precision number, in order that \"-1e-100 % 1e100\" have the same\n",
            "    sign as \"1e100\", the computed result is \"-1e-100 + 1e100\", which\n",
            "    is numerically exactly equal to \"1e100\".  The function\n",
            "    \"math.fmod()\" returns a result whose sign matches the sign of the\n",
            "    first argument instead, and so returns \"-1e-100\" in this case.\n",
            "    Which approach is more appropriate depends on the application.\n",
            "\n",
            "[2] If x is very close to an exact integer multiple of y, it’s\n",
            "    possible for \"x//y\" to be one larger than \"(x-x%y)//y\" due to\n",
            "    rounding.  In such cases, Python returns the latter result, in\n",
            "    order to preserve that \"divmod(x,y)[0] * y + x % y\" be very close\n",
            "    to \"x\".\n",
            "\n",
            "[3] The Unicode standard distinguishes between *code points* (e.g.\n",
            "    U+0041) and *abstract characters* (e.g. “LATIN CAPITAL LETTER A”).\n",
            "    While most abstract characters in Unicode are only represented\n",
            "    using one code point, there is a number of abstract characters\n",
            "    that can in addition be represented using a sequence of more than\n",
            "    one code point.  For example, the abstract character “LATIN\n",
            "    CAPITAL LETTER C WITH CEDILLA” can be represented as a single\n",
            "    *precomposed character* at code position U+00C7, or as a sequence\n",
            "    of a *base character* at code position U+0043 (LATIN CAPITAL\n",
            "    LETTER C), followed by a *combining character* at code position\n",
            "    U+0327 (COMBINING CEDILLA).\n",
            "\n",
            "    The comparison operators on strings compare at the level of\n",
            "    Unicode code points. This may be counter-intuitive to humans.  For\n",
            "    example, \"\"\\u00C7\" == \"\\u0043\\u0327\"\" is \"False\", even though both\n",
            "    strings represent the same abstract character “LATIN CAPITAL\n",
            "    LETTER C WITH CEDILLA”.\n",
            "\n",
            "    To compare strings at the level of abstract characters (that is,\n",
            "    in a way intuitive to humans), use \"unicodedata.normalize()\".\n",
            "\n",
            "[4] Due to automatic garbage-collection, free lists, and the dynamic\n",
            "    nature of descriptors, you may notice seemingly unusual behaviour\n",
            "    in certain uses of the \"is\" operator, like those involving\n",
            "    comparisons between instance methods, or constants.  Check their\n",
            "    documentation for more info.\n",
            "\n",
            "[5] The \"%\" operator is also used for string formatting; the same\n",
            "    precedence applies.\n",
            "\n",
            "[6] The power operator \"**\" binds less tightly than an arithmetic or\n",
            "    bitwise unary operator on its right, that is, \"2**-1\" is \"0.5\".\n",
            "\n",
            "Related help topics: lambda, or, and, not, in, is, BOOLEAN, COMPARISON,\n",
            "BITWISE, SHIFTING, BINARY, FORMATTING, POWER, UNARY, ATTRIBUTES,\n",
            "SUBSCRIPTS, SLICINGS, CALLS, TUPLES, LISTS, DICTIONARIES, COMPARISON\n",
            "\n"
          ]
        }
      ]
    },
    {
      "cell_type": "code",
      "source": [
        "help(\"COMPARISON\")"
      ],
      "metadata": {
        "colab": {
          "base_uri": "https://localhost:8080/"
        },
        "id": "SrtNvHBINF3s",
        "outputId": "9cebcfe6-e4d8-4090-a5f3-06cbeb06978b"
      },
      "execution_count": null,
      "outputs": [
        {
          "output_type": "stream",
          "name": "stdout",
          "text": [
            "Comparisons\n",
            "***********\n",
            "\n",
            "Unlike C, all comparison operations in Python have the same priority,\n",
            "which is lower than that of any arithmetic, shifting or bitwise\n",
            "operation.  Also unlike C, expressions like \"a < b < c\" have the\n",
            "interpretation that is conventional in mathematics:\n",
            "\n",
            "   comparison    ::= or_expr (comp_operator or_expr)*\n",
            "   comp_operator ::= \"<\" | \">\" | \"==\" | \">=\" | \"<=\" | \"!=\"\n",
            "                     | \"is\" [\"not\"] | [\"not\"] \"in\"\n",
            "\n",
            "Comparisons yield boolean values: \"True\" or \"False\".\n",
            "\n",
            "Comparisons can be chained arbitrarily, e.g., \"x < y <= z\" is\n",
            "equivalent to \"x < y and y <= z\", except that \"y\" is evaluated only\n",
            "once (but in both cases \"z\" is not evaluated at all when \"x < y\" is\n",
            "found to be false).\n",
            "\n",
            "Formally, if *a*, *b*, *c*, …, *y*, *z* are expressions and *op1*,\n",
            "*op2*, …, *opN* are comparison operators, then \"a op1 b op2 c ... y\n",
            "opN z\" is equivalent to \"a op1 b and b op2 c and ... y opN z\", except\n",
            "that each expression is evaluated at most once.\n",
            "\n",
            "Note that \"a op1 b op2 c\" doesn’t imply any kind of comparison between\n",
            "*a* and *c*, so that, e.g., \"x < y > z\" is perfectly legal (though\n",
            "perhaps not pretty).\n",
            "\n",
            "\n",
            "Value comparisons\n",
            "=================\n",
            "\n",
            "The operators \"<\", \">\", \"==\", \">=\", \"<=\", and \"!=\" compare the values\n",
            "of two objects.  The objects do not need to have the same type.\n",
            "\n",
            "Chapter Objects, values and types states that objects have a value (in\n",
            "addition to type and identity).  The value of an object is a rather\n",
            "abstract notion in Python: For example, there is no canonical access\n",
            "method for an object’s value.  Also, there is no requirement that the\n",
            "value of an object should be constructed in a particular way, e.g.\n",
            "comprised of all its data attributes. Comparison operators implement a\n",
            "particular notion of what the value of an object is.  One can think of\n",
            "them as defining the value of an object indirectly, by means of their\n",
            "comparison implementation.\n",
            "\n",
            "Because all types are (direct or indirect) subtypes of \"object\", they\n",
            "inherit the default comparison behavior from \"object\".  Types can\n",
            "customize their comparison behavior by implementing *rich comparison\n",
            "methods* like \"__lt__()\", described in Basic customization.\n",
            "\n",
            "The default behavior for equality comparison (\"==\" and \"!=\") is based\n",
            "on the identity of the objects.  Hence, equality comparison of\n",
            "instances with the same identity results in equality, and equality\n",
            "comparison of instances with different identities results in\n",
            "inequality.  A motivation for this default behavior is the desire that\n",
            "all objects should be reflexive (i.e. \"x is y\" implies \"x == y\").\n",
            "\n",
            "A default order comparison (\"<\", \">\", \"<=\", and \">=\") is not provided;\n",
            "an attempt raises \"TypeError\".  A motivation for this default behavior\n",
            "is the lack of a similar invariant as for equality.\n",
            "\n",
            "The behavior of the default equality comparison, that instances with\n",
            "different identities are always unequal, may be in contrast to what\n",
            "types will need that have a sensible definition of object value and\n",
            "value-based equality.  Such types will need to customize their\n",
            "comparison behavior, and in fact, a number of built-in types have done\n",
            "that.\n",
            "\n",
            "The following list describes the comparison behavior of the most\n",
            "important built-in types.\n",
            "\n",
            "* Numbers of built-in numeric types (Numeric Types — int, float,\n",
            "  complex) and of the standard library types \"fractions.Fraction\" and\n",
            "  \"decimal.Decimal\" can be compared within and across their types,\n",
            "  with the restriction that complex numbers do not support order\n",
            "  comparison.  Within the limits of the types involved, they compare\n",
            "  mathematically (algorithmically) correct without loss of precision.\n",
            "\n",
            "  The not-a-number values \"float('NaN')\" and \"decimal.Decimal('NaN')\"\n",
            "  are special.  Any ordered comparison of a number to a not-a-number\n",
            "  value is false. A counter-intuitive implication is that not-a-number\n",
            "  values are not equal to themselves.  For example, if \"x =\n",
            "  float('NaN')\", \"3 < x\", \"x < 3\" and \"x == x\" are all false, while \"x\n",
            "  != x\" is true.  This behavior is compliant with IEEE 754.\n",
            "\n",
            "* \"None\" and \"NotImplemented\" are singletons.  **PEP 8** advises that\n",
            "  comparisons for singletons should always be done with \"is\" or \"is\n",
            "  not\", never the equality operators.\n",
            "\n",
            "* Binary sequences (instances of \"bytes\" or \"bytearray\") can be\n",
            "  compared within and across their types.  They compare\n",
            "  lexicographically using the numeric values of their elements.\n",
            "\n",
            "* Strings (instances of \"str\") compare lexicographically using the\n",
            "  numerical Unicode code points (the result of the built-in function\n",
            "  \"ord()\") of their characters. [3]\n",
            "\n",
            "  Strings and binary sequences cannot be directly compared.\n",
            "\n",
            "* Sequences (instances of \"tuple\", \"list\", or \"range\") can be compared\n",
            "  only within each of their types, with the restriction that ranges do\n",
            "  not support order comparison.  Equality comparison across these\n",
            "  types results in inequality, and ordering comparison across these\n",
            "  types raises \"TypeError\".\n",
            "\n",
            "  Sequences compare lexicographically using comparison of\n",
            "  corresponding elements.  The built-in containers typically assume\n",
            "  identical objects are equal to themselves.  That lets them bypass\n",
            "  equality tests for identical objects to improve performance and to\n",
            "  maintain their internal invariants.\n",
            "\n",
            "  Lexicographical comparison between built-in collections works as\n",
            "  follows:\n",
            "\n",
            "  * For two collections to compare equal, they must be of the same\n",
            "    type, have the same length, and each pair of corresponding\n",
            "    elements must compare equal (for example, \"[1,2] == (1,2)\" is\n",
            "    false because the type is not the same).\n",
            "\n",
            "  * Collections that support order comparison are ordered the same as\n",
            "    their first unequal elements (for example, \"[1,2,x] <= [1,2,y]\"\n",
            "    has the same value as \"x <= y\").  If a corresponding element does\n",
            "    not exist, the shorter collection is ordered first (for example,\n",
            "    \"[1,2] < [1,2,3]\" is true).\n",
            "\n",
            "* Mappings (instances of \"dict\") compare equal if and only if they\n",
            "  have equal *(key, value)* pairs. Equality comparison of the keys and\n",
            "  values enforces reflexivity.\n",
            "\n",
            "  Order comparisons (\"<\", \">\", \"<=\", and \">=\") raise \"TypeError\".\n",
            "\n",
            "* Sets (instances of \"set\" or \"frozenset\") can be compared within and\n",
            "  across their types.\n",
            "\n",
            "  They define order comparison operators to mean subset and superset\n",
            "  tests.  Those relations do not define total orderings (for example,\n",
            "  the two sets \"{1,2}\" and \"{2,3}\" are not equal, nor subsets of one\n",
            "  another, nor supersets of one another).  Accordingly, sets are not\n",
            "  appropriate arguments for functions which depend on total ordering\n",
            "  (for example, \"min()\", \"max()\", and \"sorted()\" produce undefined\n",
            "  results given a list of sets as inputs).\n",
            "\n",
            "  Comparison of sets enforces reflexivity of its elements.\n",
            "\n",
            "* Most other built-in types have no comparison methods implemented, so\n",
            "  they inherit the default comparison behavior.\n",
            "\n",
            "User-defined classes that customize their comparison behavior should\n",
            "follow some consistency rules, if possible:\n",
            "\n",
            "* Equality comparison should be reflexive. In other words, identical\n",
            "  objects should compare equal:\n",
            "\n",
            "     \"x is y\" implies \"x == y\"\n",
            "\n",
            "* Comparison should be symmetric. In other words, the following\n",
            "  expressions should have the same result:\n",
            "\n",
            "     \"x == y\" and \"y == x\"\n",
            "\n",
            "     \"x != y\" and \"y != x\"\n",
            "\n",
            "     \"x < y\" and \"y > x\"\n",
            "\n",
            "     \"x <= y\" and \"y >= x\"\n",
            "\n",
            "* Comparison should be transitive. The following (non-exhaustive)\n",
            "  examples illustrate that:\n",
            "\n",
            "     \"x > y and y > z\" implies \"x > z\"\n",
            "\n",
            "     \"x < y and y <= z\" implies \"x < z\"\n",
            "\n",
            "* Inverse comparison should result in the boolean negation. In other\n",
            "  words, the following expressions should have the same result:\n",
            "\n",
            "     \"x == y\" and \"not x != y\"\n",
            "\n",
            "     \"x < y\" and \"not x >= y\" (for total ordering)\n",
            "\n",
            "     \"x > y\" and \"not x <= y\" (for total ordering)\n",
            "\n",
            "  The last two expressions apply to totally ordered collections (e.g.\n",
            "  to sequences, but not to sets or mappings). See also the\n",
            "  \"total_ordering()\" decorator.\n",
            "\n",
            "* The \"hash()\" result should be consistent with equality. Objects that\n",
            "  are equal should either have the same hash value, or be marked as\n",
            "  unhashable.\n",
            "\n",
            "Python does not enforce these consistency rules. In fact, the\n",
            "not-a-number values are an example for not following these rules.\n",
            "\n",
            "\n",
            "Membership test operations\n",
            "==========================\n",
            "\n",
            "The operators \"in\" and \"not in\" test for membership.  \"x in s\"\n",
            "evaluates to \"True\" if *x* is a member of *s*, and \"False\" otherwise.\n",
            "\"x not in s\" returns the negation of \"x in s\".  All built-in sequences\n",
            "and set types support this as well as dictionary, for which \"in\" tests\n",
            "whether the dictionary has a given key. For container types such as\n",
            "list, tuple, set, frozenset, dict, or collections.deque, the\n",
            "expression \"x in y\" is equivalent to \"any(x is e or x == e for e in\n",
            "y)\".\n",
            "\n",
            "For the string and bytes types, \"x in y\" is \"True\" if and only if *x*\n",
            "is a substring of *y*.  An equivalent test is \"y.find(x) != -1\".\n",
            "Empty strings are always considered to be a substring of any other\n",
            "string, so \"\"\" in \"abc\"\" will return \"True\".\n",
            "\n",
            "For user-defined classes which define the \"__contains__()\" method, \"x\n",
            "in y\" returns \"True\" if \"y.__contains__(x)\" returns a true value, and\n",
            "\"False\" otherwise.\n",
            "\n",
            "For user-defined classes which do not define \"__contains__()\" but do\n",
            "define \"__iter__()\", \"x in y\" is \"True\" if some value \"z\", for which\n",
            "the expression \"x is z or x == z\" is true, is produced while iterating\n",
            "over \"y\". If an exception is raised during the iteration, it is as if\n",
            "\"in\" raised that exception.\n",
            "\n",
            "Lastly, the old-style iteration protocol is tried: if a class defines\n",
            "\"__getitem__()\", \"x in y\" is \"True\" if and only if there is a non-\n",
            "negative integer index *i* such that \"x is y[i] or x == y[i]\", and no\n",
            "lower integer index raises the \"IndexError\" exception.  (If any other\n",
            "exception is raised, it is as if \"in\" raised that exception).\n",
            "\n",
            "The operator \"not in\" is defined to have the inverse truth value of\n",
            "\"in\".\n",
            "\n",
            "\n",
            "Identity comparisons\n",
            "====================\n",
            "\n",
            "The operators \"is\" and \"is not\" test for an object’s identity: \"x is\n",
            "y\" is true if and only if *x* and *y* are the same object.  An\n",
            "Object’s identity is determined using the \"id()\" function.  \"x is not\n",
            "y\" yields the inverse truth value. [4]\n",
            "\n",
            "Related help topics: EXPRESSIONS, BASICMETHODS\n",
            "\n"
          ]
        }
      ]
    },
    {
      "cell_type": "code",
      "source": [
        "help(np.sum)"
      ],
      "metadata": {
        "colab": {
          "base_uri": "https://localhost:8080/"
        },
        "id": "ep42EIxvPAx1",
        "outputId": "902b87aa-d43d-465a-b6bb-05a43396cf3d"
      },
      "execution_count": null,
      "outputs": [
        {
          "output_type": "stream",
          "name": "stdout",
          "text": [
            "Help on function sum in module numpy:\n",
            "\n",
            "sum(a, axis=None, dtype=None, out=None, keepdims=<no value>, initial=<no value>, where=<no value>)\n",
            "    Sum of array elements over a given axis.\n",
            "    \n",
            "    Parameters\n",
            "    ----------\n",
            "    a : array_like\n",
            "        Elements to sum.\n",
            "    axis : None or int or tuple of ints, optional\n",
            "        Axis or axes along which a sum is performed.  The default,\n",
            "        axis=None, will sum all of the elements of the input array.  If\n",
            "        axis is negative it counts from the last to the first axis.\n",
            "    \n",
            "        .. versionadded:: 1.7.0\n",
            "    \n",
            "        If axis is a tuple of ints, a sum is performed on all of the axes\n",
            "        specified in the tuple instead of a single axis or all the axes as\n",
            "        before.\n",
            "    dtype : dtype, optional\n",
            "        The type of the returned array and of the accumulator in which the\n",
            "        elements are summed.  The dtype of `a` is used by default unless `a`\n",
            "        has an integer dtype of less precision than the default platform\n",
            "        integer.  In that case, if `a` is signed then the platform integer\n",
            "        is used while if `a` is unsigned then an unsigned integer of the\n",
            "        same precision as the platform integer is used.\n",
            "    out : ndarray, optional\n",
            "        Alternative output array in which to place the result. It must have\n",
            "        the same shape as the expected output, but the type of the output\n",
            "        values will be cast if necessary.\n",
            "    keepdims : bool, optional\n",
            "        If this is set to True, the axes which are reduced are left\n",
            "        in the result as dimensions with size one. With this option,\n",
            "        the result will broadcast correctly against the input array.\n",
            "    \n",
            "        If the default value is passed, then `keepdims` will not be\n",
            "        passed through to the `sum` method of sub-classes of\n",
            "        `ndarray`, however any non-default value will be.  If the\n",
            "        sub-class' method does not implement `keepdims` any\n",
            "        exceptions will be raised.\n",
            "    initial : scalar, optional\n",
            "        Starting value for the sum. See `~numpy.ufunc.reduce` for details.\n",
            "    \n",
            "        .. versionadded:: 1.15.0\n",
            "    \n",
            "    where : array_like of bool, optional\n",
            "        Elements to include in the sum. See `~numpy.ufunc.reduce` for details.\n",
            "    \n",
            "        .. versionadded:: 1.17.0\n",
            "    \n",
            "    Returns\n",
            "    -------\n",
            "    sum_along_axis : ndarray\n",
            "        An array with the same shape as `a`, with the specified\n",
            "        axis removed.   If `a` is a 0-d array, or if `axis` is None, a scalar\n",
            "        is returned.  If an output array is specified, a reference to\n",
            "        `out` is returned.\n",
            "    \n",
            "    See Also\n",
            "    --------\n",
            "    ndarray.sum : Equivalent method.\n",
            "    \n",
            "    add.reduce : Equivalent functionality of `add`.\n",
            "    \n",
            "    cumsum : Cumulative sum of array elements.\n",
            "    \n",
            "    trapz : Integration of array values using the composite trapezoidal rule.\n",
            "    \n",
            "    mean, average\n",
            "    \n",
            "    Notes\n",
            "    -----\n",
            "    Arithmetic is modular when using integer types, and no error is\n",
            "    raised on overflow.\n",
            "    \n",
            "    The sum of an empty array is the neutral element 0:\n",
            "    \n",
            "    >>> np.sum([])\n",
            "    0.0\n",
            "    \n",
            "    For floating point numbers the numerical precision of sum (and\n",
            "    ``np.add.reduce``) is in general limited by directly adding each number\n",
            "    individually to the result causing rounding errors in every step.\n",
            "    However, often numpy will use a  numerically better approach (partial\n",
            "    pairwise summation) leading to improved precision in many use-cases.\n",
            "    This improved precision is always provided when no ``axis`` is given.\n",
            "    When ``axis`` is given, it will depend on which axis is summed.\n",
            "    Technically, to provide the best speed possible, the improved precision\n",
            "    is only used when the summation is along the fast axis in memory.\n",
            "    Note that the exact precision may vary depending on other parameters.\n",
            "    In contrast to NumPy, Python's ``math.fsum`` function uses a slower but\n",
            "    more precise approach to summation.\n",
            "    Especially when summing a large number of lower precision floating point\n",
            "    numbers, such as ``float32``, numerical errors can become significant.\n",
            "    In such cases it can be advisable to use `dtype=\"float64\"` to use a higher\n",
            "    precision for the output.\n",
            "    \n",
            "    Examples\n",
            "    --------\n",
            "    >>> np.sum([0.5, 1.5])\n",
            "    2.0\n",
            "    >>> np.sum([0.5, 0.7, 0.2, 1.5], dtype=np.int32)\n",
            "    1\n",
            "    >>> np.sum([[0, 1], [0, 5]])\n",
            "    6\n",
            "    >>> np.sum([[0, 1], [0, 5]], axis=0)\n",
            "    array([0, 6])\n",
            "    >>> np.sum([[0, 1], [0, 5]], axis=1)\n",
            "    array([1, 5])\n",
            "    >>> np.sum([[0, 1], [np.nan, 5]], where=[False, True], axis=1)\n",
            "    array([1., 5.])\n",
            "    \n",
            "    If the accumulator is too small, overflow occurs:\n",
            "    \n",
            "    >>> np.ones(128, dtype=np.int8).sum(dtype=np.int8)\n",
            "    -128\n",
            "    \n",
            "    You can also start the sum with a value other than zero:\n",
            "    \n",
            "    >>> np.sum([10], initial=5)\n",
            "    15\n",
            "\n"
          ]
        }
      ]
    },
    {
      "cell_type": "code",
      "source": [
        "print(np.__doc__)"
      ],
      "metadata": {
        "colab": {
          "base_uri": "https://localhost:8080/"
        },
        "id": "gjAmfsImNXIV",
        "outputId": "a936fcd0-4fde-40cb-e697-99ee79f69a09"
      },
      "execution_count": null,
      "outputs": [
        {
          "output_type": "stream",
          "name": "stdout",
          "text": [
            "\n",
            "NumPy\n",
            "=====\n",
            "\n",
            "Provides\n",
            "  1. An array object of arbitrary homogeneous items\n",
            "  2. Fast mathematical operations over arrays\n",
            "  3. Linear Algebra, Fourier Transforms, Random Number Generation\n",
            "\n",
            "How to use the documentation\n",
            "----------------------------\n",
            "Documentation is available in two forms: docstrings provided\n",
            "with the code, and a loose standing reference guide, available from\n",
            "`the NumPy homepage <https://www.scipy.org>`_.\n",
            "\n",
            "We recommend exploring the docstrings using\n",
            "`IPython <https://ipython.org>`_, an advanced Python shell with\n",
            "TAB-completion and introspection capabilities.  See below for further\n",
            "instructions.\n",
            "\n",
            "The docstring examples assume that `numpy` has been imported as `np`::\n",
            "\n",
            "  >>> import numpy as np\n",
            "\n",
            "Code snippets are indicated by three greater-than signs::\n",
            "\n",
            "  >>> x = 42\n",
            "  >>> x = x + 1\n",
            "\n",
            "Use the built-in ``help`` function to view a function's docstring::\n",
            "\n",
            "  >>> help(np.sort)\n",
            "  ... # doctest: +SKIP\n",
            "\n",
            "For some objects, ``np.info(obj)`` may provide additional help.  This is\n",
            "particularly true if you see the line \"Help on ufunc object:\" at the top\n",
            "of the help() page.  Ufuncs are implemented in C, not Python, for speed.\n",
            "The native Python help() does not know how to view their help, but our\n",
            "np.info() function does.\n",
            "\n",
            "To search for documents containing a keyword, do::\n",
            "\n",
            "  >>> np.lookfor('keyword')\n",
            "  ... # doctest: +SKIP\n",
            "\n",
            "General-purpose documents like a glossary and help on the basic concepts\n",
            "of numpy are available under the ``doc`` sub-module::\n",
            "\n",
            "  >>> from numpy import doc\n",
            "  >>> help(doc)\n",
            "  ... # doctest: +SKIP\n",
            "\n",
            "Available subpackages\n",
            "---------------------\n",
            "doc\n",
            "    Topical documentation on broadcasting, indexing, etc.\n",
            "lib\n",
            "    Basic functions used by several sub-packages.\n",
            "random\n",
            "    Core Random Tools\n",
            "linalg\n",
            "    Core Linear Algebra Tools\n",
            "fft\n",
            "    Core FFT routines\n",
            "polynomial\n",
            "    Polynomial tools\n",
            "testing\n",
            "    NumPy testing tools\n",
            "f2py\n",
            "    Fortran to Python Interface Generator.\n",
            "distutils\n",
            "    Enhancements to distutils with support for\n",
            "    Fortran compilers support and more.\n",
            "\n",
            "Utilities\n",
            "---------\n",
            "test\n",
            "    Run numpy unittests\n",
            "show_config\n",
            "    Show numpy build configuration\n",
            "dual\n",
            "    Overwrite certain functions with high-performance SciPy tools.\n",
            "    Note: `numpy.dual` is deprecated.  Use the functions from NumPy or Scipy\n",
            "    directly instead of importing them from `numpy.dual`.\n",
            "matlib\n",
            "    Make everything matrices.\n",
            "__version__\n",
            "    NumPy version string\n",
            "\n",
            "Viewing documentation using IPython\n",
            "-----------------------------------\n",
            "Start IPython with the NumPy profile (``ipython -p numpy``), which will\n",
            "import `numpy` under the alias `np`.  Then, use the ``cpaste`` command to\n",
            "paste examples into the shell.  To see which functions are available in\n",
            "`numpy`, type ``np.<TAB>`` (where ``<TAB>`` refers to the TAB key), or use\n",
            "``np.*cos*?<ENTER>`` (where ``<ENTER>`` refers to the ENTER key) to narrow\n",
            "down the list.  To view the docstring for a function, use\n",
            "``np.cos?<ENTER>`` (to view the docstring) and ``np.cos??<ENTER>`` (to view\n",
            "the source code).\n",
            "\n",
            "Copies vs. in-place operation\n",
            "-----------------------------\n",
            "Most of the functions in `numpy` return a copy of the array argument\n",
            "(e.g., `np.sort`).  In-place versions of these functions are often\n",
            "available as array methods, i.e. ``x = np.array([1,2,3]); x.sort()``.\n",
            "Exceptions to this rule are documented.\n",
            "\n",
            "\n"
          ]
        }
      ]
    },
    {
      "cell_type": "code",
      "source": [
        "print(np.sum.__doc__)"
      ],
      "metadata": {
        "colab": {
          "base_uri": "https://localhost:8080/"
        },
        "id": "0FVHgWo8OQZE",
        "outputId": "6d907672-15c7-49c3-e1cf-95c6aa309965"
      },
      "execution_count": null,
      "outputs": [
        {
          "output_type": "stream",
          "name": "stdout",
          "text": [
            "\n",
            "    Sum of array elements over a given axis.\n",
            "\n",
            "    Parameters\n",
            "    ----------\n",
            "    a : array_like\n",
            "        Elements to sum.\n",
            "    axis : None or int or tuple of ints, optional\n",
            "        Axis or axes along which a sum is performed.  The default,\n",
            "        axis=None, will sum all of the elements of the input array.  If\n",
            "        axis is negative it counts from the last to the first axis.\n",
            "\n",
            "        .. versionadded:: 1.7.0\n",
            "\n",
            "        If axis is a tuple of ints, a sum is performed on all of the axes\n",
            "        specified in the tuple instead of a single axis or all the axes as\n",
            "        before.\n",
            "    dtype : dtype, optional\n",
            "        The type of the returned array and of the accumulator in which the\n",
            "        elements are summed.  The dtype of `a` is used by default unless `a`\n",
            "        has an integer dtype of less precision than the default platform\n",
            "        integer.  In that case, if `a` is signed then the platform integer\n",
            "        is used while if `a` is unsigned then an unsigned integer of the\n",
            "        same precision as the platform integer is used.\n",
            "    out : ndarray, optional\n",
            "        Alternative output array in which to place the result. It must have\n",
            "        the same shape as the expected output, but the type of the output\n",
            "        values will be cast if necessary.\n",
            "    keepdims : bool, optional\n",
            "        If this is set to True, the axes which are reduced are left\n",
            "        in the result as dimensions with size one. With this option,\n",
            "        the result will broadcast correctly against the input array.\n",
            "\n",
            "        If the default value is passed, then `keepdims` will not be\n",
            "        passed through to the `sum` method of sub-classes of\n",
            "        `ndarray`, however any non-default value will be.  If the\n",
            "        sub-class' method does not implement `keepdims` any\n",
            "        exceptions will be raised.\n",
            "    initial : scalar, optional\n",
            "        Starting value for the sum. See `~numpy.ufunc.reduce` for details.\n",
            "\n",
            "        .. versionadded:: 1.15.0\n",
            "\n",
            "    where : array_like of bool, optional\n",
            "        Elements to include in the sum. See `~numpy.ufunc.reduce` for details.\n",
            "\n",
            "        .. versionadded:: 1.17.0\n",
            "\n",
            "    Returns\n",
            "    -------\n",
            "    sum_along_axis : ndarray\n",
            "        An array with the same shape as `a`, with the specified\n",
            "        axis removed.   If `a` is a 0-d array, or if `axis` is None, a scalar\n",
            "        is returned.  If an output array is specified, a reference to\n",
            "        `out` is returned.\n",
            "\n",
            "    See Also\n",
            "    --------\n",
            "    ndarray.sum : Equivalent method.\n",
            "\n",
            "    add.reduce : Equivalent functionality of `add`.\n",
            "\n",
            "    cumsum : Cumulative sum of array elements.\n",
            "\n",
            "    trapz : Integration of array values using the composite trapezoidal rule.\n",
            "\n",
            "    mean, average\n",
            "\n",
            "    Notes\n",
            "    -----\n",
            "    Arithmetic is modular when using integer types, and no error is\n",
            "    raised on overflow.\n",
            "\n",
            "    The sum of an empty array is the neutral element 0:\n",
            "\n",
            "    >>> np.sum([])\n",
            "    0.0\n",
            "\n",
            "    For floating point numbers the numerical precision of sum (and\n",
            "    ``np.add.reduce``) is in general limited by directly adding each number\n",
            "    individually to the result causing rounding errors in every step.\n",
            "    However, often numpy will use a  numerically better approach (partial\n",
            "    pairwise summation) leading to improved precision in many use-cases.\n",
            "    This improved precision is always provided when no ``axis`` is given.\n",
            "    When ``axis`` is given, it will depend on which axis is summed.\n",
            "    Technically, to provide the best speed possible, the improved precision\n",
            "    is only used when the summation is along the fast axis in memory.\n",
            "    Note that the exact precision may vary depending on other parameters.\n",
            "    In contrast to NumPy, Python's ``math.fsum`` function uses a slower but\n",
            "    more precise approach to summation.\n",
            "    Especially when summing a large number of lower precision floating point\n",
            "    numbers, such as ``float32``, numerical errors can become significant.\n",
            "    In such cases it can be advisable to use `dtype=\"float64\"` to use a higher\n",
            "    precision for the output.\n",
            "\n",
            "    Examples\n",
            "    --------\n",
            "    >>> np.sum([0.5, 1.5])\n",
            "    2.0\n",
            "    >>> np.sum([0.5, 0.7, 0.2, 1.5], dtype=np.int32)\n",
            "    1\n",
            "    >>> np.sum([[0, 1], [0, 5]])\n",
            "    6\n",
            "    >>> np.sum([[0, 1], [0, 5]], axis=0)\n",
            "    array([0, 6])\n",
            "    >>> np.sum([[0, 1], [0, 5]], axis=1)\n",
            "    array([1, 5])\n",
            "    >>> np.sum([[0, 1], [np.nan, 5]], where=[False, True], axis=1)\n",
            "    array([1., 5.])\n",
            "\n",
            "    If the accumulator is too small, overflow occurs:\n",
            "\n",
            "    >>> np.ones(128, dtype=np.int8).sum(dtype=np.int8)\n",
            "    -128\n",
            "\n",
            "    You can also start the sum with a value other than zero:\n",
            "\n",
            "    >>> np.sum([10], initial=5)\n",
            "    15\n",
            "    \n"
          ]
        }
      ]
    },
    {
      "cell_type": "markdown",
      "source": [
        "La siguiente forma de consultar la documentación también es válida pero, en lugar de aparecer la ayuda en la celda de resultados, aparece en una ventana lateral"
      ],
      "metadata": {
        "id": "136W8eKvN8GF"
      }
    },
    {
      "cell_type": "code",
      "source": [
        "??np"
      ],
      "metadata": {
        "id": "27RMyRCPN5Kk"
      },
      "execution_count": null,
      "outputs": []
    },
    {
      "cell_type": "markdown",
      "source": [
        "Y una cuarta forma de consultar la ayuda es por medio de `doc`, para lo cual es necesario instalar `nbdev`, una librería de fastai (https://github.com/fastai/nbdev) para desarrollo de Notebooks. "
      ],
      "metadata": {
        "id": "-hFrEfDYPGwk"
      }
    },
    {
      "cell_type": "code",
      "source": [
        "!pip install nbdev\n",
        "from nbdev.showdoc import *\n",
        "doc(np.sum)"
      ],
      "metadata": {
        "colab": {
          "base_uri": "https://localhost:8080/",
          "height": 953
        },
        "id": "INZovPIJOXJ0",
        "outputId": "7a7e4409-8fab-43ab-afbe-cd08ed6fa3d8"
      },
      "execution_count": null,
      "outputs": [
        {
          "output_type": "stream",
          "name": "stdout",
          "text": [
            "Looking in indexes: https://pypi.org/simple, https://us-python.pkg.dev/colab-wheels/public/simple/\n",
            "Collecting nbdev\n",
            "  Downloading nbdev-2.3.9-py3-none-any.whl (64 kB)\n",
            "\u001b[2K     \u001b[90m━━━━━━━━━━━━━━━━━━━━━━━━━━━━━━━━━━━━━━━━\u001b[0m \u001b[32m64.1/64.1 KB\u001b[0m \u001b[31m4.0 MB/s\u001b[0m eta \u001b[36m0:00:00\u001b[0m\n",
            "\u001b[?25hRequirement already satisfied: astunparse in /usr/local/lib/python3.8/dist-packages (from nbdev) (1.6.3)\n",
            "Requirement already satisfied: PyYAML in /usr/local/lib/python3.8/dist-packages (from nbdev) (6.0)\n",
            "Requirement already satisfied: fastcore>=1.5.27 in /usr/local/lib/python3.8/dist-packages (from nbdev) (1.5.27)\n",
            "Collecting watchdog\n",
            "  Downloading watchdog-2.2.1-py3-none-manylinux2014_x86_64.whl (78 kB)\n",
            "\u001b[2K     \u001b[90m━━━━━━━━━━━━━━━━━━━━━━━━━━━━━━━━━━━━━━━━\u001b[0m \u001b[32m79.0/79.0 KB\u001b[0m \u001b[31m8.3 MB/s\u001b[0m eta \u001b[36m0:00:00\u001b[0m\n",
            "\u001b[?25hCollecting asttokens\n",
            "  Downloading asttokens-2.2.1-py2.py3-none-any.whl (26 kB)\n",
            "Collecting ghapi>=1.0.3\n",
            "  Downloading ghapi-1.0.3-py3-none-any.whl (58 kB)\n",
            "\u001b[2K     \u001b[90m━━━━━━━━━━━━━━━━━━━━━━━━━━━━━━━━━━━━━━━━\u001b[0m \u001b[32m58.1/58.1 KB\u001b[0m \u001b[31m6.6 MB/s\u001b[0m eta \u001b[36m0:00:00\u001b[0m\n",
            "\u001b[?25hCollecting execnb>=0.1.4\n",
            "  Downloading execnb-0.1.4-py3-none-any.whl (13 kB)\n",
            "Requirement already satisfied: ipython in /usr/local/lib/python3.8/dist-packages (from execnb>=0.1.4->nbdev) (7.9.0)\n",
            "Requirement already satisfied: packaging in /usr/local/lib/python3.8/dist-packages (from fastcore>=1.5.27->nbdev) (21.3)\n",
            "Requirement already satisfied: pip in /usr/local/lib/python3.8/dist-packages (from fastcore>=1.5.27->nbdev) (22.0.4)\n",
            "Requirement already satisfied: six in /usr/local/lib/python3.8/dist-packages (from asttokens->nbdev) (1.15.0)\n",
            "Requirement already satisfied: wheel<1.0,>=0.23.0 in /usr/local/lib/python3.8/dist-packages (from astunparse->nbdev) (0.38.4)\n",
            "Collecting jedi>=0.10\n",
            "  Downloading jedi-0.18.2-py2.py3-none-any.whl (1.6 MB)\n",
            "\u001b[2K     \u001b[90m━━━━━━━━━━━━━━━━━━━━━━━━━━━━━━━━━━━━━━━━\u001b[0m \u001b[32m1.6/1.6 MB\u001b[0m \u001b[31m42.5 MB/s\u001b[0m eta \u001b[36m0:00:00\u001b[0m\n",
            "\u001b[?25hRequirement already satisfied: decorator in /usr/local/lib/python3.8/dist-packages (from ipython->execnb>=0.1.4->nbdev) (4.4.2)\n",
            "Requirement already satisfied: pickleshare in /usr/local/lib/python3.8/dist-packages (from ipython->execnb>=0.1.4->nbdev) (0.7.5)\n",
            "Requirement already satisfied: pexpect in /usr/local/lib/python3.8/dist-packages (from ipython->execnb>=0.1.4->nbdev) (4.8.0)\n",
            "Requirement already satisfied: backcall in /usr/local/lib/python3.8/dist-packages (from ipython->execnb>=0.1.4->nbdev) (0.2.0)\n",
            "Requirement already satisfied: setuptools>=18.5 in /usr/local/lib/python3.8/dist-packages (from ipython->execnb>=0.1.4->nbdev) (57.4.0)\n",
            "Requirement already satisfied: traitlets>=4.2 in /usr/local/lib/python3.8/dist-packages (from ipython->execnb>=0.1.4->nbdev) (5.7.1)\n",
            "Requirement already satisfied: prompt-toolkit<2.1.0,>=2.0.0 in /usr/local/lib/python3.8/dist-packages (from ipython->execnb>=0.1.4->nbdev) (2.0.10)\n",
            "Requirement already satisfied: pygments in /usr/local/lib/python3.8/dist-packages (from ipython->execnb>=0.1.4->nbdev) (2.6.1)\n",
            "Requirement already satisfied: pyparsing!=3.0.5,>=2.0.2 in /usr/local/lib/python3.8/dist-packages (from packaging->fastcore>=1.5.27->nbdev) (3.0.9)\n",
            "Requirement already satisfied: parso<0.9.0,>=0.8.0 in /usr/local/lib/python3.8/dist-packages (from jedi>=0.10->ipython->execnb>=0.1.4->nbdev) (0.8.3)\n",
            "Requirement already satisfied: wcwidth in /usr/local/lib/python3.8/dist-packages (from prompt-toolkit<2.1.0,>=2.0.0->ipython->execnb>=0.1.4->nbdev) (0.2.5)\n",
            "Requirement already satisfied: ptyprocess>=0.5 in /usr/local/lib/python3.8/dist-packages (from pexpect->ipython->execnb>=0.1.4->nbdev) (0.7.0)\n",
            "Installing collected packages: watchdog, jedi, asttokens, ghapi, execnb, nbdev\n",
            "Successfully installed asttokens-2.2.1 execnb-0.1.4 ghapi-1.0.3 jedi-0.18.2 nbdev-2.3.9 watchdog-2.2.1\n"
          ]
        },
        {
          "output_type": "stream",
          "name": "stderr",
          "text": [
            "/usr/local/lib/python3.8/dist-packages/fastcore/docscrape.py:225: UserWarning: Unknown section See Also\n",
            "  else: warn(msg)\n",
            "/usr/local/lib/python3.8/dist-packages/fastcore/docscrape.py:225: UserWarning: Unknown section Notes\n",
            "  else: warn(msg)\n",
            "/usr/local/lib/python3.8/dist-packages/fastcore/docscrape.py:225: UserWarning: Unknown section Examples\n",
            "  else: warn(msg)\n"
          ]
        },
        {
          "output_type": "display_data",
          "data": {
            "text/plain": [
              "<IPython.core.display.HTML object>"
            ],
            "text/html": [
              "<hr/>\n",
              "<h3>sum</h3>\n",
              "<blockquote><pre><code>sum(a, axis=None, dtype=None, out=None, keepdims=<no value>, initial=<no value>, where=<no value>)</code></pre></blockquote><p>Sum of array elements over a given axis.</p>"
            ]
          },
          "metadata": {}
        }
      ]
    },
    {
      "cell_type": "markdown",
      "source": [
        "## Palabras reservadas"
      ],
      "metadata": {
        "id": "s-Q4_bw-PjVt"
      }
    },
    {
      "cell_type": "code",
      "source": [
        "from keyword import iskeyword, kwlist\n",
        "kwlist"
      ],
      "metadata": {
        "colab": {
          "base_uri": "https://localhost:8080/"
        },
        "id": "O3RdK0JAQxVi",
        "outputId": "5e7007a9-c8dd-42d7-ae45-2cbacd833813"
      },
      "execution_count": null,
      "outputs": [
        {
          "output_type": "execute_result",
          "data": {
            "text/plain": [
              "['False',\n",
              " 'None',\n",
              " 'True',\n",
              " 'and',\n",
              " 'as',\n",
              " 'assert',\n",
              " 'async',\n",
              " 'await',\n",
              " 'break',\n",
              " 'class',\n",
              " 'continue',\n",
              " 'def',\n",
              " 'del',\n",
              " 'elif',\n",
              " 'else',\n",
              " 'except',\n",
              " 'finally',\n",
              " 'for',\n",
              " 'from',\n",
              " 'global',\n",
              " 'if',\n",
              " 'import',\n",
              " 'in',\n",
              " 'is',\n",
              " 'lambda',\n",
              " 'nonlocal',\n",
              " 'not',\n",
              " 'or',\n",
              " 'pass',\n",
              " 'raise',\n",
              " 'return',\n",
              " 'try',\n",
              " 'while',\n",
              " 'with',\n",
              " 'yield']"
            ]
          },
          "metadata": {},
          "execution_count": 31
        }
      ]
    },
    {
      "cell_type": "code",
      "source": [
        "iskeyword('try')"
      ],
      "metadata": {
        "colab": {
          "base_uri": "https://localhost:8080/"
        },
        "id": "_zsoG_HEQ56d",
        "outputId": "3c774eb3-44c6-40eb-a66a-d133b4fc7518"
      },
      "execution_count": null,
      "outputs": [
        {
          "output_type": "execute_result",
          "data": {
            "text/plain": [
              "True"
            ]
          },
          "metadata": {},
          "execution_count": 32
        }
      ]
    },
    {
      "cell_type": "markdown",
      "source": [
        "# Tipos de datos"
      ],
      "metadata": {
        "id": "_kuh_ImFRQSu"
      }
    },
    {
      "cell_type": "markdown",
      "source": [
        "Cabe mencionar que Python, como vemos más abajo, es un lenguaje\n",
        "* Fuertemente tipado: Los objetos/valores obedecen reglas estrictas sobre cómo pueden interactuar. Un ejemplo de tipado débil sería PHP: \t`$x = 1 + \"1\"; // x es 2`"
      ],
      "metadata": {
        "id": "ZWWp7DZBsPXW"
      }
    },
    {
      "cell_type": "code",
      "source": [
        "a = 1\n",
        "b= '1'\n",
        "c = a+b"
      ],
      "metadata": {
        "colab": {
          "base_uri": "https://localhost:8080/",
          "height": 208
        },
        "id": "h01Bc-ndsbT-",
        "outputId": "725a0e8a-6c6d-4e3e-e43a-a6f282c8e5e2"
      },
      "execution_count": null,
      "outputs": [
        {
          "output_type": "error",
          "ename": "TypeError",
          "evalue": "ignored",
          "traceback": [
            "\u001b[0;31m---------------------------------------------------------------------------\u001b[0m",
            "\u001b[0;31mTypeError\u001b[0m                                 Traceback (most recent call last)",
            "\u001b[0;32m<ipython-input-33-7a587f861c77>\u001b[0m in \u001b[0;36m<module>\u001b[0;34m\u001b[0m\n\u001b[1;32m      1\u001b[0m \u001b[0ma\u001b[0m \u001b[0;34m=\u001b[0m \u001b[0;36m1\u001b[0m\u001b[0;34m\u001b[0m\u001b[0;34m\u001b[0m\u001b[0m\n\u001b[1;32m      2\u001b[0m \u001b[0mb\u001b[0m\u001b[0;34m=\u001b[0m \u001b[0;34m'1'\u001b[0m\u001b[0;34m\u001b[0m\u001b[0;34m\u001b[0m\u001b[0m\n\u001b[0;32m----> 3\u001b[0;31m \u001b[0mc\u001b[0m \u001b[0;34m=\u001b[0m \u001b[0ma\u001b[0m\u001b[0;34m+\u001b[0m\u001b[0mb\u001b[0m\u001b[0;34m\u001b[0m\u001b[0;34m\u001b[0m\u001b[0m\n\u001b[0m",
            "\u001b[0;31mTypeError\u001b[0m: unsupported operand type(s) for +: 'int' and 'str'"
          ]
        }
      ]
    },
    {
      "cell_type": "markdown",
      "source": [
        "* Dinámicamente tipado: Son los datos quienes tienen tipo, y no las variables. Es decir, el tipo de dato que un objeto puede almacenar es mutable. Un ejemplo de tipado estático sería C#:<br />\n",
        "`int i = 5;` <br />\n",
        "`i = \"5\";  // Error! i solo puede contener enteros!`"
      ],
      "metadata": {
        "id": "FhCP4rbnsiYP"
      }
    },
    {
      "cell_type": "code",
      "source": [
        "a = 'Pablo'\n",
        "a = 123"
      ],
      "metadata": {
        "id": "eG22AX8jsk6K"
      },
      "execution_count": null,
      "outputs": []
    },
    {
      "cell_type": "markdown",
      "source": [
        "## Tuplas"
      ],
      "metadata": {
        "id": "GBIi7Hm0RecO"
      }
    },
    {
      "cell_type": "markdown",
      "source": [
        "Las tuplas almacenan datos de cualquier tipo, y se acceden mediante índices enteros. No pueden modificarse, solo consultarse (son estáticas). "
      ],
      "metadata": {
        "id": "64VsigOLSCp6"
      }
    },
    {
      "cell_type": "code",
      "source": [
        "#Declarar tupla\n",
        "tupla = (5, 't1', True, 0.5)\n",
        "print(tupla)"
      ],
      "metadata": {
        "colab": {
          "base_uri": "https://localhost:8080/"
        },
        "id": "U-LBt__2RVgr",
        "outputId": "0f4e3478-f7da-4af9-9204-b0685d9b58eb"
      },
      "execution_count": null,
      "outputs": [
        {
          "output_type": "stream",
          "name": "stdout",
          "text": [
            "(5, 't1', True, 0.5)\n"
          ]
        }
      ]
    },
    {
      "cell_type": "code",
      "source": [
        "print(tupla[0])"
      ],
      "metadata": {
        "colab": {
          "base_uri": "https://localhost:8080/"
        },
        "id": "KE5e4o7GSypr",
        "outputId": "39201520-5dfa-491f-8a48-1bbecb01fabf"
      },
      "execution_count": null,
      "outputs": [
        {
          "output_type": "stream",
          "name": "stdout",
          "text": [
            "5\n"
          ]
        }
      ]
    },
    {
      "cell_type": "code",
      "source": [
        "tupla[0] = 2"
      ],
      "metadata": {
        "colab": {
          "base_uri": "https://localhost:8080/",
          "height": 171
        },
        "id": "Hi1dTmh2S2Wr",
        "outputId": "6a698e39-1816-4bda-d3cc-c2d765f02e26"
      },
      "execution_count": null,
      "outputs": [
        {
          "output_type": "error",
          "ename": "TypeError",
          "evalue": "ignored",
          "traceback": [
            "\u001b[0;31m---------------------------------------------------------------------------\u001b[0m",
            "\u001b[0;31mTypeError\u001b[0m                                 Traceback (most recent call last)",
            "\u001b[0;32m<ipython-input-37-63912eb62050>\u001b[0m in \u001b[0;36m<module>\u001b[0;34m\u001b[0m\n\u001b[0;32m----> 1\u001b[0;31m \u001b[0mtupla\u001b[0m\u001b[0;34m[\u001b[0m\u001b[0;36m0\u001b[0m\u001b[0;34m]\u001b[0m \u001b[0;34m=\u001b[0m \u001b[0;36m2\u001b[0m\u001b[0;34m\u001b[0m\u001b[0;34m\u001b[0m\u001b[0m\n\u001b[0m",
            "\u001b[0;31mTypeError\u001b[0m: 'tuple' object does not support item assignment"
          ]
        }
      ]
    },
    {
      "cell_type": "markdown",
      "source": [
        "Como vemos, se obtiene un error al intentar modificar el valor de una tupla. "
      ],
      "metadata": {
        "id": "x7zfKRAkS9lE"
      }
    },
    {
      "cell_type": "markdown",
      "source": [
        "Nota importante: Python indexa comenzando en 0. En nuestro caso, `tupla` tiene 4 elementos, es decir, las posiciones 0, 1, 2 y 3 están ocupadas. Si intentamos acceder a la posición 4 obtendremos un error:"
      ],
      "metadata": {
        "id": "0N23N_bTTFDr"
      }
    },
    {
      "cell_type": "code",
      "source": [
        "print(tupla[4])"
      ],
      "metadata": {
        "colab": {
          "base_uri": "https://localhost:8080/",
          "height": 171
        },
        "id": "fVBicxcLTeXr",
        "outputId": "76d6f696-f9b7-4f65-a569-31f3e8eac7f0"
      },
      "execution_count": null,
      "outputs": [
        {
          "output_type": "error",
          "ename": "IndexError",
          "evalue": "ignored",
          "traceback": [
            "\u001b[0;31m---------------------------------------------------------------------------\u001b[0m",
            "\u001b[0;31mIndexError\u001b[0m                                Traceback (most recent call last)",
            "\u001b[0;32m<ipython-input-38-09eb472720a7>\u001b[0m in \u001b[0;36m<module>\u001b[0;34m\u001b[0m\n\u001b[0;32m----> 1\u001b[0;31m \u001b[0mprint\u001b[0m\u001b[0;34m(\u001b[0m\u001b[0mtupla\u001b[0m\u001b[0;34m[\u001b[0m\u001b[0;36m4\u001b[0m\u001b[0;34m]\u001b[0m\u001b[0;34m)\u001b[0m\u001b[0;34m\u001b[0m\u001b[0;34m\u001b[0m\u001b[0m\n\u001b[0m",
            "\u001b[0;31mIndexError\u001b[0m: tuple index out of range"
          ]
        }
      ]
    },
    {
      "cell_type": "markdown",
      "source": [
        "## Listas"
      ],
      "metadata": {
        "id": "UIuUmpxcSR2T"
      }
    },
    {
      "cell_type": "markdown",
      "source": [
        "Las listas almacenan datos de cualquier tipo, y se acceden mediante índices enteros. Son dinámicas, es decir, pueden modificarse sus elementos. "
      ],
      "metadata": {
        "id": "2gcSxKuISTFD"
      }
    },
    {
      "cell_type": "code",
      "source": [
        "#Declarar lista\n",
        "lista = [5, 't1', True, 0.5]\n",
        "print(lista)"
      ],
      "metadata": {
        "colab": {
          "base_uri": "https://localhost:8080/"
        },
        "id": "Ig2K0T9tSkas",
        "outputId": "6d98c3de-5280-47e1-bd9b-c5f913bcfa61"
      },
      "execution_count": null,
      "outputs": [
        {
          "output_type": "stream",
          "name": "stdout",
          "text": [
            "[5, 't1', True, 0.5]\n"
          ]
        }
      ]
    },
    {
      "cell_type": "code",
      "source": [
        "#Obtener tamaño lista y tupla\n",
        "l_tupla = len(tupla)\n",
        "l_lista = len(lista)\n",
        "print(l_tupla)\n",
        "print(l_lista)\n",
        "\n",
        "print(tupla[2])\n",
        "print(lista[2])\n",
        "\n",
        "lista[2] = 1000\n",
        "print(lista)"
      ],
      "metadata": {
        "colab": {
          "base_uri": "https://localhost:8080/"
        },
        "id": "0VpNctJaSleS",
        "outputId": "28a1a855-1506-445a-81e2-6c6aadf8da0f"
      },
      "execution_count": null,
      "outputs": [
        {
          "output_type": "stream",
          "name": "stdout",
          "text": [
            "4\n",
            "4\n",
            "True\n",
            "True\n",
            "[5, 't1', 1000, 0.5]\n"
          ]
        }
      ]
    },
    {
      "cell_type": "markdown",
      "source": [
        "En una lista pueden añadirse o eliminarse elementos con facilidad. "
      ],
      "metadata": {
        "id": "SA28qVd7TlhT"
      }
    },
    {
      "cell_type": "code",
      "source": [
        "#Añadir elemento\n",
        "lista.append(False) #Al final\n",
        "print(lista)\n",
        "position = 1\n",
        "lista.insert(position, 't21') #En una posición concreta\n",
        "print(lista)\n",
        "\n",
        "#Eliminar elemento\n",
        "lista.remove('t1') #Buscando\n",
        "print(lista)\n",
        "lista.pop() #Al final\n",
        "print(lista)\n",
        "lista.pop(1) #En la posición 1\n",
        "print(lista)\n",
        "\n",
        "#Concatenar\n",
        "lista2 = ['a', 'b', 'c']\n",
        "lista_combinada = lista + lista2 #Pone lista2 al final de lista\n",
        "print(lista_combinada)\n",
        "\n",
        "#Copiar\n",
        "lista_copia = lista.copy()\n",
        "print(lista_copia)"
      ],
      "metadata": {
        "colab": {
          "base_uri": "https://localhost:8080/"
        },
        "id": "9b8kmG6yTr7z",
        "outputId": "f9199ffd-ae96-4802-a7a8-1febaac4d013"
      },
      "execution_count": null,
      "outputs": [
        {
          "output_type": "stream",
          "name": "stdout",
          "text": [
            "[5, 't1', 1000, 0.5, False]\n",
            "[5, 't21', 't1', 1000, 0.5, False]\n",
            "[5, 't21', 1000, 0.5, False]\n",
            "[5, 't21', 1000, 0.5]\n",
            "[5, 1000, 0.5]\n",
            "[5, 1000, 0.5, 'a', 'b', 'c']\n",
            "[5, 1000, 0.5]\n"
          ]
        }
      ]
    },
    {
      "cell_type": "markdown",
      "source": [
        "## Diccionarios"
      ],
      "metadata": {
        "id": "WMrKY_qqTzpF"
      }
    },
    {
      "cell_type": "markdown",
      "source": [
        "Almacenan datos ($values$) de cualquier tipo, y se acceden mediante palabras clave ($keys$). Sus elementos, al igual que en las listas, pueden ser modificados, añadidos, eliminados, etc. "
      ],
      "metadata": {
        "id": "L1vvc-I1T1ID"
      }
    },
    {
      "cell_type": "code",
      "source": [
        "#Declarar\n",
        "diccionario = {'a': 1, 'b': 2.0}\n",
        "\n",
        "#Añadir elemento\n",
        "diccionario['c'] = False\n",
        "\n",
        "#Mostrar por pantalla\n",
        "print(diccionario)\n",
        "\n",
        "#Eliminar elemento\n",
        "del diccionario['c']\n",
        "print(diccionario)\n",
        "\n",
        "#Keys\n",
        "print(diccionario.keys())\n",
        "\n",
        "#Values\n",
        "print(diccionario.values())"
      ],
      "metadata": {
        "colab": {
          "base_uri": "https://localhost:8080/"
        },
        "id": "-pVJGHIvUECT",
        "outputId": "f359b23b-766a-42b0-de63-6bdf2b019d14"
      },
      "execution_count": null,
      "outputs": [
        {
          "output_type": "stream",
          "name": "stdout",
          "text": [
            "{'a': 1, 'b': 2.0, 'c': False}\n",
            "{'a': 1, 'b': 2.0}\n",
            "dict_keys(['a', 'b'])\n",
            "dict_values([1, 2.0])\n"
          ]
        }
      ]
    },
    {
      "cell_type": "markdown",
      "source": [
        "## Cómo conocer el tipo de una variable"
      ],
      "metadata": {
        "id": "y__ff4OrgLaC"
      }
    },
    {
      "cell_type": "markdown",
      "source": [
        "Dos funciones útiles a este respecto son:\n",
        "\n",
        "`type(x)`, devuelve el tipo\n",
        "\n",
        "`id(x)`, devuelve su identificador (un entero único)"
      ],
      "metadata": {
        "id": "eldWFvoOgjcx"
      }
    },
    {
      "cell_type": "markdown",
      "source": [
        "Se pueden forzar los tipos para obtener el resultado deseado: \n",
        "`bool(x)`, `int(x)`, `float(x)`, `str(x)`,..."
      ],
      "metadata": {
        "id": "sUsm-6nkgwIr"
      }
    },
    {
      "cell_type": "code",
      "source": [
        "type(diccionario)"
      ],
      "metadata": {
        "colab": {
          "base_uri": "https://localhost:8080/"
        },
        "id": "dMYbHmoRgPtw",
        "outputId": "1f8bfc76-49ce-4207-a2c2-e220d5cd28cc"
      },
      "execution_count": null,
      "outputs": [
        {
          "output_type": "execute_result",
          "data": {
            "text/plain": [
              "dict"
            ]
          },
          "metadata": {},
          "execution_count": 43
        }
      ]
    },
    {
      "cell_type": "code",
      "source": [
        "type(tupla)"
      ],
      "metadata": {
        "colab": {
          "base_uri": "https://localhost:8080/"
        },
        "id": "WfsLa7U_gUs7",
        "outputId": "a5fddac0-7884-4ef1-9eb6-1e1b8bc67d59"
      },
      "execution_count": null,
      "outputs": [
        {
          "output_type": "execute_result",
          "data": {
            "text/plain": [
              "tuple"
            ]
          },
          "metadata": {},
          "execution_count": 44
        }
      ]
    },
    {
      "cell_type": "code",
      "source": [
        "type(z)"
      ],
      "metadata": {
        "colab": {
          "base_uri": "https://localhost:8080/"
        },
        "id": "yYafTcgwgZ-b",
        "outputId": "ebc22981-0485-4870-e477-2cb70b58950c"
      },
      "execution_count": null,
      "outputs": [
        {
          "output_type": "execute_result",
          "data": {
            "text/plain": [
              "numpy.ndarray"
            ]
          },
          "metadata": {},
          "execution_count": 45
        }
      ]
    },
    {
      "cell_type": "code",
      "source": [
        "id(z)"
      ],
      "metadata": {
        "colab": {
          "base_uri": "https://localhost:8080/"
        },
        "id": "DmUGnrqigoAy",
        "outputId": "0a89e98d-2ff2-40b3-aaec-44216e8c3526"
      },
      "execution_count": null,
      "outputs": [
        {
          "output_type": "execute_result",
          "data": {
            "text/plain": [
              "139969796944592"
            ]
          },
          "metadata": {},
          "execution_count": 46
        }
      ]
    },
    {
      "cell_type": "markdown",
      "source": [
        "# Indexado y slicing"
      ],
      "metadata": {
        "id": "4F6M9JsKVwSj"
      }
    },
    {
      "cell_type": "markdown",
      "source": [
        "En esta sección nos ocuparemos del modo en que Python permite indexar y recuperar la información de listas y arrays. "
      ],
      "metadata": {
        "id": "CkNClEQXV4sc"
      }
    },
    {
      "cell_type": "code",
      "source": [
        "lista = [5, 't1', True, 0.5]\n",
        "lista"
      ],
      "metadata": {
        "colab": {
          "base_uri": "https://localhost:8080/"
        },
        "id": "eDDlTuI9V-uj",
        "outputId": "59883160-50f3-4a96-c116-6ec5558df145"
      },
      "execution_count": null,
      "outputs": [
        {
          "output_type": "execute_result",
          "data": {
            "text/plain": [
              "[5, 't1', True, 0.5]"
            ]
          },
          "metadata": {},
          "execution_count": 47
        }
      ]
    },
    {
      "cell_type": "markdown",
      "source": [
        "En esencia, lo que se hace es determinar una posición de inicio, una de fin y un paso. La sintaxis es muy similar a la Matlab, para todos aquellos que podáis estar familiarizados con dicho lenguaje: `lista[inicio:fin:paso]`"
      ],
      "metadata": {
        "id": "cIt9IZtyYEcT"
      }
    },
    {
      "cell_type": "markdown",
      "source": [
        "De este modo, podemos recuperar toda una lista completa"
      ],
      "metadata": {
        "id": "Zecz97JeYa-y"
      }
    },
    {
      "cell_type": "code",
      "source": [
        "lista[:]"
      ],
      "metadata": {
        "colab": {
          "base_uri": "https://localhost:8080/"
        },
        "id": "f-IgcebbX_c5",
        "outputId": "3f715531-70cb-433c-ed53-0ad4f3ae0594"
      },
      "execution_count": null,
      "outputs": [
        {
          "output_type": "execute_result",
          "data": {
            "text/plain": [
              "[5, 't1', True, 0.5]"
            ]
          },
          "metadata": {},
          "execution_count": 48
        }
      ]
    },
    {
      "cell_type": "markdown",
      "source": [
        "Desde el inicio hasta un cierto valor"
      ],
      "metadata": {
        "id": "rqyoPCZrYeGr"
      }
    },
    {
      "cell_type": "code",
      "source": [
        "lista[0:2]"
      ],
      "metadata": {
        "colab": {
          "base_uri": "https://localhost:8080/"
        },
        "id": "AvytoVfnYBs7",
        "outputId": "1a42b242-1ad3-4754-e389-be4d1cfcdb89"
      },
      "execution_count": null,
      "outputs": [
        {
          "output_type": "execute_result",
          "data": {
            "text/plain": [
              "[5, 't1']"
            ]
          },
          "metadata": {},
          "execution_count": 49
        }
      ]
    },
    {
      "cell_type": "code",
      "source": [
        "lista[:2]"
      ],
      "metadata": {
        "colab": {
          "base_uri": "https://localhost:8080/"
        },
        "id": "F7DM0Z9OYrVU",
        "outputId": "94671da1-a924-4018-be00-974bacb8124a"
      },
      "execution_count": null,
      "outputs": [
        {
          "output_type": "execute_result",
          "data": {
            "text/plain": [
              "[5, 't1']"
            ]
          },
          "metadata": {},
          "execution_count": 50
        }
      ]
    },
    {
      "cell_type": "markdown",
      "source": [
        "Desde una determinada posición hasta el final"
      ],
      "metadata": {
        "id": "EOHfAzEIYwD7"
      }
    },
    {
      "cell_type": "code",
      "source": [
        "lista[2:]"
      ],
      "metadata": {
        "colab": {
          "base_uri": "https://localhost:8080/"
        },
        "id": "413zGLaTYz-z",
        "outputId": "6d1bfe05-9034-4068-838c-1ef1b5461abc"
      },
      "execution_count": null,
      "outputs": [
        {
          "output_type": "execute_result",
          "data": {
            "text/plain": [
              "[True, 0.5]"
            ]
          },
          "metadata": {},
          "execution_count": 51
        }
      ]
    },
    {
      "cell_type": "markdown",
      "source": [
        "Pero, ojo, si se marca un determinado valor de `fin`, dicha posición no se incluirá"
      ],
      "metadata": {
        "id": "ELw46BAkY53D"
      }
    },
    {
      "cell_type": "code",
      "source": [
        "lista[2:3]"
      ],
      "metadata": {
        "colab": {
          "base_uri": "https://localhost:8080/"
        },
        "id": "Yk6cuYXsY-qz",
        "outputId": "af5f5bba-4fa5-4f64-e4d1-5a5f9c3c9026"
      },
      "execution_count": null,
      "outputs": [
        {
          "output_type": "execute_result",
          "data": {
            "text/plain": [
              "[True]"
            ]
          },
          "metadata": {},
          "execution_count": 52
        }
      ]
    },
    {
      "cell_type": "markdown",
      "source": [
        "Si le ponemos un paso de 2, solamente recuperaremos los valores de las posiciones pares"
      ],
      "metadata": {
        "id": "lukKwoWfZD1c"
      }
    },
    {
      "cell_type": "code",
      "source": [
        "lista[::2]"
      ],
      "metadata": {
        "colab": {
          "base_uri": "https://localhost:8080/"
        },
        "id": "yWSC9CUBZHvu",
        "outputId": "2dd0a3b2-75aa-4f7c-9c0b-11e4fb5e59ce"
      },
      "execution_count": null,
      "outputs": [
        {
          "output_type": "execute_result",
          "data": {
            "text/plain": [
              "[5, True]"
            ]
          },
          "metadata": {},
          "execution_count": 53
        }
      ]
    },
    {
      "cell_type": "markdown",
      "source": [
        "Un elemento fundamental para comprender la indexación de Python es que la posición -1 es la última. Es decir, podemos usar índices negativos, y estos comenzarán a contar desde el final de la lista (hacia la izquierda). Dicho de otro modo, si tenemos un array o una lista con 9 posiciones, tendríamos los siguientes índices: \n",
        "\n",
        "```\n",
        "De izquierda a derecha:  0  1  2  3  4  5  6  7  8 \n",
        "\n",
        "De derecha a izquierda: -9 -8 -7 -6 -5 -4 -3 -2 -1\n",
        "```"
      ],
      "metadata": {
        "id": "XNM8741VZ_Db"
      }
    },
    {
      "cell_type": "code",
      "source": [
        "print(lista)\n",
        "lista[-1]"
      ],
      "metadata": {
        "colab": {
          "base_uri": "https://localhost:8080/"
        },
        "id": "9InNRTWta6iP",
        "outputId": "64d07ae0-dd70-4499-d8fb-cdea1fd0a01e"
      },
      "execution_count": null,
      "outputs": [
        {
          "output_type": "stream",
          "name": "stdout",
          "text": [
            "[5, 't1', True, 0.5]\n"
          ]
        },
        {
          "output_type": "execute_result",
          "data": {
            "text/plain": [
              "0.5"
            ]
          },
          "metadata": {},
          "execution_count": 55
        }
      ]
    },
    {
      "cell_type": "markdown",
      "source": [
        "Y, a partir de aquí, la flexibilidad es inmensa"
      ],
      "metadata": {
        "id": "BOSJSM6KbCSL"
      }
    },
    {
      "cell_type": "code",
      "source": [
        "lista = [0, 1, 2, 3, 4]\n",
        "print(lista[0:15:1]) # Da igual si nos pasamos del tamaño máximo real de la lista. "
      ],
      "metadata": {
        "colab": {
          "base_uri": "https://localhost:8080/"
        },
        "id": "N8vip5VdbHtr",
        "outputId": "130f511c-8e0f-4af6-c9da-9a16aee57801"
      },
      "execution_count": null,
      "outputs": [
        {
          "output_type": "stream",
          "name": "stdout",
          "text": [
            "[0, 1, 2, 3, 4]\n"
          ]
        }
      ]
    },
    {
      "cell_type": "code",
      "source": [
        "print(lista[0:15:2])"
      ],
      "metadata": {
        "colab": {
          "base_uri": "https://localhost:8080/"
        },
        "id": "V_U8-J8SbQSi",
        "outputId": "0f7aae5e-d26f-497b-fd04-87a4b2ee8a3d"
      },
      "execution_count": null,
      "outputs": [
        {
          "output_type": "stream",
          "name": "stdout",
          "text": [
            "[0, 2, 4]\n"
          ]
        }
      ]
    },
    {
      "cell_type": "code",
      "source": [
        "print(lista[0:4:2])"
      ],
      "metadata": {
        "colab": {
          "base_uri": "https://localhost:8080/"
        },
        "id": "edU74_d6bS1T",
        "outputId": "f9549299-48af-42bf-ce1a-0aabceb72bc1"
      },
      "execution_count": null,
      "outputs": [
        {
          "output_type": "stream",
          "name": "stdout",
          "text": [
            "[0, 2]\n"
          ]
        }
      ]
    },
    {
      "cell_type": "code",
      "source": [
        "print(lista[0:-1:2])"
      ],
      "metadata": {
        "colab": {
          "base_uri": "https://localhost:8080/"
        },
        "id": "WDO0Y3YobVeQ",
        "outputId": "c702df68-4d4b-4e49-b1e8-4bb042809218"
      },
      "execution_count": null,
      "outputs": [
        {
          "output_type": "stream",
          "name": "stdout",
          "text": [
            "[0, 2]\n"
          ]
        }
      ]
    },
    {
      "cell_type": "code",
      "source": [
        "print(lista[::-1]) #Esto se podría leer como “Devuelve/recorre la lista al revés”"
      ],
      "metadata": {
        "colab": {
          "base_uri": "https://localhost:8080/"
        },
        "id": "L3By7DzXbXw8",
        "outputId": "40871ce0-6263-44ed-8939-e2ae5e1ce836"
      },
      "execution_count": null,
      "outputs": [
        {
          "output_type": "stream",
          "name": "stdout",
          "text": [
            "[4, 3, 2, 1, 0]\n"
          ]
        }
      ]
    },
    {
      "cell_type": "code",
      "source": [
        "print(lista[3:0:-1])"
      ],
      "metadata": {
        "colab": {
          "base_uri": "https://localhost:8080/"
        },
        "id": "9Evf5KjEbcu-",
        "outputId": "80586d22-538a-4dfa-b73d-5ab87817f566"
      },
      "execution_count": null,
      "outputs": [
        {
          "output_type": "stream",
          "name": "stdout",
          "text": [
            "[3, 2, 1]\n"
          ]
        }
      ]
    },
    {
      "cell_type": "code",
      "source": [
        "print(lista[3::-1]) #Aquí, como no incluimos posición de fin, se recorre hasta el final"
      ],
      "metadata": {
        "colab": {
          "base_uri": "https://localhost:8080/"
        },
        "id": "JvIE0p4NbjkC",
        "outputId": "fb068687-28c4-4454-bc99-a9077fbdebd2"
      },
      "execution_count": null,
      "outputs": [
        {
          "output_type": "stream",
          "name": "stdout",
          "text": [
            "[3, 2, 1, 0]\n"
          ]
        }
      ]
    },
    {
      "cell_type": "code",
      "source": [
        "print(lista[0:3:-1]) "
      ],
      "metadata": {
        "colab": {
          "base_uri": "https://localhost:8080/"
        },
        "id": "Nvgqg7tQboyT",
        "outputId": "96c599ed-3206-4e9e-f57b-d5ab0e4d5eeb"
      },
      "execution_count": null,
      "outputs": [
        {
          "output_type": "stream",
          "name": "stdout",
          "text": [
            "[]\n"
          ]
        }
      ]
    },
    {
      "cell_type": "markdown",
      "source": [
        "Lo anterior se podría leer como “Vete, hacia atrás (es decir, paso $-1$), de la posición $0$ de la lista a la posición $3-1$”. Y, claro,… eso no es posible. De ahí la lista vacía resultante. "
      ],
      "metadata": {
        "id": "_7xi0iD8bwla"
      }
    },
    {
      "cell_type": "markdown",
      "source": [
        "# Condicionales y bucles"
      ],
      "metadata": {
        "id": "z9eFptRAb4hT"
      }
    },
    {
      "cell_type": "markdown",
      "source": [
        "La sintaxis fundamental es la que se muestra a continuación: \n",
        "\n",
        "```\n",
        "#Condicional\n",
        "if condicion:\n",
        "    #Hacer algo\n",
        "elif otra_condicion:\n",
        "    #Hacer algo\n",
        "else:\n",
        "    #Hacer algo\n",
        "\n",
        "#Bucle for\n",
        "for i in range(inicio, fin, paso):\n",
        "    #Hacer algo   \n",
        "    print(i)\n",
        "    \n",
        "for elemento in lista:\n",
        "    #Hacer algo\n",
        "\n",
        "#Bucle while\n",
        "while condicion:\n",
        "    #Hacer algo\n",
        "```"
      ],
      "metadata": {
        "id": "OO21QnjlcEa6"
      }
    },
    {
      "cell_type": "markdown",
      "source": [
        "Cabe mencionar que la indentación es muy importante en Python. Por ejemplo, el siguiente código da un error porque el primer `print` no aparece indentado como debería"
      ],
      "metadata": {
        "id": "NwDD2U_ccQlt"
      }
    },
    {
      "cell_type": "code",
      "source": [
        "nota_obtenida = 6.8\n",
        "if nota_obtenida < 5:\n",
        "print('Suspenso')\n",
        "elif 5 <= nota_obtenida < 7:\n",
        "    print('Aprobado')\n",
        "elif 7 <= nota_obtenida < 8.5:\n",
        "    print('Notable')\n",
        "else:\n",
        "    print('Sobresaliente')"
      ],
      "metadata": {
        "colab": {
          "base_uri": "https://localhost:8080/",
          "height": 135
        },
        "id": "4YgnjnJOcWQa",
        "outputId": "90d2a10c-f7f4-4ff7-d3d5-2635670b0a37"
      },
      "execution_count": null,
      "outputs": [
        {
          "output_type": "error",
          "ename": "IndentationError",
          "evalue": "ignored",
          "traceback": [
            "\u001b[0;36m  File \u001b[0;32m\"<ipython-input-65-9ecdc3153612>\"\u001b[0;36m, line \u001b[0;32m3\u001b[0m\n\u001b[0;31m    print('Suspenso')\u001b[0m\n\u001b[0m    ^\u001b[0m\n\u001b[0;31mIndentationError\u001b[0m\u001b[0;31m:\u001b[0m expected an indented block\n"
          ]
        }
      ]
    },
    {
      "cell_type": "markdown",
      "source": [
        "En cambio, el siguiente código sí sería correcto"
      ],
      "metadata": {
        "id": "p0ta-6mMcevs"
      }
    },
    {
      "cell_type": "code",
      "source": [
        "nota_obtenida = 6.8\n",
        "if nota_obtenida < 5:\n",
        "    print('Suspenso')\n",
        "elif 5 <= nota_obtenida < 7:\n",
        "    print('Aprobado')\n",
        "elif 7 <= nota_obtenida < 8.5:\n",
        "    print('Notable')\n",
        "else:\n",
        "    print('Sobresaliente')"
      ],
      "metadata": {
        "colab": {
          "base_uri": "https://localhost:8080/"
        },
        "id": "u7Ui-279chL1",
        "outputId": "ca6c03da-13a5-4e2e-db57-116f5ef9d5d7"
      },
      "execution_count": null,
      "outputs": [
        {
          "output_type": "stream",
          "name": "stdout",
          "text": [
            "Aprobado\n"
          ]
        }
      ]
    },
    {
      "cell_type": "markdown",
      "source": [
        "También se recomienda ser consciente de toda la potencia de que se dispone a la hora de recorrer o mostrar listas. Por ejemplo, un bucle `for` no permite iterar solamente sobre un único elemento de una lista. Las siguientes dos líneas de código permiten, de modo sencillo, recorrer e imprimir el contenido de una lista de tuplas binarias simultáneamente. "
      ],
      "metadata": {
        "id": "GVdPLXgrdw9q"
      }
    },
    {
      "cell_type": "code",
      "source": [
        "for x,y in [(1, 10), (2, 20), (3, 30)]:\n",
        "  print(x,y)"
      ],
      "metadata": {
        "colab": {
          "base_uri": "https://localhost:8080/"
        },
        "id": "BQCyntfad6c0",
        "outputId": "7231251c-ccc6-4bea-d47e-2313f08a2aef"
      },
      "execution_count": null,
      "outputs": [
        {
          "output_type": "stream",
          "name": "stdout",
          "text": [
            "1 10\n",
            "2 20\n",
            "3 30\n"
          ]
        }
      ]
    },
    {
      "cell_type": "markdown",
      "source": [
        "Del mismo modo, los bucles `for` permiten generar listas de elementos de una forma rápida y sencilla. Por ejemplo, a continuación, en una única línea de código inicializamos una lista multiplicando por $2$ los números enteros del $0$ al $9$:\n",
        "\n",
        "\n",
        "*   Con la función `range` creamos un rango de valores. Al indicar solamente el número $10$, lo que estamos diciendo es que queremos un rango de valores del $0$ al $10-1$, es decir, el $9$. \n",
        "*   El bucle `for` va recorriendo dichos valores $[0, ..., 9]$\n",
        "*   El `2*x` lo único que hace es multiplicar por $2$ los valores recuperados por el bucle `for` \n",
        "*   Finalmente, al estar todo entre corchetes `[]`, el resultado queda almacenado en una lista. \n",
        "\n"
      ],
      "metadata": {
        "id": "fuoINpxAelOx"
      }
    },
    {
      "cell_type": "code",
      "source": [
        "new_array = [2*x for x in range(10)]\n",
        "print(new_array)"
      ],
      "metadata": {
        "colab": {
          "base_uri": "https://localhost:8080/"
        },
        "id": "Gr2E6i5leWsk",
        "outputId": "872d3eda-cd1a-47ed-8617-044915793711"
      },
      "execution_count": null,
      "outputs": [
        {
          "output_type": "stream",
          "name": "stdout",
          "text": [
            "[0, 2, 4, 6, 8, 10, 12, 14, 16, 18]\n"
          ]
        }
      ]
    },
    {
      "cell_type": "markdown",
      "source": [
        "Dos comandos que pueden ser bastante útiles, y que se emplean para iterar sobre listas son `zip` y `enumerate`. Veamos un par de ejemplos relativos a su uso. "
      ],
      "metadata": {
        "id": "ailnBAWcUbFm"
      }
    },
    {
      "cell_type": "code",
      "source": [
        "list_a = [*range(1,5)] #* es el argument-unpacking operator, que permite desempaquetar el rango.\n",
        "list_b = [*range(2,6)]\n",
        "print(list_a)\n",
        "print(list_b)"
      ],
      "metadata": {
        "colab": {
          "base_uri": "https://localhost:8080/"
        },
        "id": "NNaliWInUw8s",
        "outputId": "fecb67af-9ad5-43f9-efaa-0ddf4a242769"
      },
      "execution_count": null,
      "outputs": [
        {
          "output_type": "stream",
          "name": "stdout",
          "text": [
            "[1, 2, 3, 4]\n",
            "[2, 3, 4, 5]\n"
          ]
        }
      ]
    },
    {
      "cell_type": "code",
      "source": [
        "list_a*list_b"
      ],
      "metadata": {
        "colab": {
          "base_uri": "https://localhost:8080/",
          "height": 171
        },
        "id": "RbcDJgfzVY1l",
        "outputId": "5076ed05-9794-4a1b-c1cd-72ad33733780"
      },
      "execution_count": null,
      "outputs": [
        {
          "output_type": "error",
          "ename": "TypeError",
          "evalue": "ignored",
          "traceback": [
            "\u001b[0;31m---------------------------------------------------------------------------\u001b[0m",
            "\u001b[0;31mTypeError\u001b[0m                                 Traceback (most recent call last)",
            "\u001b[0;32m<ipython-input-75-d9ca0b049548>\u001b[0m in \u001b[0;36m<module>\u001b[0;34m\u001b[0m\n\u001b[0;32m----> 1\u001b[0;31m \u001b[0mlist_a\u001b[0m\u001b[0;34m*\u001b[0m\u001b[0mlist_b\u001b[0m\u001b[0;34m\u001b[0m\u001b[0;34m\u001b[0m\u001b[0m\n\u001b[0m",
            "\u001b[0;31mTypeError\u001b[0m: can't multiply sequence by non-int of type 'list'"
          ]
        }
      ]
    },
    {
      "cell_type": "markdown",
      "source": [
        "Como vemos, los elementos de una lista no se pueden multiplicar de modo directo haciendo el producto de las listas. Para ello, usamos `zip`, que nos permite iterar sobre varias listas en paralelo."
      ],
      "metadata": {
        "id": "jjVjVcxWVc7e"
      }
    },
    {
      "cell_type": "code",
      "source": [
        "[a*b for a,b in zip(list_a, list_b)]"
      ],
      "metadata": {
        "colab": {
          "base_uri": "https://localhost:8080/"
        },
        "id": "1XRCgqWaVn7d",
        "outputId": "eebed1e1-641c-4371-f05c-f80f80a4f633"
      },
      "execution_count": null,
      "outputs": [
        {
          "output_type": "execute_result",
          "data": {
            "text/plain": [
              "[2, 6, 12, 20]"
            ]
          },
          "metadata": {},
          "execution_count": 76
        }
      ]
    },
    {
      "cell_type": "markdown",
      "source": [
        "`enumerate` permite iterar sobre índices y elementos de una lista, tal y como vemos a continuación."
      ],
      "metadata": {
        "id": "_NYUBxdHV9tN"
      }
    },
    {
      "cell_type": "code",
      "source": [
        "for i, (a,b) in enumerate(zip(list_a, list_b)):\n",
        "  print(i, a, b)"
      ],
      "metadata": {
        "colab": {
          "base_uri": "https://localhost:8080/"
        },
        "id": "rb6zBOczWD-U",
        "outputId": "59f406a3-a7e8-4518-c087-e90c17810fe2"
      },
      "execution_count": null,
      "outputs": [
        {
          "output_type": "stream",
          "name": "stdout",
          "text": [
            "0 1 2\n",
            "1 2 3\n",
            "2 3 4\n",
            "3 4 5\n"
          ]
        }
      ]
    },
    {
      "cell_type": "markdown",
      "source": [
        "Otro ejemplo:"
      ],
      "metadata": {
        "id": "epIdOev_WNbU"
      }
    },
    {
      "cell_type": "code",
      "source": [
        "alist = ['a1', 'a2', 'a3']\n",
        "blist = ['b1', 'b2', 'b3']\n",
        "for i, (a,b) in enumerate(zip(alist, blist)):\n",
        "  print(i, a, b)\n"
      ],
      "metadata": {
        "colab": {
          "base_uri": "https://localhost:8080/"
        },
        "id": "AG7MGYy6WOkb",
        "outputId": "8d143896-b053-498f-e60e-208dbe1970a3"
      },
      "execution_count": null,
      "outputs": [
        {
          "output_type": "stream",
          "name": "stdout",
          "text": [
            "0 a1 b1\n",
            "1 a2 b2\n",
            "2 a3 b3\n"
          ]
        }
      ]
    },
    {
      "cell_type": "markdown",
      "source": [
        "# Funciones"
      ],
      "metadata": {
        "id": "TRcYCZRrfnsK"
      }
    },
    {
      "cell_type": "markdown",
      "source": [
        "Se pueden crear funciones nuevas o emplear aquellas disponibles en los módulos. Hay tres formas principales de importar una librería o módulo:\n",
        "\n",
        "```\n",
        "import module as md\n",
        "\t md.fun()\n",
        "\n",
        "from module import *\n",
        "\t fun()\n",
        "\n",
        "from module import fun as f1\n",
        "\t f1()\n",
        "```\n",
        "\n",
        "Para conocer todas las funciones dentro del módulo importado disponemos de `dir(module)`."
      ],
      "metadata": {
        "id": "LqukiUynfpwL"
      }
    },
    {
      "cell_type": "code",
      "source": [
        "dir(np)"
      ],
      "metadata": {
        "colab": {
          "base_uri": "https://localhost:8080/"
        },
        "id": "4UVov-T_hkCe",
        "outputId": "6dafdb9d-c1e7-4342-b02d-c7f6f5b236f6"
      },
      "execution_count": null,
      "outputs": [
        {
          "output_type": "execute_result",
          "data": {
            "text/plain": [
              "['ALLOW_THREADS',\n",
              " 'AxisError',\n",
              " 'BUFSIZE',\n",
              " 'Bytes0',\n",
              " 'CLIP',\n",
              " 'ComplexWarning',\n",
              " 'DataSource',\n",
              " 'Datetime64',\n",
              " 'ERR_CALL',\n",
              " 'ERR_DEFAULT',\n",
              " 'ERR_IGNORE',\n",
              " 'ERR_LOG',\n",
              " 'ERR_PRINT',\n",
              " 'ERR_RAISE',\n",
              " 'ERR_WARN',\n",
              " 'FLOATING_POINT_SUPPORT',\n",
              " 'FPE_DIVIDEBYZERO',\n",
              " 'FPE_INVALID',\n",
              " 'FPE_OVERFLOW',\n",
              " 'FPE_UNDERFLOW',\n",
              " 'False_',\n",
              " 'Inf',\n",
              " 'Infinity',\n",
              " 'MAXDIMS',\n",
              " 'MAY_SHARE_BOUNDS',\n",
              " 'MAY_SHARE_EXACT',\n",
              " 'MachAr',\n",
              " 'ModuleDeprecationWarning',\n",
              " 'NAN',\n",
              " 'NINF',\n",
              " 'NZERO',\n",
              " 'NaN',\n",
              " 'PINF',\n",
              " 'PZERO',\n",
              " 'RAISE',\n",
              " 'RankWarning',\n",
              " 'SHIFT_DIVIDEBYZERO',\n",
              " 'SHIFT_INVALID',\n",
              " 'SHIFT_OVERFLOW',\n",
              " 'SHIFT_UNDERFLOW',\n",
              " 'ScalarType',\n",
              " 'Str0',\n",
              " 'Tester',\n",
              " 'TooHardError',\n",
              " 'True_',\n",
              " 'UFUNC_BUFSIZE_DEFAULT',\n",
              " 'UFUNC_PYVALS_NAME',\n",
              " 'Uint64',\n",
              " 'VisibleDeprecationWarning',\n",
              " 'WRAP',\n",
              " '_NoValue',\n",
              " '_UFUNC_API',\n",
              " '__NUMPY_SETUP__',\n",
              " '__all__',\n",
              " '__builtins__',\n",
              " '__cached__',\n",
              " '__config__',\n",
              " '__deprecated_attrs__',\n",
              " '__dir__',\n",
              " '__doc__',\n",
              " '__expired_functions__',\n",
              " '__file__',\n",
              " '__getattr__',\n",
              " '__git_version__',\n",
              " '__loader__',\n",
              " '__name__',\n",
              " '__package__',\n",
              " '__path__',\n",
              " '__spec__',\n",
              " '__version__',\n",
              " '_add_newdoc_ufunc',\n",
              " '_distributor_init',\n",
              " '_financial_names',\n",
              " '_globals',\n",
              " '_mat',\n",
              " '_pytesttester',\n",
              " '_version',\n",
              " 'abs',\n",
              " 'absolute',\n",
              " 'add',\n",
              " 'add_docstring',\n",
              " 'add_newdoc',\n",
              " 'add_newdoc_ufunc',\n",
              " 'alen',\n",
              " 'all',\n",
              " 'allclose',\n",
              " 'alltrue',\n",
              " 'amax',\n",
              " 'amin',\n",
              " 'angle',\n",
              " 'any',\n",
              " 'append',\n",
              " 'apply_along_axis',\n",
              " 'apply_over_axes',\n",
              " 'arange',\n",
              " 'arccos',\n",
              " 'arccosh',\n",
              " 'arcsin',\n",
              " 'arcsinh',\n",
              " 'arctan',\n",
              " 'arctan2',\n",
              " 'arctanh',\n",
              " 'argmax',\n",
              " 'argmin',\n",
              " 'argpartition',\n",
              " 'argsort',\n",
              " 'argwhere',\n",
              " 'around',\n",
              " 'array',\n",
              " 'array2string',\n",
              " 'array_equal',\n",
              " 'array_equiv',\n",
              " 'array_repr',\n",
              " 'array_split',\n",
              " 'array_str',\n",
              " 'asanyarray',\n",
              " 'asarray',\n",
              " 'asarray_chkfinite',\n",
              " 'ascontiguousarray',\n",
              " 'asfarray',\n",
              " 'asfortranarray',\n",
              " 'asmatrix',\n",
              " 'asscalar',\n",
              " 'atleast_1d',\n",
              " 'atleast_2d',\n",
              " 'atleast_3d',\n",
              " 'average',\n",
              " 'bartlett',\n",
              " 'base_repr',\n",
              " 'binary_repr',\n",
              " 'bincount',\n",
              " 'bitwise_and',\n",
              " 'bitwise_not',\n",
              " 'bitwise_or',\n",
              " 'bitwise_xor',\n",
              " 'blackman',\n",
              " 'block',\n",
              " 'bmat',\n",
              " 'bool8',\n",
              " 'bool_',\n",
              " 'broadcast',\n",
              " 'broadcast_arrays',\n",
              " 'broadcast_shapes',\n",
              " 'broadcast_to',\n",
              " 'busday_count',\n",
              " 'busday_offset',\n",
              " 'busdaycalendar',\n",
              " 'byte',\n",
              " 'byte_bounds',\n",
              " 'bytes0',\n",
              " 'bytes_',\n",
              " 'c_',\n",
              " 'can_cast',\n",
              " 'cast',\n",
              " 'cbrt',\n",
              " 'cdouble',\n",
              " 'ceil',\n",
              " 'cfloat',\n",
              " 'char',\n",
              " 'character',\n",
              " 'chararray',\n",
              " 'choose',\n",
              " 'clip',\n",
              " 'clongdouble',\n",
              " 'clongfloat',\n",
              " 'column_stack',\n",
              " 'common_type',\n",
              " 'compare_chararrays',\n",
              " 'compat',\n",
              " 'complex128',\n",
              " 'complex256',\n",
              " 'complex64',\n",
              " 'complex_',\n",
              " 'complexfloating',\n",
              " 'compress',\n",
              " 'concatenate',\n",
              " 'conj',\n",
              " 'conjugate',\n",
              " 'convolve',\n",
              " 'copy',\n",
              " 'copysign',\n",
              " 'copyto',\n",
              " 'core',\n",
              " 'corrcoef',\n",
              " 'correlate',\n",
              " 'cos',\n",
              " 'cosh',\n",
              " 'count_nonzero',\n",
              " 'cov',\n",
              " 'cross',\n",
              " 'csingle',\n",
              " 'ctypeslib',\n",
              " 'cumprod',\n",
              " 'cumproduct',\n",
              " 'cumsum',\n",
              " 'datetime64',\n",
              " 'datetime_as_string',\n",
              " 'datetime_data',\n",
              " 'deg2rad',\n",
              " 'degrees',\n",
              " 'delete',\n",
              " 'deprecate',\n",
              " 'deprecate_with_doc',\n",
              " 'diag',\n",
              " 'diag_indices',\n",
              " 'diag_indices_from',\n",
              " 'diagflat',\n",
              " 'diagonal',\n",
              " 'diff',\n",
              " 'digitize',\n",
              " 'disp',\n",
              " 'divide',\n",
              " 'divmod',\n",
              " 'dot',\n",
              " 'double',\n",
              " 'dsplit',\n",
              " 'dstack',\n",
              " 'dtype',\n",
              " 'e',\n",
              " 'ediff1d',\n",
              " 'einsum',\n",
              " 'einsum_path',\n",
              " 'emath',\n",
              " 'empty',\n",
              " 'empty_like',\n",
              " 'equal',\n",
              " 'errstate',\n",
              " 'euler_gamma',\n",
              " 'exp',\n",
              " 'exp2',\n",
              " 'expand_dims',\n",
              " 'expm1',\n",
              " 'expm1x',\n",
              " 'extract',\n",
              " 'eye',\n",
              " 'fabs',\n",
              " 'fastCopyAndTranspose',\n",
              " 'fft',\n",
              " 'fill_diagonal',\n",
              " 'find_common_type',\n",
              " 'finfo',\n",
              " 'fix',\n",
              " 'flatiter',\n",
              " 'flatnonzero',\n",
              " 'flexible',\n",
              " 'flip',\n",
              " 'fliplr',\n",
              " 'flipud',\n",
              " 'float128',\n",
              " 'float16',\n",
              " 'float32',\n",
              " 'float64',\n",
              " 'float_',\n",
              " 'float_power',\n",
              " 'floating',\n",
              " 'floor',\n",
              " 'floor_divide',\n",
              " 'fmax',\n",
              " 'fmin',\n",
              " 'fmod',\n",
              " 'format_float_positional',\n",
              " 'format_float_scientific',\n",
              " 'format_parser',\n",
              " 'frexp',\n",
              " 'frombuffer',\n",
              " 'fromfile',\n",
              " 'fromfunction',\n",
              " 'fromiter',\n",
              " 'frompyfunc',\n",
              " 'fromregex',\n",
              " 'fromstring',\n",
              " 'full',\n",
              " 'full_like',\n",
              " 'gcd',\n",
              " 'generic',\n",
              " 'genfromtxt',\n",
              " 'geomspace',\n",
              " 'get_array_wrap',\n",
              " 'get_include',\n",
              " 'get_printoptions',\n",
              " 'getbufsize',\n",
              " 'geterr',\n",
              " 'geterrcall',\n",
              " 'geterrobj',\n",
              " 'gradient',\n",
              " 'greater',\n",
              " 'greater_equal',\n",
              " 'half',\n",
              " 'hamming',\n",
              " 'hanning',\n",
              " 'heaviside',\n",
              " 'histogram',\n",
              " 'histogram2d',\n",
              " 'histogram_bin_edges',\n",
              " 'histogramdd',\n",
              " 'hsplit',\n",
              " 'hstack',\n",
              " 'hypot',\n",
              " 'i0',\n",
              " 'identity',\n",
              " 'iinfo',\n",
              " 'imag',\n",
              " 'in1d',\n",
              " 'index_exp',\n",
              " 'indices',\n",
              " 'inexact',\n",
              " 'inf',\n",
              " 'info',\n",
              " 'infty',\n",
              " 'inner',\n",
              " 'insert',\n",
              " 'int0',\n",
              " 'int16',\n",
              " 'int32',\n",
              " 'int64',\n",
              " 'int8',\n",
              " 'int_',\n",
              " 'intc',\n",
              " 'integer',\n",
              " 'interp',\n",
              " 'intersect1d',\n",
              " 'intp',\n",
              " 'invert',\n",
              " 'is_busday',\n",
              " 'isclose',\n",
              " 'iscomplex',\n",
              " 'iscomplexobj',\n",
              " 'isfinite',\n",
              " 'isfortran',\n",
              " 'isin',\n",
              " 'isinf',\n",
              " 'isnan',\n",
              " 'isnat',\n",
              " 'isneginf',\n",
              " 'isposinf',\n",
              " 'isreal',\n",
              " 'isrealobj',\n",
              " 'isscalar',\n",
              " 'issctype',\n",
              " 'issubclass_',\n",
              " 'issubdtype',\n",
              " 'issubsctype',\n",
              " 'iterable',\n",
              " 'ix_',\n",
              " 'kaiser',\n",
              " 'kernel_version',\n",
              " 'kron',\n",
              " 'lcm',\n",
              " 'ldexp',\n",
              " 'left_shift',\n",
              " 'less',\n",
              " 'less_equal',\n",
              " 'lexsort',\n",
              " 'lib',\n",
              " 'linalg',\n",
              " 'linspace',\n",
              " 'little_endian',\n",
              " 'load',\n",
              " 'loads',\n",
              " 'loadtxt',\n",
              " 'log',\n",
              " 'log10',\n",
              " 'log1p',\n",
              " 'log2',\n",
              " 'logaddexp',\n",
              " 'logaddexp2',\n",
              " 'logical_and',\n",
              " 'logical_not',\n",
              " 'logical_or',\n",
              " 'logical_xor',\n",
              " 'logspace',\n",
              " 'longcomplex',\n",
              " 'longdouble',\n",
              " 'longfloat',\n",
              " 'longlong',\n",
              " 'lookfor',\n",
              " 'ma',\n",
              " 'mafromtxt',\n",
              " 'mask_indices',\n",
              " 'mat',\n",
              " 'math',\n",
              " 'matmul',\n",
              " 'matrix',\n",
              " 'matrixlib',\n",
              " 'max',\n",
              " 'maximum',\n",
              " 'maximum_sctype',\n",
              " 'may_share_memory',\n",
              " 'mean',\n",
              " 'median',\n",
              " 'memmap',\n",
              " 'meshgrid',\n",
              " 'mgrid',\n",
              " 'min',\n",
              " 'min_scalar_type',\n",
              " 'minimum',\n",
              " 'mintypecode',\n",
              " 'mod',\n",
              " 'modf',\n",
              " 'moveaxis',\n",
              " 'msort',\n",
              " 'multiply',\n",
              " 'nan',\n",
              " 'nan_to_num',\n",
              " 'nanargmax',\n",
              " 'nanargmin',\n",
              " 'nancumprod',\n",
              " 'nancumsum',\n",
              " 'nanmax',\n",
              " 'nanmean',\n",
              " 'nanmedian',\n",
              " 'nanmin',\n",
              " 'nanpercentile',\n",
              " 'nanprod',\n",
              " 'nanquantile',\n",
              " 'nanstd',\n",
              " 'nansum',\n",
              " 'nanvar',\n",
              " 'nbytes',\n",
              " 'ndarray',\n",
              " 'ndenumerate',\n",
              " 'ndfromtxt',\n",
              " 'ndim',\n",
              " 'ndindex',\n",
              " 'nditer',\n",
              " 'negative',\n",
              " 'nested_iters',\n",
              " 'newaxis',\n",
              " 'nextafter',\n",
              " 'nonzero',\n",
              " 'not_equal',\n",
              " 'numarray',\n",
              " 'number',\n",
              " 'obj2sctype',\n",
              " 'object0',\n",
              " 'object_',\n",
              " 'ogrid',\n",
              " 'oldnumeric',\n",
              " 'ones',\n",
              " 'ones_like',\n",
              " 'os',\n",
              " 'outer',\n",
              " 'packbits',\n",
              " 'pad',\n",
              " 'partition',\n",
              " 'percentile',\n",
              " 'pi',\n",
              " 'piecewise',\n",
              " 'place',\n",
              " 'poly',\n",
              " 'poly1d',\n",
              " 'polyadd',\n",
              " 'polyder',\n",
              " 'polydiv',\n",
              " 'polyfit',\n",
              " 'polyint',\n",
              " 'polymul',\n",
              " 'polynomial',\n",
              " 'polysub',\n",
              " 'polyval',\n",
              " 'positive',\n",
              " 'power',\n",
              " 'printoptions',\n",
              " 'prod',\n",
              " 'product',\n",
              " 'promote_types',\n",
              " 'ptp',\n",
              " 'put',\n",
              " 'put_along_axis',\n",
              " 'putmask',\n",
              " 'quantile',\n",
              " 'r_',\n",
              " 'rad2deg',\n",
              " 'radians',\n",
              " 'random',\n",
              " 'ravel',\n",
              " 'ravel_multi_index',\n",
              " 'real',\n",
              " 'real_if_close',\n",
              " 'rec',\n",
              " 'recarray',\n",
              " 'recfromcsv',\n",
              " 'recfromtxt',\n",
              " 'reciprocal',\n",
              " 'record',\n",
              " 'remainder',\n",
              " 'repeat',\n",
              " 'require',\n",
              " 'reshape',\n",
              " 'resize',\n",
              " 'result_type',\n",
              " 'right_shift',\n",
              " 'rint',\n",
              " 'roll',\n",
              " 'rollaxis',\n",
              " 'roots',\n",
              " 'rot90',\n",
              " 'round',\n",
              " 'round_',\n",
              " 'row_stack',\n",
              " 's_',\n",
              " 'safe_eval',\n",
              " 'save',\n",
              " 'savetxt',\n",
              " 'savez',\n",
              " 'savez_compressed',\n",
              " 'sctype2char',\n",
              " 'sctypeDict',\n",
              " 'sctypes',\n",
              " 'searchsorted',\n",
              " 'select',\n",
              " 'set_numeric_ops',\n",
              " 'set_printoptions',\n",
              " 'set_string_function',\n",
              " 'setbufsize',\n",
              " 'setdiff1d',\n",
              " 'seterr',\n",
              " 'seterrcall',\n",
              " 'seterrobj',\n",
              " 'setxor1d',\n",
              " 'shape',\n",
              " 'shares_memory',\n",
              " 'short',\n",
              " 'show_config',\n",
              " 'sign',\n",
              " 'signbit',\n",
              " 'signedinteger',\n",
              " 'sin',\n",
              " 'sinc',\n",
              " 'single',\n",
              " 'singlecomplex',\n",
              " 'sinh',\n",
              " 'size',\n",
              " 'sometrue',\n",
              " 'sort',\n",
              " 'sort_complex',\n",
              " 'source',\n",
              " 'spacing',\n",
              " 'split',\n",
              " 'sqrt',\n",
              " 'square',\n",
              " 'squeeze',\n",
              " 'stack',\n",
              " 'std',\n",
              " 'str0',\n",
              " 'str_',\n",
              " 'string_',\n",
              " 'subtract',\n",
              " 'sum',\n",
              " 'swapaxes',\n",
              " 'sys',\n",
              " 'take',\n",
              " 'take_along_axis',\n",
              " 'tan',\n",
              " 'tanh',\n",
              " 'tensordot',\n",
              " 'test',\n",
              " 'testing',\n",
              " 'tile',\n",
              " 'timedelta64',\n",
              " 'trace',\n",
              " 'tracemalloc_domain',\n",
              " 'transpose',\n",
              " 'trapz',\n",
              " 'tri',\n",
              " 'tril',\n",
              " 'tril_indices',\n",
              " 'tril_indices_from',\n",
              " 'trim_zeros',\n",
              " 'triu',\n",
              " 'triu_indices',\n",
              " 'triu_indices_from',\n",
              " 'true_divide',\n",
              " 'trunc',\n",
              " 'typecodes',\n",
              " 'typename',\n",
              " 'ubyte',\n",
              " 'ufunc',\n",
              " 'uint',\n",
              " 'uint0',\n",
              " 'uint16',\n",
              " 'uint32',\n",
              " 'uint64',\n",
              " 'uint8',\n",
              " 'uintc',\n",
              " 'uintp',\n",
              " 'ulonglong',\n",
              " 'unicode_',\n",
              " 'union1d',\n",
              " 'unique',\n",
              " 'unpackbits',\n",
              " 'unravel_index',\n",
              " 'unsignedinteger',\n",
              " 'unwrap',\n",
              " 'use_hugepage',\n",
              " 'ushort',\n",
              " 'vander',\n",
              " 'var',\n",
              " 'vdot',\n",
              " 'vectorize',\n",
              " 'version',\n",
              " 'void',\n",
              " 'void0',\n",
              " 'vsplit',\n",
              " 'vstack',\n",
              " 'warnings',\n",
              " 'where',\n",
              " 'who',\n",
              " 'zeros',\n",
              " 'zeros_like']"
            ]
          },
          "metadata": {},
          "execution_count": 78
        }
      ]
    },
    {
      "cell_type": "code",
      "source": [
        "def funcion(a, b=1):\n",
        "    c = a + b\n",
        "    \n",
        "    return c\n",
        "\n",
        "c = funcion(1,2) #O funcion(a=1, b=2)\n",
        "print(c)\n",
        "c_def = funcion(1) #Al omitir el segundo parámetro (b), b tiene el valor por defecto (1). \n",
        "print(c_def)"
      ],
      "metadata": {
        "colab": {
          "base_uri": "https://localhost:8080/"
        },
        "id": "6KLrLMe4hpzL",
        "outputId": "0965dfd9-32e1-4fac-dd78-edda430d5394"
      },
      "execution_count": null,
      "outputs": [
        {
          "output_type": "stream",
          "name": "stdout",
          "text": [
            "3\n",
            "2\n"
          ]
        }
      ]
    },
    {
      "cell_type": "markdown",
      "source": [
        "Si omitimos el `return` de la función, no devolvería nada (es decir, devolvería `None`). `None` es una palabra reservada de Python que representa la ausencia de algo. Las variables pueden ser `None`, las listas pueden contener `None`, y las funciones, como vemos, pueden devolver `None`."
      ],
      "metadata": {
        "id": "JNDIocSMhzbZ"
      }
    },
    {
      "cell_type": "code",
      "source": [
        "def funcion(a, b=1):\n",
        "    c = a + b\n",
        "    \n",
        "    #return c\n",
        "\n",
        "c = funcion(1,2) #O funcion(a=1, b=2)\n",
        "print(c)\n",
        "c_def = funcion(1)\n",
        "print(c_def)"
      ],
      "metadata": {
        "colab": {
          "base_uri": "https://localhost:8080/"
        },
        "id": "gZV3AVTBh7t6",
        "outputId": "5aed4524-fb2c-4f87-bded-6bbd8fbcb456"
      },
      "execution_count": null,
      "outputs": [
        {
          "output_type": "stream",
          "name": "stdout",
          "text": [
            "None\n",
            "None\n"
          ]
        }
      ]
    },
    {
      "cell_type": "markdown",
      "source": [
        "Una función, en su `return`, puede devolver varios valores simultáneamente. Es decir, no está constreñida a devolver un único elemento. "
      ],
      "metadata": {
        "id": "M7MyscC0jQGB"
      }
    },
    {
      "cell_type": "code",
      "source": [
        "def funcion2(a, b=1):\n",
        "    a = a * b\n",
        "    c = a + b\n",
        "    \n",
        "    return [a,c]\n",
        "    \n",
        "a = 1;\n",
        "c = 10;\n",
        "a = funcion2(a,2) #O funcion(a=1, b=2)\n",
        "print(a)\n",
        "print(c)"
      ],
      "metadata": {
        "colab": {
          "base_uri": "https://localhost:8080/"
        },
        "id": "UMoTgl78jIio",
        "outputId": "b4e6a2fa-1f91-4119-c419-722f4515d66f"
      },
      "execution_count": null,
      "outputs": [
        {
          "output_type": "stream",
          "name": "stdout",
          "text": [
            "[2, 4]\n",
            "10\n"
          ]
        }
      ]
    },
    {
      "cell_type": "markdown",
      "source": [
        "Como curiosidad puramente técnica, y no particularmente trascendente en nuestras prácticas, si alguien quiere iterar sobre una secuencia, pero no quiere almacenarla en memoria, puede hacer uso de `yield`. `yield` viene a ser como `return`, pero devolviendo un generador. Esto puede ser de utilidad cuando sabemos que nuestra función devolverá un inmenso conjunto de valores que solo tendremos que leer una vez. Véase, por ejemplo, https://stackoverflow.com/questions/231767/what-does-the-yield-keyword-do o https://stackoverflow.com/questions/47789/generator-expressions-vs-list-comprehensions "
      ],
      "metadata": {
        "id": "WbXFmbBBsDes"
      }
    },
    {
      "cell_type": "code",
      "source": [
        "def iterarLista():\n",
        "  mylist = range(5)\n",
        "  myNewList = []\n",
        "  for i in mylist:\n",
        "    myNewList.append(i*i)\n",
        "  return myNewList\n",
        "\n",
        "def iterarGenerador():\n",
        "  mylist = range(5)\n",
        "  for i in mylist:\n",
        "    yield i*i\n",
        "\n",
        "miGenerador = iterarGenerador() \n",
        "print(type(miGenerador)) \n",
        "\n",
        "miLista = iterarLista() \n",
        "print(type(miLista)) \n",
        "\n",
        "for i in miGenerador:\n",
        "  print(i)\n",
        "\n",
        "for i in miLista:\n",
        "  print(i)"
      ],
      "metadata": {
        "colab": {
          "base_uri": "https://localhost:8080/"
        },
        "id": "d4-md8HJqd5a",
        "outputId": "234ea742-7d72-4e5b-a3d7-023c4f788145"
      },
      "execution_count": 10,
      "outputs": [
        {
          "output_type": "stream",
          "name": "stdout",
          "text": [
            "<class 'generator'>\n",
            "<class 'list'>\n",
            "0\n",
            "1\n",
            "4\n",
            "9\n",
            "16\n",
            "0\n",
            "1\n",
            "4\n",
            "9\n",
            "16\n"
          ]
        }
      ]
    },
    {
      "cell_type": "markdown",
      "source": [
        "Es también relevante conocer que existen métodos que son *in-place*. Es decir, no devuelven nada, modifican el objeto directamente, y no necesitan asignaciones. Véamos, por ejemplo, la función `sort`. "
      ],
      "metadata": {
        "id": "85or68E7iMGL"
      }
    },
    {
      "cell_type": "code",
      "source": [
        "a = [*range(5, 0, -1)] #* es el argument-unpacking operator, que permite desempaquetar el rango. De lo contrario, tendríamos como resultado: [range(5, 0, -1)]\n",
        "print(a)"
      ],
      "metadata": {
        "colab": {
          "base_uri": "https://localhost:8080/"
        },
        "id": "qE5QFhkaiaHp",
        "outputId": "a53c3cd7-3f2d-4a23-b435-6bb38c73099b"
      },
      "execution_count": null,
      "outputs": [
        {
          "output_type": "stream",
          "name": "stdout",
          "text": [
            "[5, 4, 3, 2, 1]\n"
          ]
        }
      ]
    },
    {
      "cell_type": "code",
      "source": [
        "a.sort()"
      ],
      "metadata": {
        "id": "k5Hf4OWKi-3B"
      },
      "execution_count": null,
      "outputs": []
    },
    {
      "cell_type": "code",
      "source": [
        "print(a)"
      ],
      "metadata": {
        "colab": {
          "base_uri": "https://localhost:8080/"
        },
        "id": "vy3IEfy3jBV5",
        "outputId": "344e308d-5740-4c12-d2d9-498d64e86712"
      },
      "execution_count": null,
      "outputs": [
        {
          "output_type": "stream",
          "name": "stdout",
          "text": [
            "[1, 2, 3, 4, 5]\n"
          ]
        }
      ]
    },
    {
      "cell_type": "markdown",
      "source": [
        "## Atención a la hora de realizar asignaciones"
      ],
      "metadata": {
        "id": "OtRKFhFfjkxq"
      }
    },
    {
      "cell_type": "code",
      "source": [
        "some_guy = 'Fred'\n",
        "first_names = []\n",
        "first_names.append(some_guy)\n",
        "print(first_names)"
      ],
      "metadata": {
        "colab": {
          "base_uri": "https://localhost:8080/"
        },
        "id": "55v5FUv7jnRU",
        "outputId": "96e1342b-cb0a-4cb8-993e-4807c3790a5d"
      },
      "execution_count": null,
      "outputs": [
        {
          "output_type": "stream",
          "name": "stdout",
          "text": [
            "['Fred']\n"
          ]
        }
      ]
    },
    {
      "cell_type": "code",
      "source": [
        "another_list_of_names = first_names"
      ],
      "metadata": {
        "id": "5bMhdUfZjswC"
      },
      "execution_count": null,
      "outputs": []
    },
    {
      "cell_type": "markdown",
      "source": [
        "Ahora, en este punto, ambas variables (`another_list_of_names` y `first_names`) están ligadas al mismo objeto. El string object (`some_guy`) y el list object (`first_names`) siguen siendo los únicos objetos creados por el intérprete de Python. Y esto lo podemos verificar fácilmente usando la función `id`"
      ],
      "metadata": {
        "id": "c1kLh7ZsjtjR"
      }
    },
    {
      "cell_type": "code",
      "source": [
        "print(id(another_list_of_names) == id(first_names))\n",
        "print(id(some_guy))\n",
        "print(id(first_names))\n",
        "print(id(another_list_of_names))"
      ],
      "metadata": {
        "colab": {
          "base_uri": "https://localhost:8080/"
        },
        "id": "AEDZbqFxj63L",
        "outputId": "c09834e2-4692-46b0-8f19-c68fa26f5e8c"
      },
      "execution_count": null,
      "outputs": [
        {
          "output_type": "stream",
          "name": "stdout",
          "text": [
            "True\n",
            "139819317853296\n",
            "139819329615936\n",
            "139819329615936\n"
          ]
        }
      ]
    },
    {
      "cell_type": "markdown",
      "source": [
        "Es decir, si ahora hacemos"
      ],
      "metadata": {
        "id": "xGZq2qT8kH85"
      }
    },
    {
      "cell_type": "code",
      "source": [
        "another_list_of_names.append('George')"
      ],
      "metadata": {
        "id": "_SwE-VV_kJtR"
      },
      "execution_count": null,
      "outputs": []
    },
    {
      "cell_type": "markdown",
      "source": [
        "Estamos modificando tanto `another_list_of_names` como `first_names` porque son el mismo objeto. "
      ],
      "metadata": {
        "id": "QOVwTIJXkMmZ"
      }
    },
    {
      "cell_type": "code",
      "source": [
        "print(some_guy, first_names, another_list_of_names)"
      ],
      "metadata": {
        "colab": {
          "base_uri": "https://localhost:8080/"
        },
        "id": "zRJ0AdT5kw5K",
        "outputId": "1db5872a-dd1f-4c0d-cf37-bb18c6a4eea4"
      },
      "execution_count": null,
      "outputs": [
        {
          "output_type": "stream",
          "name": "stdout",
          "text": [
            "Fred ['Fred', 'George'] ['Fred', 'George']\n"
          ]
        }
      ]
    },
    {
      "cell_type": "markdown",
      "source": [
        "¿Y de qué modo se puede solventar este problema? Con el uso de la función `copy`"
      ],
      "metadata": {
        "id": "JGgnz7a1k60B"
      }
    },
    {
      "cell_type": "code",
      "source": [
        "another_list_of_names2 = first_names.copy()\n",
        "another_list_of_names2.append('Pablo')\n",
        "\n",
        "print(some_guy, first_names, another_list_of_names, another_list_of_names2)"
      ],
      "metadata": {
        "colab": {
          "base_uri": "https://localhost:8080/"
        },
        "id": "giBS_85glABb",
        "outputId": "b7b8d9ff-4785-44a3-81dd-d3cc4938a76a"
      },
      "execution_count": null,
      "outputs": [
        {
          "output_type": "stream",
          "name": "stdout",
          "text": [
            "Fred ['Fred', 'George'] ['Fred', 'George'] ['Fred', 'George', 'Pablo']\n"
          ]
        }
      ]
    },
    {
      "cell_type": "markdown",
      "source": [
        "## Objetos mutables e inmutables"
      ],
      "metadata": {
        "id": "wVZlWHYVlSbi"
      }
    },
    {
      "cell_type": "markdown",
      "source": [
        "Como ya mencionamos antes, hay elementos que son inmutables (como una tupla), y otros que son mutables (como las listas). No obstante, debemos saber que un objeto “inmutable” puede “mutar” si contiene objetos “mutables”. Veamos un ejemplo: "
      ],
      "metadata": {
        "id": "W1upshGUlU0L"
      }
    },
    {
      "cell_type": "code",
      "source": [
        "first_names = ['Fred', 'George', 'Bill']\n",
        "last_names = ['Smith', 'Jones', 'Williams']\n",
        "name_tuple = (first_names, last_names)\n",
        "\n",
        "print(name_tuple)\n",
        "\n",
        "first_names.append('Igor')\n",
        "\n",
        "print(first_names)\n",
        "\n",
        "print(name_tuple)"
      ],
      "metadata": {
        "colab": {
          "base_uri": "https://localhost:8080/"
        },
        "id": "xepRz0HelViL",
        "outputId": "11f1c0b1-5327-48a1-e794-e51556f1041c"
      },
      "execution_count": null,
      "outputs": [
        {
          "output_type": "stream",
          "name": "stdout",
          "text": [
            "(['Fred', 'George', 'Bill'], ['Smith', 'Jones', 'Williams'])\n",
            "['Fred', 'George', 'Bill', 'Igor']\n",
            "(['Fred', 'George', 'Bill', 'Igor'], ['Smith', 'Jones', 'Williams'])\n"
          ]
        }
      ]
    },
    {
      "cell_type": "markdown",
      "source": [
        "Comentamos todo esto porque el comportamiento de las funciones varía dependiendo de si operan sobre objetos mutables o inmutables. Y esto determina que se comporten como si se pasasen las variables por valor o por referencia. "
      ],
      "metadata": {
        "id": "mDTjlg8Ym76s"
      }
    },
    {
      "cell_type": "markdown",
      "source": [
        "### Comportamiento de paso por referencia"
      ],
      "metadata": {
        "id": "vo7yHcIBnX1j"
      }
    },
    {
      "cell_type": "code",
      "source": [
        "def foo(bar):\n",
        "    bar.append(42)\n",
        "    print(bar)\n",
        "    \n",
        "answer_list = []\n",
        "foo(answer_list)\n",
        "print(answer_list)   "
      ],
      "metadata": {
        "colab": {
          "base_uri": "https://localhost:8080/"
        },
        "id": "9T488xT7nVSM",
        "outputId": "4da84bd2-14db-4f2a-a2b5-3e4b2d577408"
      },
      "execution_count": null,
      "outputs": [
        {
          "output_type": "stream",
          "name": "stdout",
          "text": [
            "[42]\n",
            "[42]\n"
          ]
        }
      ]
    },
    {
      "cell_type": "markdown",
      "source": [
        "Si `bar` se refiere a un objeto mutable (como una lista), y `foo` cambia su valor, entonces estos cambios serán visibles fuera de la función. Es decir, esto se asemeja al comportamiento de paso por referencia. "
      ],
      "metadata": {
        "id": "yBtKOW5SnaiC"
      }
    },
    {
      "cell_type": "markdown",
      "source": [
        "### Comportamiento de paso por valor"
      ],
      "metadata": {
        "id": "gmWcpeeBnxUY"
      }
    },
    {
      "cell_type": "code",
      "source": [
        "def foo(bar):\n",
        "    bar = 'new value'\n",
        "    print (bar)\n",
        "    # >> 'new value'\n",
        "\n",
        "answer_list = []\n",
        "foo(answer_list)\n",
        "print(answer_list)\n",
        "# >> 'old value'"
      ],
      "metadata": {
        "colab": {
          "base_uri": "https://localhost:8080/"
        },
        "id": "2nUeMCyrn0qA",
        "outputId": "76ba1226-0ce2-4632-e038-56af337d77e2"
      },
      "execution_count": null,
      "outputs": [
        {
          "output_type": "stream",
          "name": "stdout",
          "text": [
            "new value\n",
            "[]\n"
          ]
        }
      ]
    },
    {
      "cell_type": "markdown",
      "source": [
        "Si `bar` se refiere a un objeto inmutable (como un string), lo máximo que puede hacer `foo` es crear una variable interna `bar` y ligarla a algún otro objeto. Esto se asemeja al comportamiento de paso por valor. "
      ],
      "metadata": {
        "id": "TqXt7P3enz3I"
      }
    },
    {
      "cell_type": "markdown",
      "source": [
        "Este comportamiento dual se llama \"Call by Object Reference\" o \"Call by Assignment\". "
      ],
      "metadata": {
        "id": "xT568Wj-qu8g"
      }
    },
    {
      "cell_type": "markdown",
      "source": [
        "Veamos un último ejemplo, que combina todas estas ideas. "
      ],
      "metadata": {
        "id": "pM0JxxU3rBdB"
      }
    },
    {
      "cell_type": "code",
      "source": [
        "def spam(eggs):\n",
        "        eggs.append(1)\n",
        "        eggs = [2, 3]\n",
        "        print(eggs)\n",
        "\n",
        "ham = [0]\n",
        "spam(ham)\n",
        "print(ham)"
      ],
      "metadata": {
        "colab": {
          "base_uri": "https://localhost:8080/"
        },
        "id": "mbOkh6PHrFKS",
        "outputId": "4d5c9180-56e4-4cb7-d177-eb48dbde0355"
      },
      "execution_count": null,
      "outputs": [
        {
          "output_type": "stream",
          "name": "stdout",
          "text": [
            "[2, 3]\n",
            "[0, 1]\n"
          ]
        }
      ]
    },
    {
      "cell_type": "markdown",
      "source": [
        "En el ejemplo anterior: \n",
        "\n",
        "\n",
        "*   Cuando se llama a `spam`, `eggs` y `ham` apuntan al mismo valor: $[0]$. De hecho, usando `id`, es fácil comprobar que ambos objetos tienen el mismo identificador. Es decir, son el mismo objeto. \n",
        "*  Cuando hacemos `eggs.append(1)`, $[0]$ se convierte en $[0,1]$\n",
        "*  Pero cuando hacemos `eggs = [2, 3]`, `eggs` pasa a apuntar a una nueva lista en memoria que contiene $[2,3]$. En cambio, `ham` apunta todavía a la lista $[0,1]$. \n",
        "\n"
      ],
      "metadata": {
        "id": "dmzvDG6vrIZa"
      }
    },
    {
      "cell_type": "markdown",
      "source": [
        "## Lambda functions"
      ],
      "metadata": {
        "id": "YkOk_7UfsvKK"
      }
    },
    {
      "cell_type": "markdown",
      "source": [
        "Permiten emplear funciones de una forma tremendamente concisa. "
      ],
      "metadata": {
        "id": "Jw5GIRQtsyWi"
      }
    },
    {
      "cell_type": "code",
      "source": [
        "raiz_cuadrada = lambda x: x**(1/2)\n",
        "print(raiz_cuadrada(4))\n",
        "\n",
        "def raiz_cuadrada2(x):\n",
        "    return x**(1/2)\n",
        "print(raiz_cuadrada2(4))"
      ],
      "metadata": {
        "colab": {
          "base_uri": "https://localhost:8080/"
        },
        "id": "T_ljuh_Ds4EJ",
        "outputId": "5e2090f7-5c79-4a64-95f4-0f777c4089fa"
      },
      "execution_count": null,
      "outputs": [
        {
          "output_type": "stream",
          "name": "stdout",
          "text": [
            "2.0\n",
            "2.0\n"
          ]
        }
      ]
    },
    {
      "cell_type": "code",
      "source": [
        "suma = lambda x, y: x + y\n",
        "suma(2, 3)\n",
        "\n"
      ],
      "metadata": {
        "colab": {
          "base_uri": "https://localhost:8080/"
        },
        "id": "LKS0qusNtEXh",
        "outputId": "c3d198b9-acb3-4825-ee9b-3dcbde802022"
      },
      "execution_count": null,
      "outputs": [
        {
          "output_type": "execute_result",
          "data": {
            "text/plain": [
              "5"
            ]
          },
          "metadata": {},
          "execution_count": 116
        }
      ]
    },
    {
      "cell_type": "code",
      "source": [
        "funcion_compuesta = lambda x, func: x + func(x)\n",
        "funcion_compuesta(3, lambda x: x ** 2)"
      ],
      "metadata": {
        "colab": {
          "base_uri": "https://localhost:8080/"
        },
        "id": "09qC6i7MtGyk",
        "outputId": "b1802ad7-4b45-4d89-feb4-62cc16f59c77"
      },
      "execution_count": null,
      "outputs": [
        {
          "output_type": "execute_result",
          "data": {
            "text/plain": [
              "12"
            ]
          },
          "metadata": {},
          "execution_count": 117
        }
      ]
    },
    {
      "cell_type": "markdown",
      "source": [
        "# Clases"
      ],
      "metadata": {
        "id": "2-YHvGM7thcJ"
      }
    },
    {
      "cell_type": "markdown",
      "source": [
        "Python es un lenguaje orientado a objetos en donde, como es lógico, existe la posibilidad de definir nuestras propias clases, métodos y objetos. "
      ],
      "metadata": {
        "id": "odKUEr53uo9n"
      }
    },
    {
      "cell_type": "code",
      "source": [
        "class Clase():\n",
        "    def __init__(self, a): \n",
        "      # __init__() no es un constructor (__new__()): es llamado inmediatamente después de que el objeto haya sido creado y se usa para inicializarlo\n",
        "      # No olvidéis el self. self no es una palabra reservada: podríais usar this o myself, por ejemplo, aunque no se recomienda por ser una convención fuertemente aceptada.\n",
        "        self.a = a\n",
        "        \n",
        "    def llamar(self, b):\n",
        "        return self.a*b\n",
        "    \n",
        "# Clase2 hereda los métodos de Clase\n",
        "class Clase2(Clase):\n",
        "    def __init__(self, a, b=2.0):\n",
        "        super().__init__(a)\n",
        "        self.b=b\n",
        "\n",
        "    # Sobreescribe el método llamar()    \n",
        "    def llamar(self, c):\n",
        "        return self.a*self.b*c\n",
        "    \n",
        "    def __call__(self, c):\n",
        "        return self.llamar(c)\n",
        "    \n",
        "c = 3\n",
        "clase2 = Clase2(a = 1)\n",
        "d = clase2.llamar(c)\n",
        "print(d)"
      ],
      "metadata": {
        "colab": {
          "base_uri": "https://localhost:8080/"
        },
        "id": "_LErS28gtvRC",
        "outputId": "ee75731f-1853-4a2c-eae4-6070693de29c"
      },
      "execution_count": null,
      "outputs": [
        {
          "output_type": "stream",
          "name": "stdout",
          "text": [
            "6.0\n"
          ]
        }
      ]
    },
    {
      "cell_type": "markdown",
      "source": [
        "Más ejemplos con clases en Python:"
      ],
      "metadata": {
        "id": "cE43vbOwuQJi"
      }
    },
    {
      "cell_type": "code",
      "source": [
        "class Animal(object):\n",
        "    def __init__(self, species, age): # Constructor `a = Animal(‘bird’, 10)`\n",
        "        self.species = species # Refer to instance with `self`\n",
        "        self.age = age # All instance variables are public\n",
        "    \n",
        "    def isPerson(self): # Invoked with `a.isPerson()`\n",
        "        return self.species == 'Homo Sapiens'\n",
        "\n",
        "    def ageOneYear(self):\n",
        "        self.age += 1\n",
        "\n",
        "class Dog(Animal): # Inherits Animal’s methods\n",
        "    def ageOneYear(self): # Override for dog years\n",
        "        self.age += 7\n",
        "\n",
        "a = Dog(species = 'labrador', age = 6)\n",
        "print(a.isPerson())\n",
        "a.ageOneYear()\n",
        "print(a.age)"
      ],
      "metadata": {
        "colab": {
          "base_uri": "https://localhost:8080/"
        },
        "id": "uHAqfgHouT-p",
        "outputId": "c6b6c8f6-199e-48ac-d139-7a88e07b7215"
      },
      "execution_count": null,
      "outputs": [
        {
          "output_type": "stream",
          "name": "stdout",
          "text": [
            "False\n",
            "13\n"
          ]
        }
      ]
    },
    {
      "cell_type": "code",
      "source": [
        "class Point(object):\n",
        "    def __init__(self,x = 0,y = 0):\n",
        "        self.x = x\n",
        "        self.y = y\n",
        "\n",
        "    def distance(self):\n",
        "        \"\"\"Find distance from origin\"\"\"\n",
        "        return (self.x**2 + self.y**2) ** 0.5\n",
        "    \n",
        "p1 = Point(6,8)\n",
        "\n",
        "# Si p1 es una instancia de P (i.e. un objeto): p1.meth(arg) y P.meth(p1, arg) son formas equivalentes de llamar a un método\n",
        "print(p1.distance())\n",
        "\n",
        "print(Point.distance(p1))\n",
        "\n",
        "print(type(Point.distance))\n",
        "\n",
        "print(type(p1.distance))"
      ],
      "metadata": {
        "colab": {
          "base_uri": "https://localhost:8080/"
        },
        "id": "kphAe3u7vnEY",
        "outputId": "8fd41b4c-f778-4c07-97b8-8af14d425b17"
      },
      "execution_count": null,
      "outputs": [
        {
          "output_type": "stream",
          "name": "stdout",
          "text": [
            "10.0\n",
            "10.0\n",
            "<class 'function'>\n",
            "<class 'method'>\n"
          ]
        }
      ]
    },
    {
      "cell_type": "code",
      "source": [
        "class A(object):\n",
        "    @staticmethod # si quitamos esta línea daría error\n",
        "    def stat_meth():\n",
        "        print(\"Aqui no estamos pasando self\")\n",
        "        \n",
        "a = A()\n",
        "a.stat_meth()"
      ],
      "metadata": {
        "colab": {
          "base_uri": "https://localhost:8080/"
        },
        "id": "nUlKHt37wLpI",
        "outputId": "af1fcf69-db88-423a-cf85-5138a5b6e60b"
      },
      "execution_count": null,
      "outputs": [
        {
          "output_type": "stream",
          "name": "stdout",
          "text": [
            "Aqui no estamos pasando self\n"
          ]
        }
      ]
    },
    {
      "cell_type": "markdown",
      "source": [
        "# Formateo de salida"
      ],
      "metadata": {
        "id": "vhlsKPSBtivQ"
      }
    },
    {
      "cell_type": "markdown",
      "source": [
        "Existen múltiples posibilidades en Python para enriquecer la salida impresa (https://docs.python.org/3/tutorial/inputoutput.html). "
      ],
      "metadata": {
        "id": "waiFoftGwoqv"
      }
    },
    {
      "cell_type": "code",
      "source": [
        "print('Valor real de 1/3', 1/3, sep=' : ')\n",
        "print('Valor real de 1/3 : ' + str(1/3))\n",
        "print('Valor real de 1/3 : {} '.format(1/3))\n",
        "print('Resultado 1 – {} | Resultado 2 – {}'.format(1/3, 1/5))\n",
        "print('Resultado 1 – {0:5.3f} | Resultado  2 – {1:5d}'.format(1/3, 25))\n",
        "print('Resultado 1 – {1:8d} | Resultado 2 – {0:7.4f}'.format(1/3, 25))\n",
        "name = 'John'\n",
        "surname = 'Doe'\n",
        "age = '96'\n",
        "f'My name is {name} {surname} and I am {age} years old'"
      ],
      "metadata": {
        "colab": {
          "base_uri": "https://localhost:8080/",
          "height": 145
        },
        "id": "kx95nL9cwt7h",
        "outputId": "5fff4a48-dcea-409a-c37f-4b0dd79b225c"
      },
      "execution_count": null,
      "outputs": [
        {
          "output_type": "stream",
          "name": "stdout",
          "text": [
            "Valor real de 1/3 : 0.3333333333333333\n",
            "Valor real de 1/3 : 0.3333333333333333\n",
            "Valor real de 1/3 : 0.3333333333333333 \n",
            "Resultado 1 – 0.3333333333333333 | Resultado 2 – 0.2\n",
            "Resultado 1 – 0.333 | Resultado  2 –    25\n",
            "Resultado 1 –       25 | Resultado 2 –  0.3333\n"
          ]
        },
        {
          "output_type": "execute_result",
          "data": {
            "text/plain": [
              "'My name is John Doe and I am 96 years old'"
            ],
            "application/vnd.google.colaboratory.intrinsic+json": {
              "type": "string"
            }
          },
          "metadata": {},
          "execution_count": 141
        }
      ]
    },
    {
      "cell_type": "markdown",
      "source": [
        "Con Python también podemos formatear las expresiones matemáticas como si usásemos LaTeX. En el siguiente enlace podéis encontrar mucha información al respecto: https://nbviewer.org/github/ipython/ipython/blob/2.x/examples/Notebook/Display%20System.ipynb#LaTeX "
      ],
      "metadata": {
        "id": "xGrdNc6RzeVw"
      }
    },
    {
      "cell_type": "code",
      "source": [
        "from IPython.display import display, Latex, Math\n",
        "a = r'f(x) = \\frac{\\exp(-x^2/2)}{\\sqrt{2\\cdot\\pi}}'\n",
        "display(Math(a))\n",
        "for i in range(3):\n",
        "    display(Math(f'$x_{i}$'))"
      ],
      "metadata": {
        "colab": {
          "base_uri": "https://localhost:8080/",
          "height": 124
        },
        "id": "Umjzua_tzkdJ",
        "outputId": "130d3d2b-962f-41d0-9194-ccc0a5b11a05"
      },
      "execution_count": null,
      "outputs": [
        {
          "output_type": "display_data",
          "data": {
            "text/plain": [
              "<IPython.core.display.Math object>"
            ],
            "text/latex": "$\\displaystyle f(x) = \\frac{\\exp(-x^2/2)}{\\sqrt{2\\cdot\\pi}}$"
          },
          "metadata": {}
        },
        {
          "output_type": "display_data",
          "data": {
            "text/plain": [
              "<IPython.core.display.Math object>"
            ],
            "text/latex": "$\\displaystyle x_0$"
          },
          "metadata": {}
        },
        {
          "output_type": "display_data",
          "data": {
            "text/plain": [
              "<IPython.core.display.Math object>"
            ],
            "text/latex": "$\\displaystyle x_1$"
          },
          "metadata": {}
        },
        {
          "output_type": "display_data",
          "data": {
            "text/plain": [
              "<IPython.core.display.Math object>"
            ],
            "text/latex": "$\\displaystyle x_2$"
          },
          "metadata": {}
        }
      ]
    },
    {
      "cell_type": "code",
      "source": [
        "#Se puede usar indistintamente Math o Latex\n",
        "display(Latex(r'2 \\cdot  \\begin{bmatrix} 1 \\\\ -2 \\\\ \\end{bmatrix} -1 \\cdot \\begin{bmatrix} 2 \\\\ -3 \\\\ \\end{bmatrix} = \\begin{bmatrix} 0 \\\\ -1 \\\\ \\end{bmatrix}'))"
      ],
      "metadata": {
        "colab": {
          "base_uri": "https://localhost:8080/",
          "height": 58
        },
        "id": "Wn94Xr8s3e2Y",
        "outputId": "e46354c2-4217-480c-e14b-29fe8cfc4abb"
      },
      "execution_count": null,
      "outputs": [
        {
          "output_type": "display_data",
          "data": {
            "text/plain": [
              "<IPython.core.display.Latex object>"
            ],
            "text/latex": "2 \\cdot  \\begin{bmatrix} 1 \\\\ -2 \\\\ \\end{bmatrix} -1 \\cdot \\begin{bmatrix} 2 \\\\ -3 \\\\ \\end{bmatrix} = \\begin{bmatrix} 0 \\\\ -1 \\\\ \\end{bmatrix}"
          },
          "metadata": {}
        }
      ]
    },
    {
      "cell_type": "markdown",
      "source": [
        "Si lo que queremos es escribir fórmulas LaTeX en una celda de texto de un Notebook, podemos hacerlo directamente: \n",
        "\n",
        "`$2 \\cdot  \\begin{bmatrix} 1 \\\\ -2 \\\\ \\end{bmatrix} -1 \\cdot \\begin{bmatrix} 2 \\\\ -3 \\\\ \\end{bmatrix} = \\begin{bmatrix} 0 \\\\ -1 \\\\ \\end{bmatrix}$`\n",
        "\n",
        "$2 \\cdot  \\begin{bmatrix} 1 \\\\ -2 \\\\ \\end{bmatrix} -1 \\cdot \\begin{bmatrix} 2 \\\\ -3 \\\\ \\end{bmatrix} = \\begin{bmatrix} 0 \\\\ -1 \\\\ \\end{bmatrix}$\n",
        "\n",
        "`$f(x) = \\frac{\\exp(-x^2/2)}{\\sqrt{2\\cdot\\pi}}$`\n",
        "\n",
        "$f(x) = \\frac{\\exp(-x^2/2)}{\\sqrt{2\\cdot\\pi}}$"
      ],
      "metadata": {
        "id": "Vm06AAyw4mRH"
      }
    },
    {
      "cell_type": "markdown",
      "source": [
        "Cabe mencionar que, junto con el manejo y gestión de las salidas, Python también posee instrucciones, como `input`, que permiten la entrada de datos a un programa. `input` se queda esperando hasta que el usuario introduce algo por teclado."
      ],
      "metadata": {
        "id": "5I7EYhWnQSTE"
      }
    },
    {
      "cell_type": "code",
      "source": [
        "while True: #Ponemos este while y la estructura try-except para asegurarnos de que el usuario introduce un número\n",
        "  try:\n",
        "    inputText = float(input('Introduce un número: '))\n",
        "    print('Te devuelvo el doble del número que has introducido: ', 2*inputText)\n",
        "    break\n",
        "  except:\n",
        "    print('No has introducido un número, tal y como te pedía')"
      ],
      "metadata": {
        "colab": {
          "base_uri": "https://localhost:8080/"
        },
        "id": "d1TlQA5jQqht",
        "outputId": "e0a7b40a-19b5-4274-9277-e4920fd3c41a"
      },
      "execution_count": null,
      "outputs": [
        {
          "output_type": "stream",
          "name": "stdout",
          "text": [
            "Introduce un número: a\n",
            "No has introducido un número, tal y como te pedía\n",
            "Introduce un número: 1\n",
            "Te devuelvo el doble del número que has introducido:  2.0\n"
          ]
        }
      ]
    },
    {
      "cell_type": "markdown",
      "source": [
        "# Depurando código"
      ],
      "metadata": {
        "id": "G1D1e_oRxfc4"
      }
    },
    {
      "cell_type": "markdown",
      "source": [
        "El primer consejo es que imprimáis tamaños, tipos e identificadores de las variables para comprender perfectamente qué está haciendo vuestro código. "
      ],
      "metadata": {
        "id": "cSkafKpf2OJI"
      }
    },
    {
      "cell_type": "code",
      "source": [
        "import numpy as np\n",
        "\n",
        "def funcion1(x):\n",
        "    x.append(1)\n",
        "    print(np.shape(x))\n",
        "    print(len(x))\n",
        "    print(type(x))\n",
        "    print(dir(x))\n",
        "    x = (2,3)\n",
        "    print(np.shape(x))\n",
        "    print(len(x))\n",
        "    print(type(x))\n",
        "    print(dir(x))\n",
        "    \n",
        "y = [0, 1, 2, 3, 4, 5]\n",
        "funcion1(y)"
      ],
      "metadata": {
        "colab": {
          "base_uri": "https://localhost:8080/"
        },
        "id": "pJDaAGW6w6Xw",
        "outputId": "128a2565-073b-49f9-a94f-6219fc7e280f"
      },
      "execution_count": null,
      "outputs": [
        {
          "output_type": "stream",
          "name": "stdout",
          "text": [
            "(7,)\n",
            "7\n",
            "<class 'list'>\n",
            "['__add__', '__class__', '__contains__', '__delattr__', '__delitem__', '__dir__', '__doc__', '__eq__', '__format__', '__ge__', '__getattribute__', '__getitem__', '__gt__', '__hash__', '__iadd__', '__imul__', '__init__', '__init_subclass__', '__iter__', '__le__', '__len__', '__lt__', '__mul__', '__ne__', '__new__', '__reduce__', '__reduce_ex__', '__repr__', '__reversed__', '__rmul__', '__setattr__', '__setitem__', '__sizeof__', '__str__', '__subclasshook__', 'append', 'clear', 'copy', 'count', 'extend', 'index', 'insert', 'pop', 'remove', 'reverse', 'sort']\n",
            "(2,)\n",
            "2\n",
            "<class 'tuple'>\n",
            "['__add__', '__class__', '__contains__', '__delattr__', '__dir__', '__doc__', '__eq__', '__format__', '__ge__', '__getattribute__', '__getitem__', '__getnewargs__', '__gt__', '__hash__', '__init__', '__init_subclass__', '__iter__', '__le__', '__len__', '__lt__', '__mul__', '__ne__', '__new__', '__reduce__', '__reduce_ex__', '__repr__', '__rmul__', '__setattr__', '__sizeof__', '__str__', '__subclasshook__', 'count', 'index']\n"
          ]
        }
      ]
    },
    {
      "cell_type": "markdown",
      "source": [
        "Por otro lado, hay una serie de funciones que os pueden ayudar a:\n",
        "\n",
        "\n",
        "*   Verificar si dos arrays son aproximadamente iguales: `np.allclose(x, y)`\n",
        "*   Verificar si un array es próximo a $0$ (p.ej. el gradiente): `np.allclose(x, 0)`\n",
        "*   Seleccionar todos los elementos menores o iguales a $0$ (u otro valor) en un array: `x[x <= 0]`\n"
      ],
      "metadata": {
        "id": "LVvIIUjN4_R3"
      }
    },
    {
      "cell_type": "code",
      "source": [
        "import numpy as np\n",
        "x = np.zeros((1,25))\n",
        "z = np.repeat([1.e-05], 25)\n",
        "print(np.allclose(x,z,atol=1.e-05))\n",
        "\n",
        "print(np.allclose(x,z,atol=1.e-06))\n",
        "\n",
        "z = np.repeat([1.e-05, 0, 3], 10)\n",
        "print('z = ', z)\n",
        "\n",
        "print(z[z<=0]) #Get values\n",
        "\n",
        "print(z<=0) #Get boolean values about the condition\n",
        "\n",
        "print([i for i in range(len(z)) if z[i] <= 0]) #Get indexes"
      ],
      "metadata": {
        "colab": {
          "base_uri": "https://localhost:8080/"
        },
        "id": "cZnkLUTW5V44",
        "outputId": "c5929137-01f0-4ba5-a0d7-1ee3ce692046"
      },
      "execution_count": null,
      "outputs": [
        {
          "output_type": "stream",
          "name": "stdout",
          "text": [
            "True\n",
            "False\n",
            "z =  [1.e-05 1.e-05 1.e-05 1.e-05 1.e-05 1.e-05 1.e-05 1.e-05 1.e-05 1.e-05\n",
            " 0.e+00 0.e+00 0.e+00 0.e+00 0.e+00 0.e+00 0.e+00 0.e+00 0.e+00 0.e+00\n",
            " 3.e+00 3.e+00 3.e+00 3.e+00 3.e+00 3.e+00 3.e+00 3.e+00 3.e+00 3.e+00]\n",
            "[0. 0. 0. 0. 0. 0. 0. 0. 0. 0.]\n",
            "[False False False False False False False False False False  True  True\n",
            "  True  True  True  True  True  True  True  True False False False False\n",
            " False False False False False False]\n",
            "[10, 11, 12, 13, 14, 15, 16, 17, 18, 19]\n"
          ]
        }
      ]
    },
    {
      "cell_type": "markdown",
      "source": [
        "También, llegado el caso, es recomendable usar el debugger de Python. Se puede añadir un breakpoint por medio de `pdb.set_trace()`. Y, durante la ejecución del algoritmo, se puede ir imprimiendo y visualizando los valores de las variables. Los principales comandos a ejecutar con el debugger se pueden encontrar en https://zohaib.me/debugging-in-google-collab-notebook/:\n",
        "\n",
        "\n",
        "*   $c$: para continuar la ejecución hasta encontrar otro breakpoint\n",
        "*   $s$: para ejecutar la siguiente línea de código\n",
        "*   $q$: para parar inmediatamente la ejecución del debugger \n",
        "\n"
      ],
      "metadata": {
        "id": "DuFjVYqG7wwo"
      }
    },
    {
      "cell_type": "code",
      "source": [
        "def foo():\n",
        "    names = ['A', 'B', 'C']\n",
        "    values = [11,12,13]\n",
        "    i = 0\n",
        "    import pdb; pdb.set_trace()\n",
        "    for n in names:\n",
        "        variable = str(n)  + ' = ' + str(values[i])\n",
        "        print(variable)\n",
        "        i += 1\n",
        "\n",
        "foo()"
      ],
      "metadata": {
        "colab": {
          "base_uri": "https://localhost:8080/"
        },
        "id": "YZjqWzzL7XaB",
        "outputId": "5343ef5e-b8cc-4510-c153-7040b22f4c9d"
      },
      "execution_count": null,
      "outputs": [
        {
          "output_type": "stream",
          "name": "stdout",
          "text": [
            "> <ipython-input-4-ac434db350d1>(6)foo()\n",
            "-> for n in names:\n",
            "(Pdb) values\n",
            "[11, 12, 13]\n",
            "(Pdb) names\n",
            "['A', 'B', 'C']\n",
            "(Pdb) i\n",
            "0\n",
            "(Pdb) s\n",
            "> <ipython-input-4-ac434db350d1>(7)foo()\n",
            "-> variable = str(n)  + ' = ' + str(values[i])\n",
            "(Pdb) s\n",
            "> <ipython-input-4-ac434db350d1>(8)foo()\n",
            "-> print(variable)\n",
            "(Pdb) variable\n",
            "'A = 11'\n",
            "(Pdb) c\n",
            "A = 11\n",
            "B = 12\n",
            "C = 13\n"
          ]
        }
      ]
    },
    {
      "cell_type": "markdown",
      "source": [
        "# Primeros pasos con NumPy"
      ],
      "metadata": {
        "id": "-hr0317ODPFt"
      }
    },
    {
      "cell_type": "markdown",
      "source": [
        "NumPy es el paquete principal en Python para manejar arrays N-dimensionales de forma eficiente. Proporciona herramientas para integrar código C/C++/Fortran, e incluye funciones para realizar operaciones matriciales, álgebra lineal, transformaciones de Fourier, y generación de números aleatorios.\n",
        "\n",
        "Como ya se vio al comienzo de este Notebook, importamos el paquete con `import numpy`. Se recomienda usar `import numpy as np` para poder llamarla con `np`."
      ],
      "metadata": {
        "id": "mn87yi5JDTpM"
      }
    },
    {
      "cell_type": "code",
      "source": [
        "import numpy as np"
      ],
      "metadata": {
        "id": "qdlKBsI2DyuE"
      },
      "execution_count": null,
      "outputs": []
    },
    {
      "cell_type": "markdown",
      "source": [
        "## En primer lugar, ¿realmente necesitamos NumPy? ¿Por qué no usar simplemente listas de Python?"
      ],
      "metadata": {
        "id": "YqvmC43mX6lO"
      }
    },
    {
      "cell_type": "markdown",
      "source": [
        "En términos generales, NumPy presenta una mayor rapidez de ejecución. Junto con lo anterior, tiene muchas más funciones disponibles, incluyendo funciones de generación de datos, proporcionando una mayor flexibilidad y rapidez en la implementación. Veamos, por ejemplo, qué ocurre si queremos dividir una lista de números por un determinado valor:\n",
        "\n"
      ],
      "metadata": {
        "id": "F6pd8s9sYAds"
      }
    },
    {
      "cell_type": "code",
      "source": [
        "y = [3,6,9,12]\n",
        "y/3.0"
      ],
      "metadata": {
        "colab": {
          "base_uri": "https://localhost:8080/",
          "height": 190
        },
        "id": "k5i1d7lyYRrc",
        "outputId": "b1fa569f-5b19-4f7f-ad16-229c06e1944e"
      },
      "execution_count": null,
      "outputs": [
        {
          "output_type": "error",
          "ename": "TypeError",
          "evalue": "ignored",
          "traceback": [
            "\u001b[0;31m---------------------------------------------------------------------------\u001b[0m",
            "\u001b[0;31mTypeError\u001b[0m                                 Traceback (most recent call last)",
            "\u001b[0;32m<ipython-input-15-d5b90f969daf>\u001b[0m in \u001b[0;36m<module>\u001b[0;34m\u001b[0m\n\u001b[1;32m      1\u001b[0m \u001b[0my\u001b[0m \u001b[0;34m=\u001b[0m \u001b[0;34m[\u001b[0m\u001b[0;36m3\u001b[0m\u001b[0;34m,\u001b[0m\u001b[0;36m6\u001b[0m\u001b[0;34m,\u001b[0m\u001b[0;36m9\u001b[0m\u001b[0;34m,\u001b[0m\u001b[0;36m12\u001b[0m\u001b[0;34m]\u001b[0m\u001b[0;34m\u001b[0m\u001b[0;34m\u001b[0m\u001b[0m\n\u001b[0;32m----> 2\u001b[0;31m \u001b[0my\u001b[0m\u001b[0;34m/\u001b[0m\u001b[0;36m3.0\u001b[0m\u001b[0;34m\u001b[0m\u001b[0;34m\u001b[0m\u001b[0m\n\u001b[0m",
            "\u001b[0;31mTypeError\u001b[0m: unsupported operand type(s) for /: 'list' and 'float'"
          ]
        }
      ]
    },
    {
      "cell_type": "markdown",
      "source": [
        "En este caso concreto, por ejemplo, habría que recorrer la lista, elemento a elemento, y dividir por el número correspondiente:"
      ],
      "metadata": {
        "id": "zexC-BnTYalH"
      }
    },
    {
      "cell_type": "code",
      "source": [
        "y = [3,6,9,12]\n",
        "new_y = []\n",
        "for number in y:\n",
        "  new_y.append(number/3)\n",
        "print(new_y)"
      ],
      "metadata": {
        "colab": {
          "base_uri": "https://localhost:8080/"
        },
        "id": "grOnXJh2YgbH",
        "outputId": "ebeeb75f-e214-4d0f-c2f9-b072eccf30a9"
      },
      "execution_count": null,
      "outputs": [
        {
          "output_type": "stream",
          "name": "stdout",
          "text": [
            "[1.0, 2.0, 3.0, 4.0]\n"
          ]
        }
      ]
    },
    {
      "cell_type": "markdown",
      "source": [
        "En cambio, con NumPy sería tan sencillo como"
      ],
      "metadata": {
        "id": "QY3aTS9cYqZc"
      }
    },
    {
      "cell_type": "code",
      "source": [
        "np.array([3,6,9,12])/3.0"
      ],
      "metadata": {
        "colab": {
          "base_uri": "https://localhost:8080/"
        },
        "id": "xpm6gUCdYt1N",
        "outputId": "51db51b2-9754-4333-f366-fca0f23cfef4"
      },
      "execution_count": null,
      "outputs": [
        {
          "output_type": "execute_result",
          "data": {
            "text/plain": [
              "array([1., 2., 3., 4.])"
            ]
          },
          "metadata": {},
          "execution_count": 17
        }
      ]
    },
    {
      "cell_type": "markdown",
      "source": [
        "## Funciones básicas"
      ],
      "metadata": {
        "id": "qF2E7aUaIZGy"
      }
    },
    {
      "cell_type": "markdown",
      "source": [
        "Hay numerosas formas de crear un array de NumPy. Se puede crear un array vacío (`np.empty`), uno con ceros (`np.zeros`), con unos (`np.ones`), con la misma forma y tipo que otro (`np.empty_like`, `np.zeros_like`, `np.ones_like`), con valores aleatorios (`np.random.uniform`), con valores concretos (`np.array`), etc. "
      ],
      "metadata": {
        "id": "vZygZaSZD8qc"
      }
    },
    {
      "cell_type": "markdown",
      "source": [
        "Veamos algunos ejemplos. Podría interesarnos crear un array con 5 unos de tipo float. Esto podría hacerse del modo siguiente"
      ],
      "metadata": {
        "id": "GV-vCTHrExn7"
      }
    },
    {
      "cell_type": "code",
      "source": [
        "array1 = np.ones((1,5),np.float64)\n",
        "array1"
      ],
      "metadata": {
        "colab": {
          "base_uri": "https://localhost:8080/"
        },
        "id": "KTLp5PnVD1p0",
        "outputId": "88cc5952-86b9-400e-d905-0577dee262a0"
      },
      "execution_count": null,
      "outputs": [
        {
          "output_type": "execute_result",
          "data": {
            "text/plain": [
              "array([[1., 1., 1., 1., 1.]])"
            ]
          },
          "metadata": {},
          "execution_count": 3
        }
      ]
    },
    {
      "cell_type": "markdown",
      "source": [
        "Ahora podríamos necesitar crear un array del mismo tamaño y tipo, pero con ceros:"
      ],
      "metadata": {
        "id": "vV4CE-XFFH8b"
      }
    },
    {
      "cell_type": "code",
      "source": [
        "new_array1 = np.zeros_like(array1)\n",
        "new_array1"
      ],
      "metadata": {
        "colab": {
          "base_uri": "https://localhost:8080/"
        },
        "id": "2v1MxMw4FMmi",
        "outputId": "1d52dc4b-213d-44fe-ad6f-806ae3bda4fe"
      },
      "execution_count": null,
      "outputs": [
        {
          "output_type": "execute_result",
          "data": {
            "text/plain": [
              "array([[0., 0., 0., 0., 0.]])"
            ]
          },
          "metadata": {},
          "execution_count": 4
        }
      ]
    },
    {
      "cell_type": "markdown",
      "source": [
        "También podríamos crear un array con los valores concretos que nos interesen: "
      ],
      "metadata": {
        "id": "QPjlzb-CFT0D"
      }
    },
    {
      "cell_type": "code",
      "source": [
        "x = np.array([2,3,1,0])"
      ],
      "metadata": {
        "id": "gdonm0T8FXxj"
      },
      "execution_count": null,
      "outputs": []
    },
    {
      "cell_type": "markdown",
      "source": [
        "A continuació,n podemos ver cómo se crea un array con 5 valores reales aleatorios en un determinado intervalo (en este caso, $-10$ y $10$):"
      ],
      "metadata": {
        "id": "DYEw-uzlFcwD"
      }
    },
    {
      "cell_type": "code",
      "source": [
        "np.random.uniform(-10,10,(1,5))"
      ],
      "metadata": {
        "colab": {
          "base_uri": "https://localhost:8080/"
        },
        "id": "JWAnoq2MFmVL",
        "outputId": "c88f1ca6-99ab-474e-9943-189e649a943d"
      },
      "execution_count": null,
      "outputs": [
        {
          "output_type": "execute_result",
          "data": {
            "text/plain": [
              "array([[-8.31002088,  5.27579596,  8.43648959, -3.564452  ,  5.92173957]])"
            ]
          },
          "metadata": {},
          "execution_count": 6
        }
      ]
    },
    {
      "cell_type": "markdown",
      "source": [
        "Y el funcionamiento y filosofía es el mismo con números enteros: "
      ],
      "metadata": {
        "id": "bw_3_WOYY3um"
      }
    },
    {
      "cell_type": "code",
      "source": [
        "np.random.randint(-10,10,(1,5))"
      ],
      "metadata": {
        "colab": {
          "base_uri": "https://localhost:8080/"
        },
        "id": "7H1bDTdtY6wG",
        "outputId": "eefcaf39-5997-4436-dc80-ed196d67b0d1"
      },
      "execution_count": null,
      "outputs": [
        {
          "output_type": "execute_result",
          "data": {
            "text/plain": [
              "array([[ 8, -9,  4,  6,  6]])"
            ]
          },
          "metadata": {},
          "execution_count": 33
        }
      ]
    },
    {
      "cell_type": "markdown",
      "source": [
        "En muchos casos, lo que interesa es crear un rango ordenado de valores (por ejemplo, en caso de que nos interesa recorrer los índices de una lista o alguna otra estructura de datos):"
      ],
      "metadata": {
        "id": "g8Bs0S37Fuz6"
      }
    },
    {
      "cell_type": "code",
      "source": [
        "np.arange(1,20,1)"
      ],
      "metadata": {
        "colab": {
          "base_uri": "https://localhost:8080/"
        },
        "id": "2Cnkwk_pF10L",
        "outputId": "428cb68a-dc0c-4027-a39c-83666db23248"
      },
      "execution_count": null,
      "outputs": [
        {
          "output_type": "execute_result",
          "data": {
            "text/plain": [
              "array([ 1,  2,  3,  4,  5,  6,  7,  8,  9, 10, 11, 12, 13, 14, 15, 16, 17,\n",
              "       18, 19])"
            ]
          },
          "metadata": {},
          "execution_count": 7
        }
      ]
    },
    {
      "cell_type": "markdown",
      "source": [
        "Lo que hemos hecho es crear un array ordenado de elementos comenzando en el $1$ y terminando en $20-1$ con un paso de $1$."
      ],
      "metadata": {
        "id": "q66pzRk4F4M7"
      }
    },
    {
      "cell_type": "markdown",
      "source": [
        "Si hiciésemos `np.arange(20)` estaríamos haciendo lo mismo, pero empezando desde $0$:"
      ],
      "metadata": {
        "id": "LXBJO-gfGHcT"
      }
    },
    {
      "cell_type": "code",
      "source": [
        "np.arange(20)"
      ],
      "metadata": {
        "colab": {
          "base_uri": "https://localhost:8080/"
        },
        "id": "QWZYZ79kGM_b",
        "outputId": "64e38a30-6f1e-44c3-d862-85ecc279949e"
      },
      "execution_count": null,
      "outputs": [
        {
          "output_type": "execute_result",
          "data": {
            "text/plain": [
              "array([ 0,  1,  2,  3,  4,  5,  6,  7,  8,  9, 10, 11, 12, 13, 14, 15, 16,\n",
              "       17, 18, 19])"
            ]
          },
          "metadata": {},
          "execution_count": 8
        }
      ]
    },
    {
      "cell_type": "markdown",
      "source": [
        "Ahora vamos a crear un array de 4 elementos enteros y vamos a cambiarle la forma:"
      ],
      "metadata": {
        "id": "Sou6JouSG427"
      }
    },
    {
      "cell_type": "code",
      "source": [
        "array2 = np.zeros((4,),np.int64)\n",
        "array2"
      ],
      "metadata": {
        "colab": {
          "base_uri": "https://localhost:8080/"
        },
        "id": "5mVIS84EG9Gc",
        "outputId": "308e7ef7-46dd-4cdf-c010-55a673e7462c"
      },
      "execution_count": null,
      "outputs": [
        {
          "output_type": "execute_result",
          "data": {
            "text/plain": [
              "array([0, 0, 0, 0])"
            ]
          },
          "metadata": {},
          "execution_count": 28
        }
      ]
    },
    {
      "cell_type": "code",
      "source": [
        "array2 = array2.reshape((-1,2))\n",
        "array2"
      ],
      "metadata": {
        "colab": {
          "base_uri": "https://localhost:8080/"
        },
        "id": "lSezSWiLHF3b",
        "outputId": "61549be3-611a-45a9-c4a9-eeb087a81ec4"
      },
      "execution_count": null,
      "outputs": [
        {
          "output_type": "execute_result",
          "data": {
            "text/plain": [
              "array([[0, 0],\n",
              "       [0, 0]])"
            ]
          },
          "metadata": {},
          "execution_count": 29
        }
      ]
    },
    {
      "cell_type": "markdown",
      "source": [
        "El $-1$ empleado en la llamada anterior se podría traducir por 'desconocido'. Es decir, queremos que el array reformateado tenga dos columnas (porque se lo indicamos explícitamente: $2$) y las filas que sean. \n",
        "\n",
        "La función `reshape` nos permite cambiar la forma de un array siempre y cuando las nuevas dimensiones lo permitan. Por ejemplo, no sería posible convertir un array de 10 elementos a una matriz de 4x2, como se ve a continuación."
      ],
      "metadata": {
        "id": "uHGD6dE_HJjj"
      }
    },
    {
      "cell_type": "code",
      "source": [
        "a = np.zeros(10)\n",
        "a.reshape((2,4))"
      ],
      "metadata": {
        "colab": {
          "base_uri": "https://localhost:8080/",
          "height": 190
        },
        "id": "qV8JvcW2HZ0D",
        "outputId": "80c08d11-1d48-4dce-f071-8a8be53ae227"
      },
      "execution_count": null,
      "outputs": [
        {
          "output_type": "error",
          "ename": "ValueError",
          "evalue": "ignored",
          "traceback": [
            "\u001b[0;31m---------------------------------------------------------------------------\u001b[0m",
            "\u001b[0;31mValueError\u001b[0m                                Traceback (most recent call last)",
            "\u001b[0;32m<ipython-input-32-53da6ac11b22>\u001b[0m in \u001b[0;36m<module>\u001b[0;34m\u001b[0m\n\u001b[1;32m      1\u001b[0m \u001b[0ma\u001b[0m \u001b[0;34m=\u001b[0m \u001b[0mnp\u001b[0m\u001b[0;34m.\u001b[0m\u001b[0mzeros\u001b[0m\u001b[0;34m(\u001b[0m\u001b[0;36m10\u001b[0m\u001b[0;34m)\u001b[0m\u001b[0;34m\u001b[0m\u001b[0;34m\u001b[0m\u001b[0m\n\u001b[0;32m----> 2\u001b[0;31m \u001b[0ma\u001b[0m\u001b[0;34m.\u001b[0m\u001b[0mreshape\u001b[0m\u001b[0;34m(\u001b[0m\u001b[0;34m(\u001b[0m\u001b[0;36m2\u001b[0m\u001b[0;34m,\u001b[0m\u001b[0;36m4\u001b[0m\u001b[0;34m)\u001b[0m\u001b[0;34m)\u001b[0m\u001b[0;34m\u001b[0m\u001b[0;34m\u001b[0m\u001b[0m\n\u001b[0m",
            "\u001b[0;31mValueError\u001b[0m: cannot reshape array of size 10 into shape (2,4)"
          ]
        }
      ]
    },
    {
      "cell_type": "markdown",
      "source": [
        "Si ahora consultamos la forma de `array2` veremos que, efectivamente, es una matriz de 2$\\times$2"
      ],
      "metadata": {
        "id": "dJRhpHfJICDj"
      }
    },
    {
      "cell_type": "code",
      "source": [
        "array2.shape"
      ],
      "metadata": {
        "colab": {
          "base_uri": "https://localhost:8080/"
        },
        "id": "mDG3Y5z1IKU6",
        "outputId": "8ef470e1-6957-4a55-eff4-0bbdd372abaa"
      },
      "execution_count": null,
      "outputs": [
        {
          "output_type": "execute_result",
          "data": {
            "text/plain": [
              "(2, 2)"
            ]
          },
          "metadata": {},
          "execution_count": 20
        }
      ]
    },
    {
      "cell_type": "markdown",
      "source": [
        "También podemos consultar el tipo de dato empleado en el array"
      ],
      "metadata": {
        "id": "aZzTOfyzIUSy"
      }
    },
    {
      "cell_type": "code",
      "source": [
        "array2.dtype"
      ],
      "metadata": {
        "colab": {
          "base_uri": "https://localhost:8080/"
        },
        "id": "kZxumtKRIiNz",
        "outputId": "0add5490-0f03-4f64-9bc0-64ffb839c11e"
      },
      "execution_count": null,
      "outputs": [
        {
          "output_type": "execute_result",
          "data": {
            "text/plain": [
              "dtype('int64')"
            ]
          },
          "metadata": {},
          "execution_count": 21
        }
      ]
    },
    {
      "cell_type": "markdown",
      "source": [
        "Con esto ya sabemos que tenemos una matriz de 2$\\times$2 con enteros de 64 bits. "
      ],
      "metadata": {
        "id": "12foRZcmInY6"
      }
    },
    {
      "cell_type": "markdown",
      "source": [
        "Los arrays en NumPy, como era de esperar, se pueden trasponer con facilidad:"
      ],
      "metadata": {
        "id": "a8S0gM8XI367"
      }
    },
    {
      "cell_type": "code",
      "source": [
        "a = np.array([(0.1, 1), (0.1, 2), (0.1, 3), (0.1, 4), (0.1, 5)])\n",
        "a"
      ],
      "metadata": {
        "colab": {
          "base_uri": "https://localhost:8080/"
        },
        "id": "PH9QSxOnJBIK",
        "outputId": "b5670875-83fe-4034-d3b6-8a67d4d6d089"
      },
      "execution_count": null,
      "outputs": [
        {
          "output_type": "execute_result",
          "data": {
            "text/plain": [
              "array([[0.1, 1. ],\n",
              "       [0.1, 2. ],\n",
              "       [0.1, 3. ],\n",
              "       [0.1, 4. ],\n",
              "       [0.1, 5. ]])"
            ]
          },
          "metadata": {},
          "execution_count": 79
        }
      ]
    },
    {
      "cell_type": "markdown",
      "source": [
        "Por medio de la función `transpose`:"
      ],
      "metadata": {
        "id": "Tc86QRnOSl7W"
      }
    },
    {
      "cell_type": "code",
      "source": [
        "a.transpose()"
      ],
      "metadata": {
        "colab": {
          "base_uri": "https://localhost:8080/"
        },
        "id": "UxiS8Ue6JUFi",
        "outputId": "4a776e25-00d8-4533-bc53-399d6f840fcc"
      },
      "execution_count": null,
      "outputs": [
        {
          "output_type": "execute_result",
          "data": {
            "text/plain": [
              "array([[0.1, 0.1, 0.1, 0.1, 0.1],\n",
              "       [1. , 2. , 3. , 4. , 5. ]])"
            ]
          },
          "metadata": {},
          "execution_count": 80
        }
      ]
    },
    {
      "cell_type": "markdown",
      "source": [
        "Por medio del atributo `T`:"
      ],
      "metadata": {
        "id": "3rHoCKLoSuhk"
      }
    },
    {
      "cell_type": "code",
      "source": [
        "a.T"
      ],
      "metadata": {
        "colab": {
          "base_uri": "https://localhost:8080/"
        },
        "id": "p3PJrr1GJXE5",
        "outputId": "bdbf3a1c-263d-4751-bda4-3ab0b7f8aabb"
      },
      "execution_count": null,
      "outputs": [
        {
          "output_type": "execute_result",
          "data": {
            "text/plain": [
              "array([[0.1, 0.1, 0.1, 0.1, 0.1],\n",
              "       [1. , 2. , 3. , 4. , 5. ]])"
            ]
          },
          "metadata": {},
          "execution_count": 81
        }
      ]
    },
    {
      "cell_type": "markdown",
      "source": [
        "Por medio de la función `swapaxes(0,1)`, en donde intercambiamos filas por columnas:"
      ],
      "metadata": {
        "id": "cu8AV3U1STvn"
      }
    },
    {
      "cell_type": "code",
      "source": [
        "a.swapaxes(0,1)"
      ],
      "metadata": {
        "colab": {
          "base_uri": "https://localhost:8080/"
        },
        "id": "fcS4IgNvS3b3",
        "outputId": "cd53ee93-d02b-413e-82ee-4a2042dfb657"
      },
      "execution_count": null,
      "outputs": [
        {
          "output_type": "execute_result",
          "data": {
            "text/plain": [
              "array([[0.1, 0.1, 0.1, 0.1, 0.1],\n",
              "       [1. , 2. , 3. , 4. , 5. ]])"
            ]
          },
          "metadata": {},
          "execution_count": 82
        }
      ]
    },
    {
      "cell_type": "markdown",
      "source": [
        "Veamos ahora un caso singular. Imaginemos que tenemos un vector fila:"
      ],
      "metadata": {
        "id": "mCR7FbzrJpA6"
      }
    },
    {
      "cell_type": "code",
      "source": [
        "a = np.array([1,2,3])\n",
        "a"
      ],
      "metadata": {
        "colab": {
          "base_uri": "https://localhost:8080/"
        },
        "id": "uHWM6KM1Jr8i",
        "outputId": "300104f3-67e2-4625-9349-95b6a5127987"
      },
      "execution_count": null,
      "outputs": [
        {
          "output_type": "execute_result",
          "data": {
            "text/plain": [
              "array([1, 2, 3])"
            ]
          },
          "metadata": {},
          "execution_count": 29
        }
      ]
    },
    {
      "cell_type": "markdown",
      "source": [
        "Y queremos trasponerlo:"
      ],
      "metadata": {
        "id": "nMv9AMPKJv5a"
      }
    },
    {
      "cell_type": "code",
      "source": [
        "a.transpose()"
      ],
      "metadata": {
        "colab": {
          "base_uri": "https://localhost:8080/"
        },
        "id": "UTq7heakJ3UK",
        "outputId": "1c1b5ffe-9361-499b-a3f5-80e88915bf32"
      },
      "execution_count": null,
      "outputs": [
        {
          "output_type": "execute_result",
          "data": {
            "text/plain": [
              "array([1, 2, 3])"
            ]
          },
          "metadata": {},
          "execution_count": 30
        }
      ]
    },
    {
      "cell_type": "markdown",
      "source": [
        "¿Por qué no ha cambiado nada? Porque necesitamos otra dimensión más (otros corchetes `[]`) sobre la que realizar la trasposición. Esto se puede hacer de varias maneras. "
      ],
      "metadata": {
        "id": "99ib1MF6J5ZC"
      }
    },
    {
      "cell_type": "markdown",
      "source": [
        "La primera es forzar la dimensión que te interesa directamente"
      ],
      "metadata": {
        "id": "K4heDeeSKOEZ"
      }
    },
    {
      "cell_type": "code",
      "source": [
        "a.shape = (1,3)\n",
        "a"
      ],
      "metadata": {
        "colab": {
          "base_uri": "https://localhost:8080/"
        },
        "id": "hJGZy35xKEKx",
        "outputId": "4d7ed16f-9f7c-40b8-9c8b-c12d0656203b"
      },
      "execution_count": null,
      "outputs": [
        {
          "output_type": "execute_result",
          "data": {
            "text/plain": [
              "array([[1, 2, 3]])"
            ]
          },
          "metadata": {},
          "execution_count": 34
        }
      ]
    },
    {
      "cell_type": "code",
      "source": [
        "a.T"
      ],
      "metadata": {
        "colab": {
          "base_uri": "https://localhost:8080/"
        },
        "id": "lecbAdG0KZCh",
        "outputId": "30ce090d-54f8-4629-a9b4-abb92f0ac5c0"
      },
      "execution_count": null,
      "outputs": [
        {
          "output_type": "execute_result",
          "data": {
            "text/plain": [
              "array([[1],\n",
              "       [2],\n",
              "       [3]])"
            ]
          },
          "metadata": {},
          "execution_count": 35
        }
      ]
    },
    {
      "cell_type": "markdown",
      "source": [
        "Otra opción es usar `np.newaxis`:"
      ],
      "metadata": {
        "id": "aLaTkKFBKahC"
      }
    },
    {
      "cell_type": "code",
      "source": [
        "a = np.array([1,2,3])\n",
        "print(a)\n",
        "print(a.shape)\n",
        "print(a.T)\n",
        "print('--- Tras aplicar np.newaxis ---')\n",
        "a = a[np.newaxis,:]\n",
        "print(a)\n",
        "print(a.shape)\n",
        "print(a.T)"
      ],
      "metadata": {
        "colab": {
          "base_uri": "https://localhost:8080/"
        },
        "id": "2Cx1ktqPKebZ",
        "outputId": "eaf3094d-baad-43f1-ccef-8140edbfdec3"
      },
      "execution_count": null,
      "outputs": [
        {
          "output_type": "stream",
          "name": "stdout",
          "text": [
            "[1 2 3]\n",
            "(3,)\n",
            "[1 2 3]\n",
            "--- Tras aplicar np.newaxis ---\n",
            "[[1 2 3]]\n",
            "(1, 3)\n",
            "[[1]\n",
            " [2]\n",
            " [3]]\n"
          ]
        }
      ]
    },
    {
      "cell_type": "markdown",
      "source": [
        "## Estadísticas"
      ],
      "metadata": {
        "id": "Ibeppb4GLAli"
      }
    },
    {
      "cell_type": "markdown",
      "source": [
        "NumPy presenta funciones para calcular el mínimo, máximo, media, media ponderada, desviación típica, mediana, etc. de un array."
      ],
      "metadata": {
        "id": "Ufj3RW47LB65"
      }
    },
    {
      "cell_type": "code",
      "source": [
        "x = np.array([2,3,1,0])\n",
        "print('La media de', x, 'es:', x.mean())\n",
        "print('Y la posición en donde se encuentra el mínimo es:', x.argmin())\n",
        "print('De hecho, el mínimo de este array es el valor:',x[x.argmin()])"
      ],
      "metadata": {
        "colab": {
          "base_uri": "https://localhost:8080/"
        },
        "id": "UHMe5YmVLNpg",
        "outputId": "c5e4c444-c701-477c-91f7-01558ac60212"
      },
      "execution_count": null,
      "outputs": [
        {
          "output_type": "stream",
          "name": "stdout",
          "text": [
            "La media de [2 3 1 0] es: 1.5\n",
            "Y la posición en donde se encuentra el mínimo es: 3\n",
            "De hecho, el mínimo de este array es el valor: 0\n"
          ]
        }
      ]
    },
    {
      "cell_type": "markdown",
      "source": [
        "Estas funciones operan en los ejes que se les indique. "
      ],
      "metadata": {
        "id": "lZNI_WU9LzCp"
      }
    },
    {
      "cell_type": "code",
      "source": [
        "x = np.array([[2,3,1,0], [0,0,0,0]])\n",
        "print(x)\n",
        "print('La media por columnas es:',x.mean(0))\n",
        "print('La media por filas es:',x.mean(1))"
      ],
      "metadata": {
        "colab": {
          "base_uri": "https://localhost:8080/"
        },
        "id": "vJmMYINqL2y6",
        "outputId": "4e6b7769-65c1-4102-efcb-5dbf14149b67"
      },
      "execution_count": null,
      "outputs": [
        {
          "output_type": "stream",
          "name": "stdout",
          "text": [
            "[[2 3 1 0]\n",
            " [0 0 0 0]]\n",
            "La media por columnas es: [1.  1.5 0.5 0. ]\n",
            "La media por filas es: [1.5 0. ]\n"
          ]
        }
      ]
    },
    {
      "cell_type": "markdown",
      "source": [
        "El código y resultado anterior nos permite concluir que:\n",
        "\n",
        "\n",
        "*   si se usa la dimensión $0$ realizamos la operación por columnas, es decir, recorriendo las filas (de cada columna). \n",
        "*   si se usa la dimensión $1$ realizamos la operación por filas, es decir, recorriendo las columnas (de cada fila). \n",
        "\n"
      ],
      "metadata": {
        "id": "fnRQgIgqMoKh"
      }
    },
    {
      "cell_type": "markdown",
      "source": [
        "Si no especificamos la dimensión sobre la que se realiza la operación, dicha operación se realizaría sobre todas las dimensiones (es decir, se realizará el cálculo con todos los elementos de la matriz). "
      ],
      "metadata": {
        "id": "JGx0GMgwNJqY"
      }
    },
    {
      "cell_type": "code",
      "source": [
        "x = np.array([[2,3,1,0], [0,0,0,0]])\n",
        "print(x)\n",
        "print('La media es:',x.mean())\n",
        "print('El mínimo es:',x.min())\n",
        "print('La suma es:',x.sum())"
      ],
      "metadata": {
        "colab": {
          "base_uri": "https://localhost:8080/"
        },
        "id": "am998JxNNSJX",
        "outputId": "37731caa-ffc1-4197-cbac-41426f9855a8"
      },
      "execution_count": null,
      "outputs": [
        {
          "output_type": "stream",
          "name": "stdout",
          "text": [
            "[[2 3 1 0]\n",
            " [0 0 0 0]]\n",
            "La media es: 0.75\n",
            "El mínimo es: 0\n",
            "La suma es: 6\n"
          ]
        }
      ]
    },
    {
      "cell_type": "markdown",
      "source": [
        "Las funciones `any` y `all` suelen ser de gran utilidad. Permiten verificar si, en la matriz, algún elemento es verdadero (es decir, distinto de $0$ o $False$) o si todos lo son, respectivamente. "
      ],
      "metadata": {
        "id": "4ILVgHh9N_ER"
      }
    },
    {
      "cell_type": "code",
      "source": [
        "x = np.random.randint(2, size=10)\n",
        "print(x)\n",
        "print('¿Hay algún valor Verdadero?', x.any())\n",
        "print('¿Son todos los valores Verdadero?', x.all())\n",
        "\n",
        "x = np.random.randint(2, size=(5,6))\n",
        "x[:,0]=np.ones((x.shape[0],)) #En este ejemplo de juguete forzamos a que la primera columna contenga solo unos\n",
        "print(x)\n",
        "print('¿Hay algún valor Verdadero?', x.any(0))\n",
        "print('¿Son todos los valores Verdadero?', x.all(0))"
      ],
      "metadata": {
        "colab": {
          "base_uri": "https://localhost:8080/"
        },
        "id": "RSSH-fo7OMDA",
        "outputId": "e4ca3c37-1111-4b75-bbfc-3465aec256bb"
      },
      "execution_count": null,
      "outputs": [
        {
          "output_type": "stream",
          "name": "stdout",
          "text": [
            "[0 1 1 1 0 0 1 1 1 0]\n",
            "¿Hay algún valor Verdadero? True\n",
            "¿Son todos los valores Verdadero? False\n",
            "[[1 0 0 0 0 1]\n",
            " [1 0 0 1 1 0]\n",
            " [1 1 1 0 1 0]\n",
            " [1 0 0 1 1 1]\n",
            " [1 0 1 0 0 0]]\n",
            "¿Hay algún valor Verdadero? [ True  True  True  True  True  True]\n",
            "¿Son todos los valores Verdadero? [ True False False False False False]\n"
          ]
        }
      ]
    },
    {
      "cell_type": "markdown",
      "source": [
        "Y todas estas funciones tienen su complemento para gestionar NaNs. Si se usa `np.nan<función>`, los valores NaN se ignoran o tratan como ceros. Veamos algunos ejemplos:"
      ],
      "metadata": {
        "id": "XFma0w1aPyDY"
      }
    },
    {
      "cell_type": "code",
      "source": [
        "x = np.array([1, np.nan, 2, np.nan, 2, np.nan, 3, np.nan, np.nan])\n",
        "print(x)"
      ],
      "metadata": {
        "colab": {
          "base_uri": "https://localhost:8080/"
        },
        "id": "j5-encChQBj-",
        "outputId": "cb20897a-e592-4b7b-82dc-79eddb385d77"
      },
      "execution_count": null,
      "outputs": [
        {
          "output_type": "stream",
          "name": "stdout",
          "text": [
            "[ 1. nan  2. nan  2. nan  3. nan nan]\n"
          ]
        }
      ]
    },
    {
      "cell_type": "markdown",
      "source": [
        "Si usamos las funciones convencionales obtenemos el siguiente resultado"
      ],
      "metadata": {
        "id": "lCI5wLUWQbbE"
      }
    },
    {
      "cell_type": "code",
      "source": [
        "np.median(x)"
      ],
      "metadata": {
        "colab": {
          "base_uri": "https://localhost:8080/"
        },
        "id": "opBK3M0vQezH",
        "outputId": "2dd33e58-529b-4e0a-dfd9-dc6b6f43e2f9"
      },
      "execution_count": null,
      "outputs": [
        {
          "output_type": "execute_result",
          "data": {
            "text/plain": [
              "nan"
            ]
          },
          "metadata": {},
          "execution_count": 71
        }
      ]
    },
    {
      "cell_type": "markdown",
      "source": [
        "En cambio, si usamos `np.nanmedian` vemos que los valores NaN son ignorados, proporcionando un resultado de mayor utilidad"
      ],
      "metadata": {
        "id": "Vq-8R0M5Qp1Y"
      }
    },
    {
      "cell_type": "code",
      "source": [
        "np.nanmedian(x)"
      ],
      "metadata": {
        "colab": {
          "base_uri": "https://localhost:8080/"
        },
        "id": "jvJZavosQoRv",
        "outputId": "cf7f8cd1-3c2a-4111-e2a8-2962d099f159"
      },
      "execution_count": null,
      "outputs": [
        {
          "output_type": "execute_result",
          "data": {
            "text/plain": [
              "2.0"
            ]
          },
          "metadata": {},
          "execution_count": 72
        }
      ]
    },
    {
      "cell_type": "markdown",
      "source": [
        "Veamos el comportamiento con otras funciones:"
      ],
      "metadata": {
        "id": "w3fIs5cwRI9m"
      }
    },
    {
      "cell_type": "code",
      "source": [
        "print(np.mean(x))\n",
        "print(np.nanmean(x))\n",
        "print(np.min(x))\n",
        "print(np.nanmin(x))"
      ],
      "metadata": {
        "colab": {
          "base_uri": "https://localhost:8080/"
        },
        "id": "sPFK-E0ORMyG",
        "outputId": "a51cc31b-8934-4d7e-8673-59502d27706c"
      },
      "execution_count": null,
      "outputs": [
        {
          "output_type": "stream",
          "name": "stdout",
          "text": [
            "nan\n",
            "2.0\n",
            "nan\n",
            "1.0\n"
          ]
        }
      ]
    },
    {
      "cell_type": "markdown",
      "source": [
        "También hay funciones para detectar la existencia de NaN y su localización"
      ],
      "metadata": {
        "id": "9Mj3xS7YR26A"
      }
    },
    {
      "cell_type": "code",
      "source": [
        "print('¿Hay valores NaN en el array', np.isnan(x))\n",
        "print('¿Dónde están dichos valores', np.argwhere(np.isnan(x)))"
      ],
      "metadata": {
        "colab": {
          "base_uri": "https://localhost:8080/"
        },
        "id": "ZyBE2OnLR6of",
        "outputId": "de4b8bae-e534-4a9f-d137-6683c58088e7"
      },
      "execution_count": null,
      "outputs": [
        {
          "output_type": "stream",
          "name": "stdout",
          "text": [
            "¿Hay valores NaN en el array [False  True False  True False  True False  True  True]\n",
            "¿Dónde están dichos valores [[1]\n",
            " [3]\n",
            " [5]\n",
            " [7]\n",
            " [8]]\n"
          ]
        }
      ]
    },
    {
      "cell_type": "markdown",
      "source": [
        "## Permutando y operando con distintas dimensiones"
      ],
      "metadata": {
        "id": "rdPi0y8-TOt2"
      }
    },
    {
      "cell_type": "code",
      "source": [
        "x = np.array([[[0,1], [2,3]],[[4,5],[6,7]]])\n",
        "x"
      ],
      "metadata": {
        "colab": {
          "base_uri": "https://localhost:8080/"
        },
        "id": "y5zdC13vTQ5G",
        "outputId": "0f75a8b0-aa21-4bd1-9f9d-f1fdc3f2aa77"
      },
      "execution_count": null,
      "outputs": [
        {
          "output_type": "execute_result",
          "data": {
            "text/plain": [
              "array([[[0, 1],\n",
              "        [2, 3]],\n",
              "\n",
              "       [[4, 5],\n",
              "        [6, 7]]])"
            ]
          },
          "metadata": {},
          "execution_count": 90
        }
      ]
    },
    {
      "cell_type": "markdown",
      "source": [
        "Lo que tenemos aquí es una matriz tridimensional, en donde se concatenan dos matrices de 2$\\times$2. Si imprimimos la forma de la matriz podemos verificarlo"
      ],
      "metadata": {
        "id": "bDHgM85lULau"
      }
    },
    {
      "cell_type": "code",
      "source": [
        "x.shape"
      ],
      "metadata": {
        "colab": {
          "base_uri": "https://localhost:8080/"
        },
        "id": "Kem7I_uLUUz9",
        "outputId": "869b1a82-5590-4574-acfd-496da7c4711a"
      },
      "execution_count": null,
      "outputs": [
        {
          "output_type": "execute_result",
          "data": {
            "text/plain": [
              "(2, 2, 2)"
            ]
          },
          "metadata": {},
          "execution_count": 84
        }
      ]
    },
    {
      "cell_type": "markdown",
      "source": [
        "Si, por algún motivo, lo que nos interesa es trasponer cada una de las matrices de modo independiente, sin afectar la profundidad (eje 0 en 3D), podemos hacer lo siguiente"
      ],
      "metadata": {
        "id": "wFoWdDtiUY0e"
      }
    },
    {
      "cell_type": "code",
      "source": [
        "x.swapaxes(1,2)"
      ],
      "metadata": {
        "colab": {
          "base_uri": "https://localhost:8080/"
        },
        "id": "KIZ9mSmEUf0-",
        "outputId": "d75462a2-e114-4af3-dd5b-88a0eec71ead"
      },
      "execution_count": null,
      "outputs": [
        {
          "output_type": "execute_result",
          "data": {
            "text/plain": [
              "array([[[0, 2],\n",
              "        [1, 3]],\n",
              "\n",
              "       [[4, 6],\n",
              "        [5, 7]]])"
            ]
          },
          "metadata": {},
          "execution_count": 96
        }
      ]
    },
    {
      "cell_type": "markdown",
      "source": [
        "Podemos ver otro ejemplo"
      ],
      "metadata": {
        "id": "5KpBT-CjW6oV"
      }
    },
    {
      "cell_type": "code",
      "source": [
        "a = np.arange(18)\n",
        "a.reshape(2,3,3)"
      ],
      "metadata": {
        "colab": {
          "base_uri": "https://localhost:8080/"
        },
        "id": "JuTbuW7jW8JF",
        "outputId": "e91c2435-9c8a-4888-b736-d5b5db57ace1"
      },
      "execution_count": null,
      "outputs": [
        {
          "output_type": "execute_result",
          "data": {
            "text/plain": [
              "array([[[ 0,  1,  2],\n",
              "        [ 3,  4,  5],\n",
              "        [ 6,  7,  8]],\n",
              "\n",
              "       [[ 9, 10, 11],\n",
              "        [12, 13, 14],\n",
              "        [15, 16, 17]]])"
            ]
          },
          "metadata": {},
          "execution_count": 99
        }
      ]
    },
    {
      "cell_type": "markdown",
      "source": [
        "Ahora tenemos reordenados los 18 valores en dos matrices de 3$\\times$3. Si hacemos `swapaxes(0,2)` pasamos a tener tres matrices de 3$\\times$2. Para comprender estas permutaciones de ejes, seguramente sirva de ayuda pensar que, en 3D, el eje $0$ implica recorrer el tensor en profundidad, el eje $1$ implica recorrer el tensor por filas y el eje $2$ implica recorrer el tensor por columnas. De modo que, en este caso, lo que estamos haciendo es:\n",
        "\n",
        "\n",
        "*   Partimos de la primera columna $\\begin{bmatrix} 0 \\\\ 3 \\\\ 6 \\end{bmatrix}$, que se queda como está.\n",
        "*   luego, la siguiente columna de la nueva matriz la encontramos yendo hacia el fondo, en lugar de hacia la derecha. Y ahí encontramos la columna $\\begin{bmatrix} 9 \\\\ 12 \\\\ 15 \\end{bmatrix}$\n",
        "*   estas dos columnas ya representarían la primera de las matrices $3\\times2$\n",
        "*   a continuación, pasaríamos a la siguiente columna de la primera dimensión (en términos de profundidad, la que está 'más próxima a nosotros'): $\\begin{bmatrix} 1 \\\\ 4 \\\\ 7 \\end{bmatrix}$\n",
        "*   iríamos hacia el fondo (axis $0$) $\\begin{bmatrix} 10 \\\\ 13 \\\\ 16 \\end{bmatrix}$, y así sucesivamente. \n",
        "\n"
      ],
      "metadata": {
        "id": "sUijMZX2XByl"
      }
    },
    {
      "cell_type": "code",
      "source": [
        "a.reshape(2,3,3).swapaxes(0,2)"
      ],
      "metadata": {
        "colab": {
          "base_uri": "https://localhost:8080/"
        },
        "id": "nLVt5WUPXYll",
        "outputId": "5b7642c3-5fd1-4783-cf3e-3a105de77452"
      },
      "execution_count": null,
      "outputs": [
        {
          "output_type": "execute_result",
          "data": {
            "text/plain": [
              "array([[[ 0,  9],\n",
              "        [ 3, 12],\n",
              "        [ 6, 15]],\n",
              "\n",
              "       [[ 1, 10],\n",
              "        [ 4, 13],\n",
              "        [ 7, 16]],\n",
              "\n",
              "       [[ 2, 11],\n",
              "        [ 5, 14],\n",
              "        [ 8, 17]]])"
            ]
          },
          "metadata": {},
          "execution_count": 103
        }
      ]
    },
    {
      "cell_type": "markdown",
      "source": [
        "Veamos ahora, a modo de resumen, los siguientes ejemplos: "
      ],
      "metadata": {
        "id": "59qBXilwZvl0"
      }
    },
    {
      "cell_type": "code",
      "source": [
        "new_array = np.arange(1,10).reshape((3,3))\n",
        "new_array"
      ],
      "metadata": {
        "colab": {
          "base_uri": "https://localhost:8080/"
        },
        "id": "cu9Z2bM2Z1MM",
        "outputId": "f76d305d-ef2d-43b8-a354-c4bc8ec41043"
      },
      "execution_count": null,
      "outputs": [
        {
          "output_type": "execute_result",
          "data": {
            "text/plain": [
              "array([[1, 2, 3],\n",
              "       [4, 5, 6],\n",
              "       [7, 8, 9]])"
            ]
          },
          "metadata": {},
          "execution_count": 105
        }
      ]
    },
    {
      "cell_type": "markdown",
      "source": [
        "Tenemos una matriz $3\\times3$\n",
        "\n",
        "\n",
        "\n"
      ],
      "metadata": {
        "id": "Nl5orcrEaUNK"
      }
    },
    {
      "cell_type": "code",
      "source": [
        "new_array.shape"
      ],
      "metadata": {
        "colab": {
          "base_uri": "https://localhost:8080/"
        },
        "id": "HExC4JEHaKZD",
        "outputId": "05f9298b-5a5b-41b9-89a6-d26ba4cd271e"
      },
      "execution_count": null,
      "outputs": [
        {
          "output_type": "execute_result",
          "data": {
            "text/plain": [
              "(3, 3)"
            ]
          },
          "metadata": {},
          "execution_count": 106
        }
      ]
    },
    {
      "cell_type": "markdown",
      "source": [
        "Calculamos la suma de elementos por columna"
      ],
      "metadata": {
        "id": "QNao_IUJaYMa"
      }
    },
    {
      "cell_type": "code",
      "source": [
        "new_array.sum(axis=0)"
      ],
      "metadata": {
        "colab": {
          "base_uri": "https://localhost:8080/"
        },
        "id": "y-h4pqh6aNDk",
        "outputId": "c83db354-1745-471f-ef28-96cd0cb51ebe"
      },
      "execution_count": null,
      "outputs": [
        {
          "output_type": "execute_result",
          "data": {
            "text/plain": [
              "array([12, 15, 18])"
            ]
          },
          "metadata": {},
          "execution_count": 107
        }
      ]
    },
    {
      "cell_type": "markdown",
      "source": [
        "Y ahora por fila"
      ],
      "metadata": {
        "id": "sIaPBBEsabc9"
      }
    },
    {
      "cell_type": "code",
      "source": [
        "new_array.sum(axis=1)"
      ],
      "metadata": {
        "colab": {
          "base_uri": "https://localhost:8080/"
        },
        "id": "OQ6Q7MphadeT",
        "outputId": "189344bd-52d9-420a-c4c5-6ffc2f2f3a07"
      },
      "execution_count": null,
      "outputs": [
        {
          "output_type": "execute_result",
          "data": {
            "text/plain": [
              "array([ 6, 15, 24])"
            ]
          },
          "metadata": {},
          "execution_count": 108
        }
      ]
    },
    {
      "cell_type": "markdown",
      "source": [
        "Ahora fusionamos dos matrices de $3\\times3$ en una sola, para tener un tensor de $2\\times3\\times3$"
      ],
      "metadata": {
        "id": "xpIKDLgVc0Eb"
      }
    },
    {
      "cell_type": "code",
      "source": [
        "b = np.concatenate((np.ones(3)*10, np.ones(3)*20, np.ones(3)*30)).reshape((3,3))\n",
        "new_array = np.array((new_array,b))\n",
        "new_array"
      ],
      "metadata": {
        "colab": {
          "base_uri": "https://localhost:8080/"
        },
        "id": "BPsuX0sWdC_a",
        "outputId": "b3cb845e-5745-4d17-f8fd-e382850cb171"
      },
      "execution_count": null,
      "outputs": [
        {
          "output_type": "execute_result",
          "data": {
            "text/plain": [
              "array([[[ 1.,  2.,  3.],\n",
              "        [ 4.,  5.,  6.],\n",
              "        [ 7.,  8.,  9.]],\n",
              "\n",
              "       [[10., 10., 10.],\n",
              "        [20., 20., 20.],\n",
              "        [30., 30., 30.]]])"
            ]
          },
          "metadata": {},
          "execution_count": 113
        }
      ]
    },
    {
      "cell_type": "markdown",
      "source": [
        "Calculamos la suma hacia el fondo (3era dimensión)  (`axis=0`)"
      ],
      "metadata": {
        "id": "OaKeHzLeeAc6"
      }
    },
    {
      "cell_type": "code",
      "source": [
        "new_array.sum(axis=0)"
      ],
      "metadata": {
        "colab": {
          "base_uri": "https://localhost:8080/"
        },
        "id": "aPArJZ2NeDnS",
        "outputId": "8edd1615-6cd7-4efd-8ff1-1bc6cd50b24f"
      },
      "execution_count": null,
      "outputs": [
        {
          "output_type": "execute_result",
          "data": {
            "text/plain": [
              "array([[11., 12., 13.],\n",
              "       [24., 25., 26.],\n",
              "       [37., 38., 39.]])"
            ]
          },
          "metadata": {},
          "execution_count": 114
        }
      ]
    },
    {
      "cell_type": "markdown",
      "source": [
        "Hacemos lo mismo por cada columna  (`axis=1`)"
      ],
      "metadata": {
        "id": "Axn5JOvMeG8r"
      }
    },
    {
      "cell_type": "code",
      "source": [
        "new_array.sum(axis=1)"
      ],
      "metadata": {
        "colab": {
          "base_uri": "https://localhost:8080/"
        },
        "id": "aBDnSQu-eTNi",
        "outputId": "cb1a5edf-11ee-42f1-d8de-90a9a41477b3"
      },
      "execution_count": null,
      "outputs": [
        {
          "output_type": "execute_result",
          "data": {
            "text/plain": [
              "array([[12., 15., 18.],\n",
              "       [60., 60., 60.]])"
            ]
          },
          "metadata": {},
          "execution_count": 116
        }
      ]
    },
    {
      "cell_type": "markdown",
      "source": [
        "Y para cada fila (`axis=2`)"
      ],
      "metadata": {
        "id": "8dC9RzxRedYx"
      }
    },
    {
      "cell_type": "code",
      "source": [
        "new_array.sum(axis=2)"
      ],
      "metadata": {
        "colab": {
          "base_uri": "https://localhost:8080/"
        },
        "id": "dIyGoK9jelVB",
        "outputId": "95372948-6422-40d7-80d5-9fc65e0f71e5"
      },
      "execution_count": null,
      "outputs": [
        {
          "output_type": "execute_result",
          "data": {
            "text/plain": [
              "array([[ 6., 15., 24.],\n",
              "       [30., 60., 90.]])"
            ]
          },
          "metadata": {},
          "execution_count": 117
        }
      ]
    },
    {
      "cell_type": "markdown",
      "source": [
        "Y ahora, finalmente, podemos trasponer cada una de estas dos matrices:"
      ],
      "metadata": {
        "id": "IWjp8ouQe0H6"
      }
    },
    {
      "cell_type": "code",
      "source": [
        "new_array.swapaxes(1,2)"
      ],
      "metadata": {
        "colab": {
          "base_uri": "https://localhost:8080/"
        },
        "id": "hQODbLiIe3MC",
        "outputId": "227d11f1-5656-44db-a73f-a19c2fc53523"
      },
      "execution_count": null,
      "outputs": [
        {
          "output_type": "execute_result",
          "data": {
            "text/plain": [
              "array([[[ 1.,  4.,  7.],\n",
              "        [ 2.,  5.,  8.],\n",
              "        [ 3.,  6.,  9.]],\n",
              "\n",
              "       [[10., 20., 30.],\n",
              "        [10., 20., 30.],\n",
              "        [10., 20., 30.]]])"
            ]
          },
          "metadata": {},
          "execution_count": 118
        }
      ]
    },
    {
      "cell_type": "markdown",
      "source": [
        "## Más funciones básicas"
      ],
      "metadata": {
        "id": "PUYvEjNTfGhB"
      }
    },
    {
      "cell_type": "markdown",
      "source": [
        "Para copiar un array"
      ],
      "metadata": {
        "id": "6QoT6fJIfIvZ"
      }
    },
    {
      "cell_type": "code",
      "source": [
        "x = np.arange(1,4)\n",
        "print(x)\n",
        "y = x # Aquí tenemos una referencia\n",
        "z = np.copy(x)\n",
        "y[0] = 10"
      ],
      "metadata": {
        "colab": {
          "base_uri": "https://localhost:8080/"
        },
        "id": "6d7v4mXMfK9y",
        "outputId": "fa5c1717-0c87-4534-ce84-c3595e55cfc9"
      },
      "execution_count": null,
      "outputs": [
        {
          "output_type": "stream",
          "name": "stdout",
          "text": [
            "[1 2 3]\n"
          ]
        }
      ]
    },
    {
      "cell_type": "code",
      "source": [
        "print(x,y,z)"
      ],
      "metadata": {
        "colab": {
          "base_uri": "https://localhost:8080/"
        },
        "id": "uJ6m9t8QfaDS",
        "outputId": "d576dc93-986c-47d7-bd23-14ce01001784"
      },
      "execution_count": null,
      "outputs": [
        {
          "output_type": "stream",
          "name": "stdout",
          "text": [
            "[10  2  3] [10  2  3] [1 2 3]\n"
          ]
        }
      ]
    },
    {
      "cell_type": "markdown",
      "source": [
        "En el ejemplo anterior, $y$ y $x$ apuntan al mismo objeto. Motivo por el cual si se modifica uno, se modifica simultáneamente el otro. Este detalle, ya visto antes, no es menor en absoluto. Es una de las principales fuentes de error a la hora de programar en Python. Por tanto, prestad atención al modo en que copiáis los arrays. "
      ],
      "metadata": {
        "id": "7tyrhc_bfc4S"
      }
    },
    {
      "cell_type": "code",
      "source": [
        "x is y"
      ],
      "metadata": {
        "colab": {
          "base_uri": "https://localhost:8080/"
        },
        "id": "fu3U6rxxfpoy",
        "outputId": "5f105962-5e2d-415b-f313-04741c02d26a"
      },
      "execution_count": null,
      "outputs": [
        {
          "output_type": "execute_result",
          "data": {
            "text/plain": [
              "True"
            ]
          },
          "metadata": {},
          "execution_count": 122
        }
      ]
    },
    {
      "cell_type": "code",
      "source": [
        "x is z"
      ],
      "metadata": {
        "colab": {
          "base_uri": "https://localhost:8080/"
        },
        "id": "gyJkxoEHfrMR",
        "outputId": "72b68943-136b-4b86-94ac-434a3f69cf75"
      },
      "execution_count": null,
      "outputs": [
        {
          "output_type": "execute_result",
          "data": {
            "text/plain": [
              "False"
            ]
          },
          "metadata": {},
          "execution_count": 123
        }
      ]
    },
    {
      "cell_type": "markdown",
      "source": [
        "También hay funciones dedicadas a la ordenación de arrays. Veamos algunas de ellas. "
      ],
      "metadata": {
        "id": "ENBb_OH3f3xp"
      }
    },
    {
      "cell_type": "code",
      "source": [
        "a = np.array([5,3,7,8,1,2,3])\n",
        "a"
      ],
      "metadata": {
        "colab": {
          "base_uri": "https://localhost:8080/"
        },
        "id": "rIkfbst9f-I-",
        "outputId": "3e4cc1c2-1bab-482b-ba13-c890b0cf8722"
      },
      "execution_count": null,
      "outputs": [
        {
          "output_type": "execute_result",
          "data": {
            "text/plain": [
              "array([5, 3, 7, 8, 1, 2, 3])"
            ]
          },
          "metadata": {},
          "execution_count": 124
        }
      ]
    },
    {
      "cell_type": "code",
      "source": [
        "a.sort()\n",
        "a"
      ],
      "metadata": {
        "colab": {
          "base_uri": "https://localhost:8080/"
        },
        "id": "wL8DDDLggDZK",
        "outputId": "7f468761-ed70-4553-e45c-3631e28f894f"
      },
      "execution_count": null,
      "outputs": [
        {
          "output_type": "execute_result",
          "data": {
            "text/plain": [
              "array([1, 2, 3, 3, 5, 7, 8])"
            ]
          },
          "metadata": {},
          "execution_count": 125
        }
      ]
    },
    {
      "cell_type": "markdown",
      "source": [
        "Como podemos ver, `sort` es una función $\\textit{in-place}$. Es decir, para que el array sea modificado no hay que realizar ninguna asignación explícita. "
      ],
      "metadata": {
        "id": "gRi4zLzLgF2R"
      }
    },
    {
      "cell_type": "markdown",
      "source": [
        "Con `np.argsort` podemos recuperar los índices del array ordenado. "
      ],
      "metadata": {
        "id": "5r-VVFoIgSAC"
      }
    },
    {
      "cell_type": "code",
      "source": [
        "a = np.array([5,3,7,8,1,2,3])\n",
        "np.argsort(a)"
      ],
      "metadata": {
        "colab": {
          "base_uri": "https://localhost:8080/"
        },
        "id": "WWEe5R7QgY0h",
        "outputId": "2ac58fcc-dab3-42e2-fe42-58f36859f852"
      },
      "execution_count": null,
      "outputs": [
        {
          "output_type": "execute_result",
          "data": {
            "text/plain": [
              "array([4, 5, 1, 6, 0, 2, 3])"
            ]
          },
          "metadata": {},
          "execution_count": 126
        }
      ]
    },
    {
      "cell_type": "markdown",
      "source": [
        "Este resultado lo que nos indica es que en la posición $4$ del array $a$ es donde está el más pequeño de los valores; el segundo más pequeño está en la posición $5$; el tercero en la posición $1$; y así sucesivamente. "
      ],
      "metadata": {
        "id": "0qySeHWYgcKq"
      }
    },
    {
      "cell_type": "markdown",
      "source": [
        "¿Y cómo podemos hacer para ordenar de mayor a menor, en lugar de menor a mayor? Pues podríamos optar por cualquiera de las dos opciones siguientes: "
      ],
      "metadata": {
        "id": "pPS6w1xtgoCx"
      }
    },
    {
      "cell_type": "code",
      "source": [
        "a = np.array([5,3,7,8,1,2,3])\n",
        "a[::-1].sort()\n",
        "a"
      ],
      "metadata": {
        "colab": {
          "base_uri": "https://localhost:8080/"
        },
        "id": "pkPg8EOngz-L",
        "outputId": "898420c4-a41a-4ae5-ce58-5487e9a3bfbd"
      },
      "execution_count": null,
      "outputs": [
        {
          "output_type": "execute_result",
          "data": {
            "text/plain": [
              "array([8, 7, 5, 3, 3, 2, 1])"
            ]
          },
          "metadata": {},
          "execution_count": 132
        }
      ]
    },
    {
      "cell_type": "code",
      "source": [
        "a = np.array([5,3,7,8,1,2,3])\n",
        "a = np.sort(a)[::-1]\n",
        "a"
      ],
      "metadata": {
        "colab": {
          "base_uri": "https://localhost:8080/"
        },
        "id": "URiV-xyHg6qa",
        "outputId": "69416a38-38fb-4e58-9337-e17b7ad94629"
      },
      "execution_count": null,
      "outputs": [
        {
          "output_type": "execute_result",
          "data": {
            "text/plain": [
              "array([8, 7, 5, 3, 3, 2, 1])"
            ]
          },
          "metadata": {},
          "execution_count": 129
        }
      ]
    },
    {
      "cell_type": "markdown",
      "source": [
        "En la primera de ellas, partimos del vector $a$, lo ordenamos en orden creciente y, posteriormente, invertimos el orden con `[::-1]` (que lo que hace es recorrer el vector entero con paso $-1$). \n",
        "\n",
        "En la segunda de ellas hacemos lo mismo, pero creando un nuevo array, es decir, esta segunda alternativa no es $\\textit{in-place}$ y, por tanto, para guardar el resultado necesitamos asignarlo a alguna variable. \n",
        "\n",
        "Evidentemente, la función `sort` también permite operar en dimensiones determinadas."
      ],
      "metadata": {
        "id": "TifAh2XUhB2Z"
      }
    },
    {
      "cell_type": "code",
      "source": [
        "arraytest = np.array([[[1,2],[5,4], [34,1]],[[8,2], [10,20],[0,0]]])\n",
        "arraytest"
      ],
      "metadata": {
        "colab": {
          "base_uri": "https://localhost:8080/"
        },
        "id": "km7fjyPnhuJQ",
        "outputId": "40ce1a59-9961-430f-a1da-6442878e58d9"
      },
      "execution_count": null,
      "outputs": [
        {
          "output_type": "execute_result",
          "data": {
            "text/plain": [
              "array([[[ 1,  2],\n",
              "        [ 5,  4],\n",
              "        [34,  1]],\n",
              "\n",
              "       [[ 8,  2],\n",
              "        [10, 20],\n",
              "        [ 0,  0]]])"
            ]
          },
          "metadata": {},
          "execution_count": 143
        }
      ]
    },
    {
      "cell_type": "code",
      "source": [
        "np.sort(arraytest, axis=0)"
      ],
      "metadata": {
        "colab": {
          "base_uri": "https://localhost:8080/"
        },
        "id": "-Yi6pqC2ivT5",
        "outputId": "a89c3ab4-efaa-4d15-f78a-801727b85755"
      },
      "execution_count": null,
      "outputs": [
        {
          "output_type": "execute_result",
          "data": {
            "text/plain": [
              "array([[[ 1,  2],\n",
              "        [ 5,  4],\n",
              "        [ 0,  0]],\n",
              "\n",
              "       [[ 8,  2],\n",
              "        [10, 20],\n",
              "        [34,  1]]])"
            ]
          },
          "metadata": {},
          "execution_count": 145
        }
      ]
    },
    {
      "cell_type": "markdown",
      "source": [
        "## Operaciones con matrices"
      ],
      "metadata": {
        "id": "aITxDZ0Fjdpp"
      }
    },
    {
      "cell_type": "markdown",
      "source": [
        "NumPy está específicamente diseñado para operar de modo eficiente con vectores y matrices. Debido a ello presenta numerosas funciones para operaciones de todo tipo, empezando por operaciones elemento a elemento. "
      ],
      "metadata": {
        "id": "_7HU-OWVjfaR"
      }
    },
    {
      "cell_type": "code",
      "source": [
        "a1 = np.random.randint(-5,5,9).reshape((3,3))\n",
        "a2 = np.random.randint(-5,5,9).reshape((3,3))\n",
        "print('a1=', a1)\n",
        "print('a2=',a2)"
      ],
      "metadata": {
        "colab": {
          "base_uri": "https://localhost:8080/"
        },
        "id": "DZMMVCbsj0M-",
        "outputId": "c7861480-6efe-4030-fff2-4773304e6b91"
      },
      "execution_count": null,
      "outputs": [
        {
          "output_type": "stream",
          "name": "stdout",
          "text": [
            "a1= [[-1 -5  1]\n",
            " [ 3 -2  4]\n",
            " [ 4  2  4]]\n",
            "a2= [[-1 -2  2]\n",
            " [ 2  2  1]\n",
            " [-3  4  2]]\n"
          ]
        }
      ]
    },
    {
      "cell_type": "code",
      "source": [
        "print(a1+a2)"
      ],
      "metadata": {
        "colab": {
          "base_uri": "https://localhost:8080/"
        },
        "id": "MNVDhMUZkYzY",
        "outputId": "b073a812-0f1a-4765-972f-ed97d1b4c760"
      },
      "execution_count": null,
      "outputs": [
        {
          "output_type": "stream",
          "name": "stdout",
          "text": [
            "[[-2 -7  3]\n",
            " [ 5  0  5]\n",
            " [ 1  6  6]]\n"
          ]
        }
      ]
    },
    {
      "cell_type": "code",
      "source": [
        "print(a1-a2)"
      ],
      "metadata": {
        "colab": {
          "base_uri": "https://localhost:8080/"
        },
        "id": "_WEimNN4kd6I",
        "outputId": "202b5940-abac-43a9-f908-7b8cc3c9a160"
      },
      "execution_count": null,
      "outputs": [
        {
          "output_type": "stream",
          "name": "stdout",
          "text": [
            "[[ 0 -3 -1]\n",
            " [ 1 -4  3]\n",
            " [ 7 -2  2]]\n"
          ]
        }
      ]
    },
    {
      "cell_type": "code",
      "source": [
        "print(a1*a2) #producto elemento a elemento o Hadamard product"
      ],
      "metadata": {
        "colab": {
          "base_uri": "https://localhost:8080/"
        },
        "id": "I056D6m5kgZY",
        "outputId": "fc6b48cd-0f23-43f0-cee5-6f6b6e7ae786"
      },
      "execution_count": null,
      "outputs": [
        {
          "output_type": "stream",
          "name": "stdout",
          "text": [
            "[[  1  10   2]\n",
            " [  6  -4   4]\n",
            " [-12   8   8]]\n"
          ]
        }
      ]
    },
    {
      "cell_type": "code",
      "source": [
        "print(a1//a2)"
      ],
      "metadata": {
        "colab": {
          "base_uri": "https://localhost:8080/"
        },
        "id": "VjD7g-JJkwcY",
        "outputId": "5b453e20-3948-45d9-bbe5-1a1d8a1964f6"
      },
      "execution_count": null,
      "outputs": [
        {
          "output_type": "stream",
          "name": "stdout",
          "text": [
            "[[ 1  2  0]\n",
            " [ 1 -1  4]\n",
            " [-2  0  2]]\n"
          ]
        }
      ]
    },
    {
      "cell_type": "code",
      "source": [
        "print(a1/a2)"
      ],
      "metadata": {
        "colab": {
          "base_uri": "https://localhost:8080/"
        },
        "id": "hoK1XK0DkzzB",
        "outputId": "a02848d7-ba01-4fd4-eddf-43d339cece12"
      },
      "execution_count": null,
      "outputs": [
        {
          "output_type": "stream",
          "name": "stdout",
          "text": [
            "[[ 1.          2.5         0.5       ]\n",
            " [ 1.5        -1.          4.        ]\n",
            " [-1.33333333  0.5         2.        ]]\n"
          ]
        }
      ]
    },
    {
      "cell_type": "code",
      "source": [
        "print(a1**a2)"
      ],
      "metadata": {
        "colab": {
          "base_uri": "https://localhost:8080/",
          "height": 171
        },
        "id": "46Qmcn6Vk3YP",
        "outputId": "c47ede6a-09ff-49b7-9027-5089d6b6c11e"
      },
      "execution_count": null,
      "outputs": [
        {
          "output_type": "error",
          "ename": "ValueError",
          "evalue": "ignored",
          "traceback": [
            "\u001b[0;31m---------------------------------------------------------------------------\u001b[0m",
            "\u001b[0;31mValueError\u001b[0m                                Traceback (most recent call last)",
            "\u001b[0;32m<ipython-input-161-ee0d0154a872>\u001b[0m in \u001b[0;36m<module>\u001b[0;34m\u001b[0m\n\u001b[0;32m----> 1\u001b[0;31m \u001b[0mprint\u001b[0m\u001b[0;34m(\u001b[0m\u001b[0ma1\u001b[0m\u001b[0;34m**\u001b[0m\u001b[0ma2\u001b[0m\u001b[0;34m)\u001b[0m\u001b[0;34m\u001b[0m\u001b[0;34m\u001b[0m\u001b[0m\n\u001b[0m",
            "\u001b[0;31mValueError\u001b[0m: Integers to negative integer powers are not allowed."
          ]
        }
      ]
    },
    {
      "cell_type": "markdown",
      "source": [
        "¿Por qué lo anterior da error? Pues porque, para NumPy, la salida de `a1**a2` debe ser del mismo tipo que `a1`, y resulta que `a1` es un ndarray de enteros. El problema con esto es que si elevamos un entero a un entero negativo puede que el resultado no sea entero. Por ejemplo, si hacemos `-5**-2`, eso da `-0.04`. Por ello, NumPy no lo permite y proporciona el error de arriba. \n",
        "\n",
        "Para realizar la operación, solamente tendríamos que cambiarles el tipo a las matrices (función `astype`)."
      ],
      "metadata": {
        "id": "l7rbCSzllkQV"
      }
    },
    {
      "cell_type": "code",
      "source": [
        "print(type(a1))\n",
        "print(a1.dtype)\n",
        "print('a1=', a1)\n",
        "print('a2=',a2)"
      ],
      "metadata": {
        "colab": {
          "base_uri": "https://localhost:8080/"
        },
        "id": "oSAoamYxl5pP",
        "outputId": "bca7b7ba-cece-4822-b2ec-94a408bd3333"
      },
      "execution_count": null,
      "outputs": [
        {
          "output_type": "stream",
          "name": "stdout",
          "text": [
            "<class 'numpy.ndarray'>\n",
            "int64\n",
            "a1= [[-1 -5  1]\n",
            " [ 3 -2  4]\n",
            " [ 4  2  4]]\n",
            "a2= [[-1 -2  2]\n",
            " [ 2  2  1]\n",
            " [-3  4  2]]\n"
          ]
        }
      ]
    },
    {
      "cell_type": "code",
      "source": [
        "print(a1.astype(np.float64)**a2.astype(np.float64))"
      ],
      "metadata": {
        "colab": {
          "base_uri": "https://localhost:8080/"
        },
        "id": "jW-6KxhjmK_g",
        "outputId": "1a8caf2f-0cce-4216-ab5b-8e3d9326ef7e"
      },
      "execution_count": null,
      "outputs": [
        {
          "output_type": "stream",
          "name": "stdout",
          "text": [
            "[[-1.0000e+00  4.0000e-02  1.0000e+00]\n",
            " [ 9.0000e+00  4.0000e+00  4.0000e+00]\n",
            " [ 1.5625e-02  1.6000e+01  1.6000e+01]]\n"
          ]
        }
      ]
    },
    {
      "cell_type": "code",
      "source": [
        "print(a1 <= a2)"
      ],
      "metadata": {
        "colab": {
          "base_uri": "https://localhost:8080/"
        },
        "id": "5dBvRmmkn_We",
        "outputId": "f481793c-2a0a-49c2-ea88-2821b71dc8e0"
      },
      "execution_count": null,
      "outputs": [
        {
          "output_type": "stream",
          "name": "stdout",
          "text": [
            "[[ True  True  True]\n",
            " [False  True False]\n",
            " [False  True False]]\n"
          ]
        }
      ]
    },
    {
      "cell_type": "code",
      "source": [
        "print(np.abs(a1))"
      ],
      "metadata": {
        "colab": {
          "base_uri": "https://localhost:8080/"
        },
        "id": "JI6ggi8ooC2V",
        "outputId": "2885fa14-13f9-4c53-b858-9e67266e152c"
      },
      "execution_count": null,
      "outputs": [
        {
          "output_type": "stream",
          "name": "stdout",
          "text": [
            "[[1 5 1]\n",
            " [3 2 4]\n",
            " [4 2 4]]\n"
          ]
        }
      ]
    },
    {
      "cell_type": "code",
      "source": [
        "print(np.exp(a1))"
      ],
      "metadata": {
        "colab": {
          "base_uri": "https://localhost:8080/"
        },
        "id": "GpaO5U-9oIhd",
        "outputId": "7e459778-4c16-4afa-87ad-eab8cc731a50"
      },
      "execution_count": null,
      "outputs": [
        {
          "output_type": "stream",
          "name": "stdout",
          "text": [
            "[[3.67879441e-01 6.73794700e-03 2.71828183e+00]\n",
            " [2.00855369e+01 1.35335283e-01 5.45981500e+01]\n",
            " [5.45981500e+01 7.38905610e+00 5.45981500e+01]]\n"
          ]
        }
      ]
    },
    {
      "cell_type": "code",
      "source": [
        "print(np.sign(a1))"
      ],
      "metadata": {
        "colab": {
          "base_uri": "https://localhost:8080/"
        },
        "id": "ne4ZZ4A0olew",
        "outputId": "4709e8e6-ca75-407e-8816-482c4b6e6769"
      },
      "execution_count": null,
      "outputs": [
        {
          "output_type": "stream",
          "name": "stdout",
          "text": [
            "[[-1 -1  1]\n",
            " [ 1 -1  1]\n",
            " [ 1  1  1]]\n"
          ]
        }
      ]
    },
    {
      "cell_type": "code",
      "source": [
        "print(np.minimum(a1,a2))"
      ],
      "metadata": {
        "colab": {
          "base_uri": "https://localhost:8080/"
        },
        "id": "hVWyt7T0opGe",
        "outputId": "3729b4f1-05de-4001-d893-4fe1d3cc0f8a"
      },
      "execution_count": null,
      "outputs": [
        {
          "output_type": "stream",
          "name": "stdout",
          "text": [
            "[[-1 -5  1]\n",
            " [ 2 -2  1]\n",
            " [-3  2  2]]\n"
          ]
        }
      ]
    },
    {
      "cell_type": "code",
      "source": [
        "print(np.unique(a2))"
      ],
      "metadata": {
        "colab": {
          "base_uri": "https://localhost:8080/"
        },
        "id": "pSZqRtpgovel",
        "outputId": "f7761053-ce65-4d88-b4fe-675338587b33"
      },
      "execution_count": null,
      "outputs": [
        {
          "output_type": "stream",
          "name": "stdout",
          "text": [
            "[-3 -2 -1  1  2  4]\n"
          ]
        }
      ]
    },
    {
      "cell_type": "code",
      "source": [
        "print(np.setdiff1d(a1,a2)) #elementos que están en a1 y no en a2"
      ],
      "metadata": {
        "colab": {
          "base_uri": "https://localhost:8080/"
        },
        "id": "qfG5QJkKo7XO",
        "outputId": "91957b18-efd1-486b-f274-35b99e19ce04"
      },
      "execution_count": null,
      "outputs": [
        {
          "output_type": "stream",
          "name": "stdout",
          "text": [
            "[-5  3]\n"
          ]
        }
      ]
    },
    {
      "cell_type": "markdown",
      "source": [
        "Como es lógico, también se pueden realizar operaciones con escalares: "
      ],
      "metadata": {
        "id": "8f2swbcQoUgi"
      }
    },
    {
      "cell_type": "code",
      "source": [
        "print(5+a1)"
      ],
      "metadata": {
        "colab": {
          "base_uri": "https://localhost:8080/"
        },
        "id": "8-vuPdw2oQJP",
        "outputId": "51dc96a2-a71a-46d5-a790-f19dd7570b68"
      },
      "execution_count": null,
      "outputs": [
        {
          "output_type": "stream",
          "name": "stdout",
          "text": [
            "[[4 0 6]\n",
            " [8 3 9]\n",
            " [9 7 9]]\n"
          ]
        }
      ]
    },
    {
      "cell_type": "markdown",
      "source": [
        "Y operaciones algo más complejas con matrices, como el producto de matrices:"
      ],
      "metadata": {
        "id": "yiGbEs1mpTbY"
      }
    },
    {
      "cell_type": "code",
      "source": [
        "print(np.matmul(a1,a2))"
      ],
      "metadata": {
        "colab": {
          "base_uri": "https://localhost:8080/"
        },
        "id": "OAA8bOlHphyh",
        "outputId": "8f6382da-ca1c-4879-ecd5-2b9cd10d27fe"
      },
      "execution_count": null,
      "outputs": [
        {
          "output_type": "stream",
          "name": "stdout",
          "text": [
            "[[-12  -4  -5]\n",
            " [-19   6  12]\n",
            " [-12  12  18]]\n"
          ]
        }
      ]
    },
    {
      "cell_type": "markdown",
      "source": [
        "O el cálculo del determinante:"
      ],
      "metadata": {
        "id": "8oK1HWD5pb_7"
      }
    },
    {
      "cell_type": "code",
      "source": [
        "print(a1)\n",
        "print(np.linalg.det(a1))"
      ],
      "metadata": {
        "colab": {
          "base_uri": "https://localhost:8080/"
        },
        "id": "GZMjst2_pr4j",
        "outputId": "00fddce9-3406-482e-e945-5fb7363b209c"
      },
      "execution_count": null,
      "outputs": [
        {
          "output_type": "stream",
          "name": "stdout",
          "text": [
            "[[-1 -5  1]\n",
            " [ 3 -2  4]\n",
            " [ 4  2  4]]\n",
            "9.999999999999993\n"
          ]
        }
      ]
    },
    {
      "cell_type": "markdown",
      "source": [
        "Puede haber pequeños errores de precisión. Por ejemplo, si hacemos `np.linalg.det(a1)` con $a1 = \\begin{bmatrix}\n",
        "-1 & -5 & 1\\\\\n",
        "3 & -2 & 4 \\\\\n",
        "4 & 2 & 4\n",
        "\\end{bmatrix}$ obtendríamos $9.999999999999993$ (cuando el resultado de la anterior operación debería dar $10$). "
      ],
      "metadata": {
        "id": "6dHNdXzeqxDF"
      }
    },
    {
      "cell_type": "markdown",
      "source": [
        "La inversa:"
      ],
      "metadata": {
        "id": "BijA77l8peGp"
      }
    },
    {
      "cell_type": "code",
      "source": [
        "print(np.linalg.inv(a1))"
      ],
      "metadata": {
        "colab": {
          "base_uri": "https://localhost:8080/"
        },
        "id": "I5KPlnIlqZgp",
        "outputId": "a2328fe2-0342-4bc4-ab87-6cb9248be165"
      },
      "execution_count": null,
      "outputs": [
        {
          "output_type": "stream",
          "name": "stdout",
          "text": [
            "[[-1.6  2.2 -1.8]\n",
            " [ 0.4 -0.8  0.7]\n",
            " [ 1.4 -1.8  1.7]]\n"
          ]
        }
      ]
    },
    {
      "cell_type": "code",
      "source": [
        "np.matmul(np.linalg.inv(a1), a1)"
      ],
      "metadata": {
        "colab": {
          "base_uri": "https://localhost:8080/"
        },
        "id": "v_bF4qtsqdL6",
        "outputId": "2b9e2d01-63b2-4403-c632-352f2d386189"
      },
      "execution_count": null,
      "outputs": [
        {
          "output_type": "execute_result",
          "data": {
            "text/plain": [
              "array([[1.0000000e+00, 0.0000000e+00, 8.8817842e-16],\n",
              "       [4.4408921e-16, 1.0000000e+00, 4.4408921e-16],\n",
              "       [0.0000000e+00, 8.8817842e-16, 1.0000000e+00]])"
            ]
          },
          "metadata": {},
          "execution_count": 204
        }
      ]
    },
    {
      "cell_type": "markdown",
      "source": [
        "De nuevo, podemos encontrarnos con ciertos errores de precisión que nos impidan ver exactamente la matriz identidad al hacer $A^{-1}*A$"
      ],
      "metadata": {
        "id": "9l15ll0YtHJd"
      }
    },
    {
      "cell_type": "markdown",
      "source": [
        "El cálculo de la diagonal o la traza: "
      ],
      "metadata": {
        "id": "Of2bdwdbpfRJ"
      }
    },
    {
      "cell_type": "code",
      "source": [
        "print(a1)\n",
        "print(np.diagonal(a1))\n",
        "print(np.trace(a1))"
      ],
      "metadata": {
        "colab": {
          "base_uri": "https://localhost:8080/"
        },
        "id": "g8HDaS24tnXO",
        "outputId": "19507f92-1c1c-4db8-e2ef-1846badf5e01"
      },
      "execution_count": null,
      "outputs": [
        {
          "output_type": "stream",
          "name": "stdout",
          "text": [
            "[[-1 -5  1]\n",
            " [ 3 -2  4]\n",
            " [ 4  2  4]]\n",
            "[-1 -2  4]\n",
            "1\n"
          ]
        }
      ]
    },
    {
      "cell_type": "markdown",
      "source": [
        "#### Un poco más sobre cuestiones de precisión y errores de redondeo"
      ],
      "metadata": {
        "id": "HG-mEd8Myde9"
      }
    },
    {
      "cell_type": "markdown",
      "source": [
        "Al realizar ciertas operaciones en Python (no solo con NumPy), los resultados pueden presentar errores de redondeo:"
      ],
      "metadata": {
        "id": "vtY7f9xUypya"
      }
    },
    {
      "cell_type": "code",
      "source": [
        "100/3"
      ],
      "metadata": {
        "colab": {
          "base_uri": "https://localhost:8080/"
        },
        "id": "7n5ZVe7IyqQL",
        "outputId": "a84468bd-81b4-449a-999c-7bb99f6ab700"
      },
      "execution_count": null,
      "outputs": [
        {
          "output_type": "execute_result",
          "data": {
            "text/plain": [
              "33.333333333333336"
            ]
          },
          "metadata": {},
          "execution_count": 227
        }
      ]
    },
    {
      "cell_type": "code",
      "source": [
        "0.1 + 0.1 + 0.1"
      ],
      "metadata": {
        "colab": {
          "base_uri": "https://localhost:8080/"
        },
        "id": "jtXAU2Nq0rzH",
        "outputId": "242c2f1e-1730-4cfb-b2de-21709a62488c"
      },
      "execution_count": null,
      "outputs": [
        {
          "output_type": "execute_result",
          "data": {
            "text/plain": [
              "0.30000000000000004"
            ]
          },
          "metadata": {},
          "execution_count": 233
        }
      ]
    },
    {
      "cell_type": "markdown",
      "source": [
        "Debido a estos errores, dos operaciones que debieran dar el mismo resultado pueden dar resultados diferentes:"
      ],
      "metadata": {
        "id": "zRPHjJNRyvOL"
      }
    },
    {
      "cell_type": "code",
      "source": [
        "4*3/5"
      ],
      "metadata": {
        "colab": {
          "base_uri": "https://localhost:8080/"
        },
        "id": "N8rhzySOyv2q",
        "outputId": "3536ab28-339e-41e4-b58a-04ce07eabbe8"
      },
      "execution_count": null,
      "outputs": [
        {
          "output_type": "execute_result",
          "data": {
            "text/plain": [
              "2.4"
            ]
          },
          "metadata": {},
          "execution_count": 228
        }
      ]
    },
    {
      "cell_type": "code",
      "source": [
        "4/5*3"
      ],
      "metadata": {
        "colab": {
          "base_uri": "https://localhost:8080/"
        },
        "id": "KnU2ulUJyyg4",
        "outputId": "6328dbab-01a8-471c-e704-84f67fc55927"
      },
      "execution_count": null,
      "outputs": [
        {
          "output_type": "execute_result",
          "data": {
            "text/plain": [
              "2.4000000000000004"
            ]
          },
          "metadata": {},
          "execution_count": 229
        }
      ]
    },
    {
      "cell_type": "markdown",
      "source": [
        "Y viceversa:"
      ],
      "metadata": {
        "id": "VUMuddmdzL5f"
      }
    },
    {
      "cell_type": "code",
      "source": [
        "round(3.45, 1)"
      ],
      "metadata": {
        "colab": {
          "base_uri": "https://localhost:8080/"
        },
        "id": "c9nJpSy6zNDE",
        "outputId": "5d50ac3c-1fab-4c5b-fdfd-c01825c93d25"
      },
      "execution_count": null,
      "outputs": [
        {
          "output_type": "execute_result",
          "data": {
            "text/plain": [
              "3.5"
            ]
          },
          "metadata": {},
          "execution_count": 230
        }
      ]
    },
    {
      "cell_type": "code",
      "source": [
        "round(3.55, 1)"
      ],
      "metadata": {
        "colab": {
          "base_uri": "https://localhost:8080/"
        },
        "id": "ggKdPm9kzPcp",
        "outputId": "c047d337-7576-4e5f-8e87-ae4353a5ba75"
      },
      "execution_count": null,
      "outputs": [
        {
          "output_type": "execute_result",
          "data": {
            "text/plain": [
              "3.5"
            ]
          },
          "metadata": {},
          "execution_count": 231
        }
      ]
    },
    {
      "cell_type": "markdown",
      "source": [
        "Esto se debe a que, cuando se pide un cálculo con números decimales, Python convierte esos números decimales a binario, realiza la operación en binario y convierte el resultado de nuevo a decimal para mostrárselo al usuario, lo que puede provocar ciertos errores de redondeo. En la inmensa mayor parte de los casos, esto no es especialmente problemático. No obstante, si se necesita total exactitud, se pueden utilizar bibliotecas específicas como `decimal`, `fractions` o `mpmath`. \n",
        "\n",
        "Pueden consultarse los siguientes enlaces para más información: https://www.mclibre.org/consultar/python/lecciones/python-operaciones-matematicas.html y \n",
        "https://docs.python.org/3/tutorial/floatingpoint.html "
      ],
      "metadata": {
        "id": "WnoLc-tNzwLT"
      }
    },
    {
      "cell_type": "code",
      "source": [
        "from decimal import Decimal\n",
        "print(Decimal(4)*Decimal(3)/Decimal(5))\n",
        "print(Decimal(4)/Decimal(5)*Decimal(3))"
      ],
      "metadata": {
        "colab": {
          "base_uri": "https://localhost:8080/"
        },
        "id": "1c8fy-KL0Xrl",
        "outputId": "413dbae5-3daf-4c90-fe5c-1bf7a3caed67"
      },
      "execution_count": null,
      "outputs": [
        {
          "output_type": "stream",
          "name": "stdout",
          "text": [
            "2.4\n",
            "2.4\n"
          ]
        }
      ]
    },
    {
      "cell_type": "markdown",
      "source": [
        "## Formas de multiplicar matrices"
      ],
      "metadata": {
        "id": "pBeR21KEtxO8"
      }
    },
    {
      "cell_type": "markdown",
      "source": [
        "Por su especial importancia, vamos a centrarnos con un poco más de detalle en la multiplicación de matrices. Se trata de un detalle importante dado que, en no pocas ocasiones, los errores cometidos están relacionados con no multiplicar correctamente las matrices. \n",
        "\n",
        "Qué función utilizar depende de la operación concreta que queremos realizar. \n",
        "\n",
        "Las diferencias entre funciones/operadores radican, generalmente, en su versatilidad (p.ej. `np.multiply()` puede tomar argumentos adicionales en relación a `*`, y `np.matmul()` no permite la multiplicación con escalares, mientras que `np.dot()` sí) "
      ],
      "metadata": {
        "id": "10GBWfdttzVN"
      }
    },
    {
      "cell_type": "markdown",
      "source": [
        "### Producto elemento a elemento (Hadamard product)"
      ],
      "metadata": {
        "id": "_CggsSK5t69E"
      }
    },
    {
      "cell_type": "markdown",
      "source": [
        "Por medio de las funciones `np.multiply` y `*`."
      ],
      "metadata": {
        "id": "DLpLfxrkv-2N"
      }
    },
    {
      "cell_type": "code",
      "source": [
        "a = np.arange(1,5).reshape((2,2))\n",
        "b = np.arange(5,9).reshape((2,2))\n",
        "print(a)\n",
        "print(b)"
      ],
      "metadata": {
        "colab": {
          "base_uri": "https://localhost:8080/"
        },
        "id": "-EsJqaB6t-v6",
        "outputId": "c3ccc8e2-2494-4ae6-a60c-e54286f9d304"
      },
      "execution_count": null,
      "outputs": [
        {
          "output_type": "stream",
          "name": "stdout",
          "text": [
            "[[1 2]\n",
            " [3 4]]\n",
            "[[5 6]\n",
            " [7 8]]\n"
          ]
        }
      ]
    },
    {
      "cell_type": "code",
      "source": [
        "print(np.multiply(a,b))\n",
        "print(a*b)\n",
        "print(np.all(np.multiply(a,b)==a*b))"
      ],
      "metadata": {
        "colab": {
          "base_uri": "https://localhost:8080/"
        },
        "id": "p-nGpiSDunWp",
        "outputId": "0e9a28c4-2a6e-405e-8c02-3b2b5ec54e58"
      },
      "execution_count": null,
      "outputs": [
        {
          "output_type": "stream",
          "name": "stdout",
          "text": [
            "[[ 5 12]\n",
            " [21 32]]\n",
            "[[ 5 12]\n",
            " [21 32]]\n",
            "True\n"
          ]
        }
      ]
    },
    {
      "cell_type": "markdown",
      "source": [
        "### Producto de matrices convencional"
      ],
      "metadata": {
        "id": "IRRgLaF1vBV3"
      }
    },
    {
      "cell_type": "markdown",
      "source": [
        "Por medio de las funciones `np.matmul`, `np.dot` y `@`."
      ],
      "metadata": {
        "id": "Ofwx-VnowEAi"
      }
    },
    {
      "cell_type": "code",
      "source": [
        "print(a@b)\n",
        "print(np.dot(a,b))\n",
        "print(np.matmul(a,b))\n",
        "print(np.all(a@b==np.dot(a,b)) and np.all(np.dot(a,b)==np.matmul(a,b)))"
      ],
      "metadata": {
        "colab": {
          "base_uri": "https://localhost:8080/"
        },
        "id": "ytUVE8SfvD14",
        "outputId": "4f907a20-210a-428f-8513-19ca1ca837b2"
      },
      "execution_count": null,
      "outputs": [
        {
          "output_type": "stream",
          "name": "stdout",
          "text": [
            "[[19 22]\n",
            " [43 50]]\n",
            "[[19 22]\n",
            " [43 50]]\n",
            "[[19 22]\n",
            " [43 50]]\n",
            "True\n"
          ]
        }
      ]
    },
    {
      "cell_type": "markdown",
      "source": [
        "### Tiempos de ejecución y matrices grandes"
      ],
      "metadata": {
        "id": "1PrSNUIWwlEP"
      }
    },
    {
      "cell_type": "markdown",
      "source": [
        "El tiempo de ejecución, a priori, no parece un elemento diferencial a la hora de escoger una función sobre otra. "
      ],
      "metadata": {
        "id": "WpqVPhTOwnRg"
      }
    },
    {
      "cell_type": "code",
      "source": [
        "%timeit np.multiply(a,b)"
      ],
      "metadata": {
        "colab": {
          "base_uri": "https://localhost:8080/"
        },
        "id": "xSnrp2qcwshR",
        "outputId": "b93b26f3-cb48-45dd-dc0f-093154113cad"
      },
      "execution_count": null,
      "outputs": [
        {
          "output_type": "stream",
          "name": "stdout",
          "text": [
            "539 ns ± 16.9 ns per loop (mean ± std. dev. of 7 runs, 1000000 loops each)\n"
          ]
        }
      ]
    },
    {
      "cell_type": "code",
      "source": [
        "%timeit a*b"
      ],
      "metadata": {
        "colab": {
          "base_uri": "https://localhost:8080/"
        },
        "id": "3dPnpUDbwwzA",
        "outputId": "e9a3f868-0e2e-46c0-f805-c224c4d10f9a"
      },
      "execution_count": null,
      "outputs": [
        {
          "output_type": "stream",
          "name": "stdout",
          "text": [
            "508 ns ± 20.7 ns per loop (mean ± std. dev. of 7 runs, 1000000 loops each)\n"
          ]
        }
      ]
    },
    {
      "cell_type": "code",
      "source": [
        "%timeit a@b"
      ],
      "metadata": {
        "colab": {
          "base_uri": "https://localhost:8080/"
        },
        "id": "PpRte7KLw3Mu",
        "outputId": "4f4d4766-15cf-4388-a731-963c5012a04f"
      },
      "execution_count": null,
      "outputs": [
        {
          "output_type": "stream",
          "name": "stdout",
          "text": [
            "1.16 µs ± 8.84 ns per loop (mean ± std. dev. of 7 runs, 1000000 loops each)\n"
          ]
        }
      ]
    },
    {
      "cell_type": "code",
      "source": [
        "%timeit np.dot(a,b)"
      ],
      "metadata": {
        "colab": {
          "base_uri": "https://localhost:8080/"
        },
        "id": "VpevFobSw3Wd",
        "outputId": "fcd564a5-2693-4740-b4bc-97fa592e888d"
      },
      "execution_count": null,
      "outputs": [
        {
          "output_type": "stream",
          "name": "stdout",
          "text": [
            "1.37 µs ± 77.5 ns per loop (mean ± std. dev. of 7 runs, 1000000 loops each)\n"
          ]
        }
      ]
    },
    {
      "cell_type": "code",
      "source": [
        "%timeit np.matmul(a,b)"
      ],
      "metadata": {
        "colab": {
          "base_uri": "https://localhost:8080/"
        },
        "id": "umPYQcaRw3c-",
        "outputId": "3127c878-659f-475f-8157-fceacaca1648"
      },
      "execution_count": null,
      "outputs": [
        {
          "output_type": "stream",
          "name": "stdout",
          "text": [
            "1.2 µs ± 8.09 ns per loop (mean ± std. dev. of 7 runs, 1000000 loops each)\n"
          ]
        }
      ]
    },
    {
      "cell_type": "markdown",
      "source": [
        "No obstante, si tenemos que multiplicar matrices más grandes y encadenar múltiples productos, los tiempos pueden ser más largos. En ese tipo de circunstancias, hay funciones (como `multi_dot`) que permiten optimizar el proceso:"
      ],
      "metadata": {
        "id": "0iuZEoEtxK9N"
      }
    },
    {
      "cell_type": "code",
      "source": [
        "from numpy.linalg import multi_dot\n",
        "\n",
        "A = np.random.random((10000,100))\n",
        "B = np.random.random((100,1000))\n",
        "C = np.random.random((1000,5))\n",
        "D = np.random.random((5,333))\n",
        "\n",
        "print(np.allclose(multi_dot([A,B,C,D]), A.dot(B).dot(C).dot(D)))"
      ],
      "metadata": {
        "colab": {
          "base_uri": "https://localhost:8080/"
        },
        "id": "6oDD3uCkxLnd",
        "outputId": "7e48a758-e15e-4a46-cf72-2d336aba75a8"
      },
      "execution_count": null,
      "outputs": [
        {
          "output_type": "stream",
          "name": "stdout",
          "text": [
            "True\n"
          ]
        }
      ]
    },
    {
      "cell_type": "code",
      "source": [
        "%timeit multi_dot([A,B,C,D])"
      ],
      "metadata": {
        "colab": {
          "base_uri": "https://localhost:8080/"
        },
        "id": "7xHH6xIHxs1u",
        "outputId": "1ee3f700-6117-4200-a0c6-ad2088a1a7ce"
      },
      "execution_count": null,
      "outputs": [
        {
          "output_type": "stream",
          "name": "stdout",
          "text": [
            "14.5 ms ± 427 µs per loop (mean ± std. dev. of 7 runs, 100 loops each)\n"
          ]
        }
      ]
    },
    {
      "cell_type": "code",
      "source": [
        "%timeit A.dot(B).dot(C).dot(D)"
      ],
      "metadata": {
        "colab": {
          "base_uri": "https://localhost:8080/"
        },
        "id": "3Fc2kOVIxvyG",
        "outputId": "e9582e74-0210-46f9-83a4-57d475eb59f6"
      },
      "execution_count": null,
      "outputs": [
        {
          "output_type": "stream",
          "name": "stdout",
          "text": [
            "171 ms ± 67.5 ms per loop (mean ± std. dev. of 7 runs, 1 loop each)\n"
          ]
        }
      ]
    },
    {
      "cell_type": "markdown",
      "source": [
        "## Código eficiente"
      ],
      "metadata": {
        "id": "rX3jLlwUyFZ4"
      }
    },
    {
      "cell_type": "markdown",
      "source": [
        "En esta sección intentaremos contextualizar un poco por qué NumPy es mucho más rápido que emplear listas de Python y por qué es bueno evitar, dentro de lo posible, el empleo de bucles for.\n",
        "\n",
        "1.   La vectorización. NumPy divide una tarea en múltiples subtareas y las procesa en paralelo. Esto permite realizar un único (o pocos) acceso(s) a memoria, en lugar de muchos. Con la vectorización, el código subyacente es paralelizado, de modo que la operación puede ser ejecutada sobre múltiples elementos a la vez, en lugar de haciendo un loop sobre ellos procesando un elemento cada vez. El término vectorización, en este caso, hace referencia al uso de código optimizado y pre-compilado, escrito en un lenguaje de bajo nivel, como pudiera ser C, para realizar operaciones matemáticas simultáneamente sobre una secuencia de datos. \n",
        "2.\tLa manera en que se almacenan en memoria los NumPy arrays. NumPy arrays son arrays homogéneos a nivel de tipos y densamente empaquetados (contiguos en memoria; $\\textit{locality of reference}$). En cambio, las listas de Python son arrays de punteros a objetos esparcidos por la memoria.\n",
        "\n",
        "\n",
        "\n"
      ],
      "metadata": {
        "id": "eT3-DbLN3RVW"
      }
    },
    {
      "cell_type": "markdown",
      "source": [
        "Como consecuencia de todo ello, se recomienda encarecidamente hacer uso de las funciones de NumPy para procesado de arrays, y evitar en lo posible el uso de listas y bucles for. "
      ],
      "metadata": {
        "id": "zHL79HYd53ky"
      }
    },
    {
      "cell_type": "markdown",
      "source": [
        "Veamos algunas funciones que pueden resultar de utilidad:"
      ],
      "metadata": {
        "id": "X5Au2bTw5_iU"
      }
    },
    {
      "cell_type": "markdown",
      "source": [
        "`np.where` es un if-else vectorizado, que permite responder a la pregunta: \"dime dónde, en este array, las entradas satisfacen una condición dada\". Es, por tanto, una función muy útil para buscar un elemento en un array. "
      ],
      "metadata": {
        "id": "CSEokKhB6P5W"
      }
    },
    {
      "cell_type": "code",
      "source": [
        "a = np.arange(5,10)\n",
        "print(a)\n",
        "np.where(a < 8)"
      ],
      "metadata": {
        "colab": {
          "base_uri": "https://localhost:8080/"
        },
        "id": "T4GYuAXG6d54",
        "outputId": "5d4ae047-d197-4dff-9b46-0e38945bdbfa"
      },
      "execution_count": null,
      "outputs": [
        {
          "output_type": "stream",
          "name": "stdout",
          "text": [
            "[5 6 7 8 9]\n"
          ]
        },
        {
          "output_type": "execute_result",
          "data": {
            "text/plain": [
              "(array([0, 1, 2]),)"
            ]
          },
          "metadata": {},
          "execution_count": 236
        }
      ]
    },
    {
      "cell_type": "markdown",
      "source": [
        "El ejemplo anterior nos indica que las posiciones de los valores que son menores que $8$ son la cero (es decir, la primera), la uno y la dos. "
      ],
      "metadata": {
        "id": "WMEuy4C86kZQ"
      }
    },
    {
      "cell_type": "markdown",
      "source": [
        "Hagamos una prueba para ver la ganancia de velocidad. "
      ],
      "metadata": {
        "id": "4aVtM4Gb7FnY"
      }
    },
    {
      "cell_type": "code",
      "source": [
        "a = np.arange(5,10000000)\n",
        "%timeit np.where(a < 8)"
      ],
      "metadata": {
        "colab": {
          "base_uri": "https://localhost:8080/"
        },
        "id": "8JuN1Yvd7IcX",
        "outputId": "8674bd4d-09ba-4923-ebda-461da6051fef"
      },
      "execution_count": null,
      "outputs": [
        {
          "output_type": "stream",
          "name": "stdout",
          "text": [
            "11.7 ms ± 105 µs per loop (mean ± std. dev. of 7 runs, 100 loops each)\n"
          ]
        }
      ]
    },
    {
      "cell_type": "code",
      "source": [
        "def my_where(a, threshold):\n",
        "  indexes = []\n",
        "  for i in range(len(a)):\n",
        "    if a[i] < threshold:\n",
        "      indexes.append(i)\n",
        "  return indexes\n",
        "\n",
        "%timeit my_where(a, 8)"
      ],
      "metadata": {
        "colab": {
          "base_uri": "https://localhost:8080/"
        },
        "id": "7MpgUi3L7gH8",
        "outputId": "18c16b1f-70d2-462d-8509-f82c6fedda78"
      },
      "execution_count": null,
      "outputs": [
        {
          "output_type": "stream",
          "name": "stdout",
          "text": [
            "2.63 s ± 43.8 ms per loop (mean ± std. dev. of 7 runs, 1 loop each)\n"
          ]
        }
      ]
    },
    {
      "cell_type": "markdown",
      "source": [
        "En este ejemplo, podemos ver que nuestra versión secuencial usando un bucle for es más de 200 veces más lenta."
      ],
      "metadata": {
        "id": "AIbafdbk8vyd"
      }
    },
    {
      "cell_type": "markdown",
      "source": [
        "A continuación, vemos otro ejemplo, en este caso, con una matriz $2\\times3$. Queremos encontrar las posiciones y los valores de los elementos mayores que $5$. En este caso concreto, dichos valores se corresponden con las posiciones (0,2), (1,0), (1,1), (1,2) . "
      ],
      "metadata": {
        "id": "x4EkYP5V9TGp"
      }
    },
    {
      "cell_type": "code",
      "source": [
        "a = np.arange(4,10).reshape(2,3)\n",
        "print(a)\n",
        "idxs = np.where(a > 5)\n",
        "print(idxs)\n",
        "result = a[idxs]\n",
        "print(result)"
      ],
      "metadata": {
        "colab": {
          "base_uri": "https://localhost:8080/"
        },
        "id": "UEN38b_56v6z",
        "outputId": "f104db8e-885d-4fff-da86-2219788bc7cf"
      },
      "execution_count": null,
      "outputs": [
        {
          "output_type": "stream",
          "name": "stdout",
          "text": [
            "[[4 5 6]\n",
            " [7 8 9]]\n",
            "(array([0, 1, 1, 1]), array([2, 0, 1, 2]))\n",
            "[6 7 8 9]\n"
          ]
        }
      ]
    },
    {
      "cell_type": "markdown",
      "source": [
        "Otra operación habitual, y que debemos aprender a realizar con rapidez, es repetir los elementos de un array: `np.repeat` y `np.tile`."
      ],
      "metadata": {
        "id": "-M3E36vd9txl"
      }
    },
    {
      "cell_type": "code",
      "source": [
        "np.repeat(3,4)"
      ],
      "metadata": {
        "colab": {
          "base_uri": "https://localhost:8080/"
        },
        "id": "A6b2Wx6C92RB",
        "outputId": "6078e5cf-14b7-4b8b-ddcb-15b78cceab03"
      },
      "execution_count": null,
      "outputs": [
        {
          "output_type": "execute_result",
          "data": {
            "text/plain": [
              "array([3, 3, 3, 3])"
            ]
          },
          "metadata": {},
          "execution_count": 247
        }
      ]
    },
    {
      "cell_type": "code",
      "source": [
        "x = np.arange(1,5).reshape(2,2)\n",
        "x"
      ],
      "metadata": {
        "colab": {
          "base_uri": "https://localhost:8080/"
        },
        "id": "SJAu8hpQ9-so",
        "outputId": "f6062666-a173-4b7e-dbe5-8801fe351e2a"
      },
      "execution_count": null,
      "outputs": [
        {
          "output_type": "execute_result",
          "data": {
            "text/plain": [
              "array([[1, 2],\n",
              "       [3, 4]])"
            ]
          },
          "metadata": {},
          "execution_count": 249
        }
      ]
    },
    {
      "cell_type": "code",
      "source": [
        "np.repeat(x, 3, axis=0)"
      ],
      "metadata": {
        "colab": {
          "base_uri": "https://localhost:8080/"
        },
        "id": "U5dZ8AYH-GB8",
        "outputId": "f2c585ca-1e09-4d3a-e2fa-077ced4ba88e"
      },
      "execution_count": null,
      "outputs": [
        {
          "output_type": "execute_result",
          "data": {
            "text/plain": [
              "array([[1, 2],\n",
              "       [1, 2],\n",
              "       [1, 2],\n",
              "       [3, 4],\n",
              "       [3, 4],\n",
              "       [3, 4]])"
            ]
          },
          "metadata": {},
          "execution_count": 250
        }
      ]
    },
    {
      "cell_type": "code",
      "source": [
        "np.repeat(x, 3, axis=1)"
      ],
      "metadata": {
        "colab": {
          "base_uri": "https://localhost:8080/"
        },
        "id": "jqchfrgK_L-e",
        "outputId": "94641609-86fd-4341-e9b5-2158b93eb321"
      },
      "execution_count": null,
      "outputs": [
        {
          "output_type": "execute_result",
          "data": {
            "text/plain": [
              "array([[1, 1, 1, 2, 2, 2],\n",
              "       [3, 3, 3, 4, 4, 4]])"
            ]
          },
          "metadata": {},
          "execution_count": 251
        }
      ]
    },
    {
      "cell_type": "code",
      "source": [
        "np.tile(x,(2,1))"
      ],
      "metadata": {
        "colab": {
          "base_uri": "https://localhost:8080/"
        },
        "id": "FIaWRjpf_QUW",
        "outputId": "cedc2187-1411-4bf7-a6d5-e6e11acdf243"
      },
      "execution_count": null,
      "outputs": [
        {
          "output_type": "execute_result",
          "data": {
            "text/plain": [
              "array([[1, 2],\n",
              "       [3, 4],\n",
              "       [1, 2],\n",
              "       [3, 4]])"
            ]
          },
          "metadata": {},
          "execution_count": 252
        }
      ]
    },
    {
      "cell_type": "markdown",
      "source": [
        "Podemos usar la función `np.apply_over_axes` para aplicar la función `f` sobre las dimensiones de array indicadas. El orden en el que se indican las `dims` es el que se seguirá a la hora de realizar el cálculo."
      ],
      "metadata": {
        "id": "wW70BiQ-_eFO"
      }
    },
    {
      "cell_type": "code",
      "source": [
        "a = np.arange(24).reshape(2,3,4) #creamos un tensor de 2x3x4\n",
        "a"
      ],
      "metadata": {
        "colab": {
          "base_uri": "https://localhost:8080/"
        },
        "id": "LCPCGFdK_eon",
        "outputId": "f97048dd-a8dc-4c5d-df3c-9e0c05c7addb"
      },
      "execution_count": null,
      "outputs": [
        {
          "output_type": "execute_result",
          "data": {
            "text/plain": [
              "array([[[ 0,  1,  2,  3],\n",
              "        [ 4,  5,  6,  7],\n",
              "        [ 8,  9, 10, 11]],\n",
              "\n",
              "       [[12, 13, 14, 15],\n",
              "        [16, 17, 18, 19],\n",
              "        [20, 21, 22, 23]]])"
            ]
          },
          "metadata": {},
          "execution_count": 253
        }
      ]
    },
    {
      "cell_type": "code",
      "source": [
        "np.apply_over_axes(np.sum, a, [0,2])"
      ],
      "metadata": {
        "colab": {
          "base_uri": "https://localhost:8080/"
        },
        "id": "qEQ0inEf_pE3",
        "outputId": "82042ba2-a093-476c-e556-5cde87083c53"
      },
      "execution_count": null,
      "outputs": [
        {
          "output_type": "execute_result",
          "data": {
            "text/plain": [
              "array([[[ 60],\n",
              "        [ 92],\n",
              "        [124]]])"
            ]
          },
          "metadata": {},
          "execution_count": 255
        }
      ]
    },
    {
      "cell_type": "markdown",
      "source": [
        "Lo que hemos hecho es:\n",
        "\n",
        "1.   Sumar en el eje 0 (profundidad): 0+12, 1+13, 2+14,...\n",
        "2.   Sumar en el eje 2 (filas): 12+14+16+18,...\n",
        "\n"
      ],
      "metadata": {
        "id": "P1POH637_vpZ"
      }
    },
    {
      "cell_type": "markdown",
      "source": [
        "Del mismo modo, `np.apply_along_axis` aplica la función solo sobre la dimensión indicada."
      ],
      "metadata": {
        "id": "U4P6KhnrAF2N"
      }
    },
    {
      "cell_type": "code",
      "source": [
        "np.apply_along_axis(np.sum, 0, a)"
      ],
      "metadata": {
        "colab": {
          "base_uri": "https://localhost:8080/"
        },
        "id": "vH4mUUX5AGal",
        "outputId": "a5ee0aa7-b54c-49cb-dac2-93374516b804"
      },
      "execution_count": null,
      "outputs": [
        {
          "output_type": "execute_result",
          "data": {
            "text/plain": [
              "array([[12, 14, 16, 18],\n",
              "       [20, 22, 24, 26],\n",
              "       [28, 30, 32, 34]])"
            ]
          },
          "metadata": {},
          "execution_count": 256
        }
      ]
    },
    {
      "cell_type": "markdown",
      "source": [
        "Como decíamos más arriba, se deben evitar dentro de lo posible los bucles for y, especialmente, los bucles `for` anidados. Los `for-loops` ralentizarán dramáticamente vuestro código (x10-x1000). Veamos un par de ejemplos: "
      ],
      "metadata": {
        "id": "ixjq_W2mAWqO"
      }
    },
    {
      "cell_type": "code",
      "source": [
        "import numpy as np\n",
        "ini = 1\n",
        "end = 4\n",
        "x = np.tile(np.arange(ini, end+1), (end+1,1))\n",
        "x"
      ],
      "metadata": {
        "colab": {
          "base_uri": "https://localhost:8080/"
        },
        "id": "c45zgdbQAzEU",
        "outputId": "ee4f841c-a637-4080-9cb7-80c1693ad4d4"
      },
      "execution_count": null,
      "outputs": [
        {
          "output_type": "execute_result",
          "data": {
            "text/plain": [
              "array([[1, 2, 3, 4],\n",
              "       [1, 2, 3, 4],\n",
              "       [1, 2, 3, 4],\n",
              "       [1, 2, 3, 4],\n",
              "       [1, 2, 3, 4]])"
            ]
          },
          "metadata": {},
          "execution_count": 282
        }
      ]
    },
    {
      "cell_type": "markdown",
      "source": [
        "Ahora queremos elevar al cuadrado cada elemento de la matriz. Podemos hacerlo \"a lo burro\":"
      ],
      "metadata": {
        "id": "Yg5taesCA3wa"
      }
    },
    {
      "cell_type": "code",
      "source": [
        "y=x.copy()\n",
        "\n",
        "def my_func(x):  \n",
        "  for i in range(x.shape[0]): \n",
        "    for j in range(x.shape[1]):\n",
        "        x[i,j] **= 2\n",
        "  return x\n",
        "\n",
        "x = my_func(x)\n",
        "x"
      ],
      "metadata": {
        "colab": {
          "base_uri": "https://localhost:8080/"
        },
        "id": "wv38l_SYA8zq",
        "outputId": "95566fbf-4234-4799-e239-c7d0538c60e6"
      },
      "execution_count": null,
      "outputs": [
        {
          "output_type": "execute_result",
          "data": {
            "text/plain": [
              "array([[ 1,  4,  9, 16],\n",
              "       [ 1,  4,  9, 16],\n",
              "       [ 1,  4,  9, 16],\n",
              "       [ 1,  4,  9, 16],\n",
              "       [ 1,  4,  9, 16]])"
            ]
          },
          "metadata": {},
          "execution_count": 283
        }
      ]
    },
    {
      "cell_type": "markdown",
      "source": [
        "O podemos hacerlo aprovechando las capacidades que ofrece NumPy:"
      ],
      "metadata": {
        "id": "Zm0gzW2RA-xT"
      }
    },
    {
      "cell_type": "code",
      "source": [
        "y **= 2 \n",
        "y  "
      ],
      "metadata": {
        "colab": {
          "base_uri": "https://localhost:8080/"
        },
        "id": "fjAV_tnxBE1j",
        "outputId": "7d43e815-e29d-43bb-f0c7-05dae76e0b3e"
      },
      "execution_count": null,
      "outputs": [
        {
          "output_type": "execute_result",
          "data": {
            "text/plain": [
              "array([[ 1,  4,  9, 16],\n",
              "       [ 1,  4,  9, 16],\n",
              "       [ 1,  4,  9, 16],\n",
              "       [ 1,  4,  9, 16],\n",
              "       [ 1,  4,  9, 16]])"
            ]
          },
          "metadata": {},
          "execution_count": 284
        }
      ]
    },
    {
      "cell_type": "code",
      "source": [
        "%timeit my_func(x)"
      ],
      "metadata": {
        "colab": {
          "base_uri": "https://localhost:8080/"
        },
        "id": "GIFYeCj4CHNA",
        "outputId": "2598d36d-7899-4548-8211-0cca37b90117"
      },
      "execution_count": null,
      "outputs": [
        {
          "output_type": "stream",
          "name": "stdout",
          "text": [
            "10.5 µs ± 171 ns per loop (mean ± std. dev. of 7 runs, 100000 loops each)\n"
          ]
        }
      ]
    },
    {
      "cell_type": "code",
      "source": [
        "%timeit 'y**= 2'"
      ],
      "metadata": {
        "colab": {
          "base_uri": "https://localhost:8080/"
        },
        "id": "S1S_1Y2-CJxo",
        "outputId": "8c1d957b-bc85-4e93-e79e-a633abc25a99"
      },
      "execution_count": null,
      "outputs": [
        {
          "output_type": "stream",
          "name": "stdout",
          "text": [
            "17.2 ns ± 3.83 ns per loop (mean ± std. dev. of 7 runs, 100000000 loops each)\n"
          ]
        }
      ]
    },
    {
      "cell_type": "markdown",
      "source": [
        "En este caso, la versión que no emplea bucles `for` anidados tarda 1000 veces menos que la que sí los emplea. "
      ],
      "metadata": {
        "id": "2H7zKHGLC_ZJ"
      }
    },
    {
      "cell_type": "markdown",
      "source": [
        "Otro ejemplo, en donde queremos modificar las dos últimas filas de una matriz: "
      ],
      "metadata": {
        "id": "_5U0VfcLDRWF"
      }
    },
    {
      "cell_type": "code",
      "source": [
        "def my_func2(x):  \n",
        "  for i in range(end-1, end+1): \n",
        "    for j in range(x.shape[1]):\n",
        "        x[i, j] += 5\n",
        "  return x\n",
        "  \n",
        "x = my_func2(x)\n",
        "x"
      ],
      "metadata": {
        "colab": {
          "base_uri": "https://localhost:8080/"
        },
        "id": "B0B3MgBXDUl8",
        "outputId": "90f296a4-5912-4778-f5b9-5b4a2c2854c4"
      },
      "execution_count": null,
      "outputs": [
        {
          "output_type": "execute_result",
          "data": {
            "text/plain": [
              "array([[ 1,  4,  9, 16],\n",
              "       [ 1,  4,  9, 16],\n",
              "       [ 1,  4,  9, 16],\n",
              "       [ 6,  9, 14, 21],\n",
              "       [ 6,  9, 14, 21]])"
            ]
          },
          "metadata": {},
          "execution_count": 285
        }
      ]
    },
    {
      "cell_type": "code",
      "source": [
        "y[np.arange(end-1,end+1), :] += 5 \n",
        "y"
      ],
      "metadata": {
        "colab": {
          "base_uri": "https://localhost:8080/"
        },
        "id": "PgNeAhpfDvct",
        "outputId": "d166d8ed-1db2-47ba-d5b4-879715b8f204"
      },
      "execution_count": null,
      "outputs": [
        {
          "output_type": "execute_result",
          "data": {
            "text/plain": [
              "array([[ 1,  4,  9, 16],\n",
              "       [ 1,  4,  9, 16],\n",
              "       [ 1,  4,  9, 16],\n",
              "       [ 6,  9, 14, 21],\n",
              "       [ 6,  9, 14, 21]])"
            ]
          },
          "metadata": {},
          "execution_count": 286
        }
      ]
    },
    {
      "cell_type": "code",
      "source": [
        "%timeit my_func2(x)"
      ],
      "metadata": {
        "colab": {
          "base_uri": "https://localhost:8080/"
        },
        "id": "ooUHSG0PDz3-",
        "outputId": "471e2c3f-1baf-4a44-e87f-31d1a74ca864"
      },
      "execution_count": null,
      "outputs": [
        {
          "output_type": "stream",
          "name": "stdout",
          "text": [
            "4.65 µs ± 181 ns per loop (mean ± std. dev. of 7 runs, 100000 loops each)\n"
          ]
        }
      ]
    },
    {
      "cell_type": "code",
      "source": [
        "%timeit 'y[np.arange(end-1,end+1), :] += 5'"
      ],
      "metadata": {
        "colab": {
          "base_uri": "https://localhost:8080/"
        },
        "id": "P7o-whIVD2bn",
        "outputId": "3f4b662d-a0d0-436f-82f2-4eaf639edc28"
      },
      "execution_count": null,
      "outputs": [
        {
          "output_type": "stream",
          "name": "stdout",
          "text": [
            "15.2 ns ± 0.148 ns per loop (mean ± std. dev. of 7 runs, 100000000 loops each)\n"
          ]
        }
      ]
    },
    {
      "cell_type": "markdown",
      "source": [
        "Comprobamos, de nuevo, que la diferencia en rendimiento entre sacar partido de la vectorización de NumPy y emplear bucles `for` anidados es muy notable. \n",
        "\n",
        "Hay muchas más funciones útiles e interesantes en NumPy, por lo que se recomienda echarle un vistazo a la documentación disponible en: http://www.numpy.org/ "
      ],
      "metadata": {
        "id": "mHgYfz5rEAF6"
      }
    },
    {
      "cell_type": "markdown",
      "source": [
        "## Indexado NumPy"
      ],
      "metadata": {
        "id": "dzIVkraPW7Rd"
      }
    },
    {
      "cell_type": "markdown",
      "source": [
        "Funciona de modo similar a como hemos visto con las listas de Python. "
      ],
      "metadata": {
        "id": "AurvkjfhXAr1"
      }
    },
    {
      "cell_type": "code",
      "source": [
        "x = [5]\n",
        "type(x)"
      ],
      "metadata": {
        "colab": {
          "base_uri": "https://localhost:8080/"
        },
        "id": "bWC9k7-fXKSG",
        "outputId": "f51d90a9-69de-457d-9c15-1f50676f5229"
      },
      "execution_count": null,
      "outputs": [
        {
          "output_type": "execute_result",
          "data": {
            "text/plain": [
              "list"
            ]
          },
          "metadata": {},
          "execution_count": 8
        }
      ]
    },
    {
      "cell_type": "code",
      "source": [
        "x = np.array([5])\n",
        "type(x)"
      ],
      "metadata": {
        "colab": {
          "base_uri": "https://localhost:8080/"
        },
        "id": "0PmKBcZzXPG0",
        "outputId": "47938351-17e4-4d1a-d9c3-5b09679210cd"
      },
      "execution_count": null,
      "outputs": [
        {
          "output_type": "execute_result",
          "data": {
            "text/plain": [
              "numpy.ndarray"
            ]
          },
          "metadata": {},
          "execution_count": 10
        }
      ]
    },
    {
      "cell_type": "code",
      "source": [
        "m = np.arange(0,6).reshape(2,3)\n",
        "m"
      ],
      "metadata": {
        "colab": {
          "base_uri": "https://localhost:8080/"
        },
        "id": "YvwGQONzXbrL",
        "outputId": "0cad58de-c354-4c0d-c79e-2f896744f768"
      },
      "execution_count": null,
      "outputs": [
        {
          "output_type": "execute_result",
          "data": {
            "text/plain": [
              "array([[0, 1, 2],\n",
              "       [3, 4, 5]])"
            ]
          },
          "metadata": {},
          "execution_count": 11
        }
      ]
    },
    {
      "cell_type": "code",
      "source": [
        "print('Mostrar la primera fila')\n",
        "print(m[0,:])\n",
        "\n",
        "print('Mostrar las columnas pares')\n",
        "print(m[:,::2])\n",
        "\n",
        "print('Mostrar la esquina inferior derecha')\n",
        "print(m[-1,-1])"
      ],
      "metadata": {
        "colab": {
          "base_uri": "https://localhost:8080/"
        },
        "id": "Dr9IElqOXgjM",
        "outputId": "1e85677d-2fd4-4f8d-858d-7a2d68231341"
      },
      "execution_count": null,
      "outputs": [
        {
          "output_type": "stream",
          "name": "stdout",
          "text": [
            "Mostrar la primera fila\n",
            "[0 1 2]\n",
            "Mostrar las columnas pares\n",
            "[[0 2]\n",
            " [3 5]]\n",
            "Mostrar la esquina inferior derecha\n",
            "5\n"
          ]
        }
      ]
    },
    {
      "cell_type": "code",
      "source": [
        "m[m<3]=0\n",
        "print('Todos los elementos menores a 3 son 0 ahora')\n",
        "print(m)"
      ],
      "metadata": {
        "colab": {
          "base_uri": "https://localhost:8080/"
        },
        "id": "9nJM1vKvaURl",
        "outputId": "c9b77bcd-2751-498a-ff58-440c33c2b0d9"
      },
      "execution_count": null,
      "outputs": [
        {
          "output_type": "stream",
          "name": "stdout",
          "text": [
            "Todos los elementos menores a 3 son 0 ahora\n",
            "[[0 0 0]\n",
            " [3 4 5]]\n"
          ]
        }
      ]
    },
    {
      "cell_type": "markdown",
      "source": [
        "No obstante, el indexado de listas de Python presenta ciertas limitaciones. Por ejemplo, imaginemos que tenemos la lista $x = [1,2,3,4,5,9,9,9]$ y queremos recuperar varios índices a la vez (posiciones $[1,2,6]$). ¿Cómo hacemos? "
      ],
      "metadata": {
        "id": "foHjy3csbR89"
      }
    },
    {
      "cell_type": "code",
      "source": [
        "x = [1,2,3,4,5,9,9,9]\n",
        "positions = [1,2,6]\n",
        "x[positions]"
      ],
      "metadata": {
        "colab": {
          "base_uri": "https://localhost:8080/",
          "height": 208
        },
        "id": "ejwke67Sa6Ed",
        "outputId": "39660934-78d0-4eb6-cfe1-b0fa333adbe7"
      },
      "execution_count": null,
      "outputs": [
        {
          "output_type": "error",
          "ename": "TypeError",
          "evalue": "ignored",
          "traceback": [
            "\u001b[0;31m---------------------------------------------------------------------------\u001b[0m",
            "\u001b[0;31mTypeError\u001b[0m                                 Traceback (most recent call last)",
            "\u001b[0;32m<ipython-input-26-1713b54dd1a2>\u001b[0m in \u001b[0;36m<module>\u001b[0;34m\u001b[0m\n\u001b[1;32m      1\u001b[0m \u001b[0mx\u001b[0m \u001b[0;34m=\u001b[0m \u001b[0;34m[\u001b[0m\u001b[0;36m1\u001b[0m\u001b[0;34m,\u001b[0m\u001b[0;36m2\u001b[0m\u001b[0;34m,\u001b[0m\u001b[0;36m3\u001b[0m\u001b[0;34m,\u001b[0m\u001b[0;36m4\u001b[0m\u001b[0;34m,\u001b[0m\u001b[0;36m5\u001b[0m\u001b[0;34m,\u001b[0m\u001b[0;36m9\u001b[0m\u001b[0;34m,\u001b[0m\u001b[0;36m9\u001b[0m\u001b[0;34m,\u001b[0m\u001b[0;36m9\u001b[0m\u001b[0;34m]\u001b[0m\u001b[0;34m\u001b[0m\u001b[0;34m\u001b[0m\u001b[0m\n\u001b[1;32m      2\u001b[0m \u001b[0mpositions\u001b[0m \u001b[0;34m=\u001b[0m \u001b[0;34m[\u001b[0m\u001b[0;36m1\u001b[0m\u001b[0;34m,\u001b[0m\u001b[0;36m2\u001b[0m\u001b[0;34m,\u001b[0m\u001b[0;36m6\u001b[0m\u001b[0;34m]\u001b[0m\u001b[0;34m\u001b[0m\u001b[0;34m\u001b[0m\u001b[0m\n\u001b[0;32m----> 3\u001b[0;31m \u001b[0mx\u001b[0m\u001b[0;34m[\u001b[0m\u001b[0mpositions\u001b[0m\u001b[0;34m]\u001b[0m\u001b[0;34m\u001b[0m\u001b[0;34m\u001b[0m\u001b[0m\n\u001b[0m",
            "\u001b[0;31mTypeError\u001b[0m: list indices must be integers or slices, not list"
          ]
        }
      ]
    },
    {
      "cell_type": "markdown",
      "source": [
        "Una posibilidad sería: "
      ],
      "metadata": {
        "id": "FE8UB9-wb3u9"
      }
    },
    {
      "cell_type": "code",
      "source": [
        "[x[i] for i in positions]"
      ],
      "metadata": {
        "colab": {
          "base_uri": "https://localhost:8080/"
        },
        "id": "Q3ckPPrYb5G9",
        "outputId": "f4d204f9-6f79-404d-a429-c29a46b64409"
      },
      "execution_count": null,
      "outputs": [
        {
          "output_type": "execute_result",
          "data": {
            "text/plain": [
              "[2, 3, 9]"
            ]
          },
          "metadata": {},
          "execution_count": 27
        }
      ]
    },
    {
      "cell_type": "markdown",
      "source": [
        "Otra alternativa: "
      ],
      "metadata": {
        "id": "6WaM2XQWcCCt"
      }
    },
    {
      "cell_type": "code",
      "source": [
        "from operator import itemgetter \n",
        "x = [1,2,3,4,5,9,9,9]\n",
        "positions = [1,2,6]\n",
        "print(itemgetter(*positions)(x))"
      ],
      "metadata": {
        "colab": {
          "base_uri": "https://localhost:8080/"
        },
        "id": "VzsgAF9GcDpt",
        "outputId": "f96ca1af-d793-420a-ffaa-9ee5fca9536d"
      },
      "execution_count": null,
      "outputs": [
        {
          "output_type": "stream",
          "name": "stdout",
          "text": [
            "(2, 3, 9)\n"
          ]
        }
      ]
    },
    {
      "cell_type": "markdown",
      "source": [
        "No obstante, parece más natural y rápido usar NumPy:"
      ],
      "metadata": {
        "id": "esh9olqMcJqN"
      }
    },
    {
      "cell_type": "code",
      "source": [
        "x = np.array([1,2,3,4,5,9,9,9])\n",
        "positions = [1,2,6]\n",
        "x[positions]"
      ],
      "metadata": {
        "colab": {
          "base_uri": "https://localhost:8080/"
        },
        "id": "PymOWYZncP8V",
        "outputId": "a820bfd1-9fe7-47f1-ec6d-0c824daf75d4"
      },
      "execution_count": null,
      "outputs": [
        {
          "output_type": "execute_result",
          "data": {
            "text/plain": [
              "array([2, 3, 9])"
            ]
          },
          "metadata": {},
          "execution_count": 29
        }
      ]
    },
    {
      "cell_type": "markdown",
      "source": [
        "Veamos un último ejemplo de indexado con NumPy:"
      ],
      "metadata": {
        "id": "CIOffPh4ccrN"
      }
    },
    {
      "cell_type": "code",
      "source": [
        "data = np.array([[11,22,33,44],[55,66,77,88],[99,111,222,333]])\n",
        "data"
      ],
      "metadata": {
        "colab": {
          "base_uri": "https://localhost:8080/"
        },
        "id": "0pQ7zvrxcfgu",
        "outputId": "984dcd5b-1c48-4eef-e9fb-b5b19cdbb86a"
      },
      "execution_count": null,
      "outputs": [
        {
          "output_type": "execute_result",
          "data": {
            "text/plain": [
              "array([[ 11,  22,  33,  44],\n",
              "       [ 55,  66,  77,  88],\n",
              "       [ 99, 111, 222, 333]])"
            ]
          },
          "metadata": {},
          "execution_count": 30
        }
      ]
    },
    {
      "cell_type": "code",
      "source": [
        "X,y = data[:,:-1],data[:,-1]\n",
        "print(X)\n",
        "print(y)"
      ],
      "metadata": {
        "colab": {
          "base_uri": "https://localhost:8080/"
        },
        "id": "dC1BTVXFcpci",
        "outputId": "9c72dba6-5598-47f4-a8a3-b90f8e63a41c"
      },
      "execution_count": null,
      "outputs": [
        {
          "output_type": "stream",
          "name": "stdout",
          "text": [
            "[[ 11  22  33]\n",
            " [ 55  66  77]\n",
            " [ 99 111 222]]\n",
            "[ 44  88 333]\n"
          ]
        }
      ]
    },
    {
      "cell_type": "markdown",
      "source": [
        "$X$ almacena todas las filas de `data` (`:`) y, de las columnas, escoge todas menos la última (`:-1`). $y$, en cambio, almacena todas las filas de la matriz y se queda con la última columna (`-1`)."
      ],
      "metadata": {
        "id": "J3KLWxEKdcdl"
      }
    },
    {
      "cell_type": "markdown",
      "source": [
        "## Generación de Datos"
      ],
      "metadata": {
        "id": "a48FELOMfVgv"
      }
    },
    {
      "cell_type": "markdown",
      "source": [
        "NumPy cuenta con varias funciones para la generación de datos pseudo-aleatorios ($\\textit{random sampling}$) dentro de `numpy.random`: https://numpy.org/doc/1.16/reference/routines.random.html. Podemos fijar la semilla del generador de números pseudo-aleatorios para tener resultados reproducibles con `np.random.seed(seed)` (siendo `seed` un entero).\n",
        "\n",
        "También incluye funciones para alterar aleatoriamente el orden de un array:\n",
        "*  `np.random.shuffle(x)`: Modifica `x` cambiando el orden de los elementos aleatoriamente. (Función $\\textit{in-place}$, no devuelve nada).\n",
        "*  `np.random.permutation(x)`: Devuelve el array `x` con sus elementos desordenados (de forma aleatoria). Esta función también se diferencia de la anterior en que, si le pasas un entero, te devuelve un $\\textit{shuffled range}$: `np.random.shuffle(np.arange(n))`"
      ],
      "metadata": {
        "id": "lvcHMMeCfX1e"
      }
    },
    {
      "cell_type": "code",
      "source": [
        "np.random.seed(42) # ¿Por qué 42? https://medium.com/geekculture/the-story-behind-random-seed-42-in-machine-learning-b838c4ac290a\n",
        "np.random.permutation(5)"
      ],
      "metadata": {
        "colab": {
          "base_uri": "https://localhost:8080/"
        },
        "id": "lrZa8QOsgRZD",
        "outputId": "cae54f32-3aa8-4b91-e764-ae9462057154"
      },
      "execution_count": null,
      "outputs": [
        {
          "output_type": "execute_result",
          "data": {
            "text/plain": [
              "array([1, 4, 2, 0, 3])"
            ]
          },
          "metadata": {},
          "execution_count": 72
        }
      ]
    },
    {
      "cell_type": "code",
      "source": [
        "np.random.shuffle(5) # si le pasas un entero a np.random.shuffle da error, a diferencia de si se lo pasas a np.random.permutation"
      ],
      "metadata": {
        "colab": {
          "base_uri": "https://localhost:8080/",
          "height": 208
        },
        "id": "5BGPv9ZrgVij",
        "outputId": "f59d6f78-8c96-4949-a985-4035e9cc175b"
      },
      "execution_count": null,
      "outputs": [
        {
          "output_type": "error",
          "ename": "TypeError",
          "evalue": "ignored",
          "traceback": [
            "\u001b[0;31m---------------------------------------------------------------------------\u001b[0m",
            "\u001b[0;31mTypeError\u001b[0m                                 Traceback (most recent call last)",
            "\u001b[0;32m<ipython-input-73-ba7f0e4e858e>\u001b[0m in \u001b[0;36m<module>\u001b[0;34m\u001b[0m\n\u001b[0;32m----> 1\u001b[0;31m \u001b[0mnp\u001b[0m\u001b[0;34m.\u001b[0m\u001b[0mrandom\u001b[0m\u001b[0;34m.\u001b[0m\u001b[0mshuffle\u001b[0m\u001b[0;34m(\u001b[0m\u001b[0;36m5\u001b[0m\u001b[0;34m)\u001b[0m\u001b[0;34m\u001b[0m\u001b[0;34m\u001b[0m\u001b[0m\n\u001b[0m",
            "\u001b[0;32mmtrand.pyx\u001b[0m in \u001b[0;36mnumpy.random.mtrand.RandomState.shuffle\u001b[0;34m()\u001b[0m\n",
            "\u001b[0;31mTypeError\u001b[0m: object of type 'int' has no len()"
          ]
        }
      ]
    },
    {
      "cell_type": "code",
      "source": [
        "x = np.arange(1,6)\n",
        "print(x)\n",
        "np.random.shuffle(x)\n",
        "print(x)"
      ],
      "metadata": {
        "colab": {
          "base_uri": "https://localhost:8080/"
        },
        "id": "fLmNXwBKhGBX",
        "outputId": "b2c4d17e-b595-4ee6-83aa-256d6494411a"
      },
      "execution_count": null,
      "outputs": [
        {
          "output_type": "stream",
          "name": "stdout",
          "text": [
            "[1 2 3 4 5]\n",
            "[4 2 3 1 5]\n"
          ]
        }
      ]
    },
    {
      "cell_type": "code",
      "source": [
        "x = np.arange(1,6)\n",
        "print(x)\n",
        "x = np.random.permutation(x)\n",
        "print(x)"
      ],
      "metadata": {
        "colab": {
          "base_uri": "https://localhost:8080/"
        },
        "id": "WpgPvFVOhvnZ",
        "outputId": "698c5ca1-ef23-429f-fc60-d6560e7ad0fb"
      },
      "execution_count": null,
      "outputs": [
        {
          "output_type": "stream",
          "name": "stdout",
          "text": [
            "[1 2 3 4 5]\n",
            "[2 1 4 5 3]\n"
          ]
        }
      ]
    },
    {
      "cell_type": "markdown",
      "source": [
        "Veamos un par de ejemplos de generación de datos: el primero, empleando la distribución normal y, el segundo, empleando la distribución binomial."
      ],
      "metadata": {
        "id": "pDnlYkLmj1Ux"
      }
    },
    {
      "cell_type": "code",
      "source": [
        "import matplotlib.pyplot as plt\n",
        "\n",
        "mu, sigma = 0.5, 0.1\n",
        "s = np.random.normal(mu, sigma, 1000)\n",
        "\n",
        "# Create the bins and histogram\n",
        "count, bins, ignored = plt.hist(s, 20, density=True)"
      ],
      "metadata": {
        "colab": {
          "base_uri": "https://localhost:8080/",
          "height": 265
        },
        "id": "V-8-XHYnj9dC",
        "outputId": "9f2b0b06-edb7-46db-bfaf-a52b1397d052"
      },
      "execution_count": null,
      "outputs": [
        {
          "output_type": "display_data",
          "data": {
            "text/plain": [
              "<Figure size 432x288 with 1 Axes>"
            ],
            "image/png": "[encoded data removed]"
          },
          "metadata": {
            "needs_background": "light"
          }
        }
      ]
    },
    {
      "cell_type": "code",
      "source": [
        "#Draw samples from the distribution:\n",
        "n, p = 10, .5  # number of trials, probability of each trial\n",
        "s = np.random.binomial(n, p, 100)\n",
        "# result of flipping a coin 10 times, tested 25 times.\n",
        "print(s)\n",
        "\n",
        "#What is the probability of getting 3 or less heads\n",
        "print(sum(s <= 3)/100)\n",
        "# answer = 0.17, or 17%."
      ],
      "metadata": {
        "colab": {
          "base_uri": "https://localhost:8080/"
        },
        "id": "DXN9aCwrkFX8",
        "outputId": "078bd134-75d2-4932-ec7d-82f62e6c9c6f"
      },
      "execution_count": null,
      "outputs": [
        {
          "output_type": "stream",
          "name": "stdout",
          "text": [
            "[6 3 3 4 3 7 4 8 4 4 6 6 5 5 6 4 9 8 6 4 6 3 2 4 5 7 6 6 5 4 4 8 2 7 5 5 6\n",
            " 5 7 7 5 4 5 7 4 5 6 6 3 6 7 4 4 8 4 7 5 4 7 5 5 4 5 3 5 8 4 6 4 6 3 8 5 4\n",
            " 3 3 5 4 7 5 4 5 6 3 3 2 6 6 5 7 6 5 7 4 3 4 3 5 7 2]\n",
            "0.17\n"
          ]
        }
      ]
    },
    {
      "cell_type": "markdown",
      "source": [
        "A parte de `np.random.randint`, podemos generar datos discretos muestreando aleatoriamente de un conjunto. Para ello, podemos usar la función `np.random.choice`:"
      ],
      "metadata": {
        "id": "OaEcgQC5lJFu"
      }
    },
    {
      "cell_type": "code",
      "source": [
        "np.random.randint(1,5)"
      ],
      "metadata": {
        "colab": {
          "base_uri": "https://localhost:8080/"
        },
        "id": "Wal0zE4jlKmm",
        "outputId": "9a17ab1e-5274-4caa-c634-f25ee578caa1"
      },
      "execution_count": null,
      "outputs": [
        {
          "output_type": "execute_result",
          "data": {
            "text/plain": [
              "3"
            ]
          },
          "metadata": {},
          "execution_count": 78
        }
      ]
    },
    {
      "cell_type": "code",
      "source": [
        "type(np.random.randint(1,5))"
      ],
      "metadata": {
        "colab": {
          "base_uri": "https://localhost:8080/"
        },
        "id": "C9I1cGgWlPXY",
        "outputId": "8f3d719a-11ad-4278-eb84-7197447238a4"
      },
      "execution_count": null,
      "outputs": [
        {
          "output_type": "execute_result",
          "data": {
            "text/plain": [
              "int"
            ]
          },
          "metadata": {},
          "execution_count": 79
        }
      ]
    },
    {
      "cell_type": "code",
      "source": [
        "np.random.randint(1,5, size=(3,2))"
      ],
      "metadata": {
        "colab": {
          "base_uri": "https://localhost:8080/"
        },
        "id": "ea5db-IglmMx",
        "outputId": "dc6a3856-1e7e-4b71-b95d-f004d1624a43"
      },
      "execution_count": null,
      "outputs": [
        {
          "output_type": "execute_result",
          "data": {
            "text/plain": [
              "array([[2, 1],\n",
              "       [1, 3],\n",
              "       [1, 1]])"
            ]
          },
          "metadata": {},
          "execution_count": 80
        }
      ]
    },
    {
      "cell_type": "code",
      "source": [
        "np.random.choice(5, 3)\n",
        "#This is equivalent to np.random.randint(0,5,3)"
      ],
      "metadata": {
        "colab": {
          "base_uri": "https://localhost:8080/"
        },
        "id": "7QDr6oSjlpTw",
        "outputId": "00b3de48-f4f8-4a4f-925c-9c496bd10712"
      },
      "execution_count": null,
      "outputs": [
        {
          "output_type": "execute_result",
          "data": {
            "text/plain": [
              "array([0, 2, 3])"
            ]
          },
          "metadata": {},
          "execution_count": 81
        }
      ]
    },
    {
      "cell_type": "markdown",
      "source": [
        "`np.random.choice` permite, incluso, proporcionar la probabilidad de selección de cada elemento:"
      ],
      "metadata": {
        "id": "QMugegJdlwH3"
      }
    },
    {
      "cell_type": "code",
      "source": [
        "np.random.choice(5, 3, p=[0.1, 0, 0.3, 0.6, 0])"
      ],
      "metadata": {
        "colab": {
          "base_uri": "https://localhost:8080/"
        },
        "id": "pPvguAXOls0J",
        "outputId": "e6299151-23da-4ffd-d9b1-7d74813bf4e7"
      },
      "execution_count": null,
      "outputs": [
        {
          "output_type": "execute_result",
          "data": {
            "text/plain": [
              "array([2, 3, 3])"
            ]
          },
          "metadata": {},
          "execution_count": 82
        }
      ]
    },
    {
      "cell_type": "markdown",
      "source": [
        "E incluso indicar si se pueden repetir valores o no: `replace = False` indica que no se pueden escoger elementos con reemplazamiento, es decir, una vez seleccionado un valor ya no se puede volver a escoger."
      ],
      "metadata": {
        "id": "TG3IEHN5mRzs"
      }
    },
    {
      "cell_type": "code",
      "source": [
        "np.random.choice(5, 3, replace=False, p=[0.1, 0, 0.3, 0.6, 0])"
      ],
      "metadata": {
        "colab": {
          "base_uri": "https://localhost:8080/"
        },
        "id": "sm8tv51ylw6K",
        "outputId": "f65a0afc-5414-4359-95d6-1878acc855a9"
      },
      "execution_count": null,
      "outputs": [
        {
          "output_type": "execute_result",
          "data": {
            "text/plain": [
              "array([0, 3, 2])"
            ]
          },
          "metadata": {},
          "execution_count": 84
        }
      ]
    },
    {
      "cell_type": "markdown",
      "source": [
        "Evidentemente, la definición de todas estas variables debe ser consistente:\n",
        "\n",
        "\n",
        "*   las probabilidades de la lista deben sumar 1\n",
        "*   y debe haber suficientes elementos a escoger\n",
        "\n"
      ],
      "metadata": {
        "id": "kjID_iHtmhJr"
      }
    },
    {
      "cell_type": "code",
      "source": [
        "np.random.choice(5, 3, replace=False, p=[0.0, 0, 0.3, 0.6, 0])"
      ],
      "metadata": {
        "colab": {
          "base_uri": "https://localhost:8080/",
          "height": 208
        },
        "id": "fE7KhwPWmuL1",
        "outputId": "bb58a3cf-370f-447d-ac6f-b9a9e8204b05"
      },
      "execution_count": null,
      "outputs": [
        {
          "output_type": "error",
          "ename": "ValueError",
          "evalue": "ignored",
          "traceback": [
            "\u001b[0;31m---------------------------------------------------------------------------\u001b[0m",
            "\u001b[0;31mValueError\u001b[0m                                Traceback (most recent call last)",
            "\u001b[0;32m<ipython-input-85-c6fb567aca74>\u001b[0m in \u001b[0;36m<module>\u001b[0;34m\u001b[0m\n\u001b[0;32m----> 1\u001b[0;31m \u001b[0mnp\u001b[0m\u001b[0;34m.\u001b[0m\u001b[0mrandom\u001b[0m\u001b[0;34m.\u001b[0m\u001b[0mchoice\u001b[0m\u001b[0;34m(\u001b[0m\u001b[0;36m5\u001b[0m\u001b[0;34m,\u001b[0m \u001b[0;36m3\u001b[0m\u001b[0;34m,\u001b[0m \u001b[0mreplace\u001b[0m\u001b[0;34m=\u001b[0m\u001b[0;32mFalse\u001b[0m\u001b[0;34m,\u001b[0m \u001b[0mp\u001b[0m\u001b[0;34m=\u001b[0m\u001b[0;34m[\u001b[0m\u001b[0;36m0.0\u001b[0m\u001b[0;34m,\u001b[0m \u001b[0;36m0\u001b[0m\u001b[0;34m,\u001b[0m \u001b[0;36m0.3\u001b[0m\u001b[0;34m,\u001b[0m \u001b[0;36m0.6\u001b[0m\u001b[0;34m,\u001b[0m \u001b[0;36m0\u001b[0m\u001b[0;34m]\u001b[0m\u001b[0;34m)\u001b[0m\u001b[0;34m\u001b[0m\u001b[0;34m\u001b[0m\u001b[0m\n\u001b[0m",
            "\u001b[0;32mmtrand.pyx\u001b[0m in \u001b[0;36mnumpy.random.mtrand.RandomState.choice\u001b[0;34m()\u001b[0m\n",
            "\u001b[0;31mValueError\u001b[0m: probabilities do not sum to 1"
          ]
        }
      ]
    },
    {
      "cell_type": "code",
      "source": [
        "np.random.choice(5, 3, replace=False, p=[0.0, 0, 0.5, 0.5, 0])"
      ],
      "metadata": {
        "colab": {
          "base_uri": "https://localhost:8080/",
          "height": 208
        },
        "id": "zGixB280mwrc",
        "outputId": "1665a513-6efe-45f2-a7ea-fee07f57f54d"
      },
      "execution_count": null,
      "outputs": [
        {
          "output_type": "error",
          "ename": "ValueError",
          "evalue": "ignored",
          "traceback": [
            "\u001b[0;31m---------------------------------------------------------------------------\u001b[0m",
            "\u001b[0;31mValueError\u001b[0m                                Traceback (most recent call last)",
            "\u001b[0;32m<ipython-input-86-b46c49309d68>\u001b[0m in \u001b[0;36m<module>\u001b[0;34m\u001b[0m\n\u001b[0;32m----> 1\u001b[0;31m \u001b[0mnp\u001b[0m\u001b[0;34m.\u001b[0m\u001b[0mrandom\u001b[0m\u001b[0;34m.\u001b[0m\u001b[0mchoice\u001b[0m\u001b[0;34m(\u001b[0m\u001b[0;36m5\u001b[0m\u001b[0;34m,\u001b[0m \u001b[0;36m3\u001b[0m\u001b[0;34m,\u001b[0m \u001b[0mreplace\u001b[0m\u001b[0;34m=\u001b[0m\u001b[0;32mFalse\u001b[0m\u001b[0;34m,\u001b[0m \u001b[0mp\u001b[0m\u001b[0;34m=\u001b[0m\u001b[0;34m[\u001b[0m\u001b[0;36m0.0\u001b[0m\u001b[0;34m,\u001b[0m \u001b[0;36m0\u001b[0m\u001b[0;34m,\u001b[0m \u001b[0;36m0.5\u001b[0m\u001b[0;34m,\u001b[0m \u001b[0;36m0.5\u001b[0m\u001b[0;34m,\u001b[0m \u001b[0;36m0\u001b[0m\u001b[0;34m]\u001b[0m\u001b[0;34m)\u001b[0m\u001b[0;34m\u001b[0m\u001b[0;34m\u001b[0m\u001b[0m\n\u001b[0m",
            "\u001b[0;32mmtrand.pyx\u001b[0m in \u001b[0;36mnumpy.random.mtrand.RandomState.choice\u001b[0;34m()\u001b[0m\n",
            "\u001b[0;31mValueError\u001b[0m: Fewer non-zero entries in p than size"
          ]
        }
      ]
    },
    {
      "cell_type": "markdown",
      "source": [
        "## Lectura de datos"
      ],
      "metadata": {
        "id": "Kgx6hhQ4m8ER"
      }
    },
    {
      "cell_type": "markdown",
      "source": [
        "Hay muchas formas de leer datos de disco (en nuestro caso, de Google Drive). P. ej., podemos leer una matriz de un fichero de texto con cada línea siendo una fila y los elementos separados por espacios. Para poder ejecutar esta celda es necesario que el alumno haya hecho lo siguiente:\n",
        "\n",
        "* Haya 'conectado' su Google Drive con este Notebook (se muestra más abajo cómo hacerlo);\n",
        "* Disponga en la ruta adecuada de un fichero llamado 'mat.txt' con los siguientes valores:<br />\n",
        "1 2 3 4<br />\n",
        "5 6 7 8<br />\n",
        "9 10 11 12"
      ],
      "metadata": {
        "id": "GfDPiM4mnAU_"
      }
    },
    {
      "cell_type": "code",
      "source": [
        "#Para acceder a nuestros ficheros de Google Drive\n",
        "from google.colab import drive\n",
        "drive.mount('/content/drive')"
      ],
      "metadata": {
        "colab": {
          "base_uri": "https://localhost:8080/"
        },
        "id": "itIF3vaUn7Hz",
        "outputId": "b36c5aae-beea-41bf-ea53-43fc89a35ceb"
      },
      "execution_count": null,
      "outputs": [
        {
          "output_type": "stream",
          "name": "stdout",
          "text": [
            "Drive already mounted at /content/drive; to attempt to forcibly remount, call drive.mount(\"/content/drive\", force_remount=True).\n"
          ]
        }
      ]
    },
    {
      "cell_type": "code",
      "source": [
        "matrix = []\n",
        "\n",
        "# El fichero 'mat.txt', en general, suele situarse en G:\\Mi unidad\\Colab Notebooks\\\n",
        "# Para localizarlo, se pueden usar comandos como !ls o !find '/content/drive/MyDrive/Colab Notebooks' -iname 'mat.txt'\n",
        "f = open('drive/MyDrive/Colab Notebooks/mat.txt','r')\n",
        "\n",
        "for l in f:\n",
        "    row_matrix = []\n",
        "    # Eliminamos espacios en blanco al final de cada string\n",
        "    l = l.rstrip()\n",
        "    \n",
        "    # Individualizamos cada número (sabemos que están separados por espacios)\n",
        "    for e in l.split(' '):\n",
        "        row_matrix.append(float(e))\n",
        "            \n",
        "    if len(row_matrix) > 0:\n",
        "        matrix.append(row_matrix)\n",
        "    \n",
        "f.close()\n",
        "    \n",
        "matrix = np.array(matrix, np.float64)\n",
        "matrix"
      ],
      "metadata": {
        "colab": {
          "base_uri": "https://localhost:8080/"
        },
        "id": "23YAP6VJohc3",
        "outputId": "b2c964f2-3878-4bfc-f85b-9bcbb58c5e9c"
      },
      "execution_count": null,
      "outputs": [
        {
          "output_type": "execute_result",
          "data": {
            "text/plain": [
              "array([[ 1.,  2.,  3.,  4.],\n",
              "       [ 5.,  6.,  7.,  8.],\n",
              "       [ 9., 10., 11., 12.]])"
            ]
          },
          "metadata": {},
          "execution_count": 98
        }
      ]
    },
    {
      "cell_type": "markdown",
      "source": [
        "Podemos hacer lo mismo usando la función `np.loadtxt`. Con esa función se puede leer también un csv en una matriz de NumPy. Para guardar un array en un fichero de texto, se puede usar `np.savetxt`. Si vamos a guardar o leer un array de NumPy también se puede usar el formato binario `.npy`, que guardamo susando `np.save` y leemos con `np.load`."
      ],
      "metadata": {
        "id": "-GtJQv_DqIdL"
      }
    },
    {
      "cell_type": "markdown",
      "source": [
        "Veamos un ejemplo con un problema de aprendizaje automático (en donde lo que se pretende es predecir el año de una canción a partir de características de audio): https://archive.ics.uci.edu/ml/datasets/YearPredictionMSD A través de ese enlace se puede acceder al fichero https://archive.ics.uci.edu/ml/machine-learning-databases/00203/YearPredictionMSD.txt.zip Si descomprimimos ese fichero y lo colocamos en el mismo directorio en el que hemos ubicado 'mat.txt' podremos ejecutar la siguiente celda sin problema."
      ],
      "metadata": {
        "id": "1BtIO5rJ2V5y"
      }
    },
    {
      "cell_type": "code",
      "source": [
        "a = np.loadtxt('drive/MyDrive/Colab Notebooks/YearPredictionMSD.txt', delimiter=\",\") \n",
        "print(\"Número de salidas diferentes en entrenamiento: \", len(np.unique(a[:,0]))) # la variable a predecir es el año. Primera columna. \n",
        "print(np.unique(a[:,0]))"
      ],
      "metadata": {
        "colab": {
          "base_uri": "https://localhost:8080/"
        },
        "id": "vKuph9103IQH",
        "outputId": "a93e9b4f-9531-4c26-c852-1e1065d0caf2"
      },
      "execution_count": null,
      "outputs": [
        {
          "output_type": "stream",
          "name": "stdout",
          "text": [
            "Número de salidas diferentes en entrenamiento:  89\n",
            "[1922. 1924. 1925. 1926. 1927. 1928. 1929. 1930. 1931. 1932. 1933. 1934.\n",
            " 1935. 1936. 1937. 1938. 1939. 1940. 1941. 1942. 1943. 1944. 1945. 1946.\n",
            " 1947. 1948. 1949. 1950. 1951. 1952. 1953. 1954. 1955. 1956. 1957. 1958.\n",
            " 1959. 1960. 1961. 1962. 1963. 1964. 1965. 1966. 1967. 1968. 1969. 1970.\n",
            " 1971. 1972. 1973. 1974. 1975. 1976. 1977. 1978. 1979. 1980. 1981. 1982.\n",
            " 1983. 1984. 1985. 1986. 1987. 1988. 1989. 1990. 1991. 1992. 1993. 1994.\n",
            " 1995. 1996. 1997. 1998. 1999. 2000. 2001. 2002. 2003. 2004. 2005. 2006.\n",
            " 2007. 2008. 2009. 2010. 2011.]\n"
          ]
        }
      ]
    },
    {
      "cell_type": "markdown",
      "source": [
        "# Matplotlib"
      ],
      "metadata": {
        "id": "XgH-ilRcrIMe"
      }
    },
    {
      "cell_type": "markdown",
      "source": [
        "Matplotlib (https://matplotlib.org/) permite emplear distintos tipos de gráficos para visualizar los datos de forma sencilla y rápida usando listas o vectores de NumPy. Matplotlib está diseñado de forma muy similar a MATLAB, de modo que quien tenga ciertos conocimientos de este lenguaje encontrará numerosas similitudes y paralelismos. \n",
        "\n",
        "Su uso, como se puede ver en los siguientes ejemplos, es bastante sencillo e intuitivo. "
      ],
      "metadata": {
        "id": "7iXB-8_Yr5ZC"
      }
    },
    {
      "cell_type": "code",
      "source": [
        "import matplotlib.pyplot as plt\n",
        "\n",
        "y = [4, 1, 2, 5, 8.7]\n",
        "x = range(1, len(y)+1)\n",
        "\n",
        "# x hace referencia a los datos que aparecerán en el eje-X, es decir, las columnas\n",
        "# y hace referencia a los datos que aparecerán en el eje-Y, es decir, las filas\n",
        "plt.plot(x, y)\n",
        "plt.xlabel('X Axis')\n",
        "plt.ylabel('Y Axis')\n",
        "plt.title('First test')\n",
        "plt.show()"
      ],
      "metadata": {
        "colab": {
          "base_uri": "https://localhost:8080/",
          "height": 295
        },
        "id": "CKnRLs3SsES6",
        "outputId": "dd34219c-2653-4e02-9eec-4bbb3b62922d"
      },
      "execution_count": null,
      "outputs": [
        {
          "output_type": "display_data",
          "data": {
            "text/plain": [
              "<Figure size 432x288 with 1 Axes>"
            ],
            "image/png": "[encoded data removed]"
          },
          "metadata": {
            "needs_background": "light"
          }
        }
      ]
    },
    {
      "cell_type": "code",
      "source": [
        "import numpy as np\n",
        "import matplotlib.pyplot as plt\n",
        "\n",
        "x = np.linspace(0, 2*np.pi, 100)\n",
        "y = np.sin(x)\n",
        "plt.plot(x, y)\n",
        "plt.title('Función sinusoidal')\n",
        "plt.show()"
      ],
      "metadata": {
        "colab": {
          "base_uri": "https://localhost:8080/",
          "height": 281
        },
        "id": "2BR3S5uWsa_L",
        "outputId": "677781df-5aa1-4e4f-d7d8-9175e5787511"
      },
      "execution_count": null,
      "outputs": [
        {
          "output_type": "display_data",
          "data": {
            "text/plain": [
              "<Figure size 432x288 with 1 Axes>"
            ],
            "image/png": "[encoded data removed]"
          },
          "metadata": {
            "needs_background": "light"
          }
        }
      ]
    },
    {
      "cell_type": "markdown",
      "source": [
        "Del mismo modo que su uso básico es sencillo, debemos ser conscientes de todas las funcionalidades y parámetros ajustables que ofrece. Es decir, Matplotlib permite una gran flexibilidad para 'tunear' los gráficos como uno desee. Se recomienda consultar con calma y paciencia la ayuda para ajustar el tamaño, forma y estilo de los gráficos adecuadamente. En la siguiente figura podemos ver hasta qué punto podemos alterar muchos aspectos del gráfico mostrado: el rango de los ejes, incluir una leyenda, un grid, etc."
      ],
      "metadata": {
        "id": "U-HnHuyqs4Bt"
      }
    },
    {
      "cell_type": "code",
      "source": [
        "# Make some fake data.\n",
        "x = np.linspace(-10, 10, 100)\n",
        "y1 = np.exp(x)\n",
        "y2 = np.log(x)\n",
        "\n",
        "# Create plots with pre-defined labels.\n",
        "fig, ax = plt.subplots()\n",
        "ax.plot(x, y1, 'k--', label='y = exp(x)')\n",
        "ax.plot(x, y2, 'k:', label='y = ln(x)')\n",
        "\n",
        "legend = ax.legend(loc='lower right', shadow=True, fontsize='x-large')\n",
        "\n",
        "ax.set_ylim((-5, 5))\n",
        "\n",
        "# Put a nicer background color on the legend.\n",
        "legend.get_frame().set_facecolor('C0')\n",
        "plt.grid()\n",
        "plt.show()"
      ],
      "metadata": {
        "colab": {
          "base_uri": "https://localhost:8080/",
          "height": 302
        },
        "id": "Q-fmbMGXssnL",
        "outputId": "42b6dd7e-c673-4707-d93e-784e2933e63b"
      },
      "execution_count": null,
      "outputs": [
        {
          "output_type": "stream",
          "name": "stderr",
          "text": [
            "<ipython-input-103-695a4268c434>:4: RuntimeWarning: invalid value encountered in log\n",
            "  y2 = np.log(x)\n"
          ]
        },
        {
          "output_type": "display_data",
          "data": {
            "text/plain": [
              "<Figure size 432x288 with 1 Axes>"
            ],
            "image/png": "[encoded data removed]"
          },
          "metadata": {
            "needs_background": "light"
          }
        }
      ]
    },
    {
      "cell_type": "markdown",
      "source": [
        "Más ejemplos:"
      ],
      "metadata": {
        "id": "OnXZmJdFtfDy"
      }
    },
    {
      "cell_type": "code",
      "source": [
        "max_val = 5.\n",
        "t = np.arange(0., max_val+0.5, 0.5)\n",
        "plt.plot(t, t, 'r-', label='linear')\n",
        "plt.plot(t, t**2, 'b--', label='quadratic')\n",
        "plt.plot(t, t**3, 'g-.', label='cubic')\n",
        "plt.plot(t, 2**t, 'y:', label='exponential')\n",
        "\n",
        "plt.xlabel('X axis')\n",
        "plt.ylabel('Y axis')\n",
        "\n",
        "plt.title('Several lines together')\n",
        "plt.legend()\n",
        "plt.axis([0, max_val, 0, 2**max_val])\n",
        "plt.show()"
      ],
      "metadata": {
        "colab": {
          "base_uri": "https://localhost:8080/",
          "height": 295
        },
        "id": "RpU3rQ3FtgCD",
        "outputId": "060a4cdf-8510-402b-954a-0fb063f85cf8"
      },
      "execution_count": null,
      "outputs": [
        {
          "output_type": "display_data",
          "data": {
            "text/plain": [
              "<Figure size 432x288 with 1 Axes>"
            ],
            "image/png": "[encoded data removed]"
          },
          "metadata": {
            "needs_background": "light"
          }
        }
      ]
    },
    {
      "cell_type": "code",
      "source": [
        "max_val = 5.\n",
        "t = np.arange(0., max_val+0.5, 0.5)\n",
        "ax = plt.subplot('211') #Crear dos figuras (2 filas): una encima de la otra (1 col)\n",
        "ax.set_title('Linear')\n",
        "ax.plot(t, t, 'r-')\n",
        "ax.set_ylabel('Y axis')\n",
        "ax.axis([0, max_val, 0, max_val])\n",
        "\n",
        "ax = plt.subplot('212') #Crear segunda figura\n",
        "ax.set_title('Quadratic')\n",
        "ax.plot(t, t**2, 'b--')\n",
        "ax.set_ylabel('Y axis')\n",
        "ax.axis([0, max_val, 0, max_val**2])\n",
        "\n",
        "plt.tight_layout() #Dejar espacio entre figuras\n",
        "plt.show()"
      ],
      "metadata": {
        "colab": {
          "base_uri": "https://localhost:8080/",
          "height": 297
        },
        "id": "asYgXPf1thfU",
        "outputId": "76b77644-9d05-4ed7-b5d2-f47f8d60305e"
      },
      "execution_count": null,
      "outputs": [
        {
          "output_type": "display_data",
          "data": {
            "text/plain": [
              "<Figure size 432x288 with 2 Axes>"
            ],
            "image/png": "[encoded data removed]"
          },
          "metadata": {
            "needs_background": "light"
          }
        }
      ]
    },
    {
      "cell_type": "markdown",
      "source": [
        "Las expresiones matemáticas incluidas en los títulos y leyendas pueden ir formateadas como irían en LaTeX"
      ],
      "metadata": {
        "id": "jipLKx1EVeoF"
      }
    },
    {
      "cell_type": "code",
      "source": [
        "import numpy as np\n",
        "import matplotlib.pyplot as plt\n",
        "\n",
        "x = np.linspace(0, 4*np.pi, 150)\n",
        "\n",
        "f1 = np.sin(x) - np.sqrt(np.arctan(x)*np.e)\n",
        "\n",
        "fig, ax = plt.subplots()\n",
        "ax.plot(x, f1, 'r--')\n",
        "plt.grid(visible=True,linewidth=0.2)\n",
        "plt.title(r'$f_1(x)= \\sin(x) - \\sqrt{\\arctan(x)\\cdot e}$')\n",
        "plt.show()"
      ],
      "metadata": {
        "colab": {
          "base_uri": "https://localhost:8080/",
          "height": 289
        },
        "id": "K_QdATg2V5L-",
        "outputId": "50cd0c34-4031-4be0-f06a-bc0dd59897b3"
      },
      "execution_count": null,
      "outputs": [
        {
          "output_type": "display_data",
          "data": {
            "text/plain": [
              "<Figure size 432x288 with 1 Axes>"
            ],
            "image/png": "[encoded data removed]"
          },
          "metadata": {
            "needs_background": "light"
          }
        }
      ]
    },
    {
      "cell_type": "markdown",
      "source": [
        "# Pandas"
      ],
      "metadata": {
        "id": "Ez_CP0_juPZf"
      }
    },
    {
      "cell_type": "markdown",
      "source": [
        "En este Notebook también se aportan algunas pinceladas de Pandas (https://pandas.pydata.org/), dado que es una librería que os puede resultar de utilidad en caso de que necesitéis leer y procesar ficheros Excel o csv, así como trabajar simultáneamente con gran cantidad de información heterogénea y visualizarla fácilmente. "
      ],
      "metadata": {
        "id": "blpGYMWauQt2"
      }
    },
    {
      "cell_type": "code",
      "source": [
        "import pandas as pd"
      ],
      "metadata": {
        "id": "RDCGDbu6urPh"
      },
      "execution_count": null,
      "outputs": []
    },
    {
      "cell_type": "markdown",
      "source": [
        "Crear nuestros propios datos, y realizar sobre ellos distintas operaciones, es tremendamente sencillo, como se ve a continuación en los siguientes dos ejemplos. "
      ],
      "metadata": {
        "id": "kogpsRS6716S"
      }
    },
    {
      "cell_type": "code",
      "source": [
        "new_data = np.random.randint(0,10,25)\n",
        "new_data"
      ],
      "metadata": {
        "colab": {
          "base_uri": "https://localhost:8080/"
        },
        "id": "-B8Xot1zuvTR",
        "outputId": "a500f18a-10e2-4bea-93dd-aee7cf373931"
      },
      "execution_count": null,
      "outputs": [
        {
          "output_type": "execute_result",
          "data": {
            "text/plain": [
              "array([7, 1, 6, 5, 3, 6, 3, 1, 9, 6, 7, 1, 4, 0, 6, 7, 5, 4, 5, 1, 0, 6,\n",
              "       6, 9, 9])"
            ]
          },
          "metadata": {},
          "execution_count": 110
        }
      ]
    },
    {
      "cell_type": "code",
      "source": [
        "new_data_pd = pd.Series(new_data)\n",
        "new_data_pd.head()"
      ],
      "metadata": {
        "colab": {
          "base_uri": "https://localhost:8080/"
        },
        "id": "nS0nEr3L46G_",
        "outputId": "9e47ac33-0380-4ab4-fab4-b23009c6caf8"
      },
      "execution_count": null,
      "outputs": [
        {
          "output_type": "execute_result",
          "data": {
            "text/plain": [
              "0    7\n",
              "1    1\n",
              "2    6\n",
              "3    5\n",
              "4    3\n",
              "dtype: int64"
            ]
          },
          "metadata": {},
          "execution_count": 138
        }
      ]
    },
    {
      "cell_type": "code",
      "source": [
        "new_data_pd.tail()"
      ],
      "metadata": {
        "colab": {
          "base_uri": "https://localhost:8080/"
        },
        "id": "Mf0xSj939odM",
        "outputId": "7718e436-9bca-45fe-f87d-439d5c78c611"
      },
      "execution_count": null,
      "outputs": [
        {
          "output_type": "execute_result",
          "data": {
            "text/plain": [
              "20    0\n",
              "21    6\n",
              "22    6\n",
              "23    9\n",
              "24    9\n",
              "dtype: int64"
            ]
          },
          "metadata": {},
          "execution_count": 142
        }
      ]
    },
    {
      "cell_type": "code",
      "source": [
        "new_data_pd.plot(kind='hist',title='Histograma')\n",
        "plt.show() #Con esta línea desaparece el mensaje de <matplotlib.axes._subplots.AxesSubplot at...."
      ],
      "metadata": {
        "colab": {
          "base_uri": "https://localhost:8080/",
          "height": 281
        },
        "id": "2SCM0tST8E_-",
        "outputId": "86b464e1-1628-4de0-f9bb-b05861c42957"
      },
      "execution_count": null,
      "outputs": [
        {
          "output_type": "display_data",
          "data": {
            "text/plain": [
              "<Figure size 432x288 with 1 Axes>"
            ],
            "image/png": "[encoded data removed]"
          },
          "metadata": {
            "needs_background": "light"
          }
        }
      ]
    },
    {
      "cell_type": "code",
      "source": [
        "new_data_pd.count()"
      ],
      "metadata": {
        "colab": {
          "base_uri": "https://localhost:8080/"
        },
        "id": "2qg17SiB8v2t",
        "outputId": "c5c5e7db-60d4-4bb8-866e-fc55133efad6"
      },
      "execution_count": null,
      "outputs": [
        {
          "output_type": "execute_result",
          "data": {
            "text/plain": [
              "25"
            ]
          },
          "metadata": {},
          "execution_count": 135
        }
      ]
    },
    {
      "cell_type": "code",
      "source": [
        "platos = ['chuletón','macarrones','croquetas']\n",
        "precios = [25, 10, 7]\n",
        "menu = list(zip(platos, precios))\n",
        "\n",
        "menu_pd = pd.DataFrame(data=menu, columns=['Platos','Precio'])\n",
        "menu_pd"
      ],
      "metadata": {
        "colab": {
          "base_uri": "https://localhost:8080/",
          "height": 143
        },
        "id": "EbL5SG2O5Lzl",
        "outputId": "1135b944-64c8-43f7-fc2b-f92ec700f53e"
      },
      "execution_count": null,
      "outputs": [
        {
          "output_type": "execute_result",
          "data": {
            "text/plain": [
              "       Platos  Precio\n",
              "0    chuletón      25\n",
              "1  macarrones      10\n",
              "2   croquetas       7"
            ],
            "text/html": [
              "\n",
              "  <div id=\"df-aaa69269-8970-4aed-bead-b9c590317b55\">\n",
              "    <div class=\"colab-df-container\">\n",
              "      <div>\n",
              "<style scoped>\n",
              "    .dataframe tbody tr th:only-of-type {\n",
              "        vertical-align: middle;\n",
              "    }\n",
              "\n",
              "    .dataframe tbody tr th {\n",
              "        vertical-align: top;\n",
              "    }\n",
              "\n",
              "    .dataframe thead th {\n",
              "        text-align: right;\n",
              "    }\n",
              "</style>\n",
              "<table border=\"1\" class=\"dataframe\">\n",
              "  <thead>\n",
              "    <tr style=\"text-align: right;\">\n",
              "      <th></th>\n",
              "      <th>Platos</th>\n",
              "      <th>Precio</th>\n",
              "    </tr>\n",
              "  </thead>\n",
              "  <tbody>\n",
              "    <tr>\n",
              "      <th>0</th>\n",
              "      <td>chuletón</td>\n",
              "      <td>25</td>\n",
              "    </tr>\n",
              "    <tr>\n",
              "      <th>1</th>\n",
              "      <td>macarrones</td>\n",
              "      <td>10</td>\n",
              "    </tr>\n",
              "    <tr>\n",
              "      <th>2</th>\n",
              "      <td>croquetas</td>\n",
              "      <td>7</td>\n",
              "    </tr>\n",
              "  </tbody>\n",
              "</table>\n",
              "</div>\n",
              "      <button class=\"colab-df-convert\" onclick=\"convertToInteractive('df-aaa69269-8970-4aed-bead-b9c590317b55')\"\n",
              "              title=\"Convert this dataframe to an interactive table.\"\n",
              "              style=\"display:none;\">\n",
              "        \n",
              "  <svg xmlns=\"http://www.w3.org/2000/svg\" height=\"24px\"viewBox=\"0 0 24 24\"\n",
              "       width=\"24px\">\n",
              "    <path d=\"M0 0h24v24H0V0z\" fill=\"none\"/>\n",
              "    <path d=\"M18.56 5.44l.94 2.06.94-2.06 2.06-.94-2.06-.94-.94-2.06-.94 2.06-2.06.94zm-11 1L8.5 8.5l.94-2.06 2.06-.94-2.06-.94L8.5 2.5l-.94 2.06-2.06.94zm10 10l.94 2.06.94-2.06 2.06-.94-2.06-.94-.94-2.06-.94 2.06-2.06.94z\"/><path d=\"M17.41 7.96l-1.37-1.37c-.4-.4-.92-.59-1.43-.59-.52 0-1.04.2-1.43.59L10.3 9.45l-7.72 7.72c-.78.78-.78 2.05 0 2.83L4 21.41c.39.39.9.59 1.41.59.51 0 1.02-.2 1.41-.59l7.78-7.78 2.81-2.81c.8-.78.8-2.07 0-2.86zM5.41 20L4 18.59l7.72-7.72 1.47 1.35L5.41 20z\"/>\n",
              "  </svg>\n",
              "      </button>\n",
              "      \n",
              "  <style>\n",
              "    .colab-df-container {\n",
              "      display:flex;\n",
              "      flex-wrap:wrap;\n",
              "      gap: 12px;\n",
              "    }\n",
              "\n",
              "    .colab-df-convert {\n",
              "      background-color: #E8F0FE;\n",
              "      border: none;\n",
              "      border-radius: 50%;\n",
              "      cursor: pointer;\n",
              "      display: none;\n",
              "      fill: #1967D2;\n",
              "      height: 32px;\n",
              "      padding: 0 0 0 0;\n",
              "      width: 32px;\n",
              "    }\n",
              "\n",
              "    .colab-df-convert:hover {\n",
              "      background-color: #E2EBFA;\n",
              "      box-shadow: 0px 1px 2px rgba(60, 64, 67, 0.3), 0px 1px 3px 1px rgba(60, 64, 67, 0.15);\n",
              "      fill: #174EA6;\n",
              "    }\n",
              "\n",
              "    [theme=dark] .colab-df-convert {\n",
              "      background-color: #3B4455;\n",
              "      fill: #D2E3FC;\n",
              "    }\n",
              "\n",
              "    [theme=dark] .colab-df-convert:hover {\n",
              "      background-color: #434B5C;\n",
              "      box-shadow: 0px 1px 3px 1px rgba(0, 0, 0, 0.15);\n",
              "      filter: drop-shadow(0px 1px 2px rgba(0, 0, 0, 0.3));\n",
              "      fill: #FFFFFF;\n",
              "    }\n",
              "  </style>\n",
              "\n",
              "      <script>\n",
              "        const buttonEl =\n",
              "          document.querySelector('#df-aaa69269-8970-4aed-bead-b9c590317b55 button.colab-df-convert');\n",
              "        buttonEl.style.display =\n",
              "          google.colab.kernel.accessAllowed ? 'block' : 'none';\n",
              "\n",
              "        async function convertToInteractive(key) {\n",
              "          const element = document.querySelector('#df-aaa69269-8970-4aed-bead-b9c590317b55');\n",
              "          const dataTable =\n",
              "            await google.colab.kernel.invokeFunction('convertToInteractive',\n",
              "                                                     [key], {});\n",
              "          if (!dataTable) return;\n",
              "\n",
              "          const docLinkHtml = 'Like what you see? Visit the ' +\n",
              "            '<a target=\"_blank\" href=https://colab.research.google.com/notebooks/data_table.ipynb>data table notebook</a>'\n",
              "            + ' to learn more about interactive tables.';\n",
              "          element.innerHTML = '';\n",
              "          dataTable['output_type'] = 'display_data';\n",
              "          await google.colab.output.renderOutput(dataTable, element);\n",
              "          const docLink = document.createElement('div');\n",
              "          docLink.innerHTML = docLinkHtml;\n",
              "          element.appendChild(docLink);\n",
              "        }\n",
              "      </script>\n",
              "    </div>\n",
              "  </div>\n",
              "  "
            ]
          },
          "metadata": {},
          "execution_count": 127
        }
      ]
    },
    {
      "cell_type": "markdown",
      "source": [
        "Otra forma de hacerlo:"
      ],
      "metadata": {
        "id": "My7wIa0F5ubz"
      }
    },
    {
      "cell_type": "code",
      "source": [
        "menu_pd = pd.DataFrame({'Platos': platos,'Precio':precios})\n",
        "menu_pd"
      ],
      "metadata": {
        "colab": {
          "base_uri": "https://localhost:8080/",
          "height": 143
        },
        "id": "fzV5_jJi5wym",
        "outputId": "7b56bb5a-8eee-4387-b4ce-20360794a603"
      },
      "execution_count": null,
      "outputs": [
        {
          "output_type": "execute_result",
          "data": {
            "text/plain": [
              "       Platos  Precio\n",
              "0    chuletón      25\n",
              "1  macarrones      10\n",
              "2   croquetas       7"
            ],
            "text/html": [
              "\n",
              "  <div id=\"df-cbc8338c-a7f1-4850-96ad-b95dbc4cdd7d\">\n",
              "    <div class=\"colab-df-container\">\n",
              "      <div>\n",
              "<style scoped>\n",
              "    .dataframe tbody tr th:only-of-type {\n",
              "        vertical-align: middle;\n",
              "    }\n",
              "\n",
              "    .dataframe tbody tr th {\n",
              "        vertical-align: top;\n",
              "    }\n",
              "\n",
              "    .dataframe thead th {\n",
              "        text-align: right;\n",
              "    }\n",
              "</style>\n",
              "<table border=\"1\" class=\"dataframe\">\n",
              "  <thead>\n",
              "    <tr style=\"text-align: right;\">\n",
              "      <th></th>\n",
              "      <th>Platos</th>\n",
              "      <th>Precio</th>\n",
              "    </tr>\n",
              "  </thead>\n",
              "  <tbody>\n",
              "    <tr>\n",
              "      <th>0</th>\n",
              "      <td>chuletón</td>\n",
              "      <td>25</td>\n",
              "    </tr>\n",
              "    <tr>\n",
              "      <th>1</th>\n",
              "      <td>macarrones</td>\n",
              "      <td>10</td>\n",
              "    </tr>\n",
              "    <tr>\n",
              "      <th>2</th>\n",
              "      <td>croquetas</td>\n",
              "      <td>7</td>\n",
              "    </tr>\n",
              "  </tbody>\n",
              "</table>\n",
              "</div>\n",
              "      <button class=\"colab-df-convert\" onclick=\"convertToInteractive('df-cbc8338c-a7f1-4850-96ad-b95dbc4cdd7d')\"\n",
              "              title=\"Convert this dataframe to an interactive table.\"\n",
              "              style=\"display:none;\">\n",
              "        \n",
              "  <svg xmlns=\"http://www.w3.org/2000/svg\" height=\"24px\"viewBox=\"0 0 24 24\"\n",
              "       width=\"24px\">\n",
              "    <path d=\"M0 0h24v24H0V0z\" fill=\"none\"/>\n",
              "    <path d=\"M18.56 5.44l.94 2.06.94-2.06 2.06-.94-2.06-.94-.94-2.06-.94 2.06-2.06.94zm-11 1L8.5 8.5l.94-2.06 2.06-.94-2.06-.94L8.5 2.5l-.94 2.06-2.06.94zm10 10l.94 2.06.94-2.06 2.06-.94-2.06-.94-.94-2.06-.94 2.06-2.06.94z\"/><path d=\"M17.41 7.96l-1.37-1.37c-.4-.4-.92-.59-1.43-.59-.52 0-1.04.2-1.43.59L10.3 9.45l-7.72 7.72c-.78.78-.78 2.05 0 2.83L4 21.41c.39.39.9.59 1.41.59.51 0 1.02-.2 1.41-.59l7.78-7.78 2.81-2.81c.8-.78.8-2.07 0-2.86zM5.41 20L4 18.59l7.72-7.72 1.47 1.35L5.41 20z\"/>\n",
              "  </svg>\n",
              "      </button>\n",
              "      \n",
              "  <style>\n",
              "    .colab-df-container {\n",
              "      display:flex;\n",
              "      flex-wrap:wrap;\n",
              "      gap: 12px;\n",
              "    }\n",
              "\n",
              "    .colab-df-convert {\n",
              "      background-color: #E8F0FE;\n",
              "      border: none;\n",
              "      border-radius: 50%;\n",
              "      cursor: pointer;\n",
              "      display: none;\n",
              "      fill: #1967D2;\n",
              "      height: 32px;\n",
              "      padding: 0 0 0 0;\n",
              "      width: 32px;\n",
              "    }\n",
              "\n",
              "    .colab-df-convert:hover {\n",
              "      background-color: #E2EBFA;\n",
              "      box-shadow: 0px 1px 2px rgba(60, 64, 67, 0.3), 0px 1px 3px 1px rgba(60, 64, 67, 0.15);\n",
              "      fill: #174EA6;\n",
              "    }\n",
              "\n",
              "    [theme=dark] .colab-df-convert {\n",
              "      background-color: #3B4455;\n",
              "      fill: #D2E3FC;\n",
              "    }\n",
              "\n",
              "    [theme=dark] .colab-df-convert:hover {\n",
              "      background-color: #434B5C;\n",
              "      box-shadow: 0px 1px 3px 1px rgba(0, 0, 0, 0.15);\n",
              "      filter: drop-shadow(0px 1px 2px rgba(0, 0, 0, 0.3));\n",
              "      fill: #FFFFFF;\n",
              "    }\n",
              "  </style>\n",
              "\n",
              "      <script>\n",
              "        const buttonEl =\n",
              "          document.querySelector('#df-cbc8338c-a7f1-4850-96ad-b95dbc4cdd7d button.colab-df-convert');\n",
              "        buttonEl.style.display =\n",
              "          google.colab.kernel.accessAllowed ? 'block' : 'none';\n",
              "\n",
              "        async function convertToInteractive(key) {\n",
              "          const element = document.querySelector('#df-cbc8338c-a7f1-4850-96ad-b95dbc4cdd7d');\n",
              "          const dataTable =\n",
              "            await google.colab.kernel.invokeFunction('convertToInteractive',\n",
              "                                                     [key], {});\n",
              "          if (!dataTable) return;\n",
              "\n",
              "          const docLinkHtml = 'Like what you see? Visit the ' +\n",
              "            '<a target=\"_blank\" href=https://colab.research.google.com/notebooks/data_table.ipynb>data table notebook</a>'\n",
              "            + ' to learn more about interactive tables.';\n",
              "          element.innerHTML = '';\n",
              "          dataTable['output_type'] = 'display_data';\n",
              "          await google.colab.output.renderOutput(dataTable, element);\n",
              "          const docLink = document.createElement('div');\n",
              "          docLink.innerHTML = docLinkHtml;\n",
              "          element.appendChild(docLink);\n",
              "        }\n",
              "      </script>\n",
              "    </div>\n",
              "  </div>\n",
              "  "
            ]
          },
          "metadata": {},
          "execution_count": 123
        }
      ]
    },
    {
      "cell_type": "code",
      "source": [
        "menu_pd['¿Carne?'] = ['Sí', 'No', 'Sí']\n",
        "menu_pd"
      ],
      "metadata": {
        "colab": {
          "base_uri": "https://localhost:8080/",
          "height": 143
        },
        "id": "XiXNAi676J-3",
        "outputId": "9399eb0e-4366-43db-8145-346a91f2a8d3"
      },
      "execution_count": null,
      "outputs": [
        {
          "output_type": "execute_result",
          "data": {
            "text/plain": [
              "       Platos  Precio ¿Carne?\n",
              "0    chuletón      25      Sí\n",
              "1  macarrones      10      No\n",
              "2   croquetas       7      Sí"
            ],
            "text/html": [
              "\n",
              "  <div id=\"df-3ac54905-5677-41c3-b871-83df8f49d376\">\n",
              "    <div class=\"colab-df-container\">\n",
              "      <div>\n",
              "<style scoped>\n",
              "    .dataframe tbody tr th:only-of-type {\n",
              "        vertical-align: middle;\n",
              "    }\n",
              "\n",
              "    .dataframe tbody tr th {\n",
              "        vertical-align: top;\n",
              "    }\n",
              "\n",
              "    .dataframe thead th {\n",
              "        text-align: right;\n",
              "    }\n",
              "</style>\n",
              "<table border=\"1\" class=\"dataframe\">\n",
              "  <thead>\n",
              "    <tr style=\"text-align: right;\">\n",
              "      <th></th>\n",
              "      <th>Platos</th>\n",
              "      <th>Precio</th>\n",
              "      <th>¿Carne?</th>\n",
              "    </tr>\n",
              "  </thead>\n",
              "  <tbody>\n",
              "    <tr>\n",
              "      <th>0</th>\n",
              "      <td>chuletón</td>\n",
              "      <td>25</td>\n",
              "      <td>Sí</td>\n",
              "    </tr>\n",
              "    <tr>\n",
              "      <th>1</th>\n",
              "      <td>macarrones</td>\n",
              "      <td>10</td>\n",
              "      <td>No</td>\n",
              "    </tr>\n",
              "    <tr>\n",
              "      <th>2</th>\n",
              "      <td>croquetas</td>\n",
              "      <td>7</td>\n",
              "      <td>Sí</td>\n",
              "    </tr>\n",
              "  </tbody>\n",
              "</table>\n",
              "</div>\n",
              "      <button class=\"colab-df-convert\" onclick=\"convertToInteractive('df-3ac54905-5677-41c3-b871-83df8f49d376')\"\n",
              "              title=\"Convert this dataframe to an interactive table.\"\n",
              "              style=\"display:none;\">\n",
              "        \n",
              "  <svg xmlns=\"http://www.w3.org/2000/svg\" height=\"24px\"viewBox=\"0 0 24 24\"\n",
              "       width=\"24px\">\n",
              "    <path d=\"M0 0h24v24H0V0z\" fill=\"none\"/>\n",
              "    <path d=\"M18.56 5.44l.94 2.06.94-2.06 2.06-.94-2.06-.94-.94-2.06-.94 2.06-2.06.94zm-11 1L8.5 8.5l.94-2.06 2.06-.94-2.06-.94L8.5 2.5l-.94 2.06-2.06.94zm10 10l.94 2.06.94-2.06 2.06-.94-2.06-.94-.94-2.06-.94 2.06-2.06.94z\"/><path d=\"M17.41 7.96l-1.37-1.37c-.4-.4-.92-.59-1.43-.59-.52 0-1.04.2-1.43.59L10.3 9.45l-7.72 7.72c-.78.78-.78 2.05 0 2.83L4 21.41c.39.39.9.59 1.41.59.51 0 1.02-.2 1.41-.59l7.78-7.78 2.81-2.81c.8-.78.8-2.07 0-2.86zM5.41 20L4 18.59l7.72-7.72 1.47 1.35L5.41 20z\"/>\n",
              "  </svg>\n",
              "      </button>\n",
              "      \n",
              "  <style>\n",
              "    .colab-df-container {\n",
              "      display:flex;\n",
              "      flex-wrap:wrap;\n",
              "      gap: 12px;\n",
              "    }\n",
              "\n",
              "    .colab-df-convert {\n",
              "      background-color: #E8F0FE;\n",
              "      border: none;\n",
              "      border-radius: 50%;\n",
              "      cursor: pointer;\n",
              "      display: none;\n",
              "      fill: #1967D2;\n",
              "      height: 32px;\n",
              "      padding: 0 0 0 0;\n",
              "      width: 32px;\n",
              "    }\n",
              "\n",
              "    .colab-df-convert:hover {\n",
              "      background-color: #E2EBFA;\n",
              "      box-shadow: 0px 1px 2px rgba(60, 64, 67, 0.3), 0px 1px 3px 1px rgba(60, 64, 67, 0.15);\n",
              "      fill: #174EA6;\n",
              "    }\n",
              "\n",
              "    [theme=dark] .colab-df-convert {\n",
              "      background-color: #3B4455;\n",
              "      fill: #D2E3FC;\n",
              "    }\n",
              "\n",
              "    [theme=dark] .colab-df-convert:hover {\n",
              "      background-color: #434B5C;\n",
              "      box-shadow: 0px 1px 3px 1px rgba(0, 0, 0, 0.15);\n",
              "      filter: drop-shadow(0px 1px 2px rgba(0, 0, 0, 0.3));\n",
              "      fill: #FFFFFF;\n",
              "    }\n",
              "  </style>\n",
              "\n",
              "      <script>\n",
              "        const buttonEl =\n",
              "          document.querySelector('#df-3ac54905-5677-41c3-b871-83df8f49d376 button.colab-df-convert');\n",
              "        buttonEl.style.display =\n",
              "          google.colab.kernel.accessAllowed ? 'block' : 'none';\n",
              "\n",
              "        async function convertToInteractive(key) {\n",
              "          const element = document.querySelector('#df-3ac54905-5677-41c3-b871-83df8f49d376');\n",
              "          const dataTable =\n",
              "            await google.colab.kernel.invokeFunction('convertToInteractive',\n",
              "                                                     [key], {});\n",
              "          if (!dataTable) return;\n",
              "\n",
              "          const docLinkHtml = 'Like what you see? Visit the ' +\n",
              "            '<a target=\"_blank\" href=https://colab.research.google.com/notebooks/data_table.ipynb>data table notebook</a>'\n",
              "            + ' to learn more about interactive tables.';\n",
              "          element.innerHTML = '';\n",
              "          dataTable['output_type'] = 'display_data';\n",
              "          await google.colab.output.renderOutput(dataTable, element);\n",
              "          const docLink = document.createElement('div');\n",
              "          docLink.innerHTML = docLinkHtml;\n",
              "          element.appendChild(docLink);\n",
              "        }\n",
              "      </script>\n",
              "    </div>\n",
              "  </div>\n",
              "  "
            ]
          },
          "metadata": {},
          "execution_count": 124
        }
      ]
    },
    {
      "cell_type": "code",
      "source": [
        "menu_pd['Coste'] = np.array([15,3,3])\n",
        "menu_pd['Beneficio'] = menu_pd['Precio']-menu_pd['Coste']\n",
        "menu_pd"
      ],
      "metadata": {
        "colab": {
          "base_uri": "https://localhost:8080/",
          "height": 143
        },
        "id": "7ctBYlRW6maJ",
        "outputId": "f9ac09b3-6df5-4c8b-a3a0-7487415c3aad"
      },
      "execution_count": null,
      "outputs": [
        {
          "output_type": "execute_result",
          "data": {
            "text/plain": [
              "       Platos  Precio ¿Carne?  Coste  Beneficio\n",
              "0    chuletón      25      Sí     15         10\n",
              "1  macarrones      10      No      3          7\n",
              "2   croquetas       7      Sí      3          4"
            ],
            "text/html": [
              "\n",
              "  <div id=\"df-8524632f-b2b8-405d-91ea-d2c75c9084cc\">\n",
              "    <div class=\"colab-df-container\">\n",
              "      <div>\n",
              "<style scoped>\n",
              "    .dataframe tbody tr th:only-of-type {\n",
              "        vertical-align: middle;\n",
              "    }\n",
              "\n",
              "    .dataframe tbody tr th {\n",
              "        vertical-align: top;\n",
              "    }\n",
              "\n",
              "    .dataframe thead th {\n",
              "        text-align: right;\n",
              "    }\n",
              "</style>\n",
              "<table border=\"1\" class=\"dataframe\">\n",
              "  <thead>\n",
              "    <tr style=\"text-align: right;\">\n",
              "      <th></th>\n",
              "      <th>Platos</th>\n",
              "      <th>Precio</th>\n",
              "      <th>¿Carne?</th>\n",
              "      <th>Coste</th>\n",
              "      <th>Beneficio</th>\n",
              "    </tr>\n",
              "  </thead>\n",
              "  <tbody>\n",
              "    <tr>\n",
              "      <th>0</th>\n",
              "      <td>chuletón</td>\n",
              "      <td>25</td>\n",
              "      <td>Sí</td>\n",
              "      <td>15</td>\n",
              "      <td>10</td>\n",
              "    </tr>\n",
              "    <tr>\n",
              "      <th>1</th>\n",
              "      <td>macarrones</td>\n",
              "      <td>10</td>\n",
              "      <td>No</td>\n",
              "      <td>3</td>\n",
              "      <td>7</td>\n",
              "    </tr>\n",
              "    <tr>\n",
              "      <th>2</th>\n",
              "      <td>croquetas</td>\n",
              "      <td>7</td>\n",
              "      <td>Sí</td>\n",
              "      <td>3</td>\n",
              "      <td>4</td>\n",
              "    </tr>\n",
              "  </tbody>\n",
              "</table>\n",
              "</div>\n",
              "      <button class=\"colab-df-convert\" onclick=\"convertToInteractive('df-8524632f-b2b8-405d-91ea-d2c75c9084cc')\"\n",
              "              title=\"Convert this dataframe to an interactive table.\"\n",
              "              style=\"display:none;\">\n",
              "        \n",
              "  <svg xmlns=\"http://www.w3.org/2000/svg\" height=\"24px\"viewBox=\"0 0 24 24\"\n",
              "       width=\"24px\">\n",
              "    <path d=\"M0 0h24v24H0V0z\" fill=\"none\"/>\n",
              "    <path d=\"M18.56 5.44l.94 2.06.94-2.06 2.06-.94-2.06-.94-.94-2.06-.94 2.06-2.06.94zm-11 1L8.5 8.5l.94-2.06 2.06-.94-2.06-.94L8.5 2.5l-.94 2.06-2.06.94zm10 10l.94 2.06.94-2.06 2.06-.94-2.06-.94-.94-2.06-.94 2.06-2.06.94z\"/><path d=\"M17.41 7.96l-1.37-1.37c-.4-.4-.92-.59-1.43-.59-.52 0-1.04.2-1.43.59L10.3 9.45l-7.72 7.72c-.78.78-.78 2.05 0 2.83L4 21.41c.39.39.9.59 1.41.59.51 0 1.02-.2 1.41-.59l7.78-7.78 2.81-2.81c.8-.78.8-2.07 0-2.86zM5.41 20L4 18.59l7.72-7.72 1.47 1.35L5.41 20z\"/>\n",
              "  </svg>\n",
              "      </button>\n",
              "      \n",
              "  <style>\n",
              "    .colab-df-container {\n",
              "      display:flex;\n",
              "      flex-wrap:wrap;\n",
              "      gap: 12px;\n",
              "    }\n",
              "\n",
              "    .colab-df-convert {\n",
              "      background-color: #E8F0FE;\n",
              "      border: none;\n",
              "      border-radius: 50%;\n",
              "      cursor: pointer;\n",
              "      display: none;\n",
              "      fill: #1967D2;\n",
              "      height: 32px;\n",
              "      padding: 0 0 0 0;\n",
              "      width: 32px;\n",
              "    }\n",
              "\n",
              "    .colab-df-convert:hover {\n",
              "      background-color: #E2EBFA;\n",
              "      box-shadow: 0px 1px 2px rgba(60, 64, 67, 0.3), 0px 1px 3px 1px rgba(60, 64, 67, 0.15);\n",
              "      fill: #174EA6;\n",
              "    }\n",
              "\n",
              "    [theme=dark] .colab-df-convert {\n",
              "      background-color: #3B4455;\n",
              "      fill: #D2E3FC;\n",
              "    }\n",
              "\n",
              "    [theme=dark] .colab-df-convert:hover {\n",
              "      background-color: #434B5C;\n",
              "      box-shadow: 0px 1px 3px 1px rgba(0, 0, 0, 0.15);\n",
              "      filter: drop-shadow(0px 1px 2px rgba(0, 0, 0, 0.3));\n",
              "      fill: #FFFFFF;\n",
              "    }\n",
              "  </style>\n",
              "\n",
              "      <script>\n",
              "        const buttonEl =\n",
              "          document.querySelector('#df-8524632f-b2b8-405d-91ea-d2c75c9084cc button.colab-df-convert');\n",
              "        buttonEl.style.display =\n",
              "          google.colab.kernel.accessAllowed ? 'block' : 'none';\n",
              "\n",
              "        async function convertToInteractive(key) {\n",
              "          const element = document.querySelector('#df-8524632f-b2b8-405d-91ea-d2c75c9084cc');\n",
              "          const dataTable =\n",
              "            await google.colab.kernel.invokeFunction('convertToInteractive',\n",
              "                                                     [key], {});\n",
              "          if (!dataTable) return;\n",
              "\n",
              "          const docLinkHtml = 'Like what you see? Visit the ' +\n",
              "            '<a target=\"_blank\" href=https://colab.research.google.com/notebooks/data_table.ipynb>data table notebook</a>'\n",
              "            + ' to learn more about interactive tables.';\n",
              "          element.innerHTML = '';\n",
              "          dataTable['output_type'] = 'display_data';\n",
              "          await google.colab.output.renderOutput(dataTable, element);\n",
              "          const docLink = document.createElement('div');\n",
              "          docLink.innerHTML = docLinkHtml;\n",
              "          element.appendChild(docLink);\n",
              "        }\n",
              "      </script>\n",
              "    </div>\n",
              "  </div>\n",
              "  "
            ]
          },
          "metadata": {},
          "execution_count": 125
        }
      ]
    },
    {
      "cell_type": "code",
      "source": [
        "menu_pd[menu_pd['Beneficio']>5]"
      ],
      "metadata": {
        "colab": {
          "base_uri": "https://localhost:8080/",
          "height": 112
        },
        "id": "ITM1rrbX6-x7",
        "outputId": "29602ce3-1019-4910-e36f-525df83a7b9c"
      },
      "execution_count": null,
      "outputs": [
        {
          "output_type": "execute_result",
          "data": {
            "text/plain": [
              "       Platos  Precio ¿Carne?  Coste  Beneficio\n",
              "0    chuletón      25      Sí     15         10\n",
              "1  macarrones      10      No      3          7"
            ],
            "text/html": [
              "\n",
              "  <div id=\"df-1b1abeb0-6ed3-49d6-95d2-ba07b5a71d69\">\n",
              "    <div class=\"colab-df-container\">\n",
              "      <div>\n",
              "<style scoped>\n",
              "    .dataframe tbody tr th:only-of-type {\n",
              "        vertical-align: middle;\n",
              "    }\n",
              "\n",
              "    .dataframe tbody tr th {\n",
              "        vertical-align: top;\n",
              "    }\n",
              "\n",
              "    .dataframe thead th {\n",
              "        text-align: right;\n",
              "    }\n",
              "</style>\n",
              "<table border=\"1\" class=\"dataframe\">\n",
              "  <thead>\n",
              "    <tr style=\"text-align: right;\">\n",
              "      <th></th>\n",
              "      <th>Platos</th>\n",
              "      <th>Precio</th>\n",
              "      <th>¿Carne?</th>\n",
              "      <th>Coste</th>\n",
              "      <th>Beneficio</th>\n",
              "    </tr>\n",
              "  </thead>\n",
              "  <tbody>\n",
              "    <tr>\n",
              "      <th>0</th>\n",
              "      <td>chuletón</td>\n",
              "      <td>25</td>\n",
              "      <td>Sí</td>\n",
              "      <td>15</td>\n",
              "      <td>10</td>\n",
              "    </tr>\n",
              "    <tr>\n",
              "      <th>1</th>\n",
              "      <td>macarrones</td>\n",
              "      <td>10</td>\n",
              "      <td>No</td>\n",
              "      <td>3</td>\n",
              "      <td>7</td>\n",
              "    </tr>\n",
              "  </tbody>\n",
              "</table>\n",
              "</div>\n",
              "      <button class=\"colab-df-convert\" onclick=\"convertToInteractive('df-1b1abeb0-6ed3-49d6-95d2-ba07b5a71d69')\"\n",
              "              title=\"Convert this dataframe to an interactive table.\"\n",
              "              style=\"display:none;\">\n",
              "        \n",
              "  <svg xmlns=\"http://www.w3.org/2000/svg\" height=\"24px\"viewBox=\"0 0 24 24\"\n",
              "       width=\"24px\">\n",
              "    <path d=\"M0 0h24v24H0V0z\" fill=\"none\"/>\n",
              "    <path d=\"M18.56 5.44l.94 2.06.94-2.06 2.06-.94-2.06-.94-.94-2.06-.94 2.06-2.06.94zm-11 1L8.5 8.5l.94-2.06 2.06-.94-2.06-.94L8.5 2.5l-.94 2.06-2.06.94zm10 10l.94 2.06.94-2.06 2.06-.94-2.06-.94-.94-2.06-.94 2.06-2.06.94z\"/><path d=\"M17.41 7.96l-1.37-1.37c-.4-.4-.92-.59-1.43-.59-.52 0-1.04.2-1.43.59L10.3 9.45l-7.72 7.72c-.78.78-.78 2.05 0 2.83L4 21.41c.39.39.9.59 1.41.59.51 0 1.02-.2 1.41-.59l7.78-7.78 2.81-2.81c.8-.78.8-2.07 0-2.86zM5.41 20L4 18.59l7.72-7.72 1.47 1.35L5.41 20z\"/>\n",
              "  </svg>\n",
              "      </button>\n",
              "      \n",
              "  <style>\n",
              "    .colab-df-container {\n",
              "      display:flex;\n",
              "      flex-wrap:wrap;\n",
              "      gap: 12px;\n",
              "    }\n",
              "\n",
              "    .colab-df-convert {\n",
              "      background-color: #E8F0FE;\n",
              "      border: none;\n",
              "      border-radius: 50%;\n",
              "      cursor: pointer;\n",
              "      display: none;\n",
              "      fill: #1967D2;\n",
              "      height: 32px;\n",
              "      padding: 0 0 0 0;\n",
              "      width: 32px;\n",
              "    }\n",
              "\n",
              "    .colab-df-convert:hover {\n",
              "      background-color: #E2EBFA;\n",
              "      box-shadow: 0px 1px 2px rgba(60, 64, 67, 0.3), 0px 1px 3px 1px rgba(60, 64, 67, 0.15);\n",
              "      fill: #174EA6;\n",
              "    }\n",
              "\n",
              "    [theme=dark] .colab-df-convert {\n",
              "      background-color: #3B4455;\n",
              "      fill: #D2E3FC;\n",
              "    }\n",
              "\n",
              "    [theme=dark] .colab-df-convert:hover {\n",
              "      background-color: #434B5C;\n",
              "      box-shadow: 0px 1px 3px 1px rgba(0, 0, 0, 0.15);\n",
              "      filter: drop-shadow(0px 1px 2px rgba(0, 0, 0, 0.3));\n",
              "      fill: #FFFFFF;\n",
              "    }\n",
              "  </style>\n",
              "\n",
              "      <script>\n",
              "        const buttonEl =\n",
              "          document.querySelector('#df-1b1abeb0-6ed3-49d6-95d2-ba07b5a71d69 button.colab-df-convert');\n",
              "        buttonEl.style.display =\n",
              "          google.colab.kernel.accessAllowed ? 'block' : 'none';\n",
              "\n",
              "        async function convertToInteractive(key) {\n",
              "          const element = document.querySelector('#df-1b1abeb0-6ed3-49d6-95d2-ba07b5a71d69');\n",
              "          const dataTable =\n",
              "            await google.colab.kernel.invokeFunction('convertToInteractive',\n",
              "                                                     [key], {});\n",
              "          if (!dataTable) return;\n",
              "\n",
              "          const docLinkHtml = 'Like what you see? Visit the ' +\n",
              "            '<a target=\"_blank\" href=https://colab.research.google.com/notebooks/data_table.ipynb>data table notebook</a>'\n",
              "            + ' to learn more about interactive tables.';\n",
              "          element.innerHTML = '';\n",
              "          dataTable['output_type'] = 'display_data';\n",
              "          await google.colab.output.renderOutput(dataTable, element);\n",
              "          const docLink = document.createElement('div');\n",
              "          docLink.innerHTML = docLinkHtml;\n",
              "          element.appendChild(docLink);\n",
              "        }\n",
              "      </script>\n",
              "    </div>\n",
              "  </div>\n",
              "  "
            ]
          },
          "metadata": {},
          "execution_count": 126
        }
      ]
    },
    {
      "cell_type": "markdown",
      "source": [
        "Ahora vamos a leer, y jugar un poco, con los datos de un problema de clasificación: https://archive.ics.uci.edu/ml/datasets/Bank+Marketing (fichero\n",
        "bank-full.csv). De nuevo, el fichero debéis colocarlo en vuestro Google Drive, dentro de la carpeta 'Colab Notebooks'. "
      ],
      "metadata": {
        "id": "a1FaWaUb7gq8"
      }
    },
    {
      "cell_type": "code",
      "source": [
        "df = pd.read_csv('drive/MyDrive/Colab Notebooks/bank-full.csv',sep=';')\n",
        "print(df)"
      ],
      "metadata": {
        "colab": {
          "base_uri": "https://localhost:8080/"
        },
        "id": "3xFpGGNB9Em1",
        "outputId": "cb6627db-87a8-47e0-d49a-7e2920a45cd3"
      },
      "execution_count": null,
      "outputs": [
        {
          "output_type": "stream",
          "name": "stdout",
          "text": [
            "       age           job   marital  education default  balance housing loan  \\\n",
            "0       58    management   married   tertiary      no     2143     yes   no   \n",
            "1       44    technician    single  secondary      no       29     yes   no   \n",
            "2       33  entrepreneur   married  secondary      no        2     yes  yes   \n",
            "3       47   blue-collar   married    unknown      no     1506     yes   no   \n",
            "4       33       unknown    single    unknown      no        1      no   no   \n",
            "...    ...           ...       ...        ...     ...      ...     ...  ...   \n",
            "45206   51    technician   married   tertiary      no      825      no   no   \n",
            "45207   71       retired  divorced    primary      no     1729      no   no   \n",
            "45208   72       retired   married  secondary      no     5715      no   no   \n",
            "45209   57   blue-collar   married  secondary      no      668      no   no   \n",
            "45210   37  entrepreneur   married  secondary      no     2971      no   no   \n",
            "\n",
            "         contact  day month  duration  campaign  pdays  previous poutcome    y  \n",
            "0        unknown    5   may       261         1     -1         0  unknown   no  \n",
            "1        unknown    5   may       151         1     -1         0  unknown   no  \n",
            "2        unknown    5   may        76         1     -1         0  unknown   no  \n",
            "3        unknown    5   may        92         1     -1         0  unknown   no  \n",
            "4        unknown    5   may       198         1     -1         0  unknown   no  \n",
            "...          ...  ...   ...       ...       ...    ...       ...      ...  ...  \n",
            "45206   cellular   17   nov       977         3     -1         0  unknown  yes  \n",
            "45207   cellular   17   nov       456         2     -1         0  unknown  yes  \n",
            "45208   cellular   17   nov      1127         5    184         3  success  yes  \n",
            "45209  telephone   17   nov       508         4     -1         0  unknown   no  \n",
            "45210   cellular   17   nov       361         2    188        11    other   no  \n",
            "\n",
            "[45211 rows x 17 columns]\n"
          ]
        }
      ]
    },
    {
      "cell_type": "markdown",
      "source": [
        "Queremos recuperar los distintos tipos de trabajo que tenemos almacenados: "
      ],
      "metadata": {
        "id": "G8Ybol5F93EE"
      }
    },
    {
      "cell_type": "code",
      "source": [
        "jobs = df.job.unique()\n",
        "jobs"
      ],
      "metadata": {
        "colab": {
          "base_uri": "https://localhost:8080/"
        },
        "id": "8jSOSmcl972U",
        "outputId": "a350cac7-8c6a-40e3-c63b-e19f3f65233a"
      },
      "execution_count": null,
      "outputs": [
        {
          "output_type": "execute_result",
          "data": {
            "text/plain": [
              "array(['management', 'technician', 'entrepreneur', 'blue-collar',\n",
              "       'unknown', 'retired', 'admin.', 'services', 'self-employed',\n",
              "       'unemployed', 'housemaid', 'student'], dtype=object)"
            ]
          },
          "metadata": {},
          "execution_count": 157
        }
      ]
    },
    {
      "cell_type": "markdown",
      "source": [
        "Ahora queremos sustituir estas cadenas de texto por números. A continuación, mostramos una forma de hacerlo.  "
      ],
      "metadata": {
        "id": "IlXHgVZn-C6d"
      }
    },
    {
      "cell_type": "code",
      "source": [
        "df.replace(jobs, range(jobs.size), inplace=True)\n",
        "df"
      ],
      "metadata": {
        "colab": {
          "base_uri": "https://localhost:8080/",
          "height": 423
        },
        "id": "7JltpPo5-N9M",
        "outputId": "c5627591-caac-43ec-d4bd-7fab67eb4995"
      },
      "execution_count": null,
      "outputs": [
        {
          "output_type": "execute_result",
          "data": {
            "text/plain": [
              "       age  job   marital  education default  balance housing loan    contact  \\\n",
              "0       58    0   married   tertiary      no     2143     yes   no          4   \n",
              "1       44    1    single  secondary      no       29     yes   no          4   \n",
              "2       33    2   married  secondary      no        2     yes  yes          4   \n",
              "3       47    3   married          4      no     1506     yes   no          4   \n",
              "4       33    4    single          4      no        1      no   no          4   \n",
              "...    ...  ...       ...        ...     ...      ...     ...  ...        ...   \n",
              "45206   51    1   married   tertiary      no      825      no   no   cellular   \n",
              "45207   71    5  divorced    primary      no     1729      no   no   cellular   \n",
              "45208   72    5   married  secondary      no     5715      no   no   cellular   \n",
              "45209   57    3   married  secondary      no      668      no   no  telephone   \n",
              "45210   37    2   married  secondary      no     2971      no   no   cellular   \n",
              "\n",
              "       day month  duration  campaign  pdays  previous poutcome    y  \n",
              "0        5   may       261         1     -1         0        4   no  \n",
              "1        5   may       151         1     -1         0        4   no  \n",
              "2        5   may        76         1     -1         0        4   no  \n",
              "3        5   may        92         1     -1         0        4   no  \n",
              "4        5   may       198         1     -1         0        4   no  \n",
              "...    ...   ...       ...       ...    ...       ...      ...  ...  \n",
              "45206   17   nov       977         3     -1         0        4  yes  \n",
              "45207   17   nov       456         2     -1         0        4  yes  \n",
              "45208   17   nov      1127         5    184         3  success  yes  \n",
              "45209   17   nov       508         4     -1         0        4   no  \n",
              "45210   17   nov       361         2    188        11    other   no  \n",
              "\n",
              "[45211 rows x 17 columns]"
            ],
            "text/html": [
              "\n",
              "  <div id=\"df-4e6ee71c-3a5d-4420-b3a3-1c9b9acde6d6\">\n",
              "    <div class=\"colab-df-container\">\n",
              "      <div>\n",
              "<style scoped>\n",
              "    .dataframe tbody tr th:only-of-type {\n",
              "        vertical-align: middle;\n",
              "    }\n",
              "\n",
              "    .dataframe tbody tr th {\n",
              "        vertical-align: top;\n",
              "    }\n",
              "\n",
              "    .dataframe thead th {\n",
              "        text-align: right;\n",
              "    }\n",
              "</style>\n",
              "<table border=\"1\" class=\"dataframe\">\n",
              "  <thead>\n",
              "    <tr style=\"text-align: right;\">\n",
              "      <th></th>\n",
              "      <th>age</th>\n",
              "      <th>job</th>\n",
              "      <th>marital</th>\n",
              "      <th>education</th>\n",
              "      <th>default</th>\n",
              "      <th>balance</th>\n",
              "      <th>housing</th>\n",
              "      <th>loan</th>\n",
              "      <th>contact</th>\n",
              "      <th>day</th>\n",
              "      <th>month</th>\n",
              "      <th>duration</th>\n",
              "      <th>campaign</th>\n",
              "      <th>pdays</th>\n",
              "      <th>previous</th>\n",
              "      <th>poutcome</th>\n",
              "      <th>y</th>\n",
              "    </tr>\n",
              "  </thead>\n",
              "  <tbody>\n",
              "    <tr>\n",
              "      <th>0</th>\n",
              "      <td>58</td>\n",
              "      <td>0</td>\n",
              "      <td>married</td>\n",
              "      <td>tertiary</td>\n",
              "      <td>no</td>\n",
              "      <td>2143</td>\n",
              "      <td>yes</td>\n",
              "      <td>no</td>\n",
              "      <td>4</td>\n",
              "      <td>5</td>\n",
              "      <td>may</td>\n",
              "      <td>261</td>\n",
              "      <td>1</td>\n",
              "      <td>-1</td>\n",
              "      <td>0</td>\n",
              "      <td>4</td>\n",
              "      <td>no</td>\n",
              "    </tr>\n",
              "    <tr>\n",
              "      <th>1</th>\n",
              "      <td>44</td>\n",
              "      <td>1</td>\n",
              "      <td>single</td>\n",
              "      <td>secondary</td>\n",
              "      <td>no</td>\n",
              "      <td>29</td>\n",
              "      <td>yes</td>\n",
              "      <td>no</td>\n",
              "      <td>4</td>\n",
              "      <td>5</td>\n",
              "      <td>may</td>\n",
              "      <td>151</td>\n",
              "      <td>1</td>\n",
              "      <td>-1</td>\n",
              "      <td>0</td>\n",
              "      <td>4</td>\n",
              "      <td>no</td>\n",
              "    </tr>\n",
              "    <tr>\n",
              "      <th>2</th>\n",
              "      <td>33</td>\n",
              "      <td>2</td>\n",
              "      <td>married</td>\n",
              "      <td>secondary</td>\n",
              "      <td>no</td>\n",
              "      <td>2</td>\n",
              "      <td>yes</td>\n",
              "      <td>yes</td>\n",
              "      <td>4</td>\n",
              "      <td>5</td>\n",
              "      <td>may</td>\n",
              "      <td>76</td>\n",
              "      <td>1</td>\n",
              "      <td>-1</td>\n",
              "      <td>0</td>\n",
              "      <td>4</td>\n",
              "      <td>no</td>\n",
              "    </tr>\n",
              "    <tr>\n",
              "      <th>3</th>\n",
              "      <td>47</td>\n",
              "      <td>3</td>\n",
              "      <td>married</td>\n",
              "      <td>4</td>\n",
              "      <td>no</td>\n",
              "      <td>1506</td>\n",
              "      <td>yes</td>\n",
              "      <td>no</td>\n",
              "      <td>4</td>\n",
              "      <td>5</td>\n",
              "      <td>may</td>\n",
              "      <td>92</td>\n",
              "      <td>1</td>\n",
              "      <td>-1</td>\n",
              "      <td>0</td>\n",
              "      <td>4</td>\n",
              "      <td>no</td>\n",
              "    </tr>\n",
              "    <tr>\n",
              "      <th>4</th>\n",
              "      <td>33</td>\n",
              "      <td>4</td>\n",
              "      <td>single</td>\n",
              "      <td>4</td>\n",
              "      <td>no</td>\n",
              "      <td>1</td>\n",
              "      <td>no</td>\n",
              "      <td>no</td>\n",
              "      <td>4</td>\n",
              "      <td>5</td>\n",
              "      <td>may</td>\n",
              "      <td>198</td>\n",
              "      <td>1</td>\n",
              "      <td>-1</td>\n",
              "      <td>0</td>\n",
              "      <td>4</td>\n",
              "      <td>no</td>\n",
              "    </tr>\n",
              "    <tr>\n",
              "      <th>...</th>\n",
              "      <td>...</td>\n",
              "      <td>...</td>\n",
              "      <td>...</td>\n",
              "      <td>...</td>\n",
              "      <td>...</td>\n",
              "      <td>...</td>\n",
              "      <td>...</td>\n",
              "      <td>...</td>\n",
              "      <td>...</td>\n",
              "      <td>...</td>\n",
              "      <td>...</td>\n",
              "      <td>...</td>\n",
              "      <td>...</td>\n",
              "      <td>...</td>\n",
              "      <td>...</td>\n",
              "      <td>...</td>\n",
              "      <td>...</td>\n",
              "    </tr>\n",
              "    <tr>\n",
              "      <th>45206</th>\n",
              "      <td>51</td>\n",
              "      <td>1</td>\n",
              "      <td>married</td>\n",
              "      <td>tertiary</td>\n",
              "      <td>no</td>\n",
              "      <td>825</td>\n",
              "      <td>no</td>\n",
              "      <td>no</td>\n",
              "      <td>cellular</td>\n",
              "      <td>17</td>\n",
              "      <td>nov</td>\n",
              "      <td>977</td>\n",
              "      <td>3</td>\n",
              "      <td>-1</td>\n",
              "      <td>0</td>\n",
              "      <td>4</td>\n",
              "      <td>yes</td>\n",
              "    </tr>\n",
              "    <tr>\n",
              "      <th>45207</th>\n",
              "      <td>71</td>\n",
              "      <td>5</td>\n",
              "      <td>divorced</td>\n",
              "      <td>primary</td>\n",
              "      <td>no</td>\n",
              "      <td>1729</td>\n",
              "      <td>no</td>\n",
              "      <td>no</td>\n",
              "      <td>cellular</td>\n",
              "      <td>17</td>\n",
              "      <td>nov</td>\n",
              "      <td>456</td>\n",
              "      <td>2</td>\n",
              "      <td>-1</td>\n",
              "      <td>0</td>\n",
              "      <td>4</td>\n",
              "      <td>yes</td>\n",
              "    </tr>\n",
              "    <tr>\n",
              "      <th>45208</th>\n",
              "      <td>72</td>\n",
              "      <td>5</td>\n",
              "      <td>married</td>\n",
              "      <td>secondary</td>\n",
              "      <td>no</td>\n",
              "      <td>5715</td>\n",
              "      <td>no</td>\n",
              "      <td>no</td>\n",
              "      <td>cellular</td>\n",
              "      <td>17</td>\n",
              "      <td>nov</td>\n",
              "      <td>1127</td>\n",
              "      <td>5</td>\n",
              "      <td>184</td>\n",
              "      <td>3</td>\n",
              "      <td>success</td>\n",
              "      <td>yes</td>\n",
              "    </tr>\n",
              "    <tr>\n",
              "      <th>45209</th>\n",
              "      <td>57</td>\n",
              "      <td>3</td>\n",
              "      <td>married</td>\n",
              "      <td>secondary</td>\n",
              "      <td>no</td>\n",
              "      <td>668</td>\n",
              "      <td>no</td>\n",
              "      <td>no</td>\n",
              "      <td>telephone</td>\n",
              "      <td>17</td>\n",
              "      <td>nov</td>\n",
              "      <td>508</td>\n",
              "      <td>4</td>\n",
              "      <td>-1</td>\n",
              "      <td>0</td>\n",
              "      <td>4</td>\n",
              "      <td>no</td>\n",
              "    </tr>\n",
              "    <tr>\n",
              "      <th>45210</th>\n",
              "      <td>37</td>\n",
              "      <td>2</td>\n",
              "      <td>married</td>\n",
              "      <td>secondary</td>\n",
              "      <td>no</td>\n",
              "      <td>2971</td>\n",
              "      <td>no</td>\n",
              "      <td>no</td>\n",
              "      <td>cellular</td>\n",
              "      <td>17</td>\n",
              "      <td>nov</td>\n",
              "      <td>361</td>\n",
              "      <td>2</td>\n",
              "      <td>188</td>\n",
              "      <td>11</td>\n",
              "      <td>other</td>\n",
              "      <td>no</td>\n",
              "    </tr>\n",
              "  </tbody>\n",
              "</table>\n",
              "<p>45211 rows × 17 columns</p>\n",
              "</div>\n",
              "      <button class=\"colab-df-convert\" onclick=\"convertToInteractive('df-4e6ee71c-3a5d-4420-b3a3-1c9b9acde6d6')\"\n",
              "              title=\"Convert this dataframe to an interactive table.\"\n",
              "              style=\"display:none;\">\n",
              "        \n",
              "  <svg xmlns=\"http://www.w3.org/2000/svg\" height=\"24px\"viewBox=\"0 0 24 24\"\n",
              "       width=\"24px\">\n",
              "    <path d=\"M0 0h24v24H0V0z\" fill=\"none\"/>\n",
              "    <path d=\"M18.56 5.44l.94 2.06.94-2.06 2.06-.94-2.06-.94-.94-2.06-.94 2.06-2.06.94zm-11 1L8.5 8.5l.94-2.06 2.06-.94-2.06-.94L8.5 2.5l-.94 2.06-2.06.94zm10 10l.94 2.06.94-2.06 2.06-.94-2.06-.94-.94-2.06-.94 2.06-2.06.94z\"/><path d=\"M17.41 7.96l-1.37-1.37c-.4-.4-.92-.59-1.43-.59-.52 0-1.04.2-1.43.59L10.3 9.45l-7.72 7.72c-.78.78-.78 2.05 0 2.83L4 21.41c.39.39.9.59 1.41.59.51 0 1.02-.2 1.41-.59l7.78-7.78 2.81-2.81c.8-.78.8-2.07 0-2.86zM5.41 20L4 18.59l7.72-7.72 1.47 1.35L5.41 20z\"/>\n",
              "  </svg>\n",
              "      </button>\n",
              "      \n",
              "  <style>\n",
              "    .colab-df-container {\n",
              "      display:flex;\n",
              "      flex-wrap:wrap;\n",
              "      gap: 12px;\n",
              "    }\n",
              "\n",
              "    .colab-df-convert {\n",
              "      background-color: #E8F0FE;\n",
              "      border: none;\n",
              "      border-radius: 50%;\n",
              "      cursor: pointer;\n",
              "      display: none;\n",
              "      fill: #1967D2;\n",
              "      height: 32px;\n",
              "      padding: 0 0 0 0;\n",
              "      width: 32px;\n",
              "    }\n",
              "\n",
              "    .colab-df-convert:hover {\n",
              "      background-color: #E2EBFA;\n",
              "      box-shadow: 0px 1px 2px rgba(60, 64, 67, 0.3), 0px 1px 3px 1px rgba(60, 64, 67, 0.15);\n",
              "      fill: #174EA6;\n",
              "    }\n",
              "\n",
              "    [theme=dark] .colab-df-convert {\n",
              "      background-color: #3B4455;\n",
              "      fill: #D2E3FC;\n",
              "    }\n",
              "\n",
              "    [theme=dark] .colab-df-convert:hover {\n",
              "      background-color: #434B5C;\n",
              "      box-shadow: 0px 1px 3px 1px rgba(0, 0, 0, 0.15);\n",
              "      filter: drop-shadow(0px 1px 2px rgba(0, 0, 0, 0.3));\n",
              "      fill: #FFFFFF;\n",
              "    }\n",
              "  </style>\n",
              "\n",
              "      <script>\n",
              "        const buttonEl =\n",
              "          document.querySelector('#df-4e6ee71c-3a5d-4420-b3a3-1c9b9acde6d6 button.colab-df-convert');\n",
              "        buttonEl.style.display =\n",
              "          google.colab.kernel.accessAllowed ? 'block' : 'none';\n",
              "\n",
              "        async function convertToInteractive(key) {\n",
              "          const element = document.querySelector('#df-4e6ee71c-3a5d-4420-b3a3-1c9b9acde6d6');\n",
              "          const dataTable =\n",
              "            await google.colab.kernel.invokeFunction('convertToInteractive',\n",
              "                                                     [key], {});\n",
              "          if (!dataTable) return;\n",
              "\n",
              "          const docLinkHtml = 'Like what you see? Visit the ' +\n",
              "            '<a target=\"_blank\" href=https://colab.research.google.com/notebooks/data_table.ipynb>data table notebook</a>'\n",
              "            + ' to learn more about interactive tables.';\n",
              "          element.innerHTML = '';\n",
              "          dataTable['output_type'] = 'display_data';\n",
              "          await google.colab.output.renderOutput(dataTable, element);\n",
              "          const docLink = document.createElement('div');\n",
              "          docLink.innerHTML = docLinkHtml;\n",
              "          element.appendChild(docLink);\n",
              "        }\n",
              "      </script>\n",
              "    </div>\n",
              "  </div>\n",
              "  "
            ]
          },
          "metadata": {},
          "execution_count": 158
        }
      ]
    },
    {
      "cell_type": "markdown",
      "source": [
        "Queremos hacer lo mismo con las otras variables categóricas: convertirlas a numéricas para, posteriormente, poder entrenar un modelo de aprendizaje automático con estos datos. Es importante remarcar que en un caso real no sería tan sencillo, es decir, la conversión de variable categórica a numérica, no siempre se realiza de este modo tan directo."
      ],
      "metadata": {
        "id": "qVye-SVI-aG9"
      }
    },
    {
      "cell_type": "code",
      "source": [
        "marital = df.marital.unique()\n",
        "df.replace(marital, range(marital.size), inplace=True)\n",
        "\n",
        "education = df.education.unique()\n",
        "df.replace(education, range(education.size), inplace=True)\n",
        "\n",
        "housing = df.housing.unique()\n",
        "df.replace(housing, range(housing.size), inplace=True)\n",
        "\n",
        "loan = df.loan.unique()\n",
        "df.replace(loan, range(loan.size), inplace=True)\n",
        "\n",
        "default = df.default.unique()\n",
        "df.replace(default, range(default.size), inplace=True)\n",
        "\n",
        "month = df.month.unique()\n",
        "df.replace(month, range(month.size), inplace=True)\n",
        "\n",
        "contact = df.contact.unique()\n",
        "df.replace(contact, range(contact.size), inplace=True)\n",
        "\n",
        "poutcome = df.poutcome.unique()\n",
        "df.replace(poutcome, range(poutcome.size), inplace=True)\n",
        "\n",
        "y = df.y.unique()\n",
        "df.replace(y, range(y.size), inplace=True)"
      ],
      "metadata": {
        "id": "kyCzBAuR-31E"
      },
      "execution_count": null,
      "outputs": []
    },
    {
      "cell_type": "code",
      "source": [
        "df"
      ],
      "metadata": {
        "colab": {
          "base_uri": "https://localhost:8080/",
          "height": 423
        },
        "id": "Dvg-TEu1-7BU",
        "outputId": "fbd38829-7306-493c-9ae9-b187a03fd6dc"
      },
      "execution_count": null,
      "outputs": [
        {
          "output_type": "execute_result",
          "data": {
            "text/plain": [
              "       age  job  marital  education  default  balance  housing  loan  contact  \\\n",
              "0       58    1        1          1        0     2143        1     0        0   \n",
              "1       44    0        0          0        0       29        1     0        0   \n",
              "2       33    0        1          0        0        0        1     1        0   \n",
              "3       47    3        1          0        0     1506        1     0        0   \n",
              "4       33    0        0          0        0        0        0     0        0   \n",
              "...    ...  ...      ...        ...      ...      ...      ...   ...      ...   \n",
              "45206   51    0        1          1        0      825        0     0        1   \n",
              "45207   71    5        0          3        0     1729        0     0        1   \n",
              "45208   72    5        1          0        0     5715        0     0        1   \n",
              "45209   57    3        1          0        0      668        0     0        2   \n",
              "45210   37    0        1          0        0     2971        0     0        1   \n",
              "\n",
              "       day  month  duration  campaign  pdays  previous  poutcome  y  \n",
              "0        5      0       261         0     -1         1         0  0  \n",
              "1        5      0       151         0     -1         1         0  0  \n",
              "2        5      0        76         0     -1         1         0  0  \n",
              "3        5      0        92         0     -1         1         0  0  \n",
              "4        5      0       198         0     -1         1         0  0  \n",
              "...    ...    ...       ...       ...    ...       ...       ... ..  \n",
              "45206   17      5       977         3     -1         1         0  1  \n",
              "45207   17      5       456         0     -1         1         0  1  \n",
              "45208   17      5      1127         5    184         3         3  1  \n",
              "45209   17      5       508         0     -1         1         0  0  \n",
              "45210   17      5       361         0    188        11         2  0  \n",
              "\n",
              "[45211 rows x 17 columns]"
            ],
            "text/html": [
              "\n",
              "  <div id=\"df-a37efac6-488f-46d9-95d9-12c9353ddfac\">\n",
              "    <div class=\"colab-df-container\">\n",
              "      <div>\n",
              "<style scoped>\n",
              "    .dataframe tbody tr th:only-of-type {\n",
              "        vertical-align: middle;\n",
              "    }\n",
              "\n",
              "    .dataframe tbody tr th {\n",
              "        vertical-align: top;\n",
              "    }\n",
              "\n",
              "    .dataframe thead th {\n",
              "        text-align: right;\n",
              "    }\n",
              "</style>\n",
              "<table border=\"1\" class=\"dataframe\">\n",
              "  <thead>\n",
              "    <tr style=\"text-align: right;\">\n",
              "      <th></th>\n",
              "      <th>age</th>\n",
              "      <th>job</th>\n",
              "      <th>marital</th>\n",
              "      <th>education</th>\n",
              "      <th>default</th>\n",
              "      <th>balance</th>\n",
              "      <th>housing</th>\n",
              "      <th>loan</th>\n",
              "      <th>contact</th>\n",
              "      <th>day</th>\n",
              "      <th>month</th>\n",
              "      <th>duration</th>\n",
              "      <th>campaign</th>\n",
              "      <th>pdays</th>\n",
              "      <th>previous</th>\n",
              "      <th>poutcome</th>\n",
              "      <th>y</th>\n",
              "    </tr>\n",
              "  </thead>\n",
              "  <tbody>\n",
              "    <tr>\n",
              "      <th>0</th>\n",
              "      <td>58</td>\n",
              "      <td>1</td>\n",
              "      <td>1</td>\n",
              "      <td>1</td>\n",
              "      <td>0</td>\n",
              "      <td>2143</td>\n",
              "      <td>1</td>\n",
              "      <td>0</td>\n",
              "      <td>0</td>\n",
              "      <td>5</td>\n",
              "      <td>0</td>\n",
              "      <td>261</td>\n",
              "      <td>0</td>\n",
              "      <td>-1</td>\n",
              "      <td>1</td>\n",
              "      <td>0</td>\n",
              "      <td>0</td>\n",
              "    </tr>\n",
              "    <tr>\n",
              "      <th>1</th>\n",
              "      <td>44</td>\n",
              "      <td>0</td>\n",
              "      <td>0</td>\n",
              "      <td>0</td>\n",
              "      <td>0</td>\n",
              "      <td>29</td>\n",
              "      <td>1</td>\n",
              "      <td>0</td>\n",
              "      <td>0</td>\n",
              "      <td>5</td>\n",
              "      <td>0</td>\n",
              "      <td>151</td>\n",
              "      <td>0</td>\n",
              "      <td>-1</td>\n",
              "      <td>1</td>\n",
              "      <td>0</td>\n",
              "      <td>0</td>\n",
              "    </tr>\n",
              "    <tr>\n",
              "      <th>2</th>\n",
              "      <td>33</td>\n",
              "      <td>0</td>\n",
              "      <td>1</td>\n",
              "      <td>0</td>\n",
              "      <td>0</td>\n",
              "      <td>0</td>\n",
              "      <td>1</td>\n",
              "      <td>1</td>\n",
              "      <td>0</td>\n",
              "      <td>5</td>\n",
              "      <td>0</td>\n",
              "      <td>76</td>\n",
              "      <td>0</td>\n",
              "      <td>-1</td>\n",
              "      <td>1</td>\n",
              "      <td>0</td>\n",
              "      <td>0</td>\n",
              "    </tr>\n",
              "    <tr>\n",
              "      <th>3</th>\n",
              "      <td>47</td>\n",
              "      <td>3</td>\n",
              "      <td>1</td>\n",
              "      <td>0</td>\n",
              "      <td>0</td>\n",
              "      <td>1506</td>\n",
              "      <td>1</td>\n",
              "      <td>0</td>\n",
              "      <td>0</td>\n",
              "      <td>5</td>\n",
              "      <td>0</td>\n",
              "      <td>92</td>\n",
              "      <td>0</td>\n",
              "      <td>-1</td>\n",
              "      <td>1</td>\n",
              "      <td>0</td>\n",
              "      <td>0</td>\n",
              "    </tr>\n",
              "    <tr>\n",
              "      <th>4</th>\n",
              "      <td>33</td>\n",
              "      <td>0</td>\n",
              "      <td>0</td>\n",
              "      <td>0</td>\n",
              "      <td>0</td>\n",
              "      <td>0</td>\n",
              "      <td>0</td>\n",
              "      <td>0</td>\n",
              "      <td>0</td>\n",
              "      <td>5</td>\n",
              "      <td>0</td>\n",
              "      <td>198</td>\n",
              "      <td>0</td>\n",
              "      <td>-1</td>\n",
              "      <td>1</td>\n",
              "      <td>0</td>\n",
              "      <td>0</td>\n",
              "    </tr>\n",
              "    <tr>\n",
              "      <th>...</th>\n",
              "      <td>...</td>\n",
              "      <td>...</td>\n",
              "      <td>...</td>\n",
              "      <td>...</td>\n",
              "      <td>...</td>\n",
              "      <td>...</td>\n",
              "      <td>...</td>\n",
              "      <td>...</td>\n",
              "      <td>...</td>\n",
              "      <td>...</td>\n",
              "      <td>...</td>\n",
              "      <td>...</td>\n",
              "      <td>...</td>\n",
              "      <td>...</td>\n",
              "      <td>...</td>\n",
              "      <td>...</td>\n",
              "      <td>...</td>\n",
              "    </tr>\n",
              "    <tr>\n",
              "      <th>45206</th>\n",
              "      <td>51</td>\n",
              "      <td>0</td>\n",
              "      <td>1</td>\n",
              "      <td>1</td>\n",
              "      <td>0</td>\n",
              "      <td>825</td>\n",
              "      <td>0</td>\n",
              "      <td>0</td>\n",
              "      <td>1</td>\n",
              "      <td>17</td>\n",
              "      <td>5</td>\n",
              "      <td>977</td>\n",
              "      <td>3</td>\n",
              "      <td>-1</td>\n",
              "      <td>1</td>\n",
              "      <td>0</td>\n",
              "      <td>1</td>\n",
              "    </tr>\n",
              "    <tr>\n",
              "      <th>45207</th>\n",
              "      <td>71</td>\n",
              "      <td>5</td>\n",
              "      <td>0</td>\n",
              "      <td>3</td>\n",
              "      <td>0</td>\n",
              "      <td>1729</td>\n",
              "      <td>0</td>\n",
              "      <td>0</td>\n",
              "      <td>1</td>\n",
              "      <td>17</td>\n",
              "      <td>5</td>\n",
              "      <td>456</td>\n",
              "      <td>0</td>\n",
              "      <td>-1</td>\n",
              "      <td>1</td>\n",
              "      <td>0</td>\n",
              "      <td>1</td>\n",
              "    </tr>\n",
              "    <tr>\n",
              "      <th>45208</th>\n",
              "      <td>72</td>\n",
              "      <td>5</td>\n",
              "      <td>1</td>\n",
              "      <td>0</td>\n",
              "      <td>0</td>\n",
              "      <td>5715</td>\n",
              "      <td>0</td>\n",
              "      <td>0</td>\n",
              "      <td>1</td>\n",
              "      <td>17</td>\n",
              "      <td>5</td>\n",
              "      <td>1127</td>\n",
              "      <td>5</td>\n",
              "      <td>184</td>\n",
              "      <td>3</td>\n",
              "      <td>3</td>\n",
              "      <td>1</td>\n",
              "    </tr>\n",
              "    <tr>\n",
              "      <th>45209</th>\n",
              "      <td>57</td>\n",
              "      <td>3</td>\n",
              "      <td>1</td>\n",
              "      <td>0</td>\n",
              "      <td>0</td>\n",
              "      <td>668</td>\n",
              "      <td>0</td>\n",
              "      <td>0</td>\n",
              "      <td>2</td>\n",
              "      <td>17</td>\n",
              "      <td>5</td>\n",
              "      <td>508</td>\n",
              "      <td>0</td>\n",
              "      <td>-1</td>\n",
              "      <td>1</td>\n",
              "      <td>0</td>\n",
              "      <td>0</td>\n",
              "    </tr>\n",
              "    <tr>\n",
              "      <th>45210</th>\n",
              "      <td>37</td>\n",
              "      <td>0</td>\n",
              "      <td>1</td>\n",
              "      <td>0</td>\n",
              "      <td>0</td>\n",
              "      <td>2971</td>\n",
              "      <td>0</td>\n",
              "      <td>0</td>\n",
              "      <td>1</td>\n",
              "      <td>17</td>\n",
              "      <td>5</td>\n",
              "      <td>361</td>\n",
              "      <td>0</td>\n",
              "      <td>188</td>\n",
              "      <td>11</td>\n",
              "      <td>2</td>\n",
              "      <td>0</td>\n",
              "    </tr>\n",
              "  </tbody>\n",
              "</table>\n",
              "<p>45211 rows × 17 columns</p>\n",
              "</div>\n",
              "      <button class=\"colab-df-convert\" onclick=\"convertToInteractive('df-a37efac6-488f-46d9-95d9-12c9353ddfac')\"\n",
              "              title=\"Convert this dataframe to an interactive table.\"\n",
              "              style=\"display:none;\">\n",
              "        \n",
              "  <svg xmlns=\"http://www.w3.org/2000/svg\" height=\"24px\"viewBox=\"0 0 24 24\"\n",
              "       width=\"24px\">\n",
              "    <path d=\"M0 0h24v24H0V0z\" fill=\"none\"/>\n",
              "    <path d=\"M18.56 5.44l.94 2.06.94-2.06 2.06-.94-2.06-.94-.94-2.06-.94 2.06-2.06.94zm-11 1L8.5 8.5l.94-2.06 2.06-.94-2.06-.94L8.5 2.5l-.94 2.06-2.06.94zm10 10l.94 2.06.94-2.06 2.06-.94-2.06-.94-.94-2.06-.94 2.06-2.06.94z\"/><path d=\"M17.41 7.96l-1.37-1.37c-.4-.4-.92-.59-1.43-.59-.52 0-1.04.2-1.43.59L10.3 9.45l-7.72 7.72c-.78.78-.78 2.05 0 2.83L4 21.41c.39.39.9.59 1.41.59.51 0 1.02-.2 1.41-.59l7.78-7.78 2.81-2.81c.8-.78.8-2.07 0-2.86zM5.41 20L4 18.59l7.72-7.72 1.47 1.35L5.41 20z\"/>\n",
              "  </svg>\n",
              "      </button>\n",
              "      \n",
              "  <style>\n",
              "    .colab-df-container {\n",
              "      display:flex;\n",
              "      flex-wrap:wrap;\n",
              "      gap: 12px;\n",
              "    }\n",
              "\n",
              "    .colab-df-convert {\n",
              "      background-color: #E8F0FE;\n",
              "      border: none;\n",
              "      border-radius: 50%;\n",
              "      cursor: pointer;\n",
              "      display: none;\n",
              "      fill: #1967D2;\n",
              "      height: 32px;\n",
              "      padding: 0 0 0 0;\n",
              "      width: 32px;\n",
              "    }\n",
              "\n",
              "    .colab-df-convert:hover {\n",
              "      background-color: #E2EBFA;\n",
              "      box-shadow: 0px 1px 2px rgba(60, 64, 67, 0.3), 0px 1px 3px 1px rgba(60, 64, 67, 0.15);\n",
              "      fill: #174EA6;\n",
              "    }\n",
              "\n",
              "    [theme=dark] .colab-df-convert {\n",
              "      background-color: #3B4455;\n",
              "      fill: #D2E3FC;\n",
              "    }\n",
              "\n",
              "    [theme=dark] .colab-df-convert:hover {\n",
              "      background-color: #434B5C;\n",
              "      box-shadow: 0px 1px 3px 1px rgba(0, 0, 0, 0.15);\n",
              "      filter: drop-shadow(0px 1px 2px rgba(0, 0, 0, 0.3));\n",
              "      fill: #FFFFFF;\n",
              "    }\n",
              "  </style>\n",
              "\n",
              "      <script>\n",
              "        const buttonEl =\n",
              "          document.querySelector('#df-a37efac6-488f-46d9-95d9-12c9353ddfac button.colab-df-convert');\n",
              "        buttonEl.style.display =\n",
              "          google.colab.kernel.accessAllowed ? 'block' : 'none';\n",
              "\n",
              "        async function convertToInteractive(key) {\n",
              "          const element = document.querySelector('#df-a37efac6-488f-46d9-95d9-12c9353ddfac');\n",
              "          const dataTable =\n",
              "            await google.colab.kernel.invokeFunction('convertToInteractive',\n",
              "                                                     [key], {});\n",
              "          if (!dataTable) return;\n",
              "\n",
              "          const docLinkHtml = 'Like what you see? Visit the ' +\n",
              "            '<a target=\"_blank\" href=https://colab.research.google.com/notebooks/data_table.ipynb>data table notebook</a>'\n",
              "            + ' to learn more about interactive tables.';\n",
              "          element.innerHTML = '';\n",
              "          dataTable['output_type'] = 'display_data';\n",
              "          await google.colab.output.renderOutput(dataTable, element);\n",
              "          const docLink = document.createElement('div');\n",
              "          docLink.innerHTML = docLinkHtml;\n",
              "          element.appendChild(docLink);\n",
              "        }\n",
              "      </script>\n",
              "    </div>\n",
              "  </div>\n",
              "  "
            ]
          },
          "metadata": {},
          "execution_count": 160
        }
      ]
    },
    {
      "cell_type": "code",
      "source": [
        "df.y.unique()"
      ],
      "metadata": {
        "colab": {
          "base_uri": "https://localhost:8080/"
        },
        "id": "Q7bAv-li_wNl",
        "outputId": "26e05a64-5276-4fe3-8795-490bcad6625a"
      },
      "execution_count": null,
      "outputs": [
        {
          "output_type": "execute_result",
          "data": {
            "text/plain": [
              "array([0, 1])"
            ]
          },
          "metadata": {},
          "execution_count": 161
        }
      ]
    },
    {
      "cell_type": "code",
      "source": [
        "a = df.to_numpy()\n",
        "print(\"Número de salidas diferentes en entrenamiento: \", np.unique(a[:,16]))"
      ],
      "metadata": {
        "colab": {
          "base_uri": "https://localhost:8080/"
        },
        "id": "kSB-unRr_01P",
        "outputId": "9be7b11e-8dd7-4af5-ed8e-401aa519d6f7"
      },
      "execution_count": null,
      "outputs": [
        {
          "output_type": "stream",
          "name": "stdout",
          "text": [
            "Número de salidas diferentes en entrenamiento:  [0 1]\n"
          ]
        }
      ]
    }
  ]
}