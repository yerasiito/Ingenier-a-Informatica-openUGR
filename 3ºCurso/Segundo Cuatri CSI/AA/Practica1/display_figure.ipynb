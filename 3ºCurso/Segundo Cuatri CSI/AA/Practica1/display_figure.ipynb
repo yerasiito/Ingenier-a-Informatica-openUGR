{
  "nbformat": 4,
  "nbformat_minor": 0,
  "metadata": {
    "colab": {
      "provenance": []
    },
    "kernelspec": {
      "name": "python3",
      "display_name": "Python 3"
    },
    "language_info": {
      "name": "python"
    }
  },
  "cells": [
    {
      "cell_type": "code",
      "execution_count": null,
      "metadata": {
        "id": "duB3GiEt2-GW"
      },
      "outputs": [],
      "source": [
        "'''\n",
        "Esta función muestra una figura 3D con la función a optimizar junto con el \n",
        "óptimo encontrado y la ruta seguida durante la optimización.\n",
        "    rng_val: rango de valores a muestrear en np.linspace()\n",
        "    fun: función a optimizar y mostrar\n",
        "    ws: conjunto de pesos (pares de valores [x,y] que va recorriendo el optimizador\n",
        "                           en su búsqueda iterativa hacia el óptimo)\n",
        "    views: ángulo de visión desde el que se mostrará la función en 3D\n",
        "    colormap: mapa de color empleado en la visualización\n",
        "    title_fig: título superior de la figura\n",
        "    \n",
        "Ejemplo de uso: display_figure(2, E, ws, [45,30], 'plasma','Descenso de gradiente')\n",
        "'''\n",
        "\n",
        "def display_figure(rng_val, fun, ws, views, colormap, title_fig):\n",
        "    x = np.linspace(-rng_val, rng_val, 50)\n",
        "    y = np.linspace(-rng_val, rng_val, 50)\n",
        "    X, Y = np.meshgrid(x, y)\n",
        "    Z = fun(np.array([X, Y]))\n",
        "    fig = plt.figure(figsize=(25, 15))\n",
        "    ax = Axes3D(fig,auto_add_to_figure=False) \n",
        "    fig.add_axes(ax) \n",
        "    ax.plot_surface(X, Y, Z, edgecolor='none', rstride=1,\n",
        "                            cstride=1, cmap=colormap, alpha=.6)\n",
        "    if len(ws)>0:\n",
        "        ws = np.asarray(ws)\n",
        "        min_point = np.array([ws[-1,0],ws[-1,1]])\n",
        "        min_point_ = min_point[:, np.newaxis]\n",
        "        ax.plot(ws[:,0], ws[:,1], fun(ws.transpose()), 'r*', markersize=5)\n",
        "        ax.plot(min_point_[0], min_point_[1], fun(min_point_), 'r*', markersize=10)\n",
        "    if len(title_fig)>0:\n",
        "        fig.suptitle(title_fig, fontsize=16)\n",
        "    ax.set_xlabel('u')\n",
        "    ax.set_ylabel('v')\n",
        "    ax.set_zlabel('E(u,v)')\n",
        "    ax.view_init(azim=views[0], elev=views[1])\n",
        "    plt.show()"
      ]
    }
  ]
}