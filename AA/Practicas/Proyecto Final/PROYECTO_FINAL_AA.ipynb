{
  "nbformat": 4,
  "nbformat_minor": 0,
  "metadata": {
    "colab": {
      "provenance": []
    },
    "kernelspec": {
      "name": "python3",
      "display_name": "Python 3"
    },
    "language_info": {
      "name": "python"
    }
  },
  "cells": [
    {
      "cell_type": "markdown",
      "source": [
        "# **PROYECTO FINAL-AA**\n",
        "# Valor: 25 points | Fecha de entrega límite: 19 Junio | Subir a PRADO: https://pradogrado2223.ugr.es/"
      ],
      "metadata": {
        "id": "ZPIqgzEtOtfi"
      }
    },
    {
      "cell_type": "markdown",
      "source": [
        "El Proyecto final tiene como objetivo mostrar el conocimiento global adquirido a lo largo del curso. Dicho conocimiento se valorará a partir de la metodología usada y la justificación de todos los aspectos de la misma. La ausencia de una justificación adecuada en las decisiones y métodos usados impide su valoración en la nota.\n",
        "\n",
        "Este proyecto se focaliza en el ajuste y selección del mejor predictor para una BBDD (UCI o Kaggle) con el apoyo de la libreria Scikit-Learn (ver fichero de BBDDs ofertadas en PRADO). Esta librería contiene funciones de muy alto nivel que pueden ser muy útiles si se comprende bien su funcionamiento. Por tanto, las funciones que se usen de Scikit-Learn  deben de justificarse y explicar con que objetivo se usan y el significado de todos sus parámetros y funciionaluidades.  Los valores fijados por defecto en la librería no se consideran elecciones justificadas a priori. Decisiones sin justificación y resultados sin interpretación  no serán considerados válidos ni puntuados.\n",
        "\n",
        "Especial atención se deberá de poner en la calidad de la metodología. El uso de las herramientas de scikit-learn para optimizar por VC en una misma llamada todos los parámetros e hiperparámetros de un modelo no está permitido. Se ha de optimizar cada parte  de forma individual justificando cada uno de los pasos dados.\n",
        "\n",
        "**Modelos a considerar:** *Si alguno de los modelos mencionados a continuación no hubiese sido explicado en clase quedará fuera de las opciones.*\n",
        "\n",
        "**Mejor Modelo Lineal**  **(Obligatorio)**\n",
        "\n",
        "**Perceptron Multicapa**. Considerar una arquitecturas de 3  capas  y un número de unidades por capa en el rango 50-100. Considerar el número de neuronas por capa como un hiperparámetro. \n",
        "\n",
        "**Máquina de Soporte de Vectores (SVM)**: se recomienda el núcleo RBF-Gaussiano o el polinomial. Encontrar el mejor valor para los parámetros libres hasta una precisión de 2 cifras (enteras o decimales) (hacer una búsqueda dicotómica)\n",
        "\n",
        "**Boosting**: Se recomienda que para clasificación se usen funciones ``stump''. Para regresión se recomiendan los árboles como regresores simples, justificando el valor del parámetro de aprendizaje.\n",
        "\n",
        "**Random Forest**: Usar como hiperparámetros los valores que por defecto se dan en teoría y experimentar para obtener el número de árboles adecuado.\n",
        "\n",
        "**Red de Funciones de base Radial**:  Fijar el valor del número de núcleos a usar, K,  y usar el algoritmo de k-medias para estimar sus localizaciones. Evaluar  distintos valores de K como criterio para la elección del K final.\n",
        "\n",
        "**OBJETIVO**: Buscar el mejor modelo posible para la base de datos seleccionada y justificar cada uno de los  pasos dados para conseguirlo. En regresión, se recomienda usar penalización LASSO para el proceso de selección de variables. El uso de las técnicas de reducción de dimensionalidad, ej. PCA o Random Projection debe de justificarse con argumentos correctos. Todos los proyectos deben justificar los siguientes apartados:\n",
        "\n"
      ],
      "metadata": {
        "id": "25ItnYlETimt"
      }
    },
    {
      "cell_type": "markdown",
      "source": [
        "# **Guía de realización:**\n",
        "\n",
        "1.-Todos los proyectos son para **dos alumnos**. Se podrá autorizar a un solo estudiante si el número total de estudiantes es impar o el caso es extraordinario.\\\n",
        "\n",
        "2.- Se oferta una conjunto amplio de BBDD, entre las cuales debe elegirse varias en orden de interés. Se asignará por el profesor una de ellas intentando el menor solapamiento posible entre todos los proyectos. Habrá una semana para hacer la propuesta de participantes y BBDDA elegidas.\n",
        "\n",
        "2.-Una vez elegido el proyecto, se subirá a PRADO el nombre de los alumnos participantes y la propuesta de proyecto. **SOLO UNA VEZ (1 alumno)**. La aprobación por parte del profesor aparecerá en PRADO.\n",
        "\n",
        "3.-El **1 de Junio** todos los alumnos de proyecto deberán tenerlo asignado. Cambios posteriores de proyecto/BBDD solo serán aprobados si aparecen condiciones imprevistas que impiden la realización del previamenbte asignado.\n",
        "\n",
        "4.- Ambos alumnos reciben la misma nota\\\n",
        "\n",
        "5.- Scikit-Leran es la librería soporte a usar. Si se usan módulos de alto nivel de dicha librería deben de justificarse cada uno de sus argumentos. En caso contrario, sólo se valora su uso. El uso intensivo de módulos de alto nivel podría disminuir, muy notablemente, la contribución personal y la nota.\n",
        "\n",
        "6.-Todos los proyectos deben entregar el  cuaderno Colab mopdelo relleno con los resultados obtenidos.\n",
        "\n",
        "# **Puntuaciones:**\n",
        "Es obligatorio comparar hipótesis de al menos DOS modelos no-lineales y  un modelo lineal para poder optar a la puntuación máxima de 25 puntos. Las opciones son:\n",
        "\n",
        "1. Hasta 15 puntos. Aquellos proyectos que solo comparen  hipótesis de un modelo no-lineal frente a un modelo lineal. \n",
        "2. Hasta 20 puntos. Aquellos proyectos que seleccionen entre tres modelos (funciones+algoritmos. Uno lineal.\n",
        "3. Hasta 25 puntos. Aquellos proyectos que comparen hipótesis de al menos dos modelos no-lineales y un modelo lineal. \n",
        "\n",
        "BONUS.  A quienes habiendo alcanzado más de 22 puntos en la parte obligatoria, 3 puntos adicionales por cada técnica adicional incluida en la comparación y correctamente ajustada.\n",
        "\n",
        "\n",
        "# **FORMATO DE ENTREGA**:\n",
        "\n",
        "1. El cuaderno debe incluir al comienzo del mismo un **enlace** para descargar el conjunto de **datos FINAL utilizado en entrenamiento y test**. **NO SUBIR LOS DATOS A PRADO*\n",
        "2.-**El cuaderno debe ejecutarse sin errores de principio a fin**. No se valorarán aquellos proyectos con errores de ejecución.\n",
        "3.-Subir a PRADO solo el cuaderno .ipynb y posibles ficheros auxiliares (.py).\n"
      ],
      "metadata": {
        "id": "N-lGLNYUp5YK"
      }
    },
    {
      "cell_type": "markdown",
      "source": [
        "\n",
        "Puntos que se espera encontrar en el prouyecto:\n",
        "\n",
        "1.   Definición del problema a resolver y enfoque elegido para ello. \n",
        "2.   Codificación y decuaciíon de los datos de entrada para hacerlos útiles a los algoritmos.\n",
        "3. Valoración (en su caso) de la necesidad/interés de seleccionar un subconjunto de variables para el ajuste. \n",
        "4. Necesidad de la normalización de los datos e interés de la técnica usada (en su caso)\n",
        "5. Interés y justificación de la función/es de pérdida usada en el ajuste.\n",
        "6. Argumentos a favor de la idoneidad de los modelos seleccionados para la BBDD.\n",
        "7. Argumentar sobre la idoneidad de la regularización usada (en su caso) O por qué se ha elegido el modelo usad0\n",
        "8. Algoritmo de aprendizaje usado en cada modelo, especificando y justificando los valores de todos los parámetros e hiperparámetros usados. \n",
        "9. Selección de la mejor hipótesis. Justifique la técnica usada y calcule el error $E_{out}$ de dicha hipótesis.\n",
        "10. Valoración de los resultados ( gráficas, métricas de error, análisis de residuos, etc )\n",
        "11. Argumente que se ha obtenido la mejor de las posibles soluciones para la muestra dada. Argumentar en términos de los errores de ajuste y generalización.\n",
        "\n",
        "\n",
        "\n",
        "\n",
        "\n",
        "\n"
      ],
      "metadata": {
        "id": "SSD0EsJhtDfa"
      }
    },
    {
      "cell_type": "markdown",
      "source": [
        "**CRITERIOS PARA DATOS PERDIDOS:**\n",
        "\n",
        "No todos los algoritmos de aprendizaje necesitan sustituir los datos perdidos. En caso de necesitarse aplicar los siguientes:\n",
        "\n",
        "1. Cuando un item  de la muestra de datos tengan más del 10\\% de sus elemebntos perdidos puede eliminarse del conjunto de datos si no afecta al tamaño del conjunto de datos. Si es más del 20\\% debe eliminarse.\n",
        "2. Para loos datos perdidos de variables con valores reales se aplicará el siguiente criterio: reemplazar por la suma del valor medio de dicha variable más un valor aleatorio en el intervalo $[-1.5\\sigma, 1.5\\sigma]$ siendo $\\sigma$ la desviación típica de la dicha variable.\n",
        "3. Para los datos perdidos que sean de variables categóricas aplicar lo siguiente:\n",
        "    1. Calcular  la distribución de probabilidad de las categorías en la columna, se obtiene una multinomial sobre las categorias.\n",
        "    4. Calcular la distribución acumulada, sumando iterativamente la probabilidad de cada categoría. Tendreis un vector que toma valores crecientes de 0 a 1, y que además define intervalos de valores asignados a cada categoria.\n",
        "    5. Sortear un número aleatorio uniforme en [0,1]\n",
        "    6. Asignar la categoria que corresponda a ese valor dentro de [0,1].\n",
        "\n",
        "Usar el criterio de intervalos semi-abiertos por abajo, es decir, el extremo inferior de cada intervalo es un valor de dicho intervalo y el extremo superior del siguiente intervalo.\n",
        "\n"
      ],
      "metadata": {
        "id": "GIdf65qRx1cc"
      }
    },
    {
      "cell_type": "markdown",
      "source": [
        "**CRITERIOS PARA CLASES DESBALANCEADAS:**\n",
        "\n",
        "1. Si el tamaño de la clase más pequeña es suficiente para aprender con el modelo. Puede aplicar  ponderación de clases en la función de error. Otras técnicas disponibles en Scikit-Learn pueden usarse si se **justifica** su mayor idoneidad para el problema.\n",
        "2. También puede usarse un enfoque de partición del conjunto  datos de entrenamiento en múltiples conjuntos homógeneos para su uso con un clasificador basado en un ``ensemble'' de clasificadores.\n",
        "3. Si el tamaño de la clase no pemite aprender, entonces se puede eliminar la clase. En este caso se debe pedir la aprobación del profesor.\n",
        "\n",
        "El uso de resultados y enfoques existentes en la literatura sobre las bases de datos está permitido y de hecho se alienta, siempre y cuando se deja manifiestamente claro que uso se hace de dicha información/resultado y cual es la aportación del proyecto sobre la misma. En caso contrario se entenderá plagio. Incluir las referencias de la bibliografía usada.\n"
      ],
      "metadata": {
        "id": "H2LPTRAfRtZo"
      }
    },
    {
      "cell_type": "markdown",
      "source": [
        "# **NOMBRE DE LOS ALUMNOS:**\n",
        "\n",
        "1. rellenar\n",
        "2. rellenar\n",
        "\n",
        "# **BASE DE DATOS SELECCIONADA** \n",
        "1. rellenar nombre\n",
        "\n",
        "# **MODELO DE PROYECTO AL QUE OPTAN (15/20/25 puntos):**"
      ],
      "metadata": {
        "id": "btjruC-C0HnN"
      }
    },
    {
      "cell_type": "code",
      "source": [
        "# CODIGO DE DESCARGA y expansión de la BBDD (USAR PRIORITARIAMENTE LA CONSIGNA DE LA UGR)\n",
        "#\n",
        "....RELLENAR"
      ],
      "metadata": {
        "id": "30YOCo1e0jKW"
      },
      "execution_count": null,
      "outputs": []
    },
    {
      "cell_type": "markdown",
      "source": [
        "# **COMIENZO DEL PROYECTO**"
      ],
      "metadata": {
        "id": "0I-pM_F_1i29"
      }
    },
    {
      "cell_type": "code",
      "source": [],
      "metadata": {
        "id": "ehnywk0S1hwY"
      },
      "execution_count": null,
      "outputs": []
    }
  ]
}